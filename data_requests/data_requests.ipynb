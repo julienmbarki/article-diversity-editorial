{
 "cells": [
  {
   "cell_type": "markdown",
   "metadata": {},
   "source": [
    "# Data Requests "
   ]
  },
  {
   "cell_type": "markdown",
   "metadata": {},
   "source": [
    "## Setup"
   ]
  },
  {
   "cell_type": "code",
   "execution_count": 1,
   "metadata": {},
   "outputs": [],
   "source": [
    "# Import modules\n",
    "import time\n",
    "\n",
    "import pandas as pd\n",
    "\n",
    "import spotipy\n",
    "from spotipy.oauth2 import SpotifyClientCredentials\n",
    "\n",
    "from selenium import webdriver\n",
    "from selenium.webdriver.common.by import By\n",
    "from selenium.webdriver.common.action_chains import ActionChains\n",
    "from selenium.webdriver.common.keys import Keys\n"
   ]
  },
  {
   "cell_type": "code",
   "execution_count": 2,
   "metadata": {},
   "outputs": [],
   "source": [
    "# API connexion\n",
    "client_id = 'cec8979c027344f98b471a991aa415ad'\n",
    "client_secret = 'ad69bcba55b349f98c1344b006c708bd'\n",
    "\n",
    "client_credentials_manager = SpotifyClientCredentials(client_id, client_secret)\n",
    "sp = spotipy.Spotify(client_credentials_manager=client_credentials_manager)\n"
   ]
  },
  {
   "attachments": {},
   "cell_type": "markdown",
   "metadata": {},
   "source": [
    "## Get playlists infos "
   ]
  },
  {
   "cell_type": "code",
   "execution_count": null,
   "metadata": {},
   "outputs": [],
   "source": [
    "# API scrapping\n",
    "# Set category IDs\n",
    "category_ids = [\n",
    "    '0JQ5DAqbMKFNQ0fGp4byGU', '0JQ5DAqbMKFx0uLQR2okcc', '0JQ5DAqbMKFFtlLYUHv8bT', '0JQ5DAqbMKFzHmL4tf05da', '0JQ5DAqbMKFLjmiZRss79w',\n",
    "    '0JQ5DAqbMKFAUsdyVjCQuL', '0JQ5DAqbMKFziKOShCi009', '0JQ5DAqbMKFQ1UFISXj59F', '0JQ5DAqbMKFSCjnQr8QZ3O', '0JQ5DAqbMKFLb2EqgLtpjC', \n",
    "    '0JQ5DAqbMKFQiK2EHwyjcU', '0JQ5DAqbMKFObNLOHydSW8', '0JQ5DAqbMKFPrEiAOxgac3', '0JQ5DAqbMKFKLfwjuJMoNC', '0JQ5DAqbMKFRY5ok2pxXJ0', \n",
    "    '0JQ5DAqbMKFHOzuVTgTizF', '0JQ5DAqbMKFP9UNkavIGrM', '0JQ5DAqbMKFIVNxQgRNSg0', '0JQ5DAqbMKFFzDl7qN9Apr', '0JQ5DAqbMKFCuoRTxhYWow', \n",
    "    '0JQ5DAqbMKFFoimhOqWzLB', '0JQ5DAqbMKFIRybaNTYXXy', '0JQ5DAqbMKFPw634sFwguI', '0JQ5DAqbMKFJw7QLnM27p6', '0JQ5DAqbMKFCbimwdOYlsl', \n",
    "    '0JQ5DAqbMKFy78wprEpAjl', '0JQ5DAqbMKFF9bY76LXmfI', '0JQ5DAqbMKFImHYGo3eTSg', '0JQ5DAqbMKFFsW9N8maB6z', '0JQ5DAqbMKFCfObibaOZbv', \n",
    "    '0JQ5DAqbMKFGnsSfvg90Wo', '0JQ5DAqbMKFQ00XGBls6ym', '0JQ5DAqbMKFCWjUTdzaG0e', '0JQ5DAqbMKFRKBHIxJ5hMm', '0JQ5DAqbMKFAJ5xb0fwo9m', \n",
    "    '0JQ5DAqbMKFGvOw3O4nLAf', '0JQ5DAqbMKFxXaXKP7zcDp', '0JQ5DAqbMKFDkd668ypn6O', '0JQ5DAqbMKFRieVZLLoo9m', '0JQ5DAqbMKFI3pNLtYMD9S', \n",
    "    '0JQ5DAqbMKFEOEBCABAxo9', '0JQ5DAqbMKFEC4WFtoNRpw', '0JQ5DAqbMKFAjfauKLOZiv', '0JQ5DAqbMKFOOxftoKZxod', '0JQ5DAqbMKFJKoGyUMo2hE', \n",
    "    '0JQ5DAqbMKFEZPnFQSFB1T', '0JQ5DAqbMKFDXXwE9BDJAr', '0JQ5DAqbMKFA6SOHvT3gck', '0JQ5DAqbMKFIpEuaCnimBj', '0JQ5DAqbMKFAXlCG6QvYQ4', \n",
    "    '0JQ5DAqbMKFDBgllo2cUIN', '0JQ5DAqbMKFQIL0AXnG5AK', '0JQ5DAqbMKFOzQeOmemkuw', '0JQ5DAqbMKFBweu2euf3Sj', '0JQ5DAqbMKFAQy4HL4XU2D'\n",
    "]\n",
    "\n",
    "# Store missing categories\n",
    "missing_categories = []\n",
    "\n",
    "# Loop over all categories and get playlists\n",
    "playlists = []\n",
    "for category_id in category_ids:\n",
    "    try:\n",
    "        # Get first 50 playlists in category\n",
    "        response = sp.category_playlists(category_id, limit=50)\n",
    "        category_playlists = response[\"playlists\"][\"items\"]\n",
    "        \n",
    "        # Check if there are more playlists in category\n",
    "        while response[\"playlists\"][\"next\"]:\n",
    "            response = sp.next(response[\"playlists\"])\n",
    "            category_playlists += response[\"playlists\"][\"items\"]\n",
    "        \n",
    "        # Append category playlists to list\n",
    "        for playlist in category_playlists:\n",
    "            playlist_id = playlist[\"id\"]\n",
    "            playlist_name = playlist[\"name\"]\n",
    "            playlist_owner = playlist[\"owner\"][\"display_name\"]\n",
    "            playlists.append({\n",
    "                \"category_id\": category_id, \n",
    "                \"playlist_id\": playlist_id, \n",
    "                \"playlist_name\": playlist_name,\n",
    "                \"playlist_owner\": playlist_owner\n",
    "            })\n",
    "    except: \n",
    "        missing_categories.append(category_id)\n",
    "        print(f\"Category with ID {category_id} doesn't exist.\")\n",
    "\n",
    "# Create dataframe from playlists\n",
    "df_playlists = pd.DataFrame(playlists, columns=[\"category_id\", \"playlist_id\", \"playlist_name\", \"playlist_owner\"])\n",
    "\n",
    "print(df_playlists)\n"
   ]
  },
  {
   "cell_type": "code",
   "execution_count": null,
   "metadata": {},
   "outputs": [],
   "source": [
    "# HTML scraping for Charts playlists\n",
    "# URLs to scrape\n",
    "urls = [\n",
    "    'https://open.spotify.com/genre/section0JQ5DAzQHECxDlYNI6xD1h',\n",
    "    'https://open.spotify.com/genre/section0JQ5DAzQHECxDlYNI6xD1i',\n",
    "    'https://open.spotify.com/genre/section0JQ5DAzQHECxDlYNI6xD1j'\n",
    "]\n",
    "\n",
    "# Set up the web driver\n",
    "driver = webdriver.Safari(executable_path='/usr/bin/safaridriver')\n",
    "\n",
    "top_playlists = []\n",
    "\n",
    "for url in urls:\n",
    "    driver.get(url)\n",
    "    time.sleep(5)  # Wait for playlists to load\n",
    "\n",
    "    # Find playlist elements by class name\n",
    "    playlists = driver.find_elements(By.CLASS_NAME, 'Box__BoxComponent-sc-y4nds-0')\n",
    "    last_playlist = playlists[-1]\n",
    "\n",
    "    # Scroll to load all playlists\n",
    "    while True:\n",
    "        driver.execute_script(\"arguments[0].scrollIntoView();\", last_playlist)\n",
    "        time.sleep(2)\n",
    "        new_playlists = driver.find_elements(By.CLASS_NAME, 'Box__BoxComponent-sc-y4nds-0')\n",
    "        if new_playlists[-1] != last_playlist:\n",
    "            last_playlist = new_playlists[-1]\n",
    "            playlists = new_playlists\n",
    "        else:\n",
    "            break\n",
    "\n",
    "    # Extract playlist information\n",
    "    for playlist in playlists:\n",
    "        # Get aria-labelledby attribute\n",
    "        aria_label = playlist.get_attribute('aria-labelledby')\n",
    "        \n",
    "        # Extract playlist ID from aria-labelledby\n",
    "        if aria_label and \"spotify:playlist:\" in aria_label:\n",
    "            playlist_id = aria_label.split(\"spotify:playlist:\")[1].split()[0]\n",
    "            top_playlists.append({\n",
    "                \"category_id\": '0JQ5DAudkNjCgYMM0TZXDw', \n",
    "                \"playlist_id\": playlist_id, \n",
    "                \"playlist_owner\": 'Spotify'\n",
    "            })\n",
    "\n",
    "# Quit the driver\n",
    "driver.quit()\n",
    "\n",
    "# Convert data to DataFrame and print\n",
    "df_top_playlists = pd.DataFrame(top_playlists, columns=[\"category_id\", \"playlist_id\", \"playlist_owner\"])\n",
    "print(df_top_playlists)\n"
   ]
  },
  {
   "cell_type": "code",
   "execution_count": 11,
   "metadata": {},
   "outputs": [],
   "source": [
    "# Parse playlists info into excel\n",
    "# Combine the manual and API playlists into one DataFrame\n",
    "df_combined = pd.concat([df_playlists, df_top_playlists], ignore_index=True)\n",
    "df_combined.to_excel(\"playlists_info.xlsx\", index=False)\n",
    "\n",
    "# Drop duplicates based on the \"playlist_id\" column, keeping the first occurrence\n",
    "df_cleaned = df_combined.drop_duplicates(subset='playlist_id', keep='first')\n",
    "df_cleaned.to_excel(\"playlists_info_clean.xlsx\", index=False)\n"
   ]
  },
  {
   "attachments": {},
   "cell_type": "markdown",
   "metadata": {},
   "source": [
    "## Get tracks info"
   ]
  },
  {
   "cell_type": "markdown",
   "metadata": {},
   "source": [
    "### Setup"
   ]
  },
  {
   "cell_type": "code",
   "execution_count": 3,
   "metadata": {},
   "outputs": [],
   "source": [
    "# Load data\n",
    "df = pd.read_excel('playlists_info_clean.xlsx')\n",
    "\n",
    "# Remove playlists with \"This is\" and \"Written By\" in the name\n",
    "df = df[~df['playlist_name'].str.contains('This Is', na=False)]\n",
    "df = df[~df['playlist_name'].str.contains('Written By', na=False)]\n"
   ]
  },
  {
   "cell_type": "code",
   "execution_count": 4,
   "metadata": {},
   "outputs": [],
   "source": [
    "# Define scraping functions\n",
    "# Define a function to get all the tracks in a playlist, handling the API limit\n",
    "def get_all_playlist_tracks(playlist_id):\n",
    "    results = sp.playlist_tracks(playlist_id)\n",
    "    tracks = results['items']\n",
    "    while results['next']:\n",
    "        results = sp.next(results)\n",
    "        tracks.extend(results['items'])\n",
    "    return tracks\n",
    "\n",
    "# Define a function to get all the audio features for a set of tracks, handling the API limit\n",
    "def get_all_audio_features(track_ids):\n",
    "    audio_features = []\n",
    "    for i in range(0, len(track_ids), 100):\n",
    "        batch = track_ids[i:i+100]\n",
    "        try:\n",
    "            features = sp.audio_features(batch)\n",
    "        except:\n",
    "            continue\n",
    "        audio_features.extend(features)\n",
    "    return audio_features\n",
    "\n",
    "def get_playlist_track_info(playlist_id):\n",
    "    # Get the playlist info\n",
    "    playlist_info = sp.playlist(playlist_id)\n",
    "    if not playlist_info:\n",
    "        return None\n",
    "    \n",
    "    playlist_name = playlist_info['name']\n",
    "    playlist_followers = playlist_info['followers']['total']\n",
    "    playlist_owner = playlist_info['owner']['display_name']\n",
    "    \n",
    "    # Get all the tracks in the playlist\n",
    "    playlist_tracks = get_all_playlist_tracks(playlist_id)\n",
    "    track_ids = [track['track']['id'] for track in playlist_tracks if track['track'] is not None]\n",
    "    \n",
    "    if not track_ids:\n",
    "        return None\n",
    "    \n",
    "    # Get the track info in batches of 50\n",
    "    track_info = []\n",
    "    for i in range(0, len(track_ids), 50):\n",
    "        batch_tracks = track_ids[i:i+50]\n",
    "        tracks = sp.tracks(batch_tracks)['tracks']\n",
    "        track_info.extend(tracks)\n",
    "\n",
    "    if track_info is not None:\n",
    "        track_names = [track['name'] for track in track_info]\n",
    "        track_popularities = [track['popularity'] for track in track_info]\n",
    "        track_release_dates = [track['album']['release_date'] for track in track_info]\n",
    "        artist_ids = [track['artists'][0]['id'] for track in track_info]\n",
    "        \n",
    "        artist_info = []\n",
    "        for i in range(0, len(artist_ids), 50):\n",
    "            batch_artists = artist_ids[i:i+50]\n",
    "            artists = sp.artists(batch_artists)['artists']\n",
    "            artist_info.extend(artists)\n",
    "        \n",
    "        artist_names = [artist['name'] for artist in artist_info]\n",
    "        artist_popularities = [artist['popularity'] for artist in artist_info]\n",
    "\n",
    "        # Combine everything into a DataFrame\n",
    "        playlist_df = pd.DataFrame({\n",
    "            'playlist_name': playlist_name,\n",
    "            'playlist_followers': playlist_followers,\n",
    "            'playlist_owner': playlist_owner,\n",
    "            'track_name': track_names,\n",
    "            'track__popularity': track_popularities,\n",
    "            'track_release_date': track_release_dates,\n",
    "            'artist_name': artist_names,\n",
    "            'artist_popularity': artist_popularities\n",
    "        })\n",
    "    else:\n",
    "        return None\n",
    "\n",
    "    # Get the audio features\n",
    "    audio_features = get_all_audio_features(track_ids)\n",
    "    if audio_features is None:\n",
    "        return None\n",
    "    \n",
    "    # Add the audio features to the DataFrame\n",
    "    try:\n",
    "        audio_features_df = pd.DataFrame(audio_features)\n",
    "        playlist_df = pd.concat([playlist_df, audio_features_df], axis=1)\n",
    "    except:\n",
    "        return None\n",
    "    \n",
    "    return playlist_df\n",
    "\n",
    "# Define a function to loop over all the playlists and combine the results\n",
    "def get_all_playlist_track_info(playlist_ids):\n",
    "    playlist_dfs = []\n",
    "    for playlist_id in playlist_ids:\n",
    "        print(f\"Processing playlist: {playlist_id}\")\n",
    "        playlist_df = get_playlist_track_info(playlist_id)\n",
    "        if playlist_df is not None:\n",
    "            playlist_dfs.append(playlist_df)\n",
    "    all_playlist_df = pd.concat(playlist_dfs, ignore_index=True)\n",
    "    return all_playlist_df\n"
   ]
  },
  {
   "attachments": {},
   "cell_type": "markdown",
   "metadata": {},
   "source": [
    "### Scrape the data for each category"
   ]
  },
  {
   "cell_type": "code",
   "execution_count": null,
   "metadata": {},
   "outputs": [],
   "source": [
    "# Tops\n",
    "category_id = \"0JQ5DAudkNjCgYMM0TZXDw\"\n",
    "\n",
    "filtered_df = df[df['category_id'] == category_id]\n",
    "playlist_ids = filtered_df['playlist_id'].tolist()\n",
    "\n",
    "df_tops = get_all_playlist_track_info(playlist_ids)\n",
    "df_tops.to_excel(\"df_tops.xlsx\", index = False)\n"
   ]
  },
  {
   "cell_type": "code",
   "execution_count": null,
   "metadata": {},
   "outputs": [],
   "source": [
    "# Afro\n",
    "category_id = \"0JQ5DAqbMKFNQ0fGp4byGU\"\n",
    "\n",
    "filtered_df = df[df['category_id'] == category_id]\n",
    "playlist_ids = filtered_df['playlist_id'].tolist()\n",
    "\n",
    "df_pop = get_all_playlist_track_info(playlist_ids)\n",
    "df_pop.to_excel(\"df_afro.xlsx\", index = False)\n"
   ]
  },
  {
   "cell_type": "code",
   "execution_count": null,
   "metadata": {},
   "outputs": [],
   "source": [
    "# A la Maison\n",
    "category_id = \"0JQ5DAqbMKFx0uLQR2okcc\"\n",
    "\n",
    "filtered_df = df[df['category_id'] == category_id]\n",
    "playlist_ids = filtered_df['playlist_id'].tolist()\n",
    "\n",
    "df_maison = get_all_playlist_track_info(playlist_ids)\n",
    "df_maison.to_excel(\"df_maison.xlsx\", index = False)\n"
   ]
  },
  {
   "cell_type": "code",
   "execution_count": null,
   "metadata": {},
   "outputs": [],
   "source": [
    "# Alternative\n",
    "category_id = \"0JQ5DAqbMKFFtlLYUHv8bT\"\n",
    "\n",
    "filtered_df = df[df['category_id'] == category_id]\n",
    "playlist_ids = filtered_df['playlist_id'].tolist()\n",
    "\n",
    "df_alternative = get_all_playlist_track_info(playlist_ids)\n",
    "df_alternative.to_excel(\"df_alternative.xlsx\", index = False)\n"
   ]
  },
  {
   "cell_type": "code",
   "execution_count": null,
   "metadata": {},
   "outputs": [],
   "source": [
    "# Ambiance\n",
    "category_id = \"0JQ5DAqbMKFzHmL4tf05da\"\n",
    "\n",
    "filtered_df = df[df['category_id'] == category_id]\n",
    "playlist_ids = filtered_df['playlist_id'].tolist()\n",
    "\n",
    "df_ambiance = get_all_playlist_track_info(playlist_ids)\n",
    "df_ambiance.to_excel(\"df_ambiance.xlsx\", index = False)\n"
   ]
  },
  {
   "cell_type": "code",
   "execution_count": null,
   "metadata": {},
   "outputs": [],
   "source": [
    "# Ambient\n",
    "category_id = \"0JQ5DAqbMKFLjmiZRss79w\"\n",
    "\n",
    "filtered_df = df[df['category_id'] == category_id]\n",
    "playlist_ids = filtered_df['playlist_id'].tolist()\n",
    "\n",
    "df_ambient = get_all_playlist_track_info(playlist_ids)\n",
    "df_ambient.to_excel(\"df_ambient.xlsx\", index = False)\n"
   ]
  },
  {
   "cell_type": "code",
   "execution_count": null,
   "metadata": {},
   "outputs": [],
   "source": [
    "# Amour\n",
    "category_id = \"0JQ5DAqbMKFAUsdyVjCQuL\"\n",
    "\n",
    "filtered_df = df[df['category_id'] == category_id]\n",
    "playlist_ids = filtered_df['playlist_id'].tolist()\n",
    "\n",
    "df_amour = get_all_playlist_track_info(playlist_ids)\n",
    "df_amour.to_excel(\"df_amour.xlsx\", index = False)\n"
   ]
  },
  {
   "cell_type": "code",
   "execution_count": null,
   "metadata": {},
   "outputs": [],
   "source": [
    "# Anime\n",
    "category_id = \"0JQ5DAqbMKFziKOShCi009\"\n",
    "\n",
    "filtered_df = df[df['category_id'] == category_id]\n",
    "playlist_ids = filtered_df['playlist_id'].tolist()\n",
    "\n",
    "df_anime = get_all_playlist_track_info(playlist_ids)\n",
    "df_anime.to_excel(\"df_anime.xlsx\", index = False)\n"
   ]
  },
  {
   "cell_type": "code",
   "execution_count": null,
   "metadata": {},
   "outputs": [],
   "source": [
    "# Arabe\n",
    "category_id = \"0JQ5DAqbMKFQ1UFISXj59F\"\n",
    "\n",
    "filtered_df = df[df['category_id'] == category_id]\n",
    "playlist_ids = filtered_df['playlist_id'].tolist()\n",
    "\n",
    "df_arabe = get_all_playlist_track_info(playlist_ids)\n",
    "df_arabe.to_excel(\"df_arabe.xlsx\", index = False)\n"
   ]
  },
  {
   "cell_type": "code",
   "execution_count": 5,
   "metadata": {},
   "outputs": [
    {
     "name": "stdout",
     "output_type": "stream",
     "text": [
      "Processing playlist: 37i9dQZF1DX8LIZNmf5qj3\n",
      "Processing playlist: 37i9dQZF1DWTwnEm1IYyoj\n",
      "Processing playlist: 37i9dQZF1DXdbQ2qAyjZ1R\n",
      "Processing playlist: 37i9dQZF1DXcdw9vRvRM79\n",
      "Processing playlist: 37i9dQZF1DWSGaMpjluQpy\n",
      "Processing playlist: 37i9dQZF1DXcrbQpZuKaRH\n",
      "Processing playlist: 37i9dQZF1DX1KVBf2zZZ2X\n",
      "Processing playlist: 37i9dQZF1DX7NeseHaSkSz\n",
      "Processing playlist: 37i9dQZF1DXcECZl1cQzi5\n",
      "Processing playlist: 37i9dQZF1DX9j444F9NCBa\n",
      "Processing playlist: 37i9dQZF1DWYY963019MQr\n",
      "Processing playlist: 37i9dQZF1DWUvHZA1zLcjW\n",
      "Processing playlist: 37i9dQZF1DWV7EzJMK2FUI\n",
      "Processing playlist: 37i9dQZF1DWSADWNdZfn11\n",
      "Processing playlist: 37i9dQZF1DWTcEjayzrZ4x\n",
      "Processing playlist: 37i9dQZF1DX4uB43NNq1P7\n",
      "Processing playlist: 37i9dQZF1DXdPDLmy88MDk\n",
      "Processing playlist: 37i9dQZF1DX7K31D69s4M1\n",
      "Processing playlist: 37i9dQZF1DWXlntHTG08uC\n",
      "Processing playlist: 37i9dQZF1DX9JGJTJ2WFXi\n",
      "Processing playlist: 37i9dQZF1DWTvEFX6xtoQd\n",
      "Processing playlist: 37i9dQZF1DWSRkksm0qURy\n",
      "Processing playlist: 37i9dQZF1DX3DRt77Ekehy\n",
      "Processing playlist: 37i9dQZF1DX9t48dpVo99H\n",
      "Processing playlist: 37i9dQZF1DWSFn2ideAJpT\n",
      "Processing playlist: 37i9dQZF1DXdsUypiO3RNF\n",
      "Processing playlist: 37i9dQZF1DX10jlupqH0Bt\n",
      "Processing playlist: 37i9dQZF1DX4PP3DA4J0N8\n",
      "Processing playlist: 37i9dQZF1DXaa8UmWJHYTU\n",
      "Processing playlist: 37i9dQZF1DWV90ZWj21ygB\n",
      "Processing playlist: 37i9dQZF1DWZchyMGmbOpk\n",
      "Processing playlist: 37i9dQZF1DWZ8HCIPoGGKp\n",
      "Processing playlist: 37i9dQZF1DWVEt8B7a1H1M\n",
      "Processing playlist: 37i9dQZF1DX4Q2SnB3glnP\n",
      "Processing playlist: 37i9dQZF1DX0psQULQgJwx\n",
      "Processing playlist: 37i9dQZF1DX1T2fEo0ROQ2\n",
      "Processing playlist: 37i9dQZF1DWYaxoJ3YwOh3\n",
      "Processing playlist: 37i9dQZF1DX1ifjh7WmfEU\n",
      "Processing playlist: 37i9dQZF1DX6dZ7oW0l88P\n",
      "Processing playlist: 37i9dQZF1DX8tYYl2HSCud\n",
      "Processing playlist: 37i9dQZF1DXdEXNUSgdc3s\n",
      "Processing playlist: 37i9dQZF1DWZPZjY51bRyr\n",
      "Processing playlist: 37i9dQZF1DX3Ogo9pFvBkY\n",
      "Processing playlist: 37i9dQZF1DX1aJqrYHYkGX\n",
      "Processing playlist: 37i9dQZF1DXcj8Mdu8qUVH\n",
      "Processing playlist: 37i9dQZF1DX0YDqnWWzvxD\n",
      "Processing playlist: 37i9dQZF1DX7FiQUm1UvSn\n",
      "Processing playlist: 37i9dQZF1DWZvpVE2NxPV2\n",
      "Processing playlist: 37i9dQZF1DXdVyc8LtLi96\n",
      "Processing playlist: 37i9dQZF1DX3AqNtukWhcT\n",
      "Processing playlist: 37i9dQZF1DX4QrK4j7ie9B\n",
      "Processing playlist: 37i9dQZF1DWTofcvJ2Dvma\n",
      "Processing playlist: 37i9dQZF1DXbEkuDLe92in\n",
      "Processing playlist: 37i9dQZF1DX7R7Bjxm48PR\n",
      "Processing playlist: 37i9dQZF1DXby8tlLbzqaH\n",
      "Processing playlist: 37i9dQZF1DWZhzMp90Opmn\n",
      "Processing playlist: 37i9dQZF1DWUKPeBypcpcP\n",
      "Processing playlist: 37i9dQZF1DXcscxvxm7Pfv\n",
      "Processing playlist: 37i9dQZF1DWSW4ppn40bal\n",
      "Processing playlist: 37i9dQZF1DX65QClPuOQgF\n",
      "Processing playlist: 37i9dQZF1DX5NgkFTxJ4Wv\n"
     ]
    }
   ],
   "source": [
    "# Bien etre\n",
    "category_id = \"0JQ5DAqbMKFLb2EqgLtpjC\"\n",
    "\n",
    "filtered_df = df[df['category_id'] == category_id]\n",
    "playlist_ids = filtered_df['playlist_id'].tolist()\n",
    "\n",
    "df_bienetre = get_all_playlist_track_info(playlist_ids)\n",
    "df_bienetre.to_excel(\"df_bienetre.xlsx\", index = False)\n"
   ]
  },
  {
   "cell_type": "code",
   "execution_count": 6,
   "metadata": {},
   "outputs": [
    {
     "name": "stdout",
     "output_type": "stream",
     "text": [
      "Processing playlist: 37i9dQZF1DXd9rSDyQguIk\n",
      "Processing playlist: 37i9dQZF1DXcu3QLJudo4X\n",
      "Processing playlist: 37i9dQZF1DX9GnjlK17CLK\n",
      "Processing playlist: 37i9dQZF1DX9GSZDbrndTa\n",
      "Processing playlist: 37i9dQZF1DWWhiW4fdIska\n",
      "Processing playlist: 37i9dQZF1DXbUXCbzCkRVP\n",
      "Processing playlist: 37i9dQZF1DX7KwBiutIRku\n",
      "Processing playlist: 37i9dQZF1DXbxvVclJxhEJ\n",
      "Processing playlist: 37i9dQZF1DX4snGSoRjGMW\n",
      "Processing playlist: 37i9dQZF1DX5XEAHcCzWcH\n",
      "Processing playlist: 37i9dQZF1DXb3MZdETGqKB\n",
      "Processing playlist: 37i9dQZF1DXcnkReojaCnV\n",
      "Processing playlist: 37i9dQZF1DX7Y7BqFok9IQ\n",
      "Processing playlist: 37i9dQZF1DX0QNpebF7rcL\n",
      "Processing playlist: 37i9dQZF1DXcFk5r8uS3l2\n",
      "Processing playlist: 37i9dQZF1DWSKpvyAAcaNZ\n",
      "Processing playlist: 37i9dQZF1DX9stbPFTxeaB\n",
      "Processing playlist: 37i9dQZF1DXdeoRwG5yUKg\n",
      "Processing playlist: 37i9dQZF1DWT1RLff7HxDm\n",
      "Processing playlist: 37i9dQZF1DX7b1e7B17gg7\n",
      "Processing playlist: 37i9dQZF1DWWyCCtyRAvGr\n",
      "Processing playlist: 37i9dQZF1DX2Pqxel6mitp\n",
      "Processing playlist: 37i9dQZF1DXd8nB8TGVGGF\n",
      "Processing playlist: 37i9dQZF1DX1STMhgdmNBY\n"
     ]
    }
   ],
   "source": [
    "# Blues\n",
    "category_id = \"0JQ5DAqbMKFQiK2EHwyjcU\"\n",
    "\n",
    "filtered_df = df[df['category_id'] == category_id]\n",
    "playlist_ids = filtered_df['playlist_id'].tolist()\n",
    "\n",
    "df_blues = get_all_playlist_track_info(playlist_ids)\n",
    "df_blues.to_excel(\"df_blues.xlsx\", index = False)\n"
   ]
  },
  {
   "cell_type": "code",
   "execution_count": 7,
   "metadata": {},
   "outputs": [
    {
     "name": "stdout",
     "output_type": "stream",
     "text": [
      "Processing playlist: 37i9dQZF1DX9QYRS3EMTFh\n",
      "Processing playlist: 37i9dQZF1DWZjVBCh3y4ph\n",
      "Processing playlist: 37i9dQZF1DX1yXxWD7WGcm\n",
      "Processing playlist: 37i9dQZF1DWYtKpmml7moA\n",
      "Processing playlist: 37i9dQZF1DWSiyIBdVQrkk\n",
      "Processing playlist: 37i9dQZF1DXan38dNVDdl4\n",
      "Processing playlist: 37i9dQZF1DX7r3u5HAAB4A\n",
      "Processing playlist: 37i9dQZF1DX7GUbRHVEX42\n",
      "Processing playlist: 37i9dQZF1DWWDLvD3P5wOG\n",
      "Processing playlist: 37i9dQZF1DX0cNYCfLOrsu\n"
     ]
    }
   ],
   "source": [
    "# Caraibes\n",
    "category_id = \"0JQ5DAqbMKFObNLOHydSW8\"\n",
    "\n",
    "filtered_df = df[df['category_id'] == category_id]\n",
    "playlist_ids = filtered_df['playlist_id'].tolist()\n",
    "\n",
    "df_caraibes = get_all_playlist_track_info(playlist_ids)\n",
    "df_caraibes.to_excel(\"df_caraibes.xlsx\", index = False)\n"
   ]
  },
  {
   "cell_type": "code",
   "execution_count": 8,
   "metadata": {},
   "outputs": [
    {
     "name": "stdout",
     "output_type": "stream",
     "text": [
      "Processing playlist: 37i9dQZF1DWWEJlAGA9gs0\n",
      "Processing playlist: 37i9dQZF1DWV0gynK7G6pD\n",
      "Processing playlist: 37i9dQZF1DX17GkScaAekA\n",
      "Processing playlist: 37i9dQZF1DWTi57LiHYTmH\n",
      "Processing playlist: 37i9dQZF1DWUPafHP1BJw1\n",
      "Processing playlist: 37i9dQZF1DX5Lm1ZiObdc3\n",
      "Processing playlist: 37i9dQZF1DX9OZisIoJQhG\n",
      "Processing playlist: 37i9dQZF1DWUqIzZNMSCv3\n",
      "Processing playlist: 37i9dQZF1DWVFeEut75IAL\n",
      "Processing playlist: 37i9dQZF1DX7Ope5RE4ePQ\n",
      "Processing playlist: 37i9dQZF1DX8Sz1gsYZdwj\n",
      "Processing playlist: 37i9dQZF1DWYkztttC1w38\n",
      "Processing playlist: 37i9dQZF1DX8qVlPzYQL5d\n",
      "Processing playlist: 37i9dQZF1DX9dX3aBjsxqd\n",
      "Processing playlist: 37i9dQZF1DXdTVW77weWfh\n",
      "Processing playlist: 37i9dQZF1DX0Aaer4Jzfgm\n",
      "Processing playlist: 37i9dQZF1DX1tz6EDao8it\n",
      "Processing playlist: 37i9dQZF1DXdfOcg1fm0VG\n",
      "Processing playlist: 37i9dQZF1DWW7gj0FcGEx6\n",
      "Processing playlist: 37i9dQZF1DWVJd52AtCSiR\n",
      "Processing playlist: 37i9dQZF1DX1xWMTR2Zu8L\n",
      "Processing playlist: 37i9dQZF1DWXahxq4Q8el6\n",
      "Processing playlist: 37i9dQZF1DWVFJtzvDHN4L\n",
      "Processing playlist: 37i9dQZF1DX5pOp62IUR81\n",
      "Processing playlist: 37i9dQZF1DX0CgRlkzaOFL\n",
      "Processing playlist: 37i9dQZF1DX9sIqqvKsjG8\n",
      "Processing playlist: 37i9dQZF1DX1s9knjP51Oa\n",
      "Processing playlist: 37i9dQZF1DWTC99MCpbjP8\n",
      "Processing playlist: 37i9dQZF1DWZwtERXCS82H\n",
      "Processing playlist: 37i9dQZF1DXcEKFjZJYZcc\n",
      "Processing playlist: 37i9dQZF1DWZrc3lwvImLj\n"
     ]
    }
   ],
   "source": [
    "# Classique\n",
    "category_id = \"0JQ5DAqbMKFPrEiAOxgac3\"\n",
    "\n",
    "filtered_df = df[df['category_id'] == category_id]\n",
    "playlist_ids = filtered_df['playlist_id'].tolist()\n",
    "\n",
    "df_classique = get_all_playlist_track_info(playlist_ids)\n",
    "df_classique.to_excel(\"df_classique.xlsx\", index = False)\n"
   ]
  },
  {
   "cell_type": "code",
   "execution_count": 9,
   "metadata": {},
   "outputs": [
    {
     "name": "stdout",
     "output_type": "stream",
     "text": [
      "Processing playlist: 37i9dQZF1DX1lVhptIYRda\n",
      "Processing playlist: 37i9dQZF1DWZBCPUIUs2iR\n",
      "Processing playlist: 37i9dQZF1DWVpjAJGB70vU\n",
      "Processing playlist: 37i9dQZF1DXaiEFNvQPZrM\n",
      "Processing playlist: 37i9dQZF1DWW7RgkOJG32Y\n",
      "Processing playlist: 37i9dQZF1DWYnwbYQ5HnZU\n",
      "Processing playlist: 37i9dQZF1DX8WMG8VPSOJC\n",
      "Processing playlist: 37i9dQZF1DWVn8zvR5ROMB\n",
      "Processing playlist: 37i9dQZF1DX7hnECllVaUq\n",
      "Processing playlist: 37i9dQZF1DXdxUH6sNtcDe\n",
      "Processing playlist: 37i9dQZF1DWXdiK4WAVRUW\n",
      "Processing playlist: 37i9dQZF1DX6RCydf9ytsj\n",
      "Processing playlist: 37i9dQZF1DWYP5PUsVbso9\n",
      "Processing playlist: 37i9dQZF1DX7CGYgLhqwu5\n",
      "Processing playlist: 37i9dQZF1DWWnpcjfCqaW0\n",
      "Processing playlist: 37i9dQZF1DX0vVAWnG6fKT\n"
     ]
    }
   ],
   "source": [
    "# Country\n",
    "category_id = \"0JQ5DAqbMKFKLfwjuJMoNC\"\n",
    "\n",
    "filtered_df = df[df['category_id'] == category_id]\n",
    "playlist_ids = filtered_df['playlist_id'].tolist()\n",
    "\n",
    "df_country = get_all_playlist_track_info(playlist_ids)\n",
    "df_country.to_excel(\"df_country.xlsx\", index = False)\n"
   ]
  },
  {
   "cell_type": "code",
   "execution_count": 10,
   "metadata": {},
   "outputs": [
    {
     "name": "stdout",
     "output_type": "stream",
     "text": [
      "Processing playlist: 37i9dQZF1DWVUxkQFrGCkK\n",
      "Processing playlist: 37i9dQZF1DX915ogFalrko\n",
      "Processing playlist: 37i9dQZF1DWZLN2cXno63R\n",
      "Processing playlist: 37i9dQZF1DX4xuWVBs4FgJ\n",
      "Processing playlist: 37i9dQZF1DWSy1uHq5qF1L\n",
      "Processing playlist: 37i9dQZF1DX7ovYHwmjqZK\n",
      "Processing playlist: 37i9dQZF1DWTALrdBtcXjw\n"
     ]
    }
   ],
   "source": [
    "# Cuisine\n",
    "category_id = \"0JQ5DAqbMKFRY5ok2pxXJ0\"\n",
    "\n",
    "filtered_df = df[df['category_id'] == category_id]\n",
    "playlist_ids = filtered_df['playlist_id'].tolist()\n",
    "\n",
    "df_cuisine = get_all_playlist_track_info(playlist_ids)\n",
    "df_cuisine.to_excel(\"df_cuisine.xlsx\", index = False)\n"
   ]
  },
  {
   "cell_type": "code",
   "execution_count": 11,
   "metadata": {},
   "outputs": [
    {
     "name": "stdout",
     "output_type": "stream",
     "text": [
      "Processing playlist: 37i9dQZF1DX5wB72P2sVsT\n",
      "Processing playlist: 37i9dQZF1DX9ND1QF5hZNF\n",
      "Processing playlist: 37i9dQZF1DWWY64wDtewQt\n",
      "Processing playlist: 37i9dQZF1DWWn9pcJIAKFl\n",
      "Processing playlist: 37i9dQZF1DWWz3YvZd9NIz\n",
      "Processing playlist: 37i9dQZF1DX9cbNxuNYT3d\n",
      "Processing playlist: 37i9dQZF1DXa6qtcwTgOjM\n",
      "Processing playlist: 37i9dQZF1DXa3EUr6VSsMJ\n",
      "Processing playlist: 37i9dQZF1DX6VdMW310YC7\n",
      "Processing playlist: 37i9dQZF1DX4dyzvuaRJ0n\n",
      "Processing playlist: 37i9dQZF1DX7ZUug1ANKRP\n",
      "Processing playlist: 37i9dQZF1DX0BcQWzuB7ZO\n",
      "Processing playlist: 37i9dQZF1DX3d2wagqzwmM\n",
      "Processing playlist: 37i9dQZF1DX12meDmp2yzx\n",
      "Processing playlist: 37i9dQZF1DWW668oFRU96k\n",
      "Processing playlist: 37i9dQZF1DX8tZsk68tuDw\n",
      "Processing playlist: 37i9dQZF1DX6J5NfMJS675\n",
      "Processing playlist: 37i9dQZF1DX1zcQs2sF77z\n",
      "Processing playlist: 37i9dQZF1DXaWf8ZIHreXF\n",
      "Processing playlist: 37i9dQZF1DWSj4n2q6ZYVe\n",
      "Processing playlist: 37i9dQZF1DX802IXCAaWtY\n",
      "Processing playlist: 37i9dQZF1DXcytuPF2IzEB\n",
      "Processing playlist: 37i9dQZF1DX8W7vSTeBZPD\n",
      "Processing playlist: 37i9dQZF1DX1zRNi3kxIg2\n",
      "Processing playlist: 37i9dQZF1DWUGtyQockjro\n",
      "Processing playlist: 37i9dQZF1DX3S3ZHqtp9Q5\n",
      "Processing playlist: 37i9dQZF1DXdKnYm9qqW04\n",
      "Processing playlist: 37i9dQZF1DWYN9NBqvY7Tx\n",
      "Processing playlist: 37i9dQZF1DXaXB8fQg7xif\n",
      "Processing playlist: 37i9dQZF1DWSnqDRRcBlDX\n",
      "Processing playlist: 37i9dQZF1DXc8VZ9nbXQ1z\n",
      "Processing playlist: 37i9dQZF1DWVPkU1Q0FTEV\n",
      "Processing playlist: 37i9dQZF1DWXjs5HmaJqaY\n",
      "Processing playlist: 37i9dQZF1DXciYvjsn0pd9\n",
      "Processing playlist: 37i9dQZF1DX00RdhV73Dbe\n",
      "Processing playlist: 37i9dQZF1DWYoioDxgMsjZ\n",
      "Processing playlist: 37i9dQZF1DX7TzN3KI1wiS\n",
      "Processing playlist: 37i9dQZF1DXdf6bvyXShR3\n",
      "Processing playlist: 37i9dQZF1DX1m6FjZSUWUa\n"
     ]
    }
   ],
   "source": [
    "# Dance\n",
    "category_id = \"0JQ5DAqbMKFHOzuVTgTizF\"\n",
    "\n",
    "filtered_df = df[df['category_id'] == category_id]\n",
    "playlist_ids = filtered_df['playlist_id'].tolist()\n",
    "\n",
    "df_dance = get_all_playlist_track_info(playlist_ids)\n",
    "df_dance.to_excel(\"df_dance.xlsx\", index = False)\n"
   ]
  },
  {
   "cell_type": "code",
   "execution_count": 12,
   "metadata": {},
   "outputs": [
    {
     "name": "stdout",
     "output_type": "stream",
     "text": [
      "Processing playlist: 37i9dQZF1DX0rM1NjYKMJa\n"
     ]
    }
   ],
   "source": [
    "# Dancehall\n",
    "category_id = \"0JQ5DAqbMKFP9UNkavIGrM\"\n",
    "\n",
    "filtered_df = df[df['category_id'] == category_id]\n",
    "playlist_ids = filtered_df['playlist_id'].tolist()\n",
    "\n",
    "df_dancehall = get_all_playlist_track_info(playlist_ids)\n",
    "df_dancehall.to_excel(\"df_dancehall.xlsx\", index = False)\n"
   ]
  },
  {
   "cell_type": "code",
   "execution_count": 13,
   "metadata": {},
   "outputs": [
    {
     "name": "stdout",
     "output_type": "stream",
     "text": [
      "Processing playlist: 37i9dQZF1DWWl7MndYYxge\n",
      "Processing playlist: 37i9dQZF1DXacPj7eARo6k\n",
      "Processing playlist: 37i9dQZF1DWWGI3DKkKGzJ\n",
      "Processing playlist: 37i9dQZF1DX8E06AbSENEw\n",
      "Processing playlist: 37i9dQZF1DX7LGssahBoms\n",
      "Processing playlist: 37i9dQZF1DX4UtSsGT1Sbe\n",
      "Processing playlist: 37i9dQZF1DX7e8TjkFNKWH\n",
      "Processing playlist: 37i9dQZF1DX4o1oenSJRJd\n",
      "Processing playlist: 37i9dQZF1DXbTxeAdrVG2l\n",
      "Processing playlist: 37i9dQZF1DX6xnkAwJX7tn\n",
      "Processing playlist: 37i9dQZF1DX69KJk2S04Hp\n",
      "Processing playlist: 37i9dQZF1DWSvv6VnIb3i0\n",
      "Processing playlist: 37i9dQZF1DWXLbJb1PtkXq\n",
      "Processing playlist: 37i9dQZF1DX0zyaFj8e28t\n",
      "Processing playlist: 37i9dQZF1DX7W8X7B8YNLZ\n",
      "Processing playlist: 37i9dQZF1DWZY8dtEUdfJ4\n",
      "Processing playlist: 37i9dQZF1DWZZvzq1xsEuc\n"
     ]
    }
   ],
   "source": [
    "# Decennies\n",
    "category_id = \"0JQ5DAqbMKFIVNxQgRNSg0\"\n",
    "\n",
    "filtered_df = df[df['category_id'] == category_id]\n",
    "playlist_ids = filtered_df['playlist_id'].tolist()\n",
    "\n",
    "df_decennies = get_all_playlist_track_info(playlist_ids)\n",
    "df_decennies.to_excel(\"df_decennies.xlsx\", index = False)\n"
   ]
  },
  {
   "cell_type": "code",
   "execution_count": 14,
   "metadata": {},
   "outputs": [
    {
     "name": "stdout",
     "output_type": "stream",
     "text": [
      "Processing playlist: 37i9dQZF1DWZfpLyFUtQnu\n",
      "Processing playlist: 37i9dQZF1DWY6UWUOwj4BO\n",
      "Processing playlist: 37i9dQZF1DWYoYGBbGKurt\n",
      "Processing playlist: 37i9dQZF1DXdLK5wjKyhVm\n",
      "Processing playlist: 37i9dQZF1DX4t95PAs1EpY\n",
      "Processing playlist: 37i9dQZF1DX0SM0LYsmbMT\n",
      "Processing playlist: 37i9dQZF1DX4nNmLlb3JR2\n",
      "Processing playlist: 37i9dQZF1DX3SNr5BeQZSd\n",
      "Processing playlist: 37i9dQZF1DWVqfgj8NZEp1\n",
      "Processing playlist: 37i9dQZF1DXdk2DZvqpqJY\n",
      "Processing playlist: 37i9dQZF1DXbOVU4mpMJjh\n",
      "Processing playlist: 37i9dQZF1DWWfxnl2EyBbd\n",
      "Processing playlist: 37i9dQZF1DX08n7V52Ynyb\n",
      "Processing playlist: 37i9dQZF1DX949uWWpmTjT\n",
      "Processing playlist: 37i9dQZF1DX2vYju3i0lNX\n",
      "Processing playlist: 37i9dQZF1DX2m4xSMtooam\n",
      "Processing playlist: 37i9dQZF1DX6lttj7ulLd6\n",
      "Processing playlist: 37i9dQZF1DWUN87b7HRrCS\n",
      "Processing playlist: 37i9dQZF1DX2TRYkJECvfC\n",
      "Processing playlist: 37i9dQZF1DX3qCx5yEZkcJ\n",
      "Processing playlist: 37i9dQZF1DXc8kgYqQLMfH\n",
      "Processing playlist: 37i9dQZF1DX8V4BE7YIpvE\n",
      "Processing playlist: 37i9dQZF1DWVrtsSlLKzro\n",
      "Processing playlist: 37i9dQZF1DX0r3x8OtiwEM\n"
     ]
    }
   ],
   "source": [
    "# Detente\n",
    "category_id = \"0JQ5DAqbMKFFzDl7qN9Apr\"\n",
    "\n",
    "filtered_df = df[df['category_id'] == category_id]\n",
    "playlist_ids = filtered_df['playlist_id'].tolist()\n",
    "\n",
    "df_detente = get_all_playlist_track_info(playlist_ids)\n",
    "df_detente.to_excel(\"df_detente.xlsx\", index = False)\n"
   ]
  },
  {
   "cell_type": "code",
   "execution_count": 15,
   "metadata": {},
   "outputs": [
    {
     "name": "stdout",
     "output_type": "stream",
     "text": [
      "Processing playlist: 37i9dQZF1DX03b46zi3S82\n",
      "Processing playlist: 37i9dQZF1DWSiZVO2J6WeI\n",
      "Processing playlist: 37i9dQZF1DWYcDQ1hSjOpY\n",
      "Processing playlist: 37i9dQZF1DX2fOHhJX6Bvb\n",
      "Processing playlist: 37i9dQZF1DWWSads6V2oIk\n",
      "Processing playlist: 37i9dQZF1DX9NmDLwNQnXE\n",
      "Processing playlist: 37i9dQZF1DWXzR2GKEiHgT\n",
      "Processing playlist: 37i9dQZF1DX709Kv0V067V\n",
      "Processing playlist: 37i9dQZF1DX4WiXBXnxjSY\n",
      "Processing playlist: 37i9dQZF1DX9if5QDLdzCa\n",
      "Processing playlist: 37i9dQZF1DX5FuBDzVtEFX\n",
      "Processing playlist: 37i9dQZF1DXdbkmlag2h7b\n",
      "Processing playlist: 37i9dQZF1DWYoDXiQsd3D2\n",
      "Processing playlist: 37i9dQZF1DX7FUaCNVd2fs\n",
      "Processing playlist: 37i9dQZF1DWUm4vT7WQxcD\n",
      "Processing playlist: 37i9dQZF1DWWFimZsaMuv4\n",
      "Processing playlist: 37i9dQZF1DX9mxKt6WorzQ\n",
      "Processing playlist: 37i9dQZF1DWVs65pqQR22I\n",
      "Processing playlist: 37i9dQZF1DXc1Etiiw8agT\n",
      "Processing playlist: 37i9dQZF1DX2WtjAdkiMga\n",
      "Processing playlist: 37i9dQZF1DX8skPjZYk8mL\n",
      "Processing playlist: 37i9dQZF1DX2UkbeRPWQqZ\n",
      "Processing playlist: 37i9dQZF1DX2C8CFEPyYmg\n",
      "Processing playlist: 37i9dQZF1DX0DxcHtn4Hwo\n",
      "Processing playlist: 37i9dQZF1DXbADqT0j1Cxt\n",
      "Processing playlist: 37i9dQZF1DX1Ew8a92fTdm\n",
      "Processing playlist: 37i9dQZF1DWVy2Fygel8HO\n"
     ]
    }
   ],
   "source": [
    "# Dormir\n",
    "category_id = \"0JQ5DAqbMKFCuoRTxhYWow\"\n",
    "\n",
    "filtered_df = df[df['category_id'] == category_id]\n",
    "playlist_ids = filtered_df['playlist_id'].tolist()\n",
    "\n",
    "df_dormir = get_all_playlist_track_info(playlist_ids)\n",
    "df_dormir.to_excel(\"df_dormir.xlsx\", index = False)\n"
   ]
  },
  {
   "cell_type": "code",
   "execution_count": 16,
   "metadata": {},
   "outputs": [
    {
     "name": "stdout",
     "output_type": "stream",
     "text": [
      "Processing playlist: 37i9dQZF1DWYa24lU2SeaC\n",
      "Processing playlist: 37i9dQZF1DWUij1y62UPcn\n",
      "Processing playlist: 37i9dQZF1DX8oWCUlN9CxD\n",
      "Processing playlist: 37i9dQZF1DX4nQ5NlnrDCH\n",
      "Processing playlist: 37i9dQZF1DWY1vQTCT1CCD\n",
      "Processing playlist: 37i9dQZF1DX0BoZKLoqg4z\n",
      "Processing playlist: 37i9dQZF1DWYPUCdJXtD7j\n"
     ]
    }
   ],
   "source": [
    "# Enfants\n",
    "category_id = \"0JQ5DAqbMKFFoimhOqWzLB\"\n",
    "\n",
    "filtered_df = df[df['category_id'] == category_id]\n",
    "playlist_ids = filtered_df['playlist_id'].tolist()\n",
    "\n",
    "df_enfants = get_all_playlist_track_info(playlist_ids)\n",
    "df_enfants.to_excel(\"df_enfants.xlsx\", index = False)\n"
   ]
  },
  {
   "cell_type": "code",
   "execution_count": 17,
   "metadata": {},
   "outputs": [
    {
     "name": "stdout",
     "output_type": "stream",
     "text": [
      "Processing playlist: 37i9dQZF1DX1S89tRXh2OS\n",
      "Processing playlist: 37i9dQZF1DWWo4kzWesMJm\n",
      "Processing playlist: 37i9dQZF1DXcwnhpAC5MCO\n",
      "Processing playlist: 37i9dQZF1DX5rT0k5ulJ5y\n",
      "Processing playlist: 37i9dQZF1DX4iPyiZG8RHQ\n",
      "Processing playlist: 37i9dQZF1DWVuV87wUBNwc\n",
      "Processing playlist: 37i9dQZF1DXcSPhLAnCjoM\n",
      "Processing playlist: 37i9dQZF1DXbS5WTN5nKF7\n",
      "Processing playlist: 37i9dQZF1DWYAaAF4glatK\n",
      "Processing playlist: 37i9dQZF1DWVAWlq3l00p0\n",
      "Processing playlist: 37i9dQZF1DXd0Y4aXXQXWv\n",
      "Processing playlist: 37i9dQZF1DWWMOmoXKqHTD\n",
      "Processing playlist: 37i9dQZF1DX9wC1KY45plY\n",
      "Processing playlist: 37i9dQZF1DWU13kKnk03AP\n",
      "Processing playlist: 37i9dQZF1DXdOEFt9ZX0dh\n",
      "Processing playlist: 37i9dQZF1DXdfhOsjRMISB\n",
      "Processing playlist: 37i9dQZF1DX2ogDiL6nZJr\n",
      "Processing playlist: 37i9dQZF1DWYs83FtTMQFw\n",
      "Processing playlist: 37i9dQZF1DWTkxQvqMy4WW\n"
     ]
    }
   ],
   "source": [
    "# En voiture\n",
    "category_id = \"0JQ5DAqbMKFIRybaNTYXXy\" \n",
    "\n",
    "filtered_df = df[df['category_id'] == category_id]\n",
    "playlist_ids = filtered_df['playlist_id'].tolist()\n",
    "\n",
    "df_voiture = get_all_playlist_track_info(playlist_ids)\n",
    "df_voiture.to_excel(\"df_voiture.xlsx\", index = False)\n"
   ]
  },
  {
   "cell_type": "code",
   "execution_count": null,
   "metadata": {},
   "outputs": [],
   "source": [
    "category_id = \"0JQ5DAqbMKFDkd668ypn6O\" # Metal\n",
    "\n",
    "filtered_df = df[df['category_id'] == category_id]\n",
    "playlist_ids = filtered_df['playlist_id'].tolist()\n",
    "\n",
    "df_metal = get_all_playlist_track_info(playlist_ids)\n",
    "\n",
    "df_metal.to_excel(\"df_metal.xlsx\", index = False)\n"
   ]
  },
  {
   "cell_type": "code",
   "execution_count": null,
   "metadata": {},
   "outputs": [],
   "source": [
    "category_id = \"0JQ5DAqbMKFAJ5xb0fwo9m\" # Jazz\n",
    "\n",
    "filtered_df = df[df['category_id'] == category_id]\n",
    "playlist_ids = filtered_df['playlist_id'].tolist()\n",
    "\n",
    "df_jazz = get_all_playlist_track_info(playlist_ids)\n",
    "\n",
    "df_jazz.to_excel(\"df_jazz.xlsx\", index = False)\n"
   ]
  },
  {
   "cell_type": "code",
   "execution_count": null,
   "metadata": {},
   "outputs": [],
   "source": [
    "category_id = \"0JQ5DAqbMKFQIL0AXnG5AK\" # Tendances\n",
    "\n",
    "filtered_df = df[df['category_id'] == category_id]\n",
    "playlist_ids = filtered_df['playlist_id'].tolist()\n",
    "\n",
    "df_tendances = get_all_playlist_track_info(playlist_ids)\n",
    "\n",
    "df_tendances.to_excel(\"df_tendances.xlsx\", index = False)\n"
   ]
  },
  {
   "cell_type": "code",
   "execution_count": null,
   "metadata": {},
   "outputs": [],
   "source": [
    "category_id = \"0JQ5DAqbMKFPw634sFwguI\" # Equal\n",
    "\n",
    "filtered_df = df[df['category_id'] == category_id]\n",
    "playlist_ids = filtered_df['playlist_id'].tolist()\n",
    "\n",
    "df_equal = get_all_playlist_track_info(playlist_ids)\n",
    "\n",
    "df_equal.to_excel(\"df_equal.xlsx\", index = False)\n"
   ]
  },
  {
   "cell_type": "code",
   "execution_count": null,
   "metadata": {},
   "outputs": [],
   "source": [
    "category_id = \"0JQ5DAqbMKFPrEiAOxgac3\" # Classique\n",
    "\n",
    "filtered_df = df[df['category_id'] == category_id]\n",
    "playlist_ids = filtered_df['playlist_id'].tolist()\n",
    "\n",
    "df_classique = get_all_playlist_track_info(playlist_ids)\n",
    "\n",
    "df_classique.to_excel(\"df_classique.xlsx\", index = False)\n"
   ]
  },
  {
   "cell_type": "code",
   "execution_count": null,
   "metadata": {},
   "outputs": [],
   "source": [
    "category_id = \"0JQ5DAqbMKFy78wprEpAjl\" # Folk\n",
    "\n",
    "filtered_df = df[df['category_id'] == category_id]\n",
    "playlist_ids = filtered_df['playlist_id'].tolist()\n",
    "\n",
    "df_folk = get_all_playlist_track_info(playlist_ids)\n",
    "\n",
    "df_folk.to_excel(\"df_folk.xlsx\", index = False)\n"
   ]
  },
  {
   "cell_type": "code",
   "execution_count": null,
   "metadata": {},
   "outputs": [],
   "source": [
    "category_id = \"0JQ5DAqbMKFCbimwdOYlsl\" # Focus\n",
    "\n",
    "filtered_df = df[df['category_id'] == category_id]\n",
    "playlist_ids = filtered_df['playlist_id'].tolist()\n",
    "\n",
    "df_focus = get_all_playlist_track_info(playlist_ids)\n",
    "\n",
    "df_focus.to_excel(\"df_focus.xlsx\", index = False)\n"
   ]
  },
  {
   "cell_type": "code",
   "execution_count": null,
   "metadata": {},
   "outputs": [],
   "source": [
    "category_id = \"0JQ5DAqbMKFIpEuaCnimBj\" # Soul\n",
    "\n",
    "filtered_df = df[df['category_id'] == category_id]\n",
    "playlist_ids = filtered_df['playlist_id'].tolist()\n",
    "\n",
    "df_soul = get_all_playlist_track_info(playlist_ids)\n",
    "\n",
    "df_soul.to_excel(\"df_soul.xlsx\", index = False)\n"
   ]
  },
  {
   "cell_type": "code",
   "execution_count": null,
   "metadata": {},
   "outputs": [],
   "source": [
    "category_id = \"0JQ5DAqbMKFEOEBCABAxo9\" # Netflix\n",
    "\n",
    "filtered_df = df[df['category_id'] == category_id]\n",
    "playlist_ids = filtered_df['playlist_id'].tolist()\n",
    "\n",
    "df_netflix = get_all_playlist_track_info(playlist_ids)\n",
    "\n",
    "df_netflix.to_excel(\"df_netflix.xlsx\", index = False)\n"
   ]
  },
  {
   "cell_type": "code",
   "execution_count": null,
   "metadata": {},
   "outputs": [],
   "source": [
    "category_id = \"0JQ5DAqbMKFFoimhOqWzLB\" # Enfants\n",
    "\n",
    "filtered_df = df[df['category_id'] == category_id]\n",
    "playlist_ids = filtered_df['playlist_id'].tolist()\n",
    "\n",
    "df_enfants = get_all_playlist_track_info(playlist_ids)\n",
    "\n",
    "df_enfants.to_excel(\"df_enfants.xlsx\", index = False)\n"
   ]
  },
  {
   "cell_type": "code",
   "execution_count": null,
   "metadata": {},
   "outputs": [],
   "source": [
    "category_id = \"0JQ5DAqbMKFJw7QLnM27p6\" # Etudiants\n",
    "\n",
    "filtered_df = df[df['category_id'] == category_id]\n",
    "playlist_ids = filtered_df['playlist_id'].tolist()\n",
    "\n",
    "df_etudiants = get_all_playlist_track_info(playlist_ids)\n",
    "\n",
    "df_etudiants.to_excel(\"df_etudiants.xlsx\", index = False)\n"
   ]
  },
  {
   "cell_type": "code",
   "execution_count": null,
   "metadata": {},
   "outputs": [],
   "source": [
    "category_id = \"0JQ5DAqbMKFLb2EqgLtpjC\" # Bien-être\n",
    "\n",
    "filtered_df = df[df['category_id'] == category_id]\n",
    "playlist_ids = filtered_df['playlist_id'].tolist()\n",
    "\n",
    "df_bienetre = get_all_playlist_track_info(playlist_ids)\n",
    "\n",
    "df_bienetre.to_excel(\"df_bienetre.xlsx\", index = False)\n"
   ]
  },
  {
   "cell_type": "code",
   "execution_count": null,
   "metadata": {},
   "outputs": [],
   "source": [
    "category_id = \"0JQ5DAqbMKFAjfauKLOZiv\" # Punk\n",
    "\n",
    "filtered_df = df[df['category_id'] == category_id]\n",
    "playlist_ids = filtered_df['playlist_id'].tolist()\n",
    "\n",
    "df_punk = get_all_playlist_track_info(playlist_ids)\n",
    "\n",
    "df_punk.to_excel(\"df_punk.xlsx\", index = False)\n"
   ]
  },
  {
   "cell_type": "code",
   "execution_count": null,
   "metadata": {},
   "outputs": [],
   "source": [
    "category_id = \"0JQ5DAqbMKFLjmiZRss79w\" # Ambient\n",
    "\n",
    "filtered_df = df[df['category_id'] == category_id]\n",
    "playlist_ids = filtered_df['playlist_id'].tolist()\n",
    "\n",
    "df_ambient = get_all_playlist_track_info(playlist_ids)\n",
    "\n",
    "df_ambient.to_excel(\"df_ambient.xlsx\", index = False)\n"
   ]
  },
  {
   "cell_type": "code",
   "execution_count": null,
   "metadata": {},
   "outputs": [],
   "source": [
    "category_id = \"0JQ5DAqbMKFKLfwjuJMoNC\" # Country\n",
    "\n",
    "filtered_df = df[df['category_id'] == category_id]\n",
    "playlist_ids = filtered_df['playlist_id'].tolist()\n",
    "\n",
    "df_country = get_all_playlist_track_info(playlist_ids)\n",
    "\n",
    "df_country.to_excel(\"df_country.xlsx\", index = False)\n"
   ]
  },
  {
   "cell_type": "code",
   "execution_count": null,
   "metadata": {},
   "outputs": [],
   "source": [
    "category_id = \"0JQ5DAqbMKFQiK2EHwyjcU\" # Blues\n",
    "\n",
    "filtered_df = df[df['category_id'] == category_id]\n",
    "playlist_ids = filtered_df['playlist_id'].tolist()\n",
    "\n",
    "df_blues = get_all_playlist_track_info(playlist_ids)\n",
    "\n",
    "df_blues.to_excel(\"df_blues.xlsx\", index = False)\n"
   ]
  },
  {
   "cell_type": "code",
   "execution_count": null,
   "metadata": {},
   "outputs": [],
   "source": [
    "category_id = \"0JQ5DAqbMKFQ1UFISXj59F\" # Arabe\n",
    "\n",
    "filtered_df = df[df['category_id'] == category_id]\n",
    "playlist_ids = filtered_df['playlist_id'].tolist()\n",
    "\n",
    "df_arabe = get_all_playlist_track_info(playlist_ids)\n",
    "\n",
    "df_arabe.to_excel(\"df_arabe.xlsx\", index = False)\n"
   ]
  },
  {
   "cell_type": "code",
   "execution_count": null,
   "metadata": {},
   "outputs": [],
   "source": [
    "category_id = \"0JQ5DAqbMKFAQy4HL4XU2D\" # Voyage\n",
    "\n",
    "filtered_df = df[df['category_id'] == category_id]\n",
    "playlist_ids = filtered_df['playlist_id'].tolist()\n",
    "\n",
    "df_voyage = get_all_playlist_track_info(playlist_ids)\n",
    "\n",
    "df_voyage.to_excel(\"df_voyage.xlsx\", index = False)\n"
   ]
  },
  {
   "cell_type": "code",
   "execution_count": null,
   "metadata": {},
   "outputs": [],
   "source": [
    "category_id = \"0JQ5DAqbMKFF9bY76LXmfI\" # Frequency\n",
    "\n",
    "filtered_df = df[df['category_id'] == category_id]\n",
    "playlist_ids = filtered_df['playlist_id'].tolist()\n",
    "\n",
    "df_frequency = get_all_playlist_track_info(playlist_ids)\n",
    "\n",
    "df_frequency.to_excel(\"df_frequency.xlsx\", index = False)\n"
   ]
  }
 ],
 "metadata": {
  "kernelspec": {
   "display_name": "base",
   "language": "python",
   "name": "python3"
  },
  "language_info": {
   "codemirror_mode": {
    "name": "ipython",
    "version": 3
   },
   "file_extension": ".py",
   "mimetype": "text/x-python",
   "name": "python",
   "nbconvert_exporter": "python",
   "pygments_lexer": "ipython3",
   "version": "3.9.12"
  },
  "orig_nbformat": 4
 },
 "nbformat": 4,
 "nbformat_minor": 2
}
