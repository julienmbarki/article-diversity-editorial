{
 "cells": [
  {
   "cell_type": "markdown",
   "metadata": {},
   "source": [
    "# Data Requests "
   ]
  },
  {
   "cell_type": "markdown",
   "metadata": {},
   "source": [
    "## Setup"
   ]
  },
  {
   "cell_type": "code",
   "execution_count": 1,
   "metadata": {},
   "outputs": [],
   "source": [
    "# Import modules\n",
    "import time\n",
    "\n",
    "import pandas as pd\n",
    "\n",
    "import spotipy\n",
    "from spotipy.oauth2 import SpotifyClientCredentials\n",
    "\n",
    "from selenium import webdriver\n",
    "from selenium.webdriver.common.by import By\n",
    "from selenium.webdriver.common.action_chains import ActionChains\n",
    "from selenium.webdriver.common.keys import Keys\n"
   ]
  },
  {
   "cell_type": "code",
   "execution_count": 2,
   "metadata": {},
   "outputs": [],
   "source": [
    "# API connexion\n",
    "client_id = 'cec8979c027344f98b471a991aa415ad'\n",
    "client_secret = 'ad69bcba55b349f98c1344b006c708bd'\n",
    "\n",
    "client_credentials_manager = SpotifyClientCredentials(client_id, client_secret)\n",
    "sp = spotipy.Spotify(client_credentials_manager=client_credentials_manager)\n"
   ]
  },
  {
   "attachments": {},
   "cell_type": "markdown",
   "metadata": {},
   "source": [
    "## Get playlists infos "
   ]
  },
  {
   "cell_type": "code",
   "execution_count": null,
   "metadata": {},
   "outputs": [],
   "source": [
    "# API scrapping\n",
    "# Set category IDs\n",
    "category_ids = [\n",
    "    '0JQ5DAqbMKFNQ0fGp4byGU', '0JQ5DAqbMKFx0uLQR2okcc', '0JQ5DAqbMKFFtlLYUHv8bT', '0JQ5DAqbMKFzHmL4tf05da', '0JQ5DAqbMKFLjmiZRss79w',\n",
    "    '0JQ5DAqbMKFAUsdyVjCQuL', '0JQ5DAqbMKFziKOShCi009', '0JQ5DAqbMKFQ1UFISXj59F', '0JQ5DAqbMKFSCjnQr8QZ3O', '0JQ5DAqbMKFLb2EqgLtpjC', \n",
    "    '0JQ5DAqbMKFQiK2EHwyjcU', '0JQ5DAqbMKFObNLOHydSW8', '0JQ5DAqbMKFPrEiAOxgac3', '0JQ5DAqbMKFKLfwjuJMoNC', '0JQ5DAqbMKFRY5ok2pxXJ0', \n",
    "    '0JQ5DAqbMKFHOzuVTgTizF', '0JQ5DAqbMKFP9UNkavIGrM', '0JQ5DAqbMKFIVNxQgRNSg0', '0JQ5DAqbMKFFzDl7qN9Apr', '0JQ5DAqbMKFCuoRTxhYWow', \n",
    "    '0JQ5DAqbMKFFoimhOqWzLB', '0JQ5DAqbMKFIRybaNTYXXy', '0JQ5DAqbMKFPw634sFwguI', '0JQ5DAqbMKFJw7QLnM27p6', '0JQ5DAqbMKFCbimwdOYlsl', \n",
    "    '0JQ5DAqbMKFy78wprEpAjl', '0JQ5DAqbMKFF9bY76LXmfI', '0JQ5DAqbMKFImHYGo3eTSg', '0JQ5DAqbMKFFsW9N8maB6z', '0JQ5DAqbMKFCfObibaOZbv', \n",
    "    '0JQ5DAqbMKFGnsSfvg90Wo', '0JQ5DAqbMKFQ00XGBls6ym', '0JQ5DAqbMKFCWjUTdzaG0e', '0JQ5DAqbMKFRKBHIxJ5hMm', '0JQ5DAqbMKFAJ5xb0fwo9m', \n",
    "    '0JQ5DAqbMKFGvOw3O4nLAf', '0JQ5DAqbMKFxXaXKP7zcDp', '0JQ5DAqbMKFDkd668ypn6O', '0JQ5DAqbMKFRieVZLLoo9m', '0JQ5DAqbMKFI3pNLtYMD9S', \n",
    "    '0JQ5DAqbMKFEOEBCABAxo9', '0JQ5DAqbMKFEC4WFtoNRpw', '0JQ5DAqbMKFAjfauKLOZiv', '0JQ5DAqbMKFOOxftoKZxod', '0JQ5DAqbMKFJKoGyUMo2hE', \n",
    "    '0JQ5DAqbMKFEZPnFQSFB1T', '0JQ5DAqbMKFDXXwE9BDJAr', '0JQ5DAqbMKFA6SOHvT3gck', '0JQ5DAqbMKFIpEuaCnimBj', '0JQ5DAqbMKFAXlCG6QvYQ4', \n",
    "    '0JQ5DAqbMKFDBgllo2cUIN', '0JQ5DAqbMKFQIL0AXnG5AK', '0JQ5DAqbMKFOzQeOmemkuw', '0JQ5DAqbMKFBweu2euf3Sj', '0JQ5DAqbMKFAQy4HL4XU2D'\n",
    "]\n",
    "\n",
    "# Store missing categories\n",
    "missing_categories = []\n",
    "\n",
    "# Loop over all categories and get playlists\n",
    "playlists = []\n",
    "for category_id in category_ids:\n",
    "    try:\n",
    "        # Get first 50 playlists in category\n",
    "        response = sp.category_playlists(category_id, limit=50)\n",
    "        category_playlists = response[\"playlists\"][\"items\"]\n",
    "        \n",
    "        # Check if there are more playlists in category\n",
    "        while response[\"playlists\"][\"next\"]:\n",
    "            response = sp.next(response[\"playlists\"])\n",
    "            category_playlists += response[\"playlists\"][\"items\"]\n",
    "        \n",
    "        # Append category playlists to list\n",
    "        for playlist in category_playlists:\n",
    "            playlist_id = playlist[\"id\"]\n",
    "            playlist_name = playlist[\"name\"]\n",
    "            playlist_owner = playlist[\"owner\"][\"display_name\"]\n",
    "            playlists.append({\n",
    "                \"category_id\": category_id, \n",
    "                \"playlist_id\": playlist_id, \n",
    "                \"playlist_name\": playlist_name,\n",
    "                \"playlist_owner\": playlist_owner\n",
    "            })\n",
    "    except: \n",
    "        missing_categories.append(category_id)\n",
    "        print(f\"Category with ID {category_id} doesn't exist.\")\n",
    "\n",
    "# Create dataframe from playlists\n",
    "df_playlists = pd.DataFrame(playlists, columns=[\"category_id\", \"playlist_id\", \"playlist_name\", \"playlist_owner\"])\n",
    "\n",
    "print(df_playlists)\n"
   ]
  },
  {
   "cell_type": "code",
   "execution_count": null,
   "metadata": {},
   "outputs": [],
   "source": [
    "# HTML scraping for Charts playlists\n",
    "# URLs to scrape\n",
    "urls = [\n",
    "    'https://open.spotify.com/genre/section0JQ5DAzQHECxDlYNI6xD1h',\n",
    "    'https://open.spotify.com/genre/section0JQ5DAzQHECxDlYNI6xD1i',\n",
    "    'https://open.spotify.com/genre/section0JQ5DAzQHECxDlYNI6xD1j'\n",
    "]\n",
    "\n",
    "# Set up the web driver\n",
    "driver = webdriver.Safari(executable_path='/usr/bin/safaridriver')\n",
    "\n",
    "top_playlists = []\n",
    "\n",
    "for url in urls:\n",
    "    driver.get(url)\n",
    "    time.sleep(5)  # Wait for playlists to load\n",
    "\n",
    "    # Find playlist elements by class name\n",
    "    playlists = driver.find_elements(By.CLASS_NAME, 'Box__BoxComponent-sc-y4nds-0')\n",
    "    last_playlist = playlists[-1]\n",
    "\n",
    "    # Scroll to load all playlists\n",
    "    while True:\n",
    "        driver.execute_script(\"arguments[0].scrollIntoView();\", last_playlist)\n",
    "        time.sleep(2)\n",
    "        new_playlists = driver.find_elements(By.CLASS_NAME, 'Box__BoxComponent-sc-y4nds-0')\n",
    "        if new_playlists[-1] != last_playlist:\n",
    "            last_playlist = new_playlists[-1]\n",
    "            playlists = new_playlists\n",
    "        else:\n",
    "            break\n",
    "\n",
    "    # Extract playlist information\n",
    "    for playlist in playlists:\n",
    "        # Get aria-labelledby attribute\n",
    "        aria_label = playlist.get_attribute('aria-labelledby')\n",
    "        \n",
    "        # Extract playlist ID from aria-labelledby\n",
    "        if aria_label and \"spotify:playlist:\" in aria_label:\n",
    "            playlist_id = aria_label.split(\"spotify:playlist:\")[1].split()[0]\n",
    "            top_playlists.append({\n",
    "                \"category_id\": '0JQ5DAudkNjCgYMM0TZXDw', \n",
    "                \"playlist_id\": playlist_id, \n",
    "                \"playlist_owner\": 'Spotify'\n",
    "            })\n",
    "\n",
    "# Quit the driver\n",
    "driver.quit()\n",
    "\n",
    "# Convert data to DataFrame and print\n",
    "df_top_playlists = pd.DataFrame(top_playlists, columns=[\"category_id\", \"playlist_id\", \"playlist_owner\"])\n",
    "print(df_top_playlists)\n"
   ]
  },
  {
   "cell_type": "code",
   "execution_count": null,
   "metadata": {},
   "outputs": [],
   "source": [
    "# Parse playlists info into excel\n",
    "# Combine the manual and API playlists into one DataFrame\n",
    "df_combined = pd.concat([df_playlists, df_top_playlists], ignore_index=True)\n",
    "df_combined.to_excel(\"playlists_info.xlsx\", index=False)\n",
    "\n",
    "# Drop duplicates based on the \"playlist_id\" column, keeping the first occurrence\n",
    "df_cleaned = df_combined.drop_duplicates(subset='playlist_id', keep='first')\n",
    "df_cleaned.to_excel(\"playlists_info_clean.xlsx\", index=False)\n"
   ]
  },
  {
   "attachments": {},
   "cell_type": "markdown",
   "metadata": {},
   "source": [
    "## Get tracks info"
   ]
  },
  {
   "cell_type": "markdown",
   "metadata": {},
   "source": [
    "### Setup"
   ]
  },
  {
   "cell_type": "code",
   "execution_count": 3,
   "metadata": {},
   "outputs": [],
   "source": [
    "# Load data\n",
    "df = pd.read_excel('playlists_info_clean.xlsx')\n",
    "\n",
    "# Remove playlists with \"This is\" and \"Written By\" in the name\n",
    "df = df[~df['playlist_name'].str.contains('This Is', na=False)]\n",
    "df = df[~df['playlist_name'].str.contains('Written By', na=False)]\n"
   ]
  },
  {
   "cell_type": "code",
   "execution_count": 4,
   "metadata": {},
   "outputs": [],
   "source": [
    "# Define scraping functions\n",
    "# Define a function to get all the tracks in a playlist, handling the API limit\n",
    "def get_all_playlist_tracks(playlist_id):\n",
    "    results = sp.playlist_tracks(playlist_id)\n",
    "    tracks = results['items']\n",
    "    while results['next']:\n",
    "        results = sp.next(results)\n",
    "        tracks.extend(results['items'])\n",
    "    return tracks\n",
    "\n",
    "# Define a function to get all the audio features for a set of tracks, handling the API limit\n",
    "def get_all_audio_features(track_ids):\n",
    "    audio_features = []\n",
    "    for i in range(0, len(track_ids), 100):\n",
    "        batch = track_ids[i:i+100]\n",
    "        try:\n",
    "            features = sp.audio_features(batch)\n",
    "        except:\n",
    "            continue\n",
    "        audio_features.extend(features)\n",
    "    return audio_features\n",
    "\n",
    "def get_playlist_track_info(playlist_id):\n",
    "    # Get the playlist info\n",
    "    playlist_info = sp.playlist(playlist_id)\n",
    "    if not playlist_info:\n",
    "        return None\n",
    "    \n",
    "    playlist_name = playlist_info['name']\n",
    "    playlist_followers = playlist_info['followers']['total']\n",
    "    playlist_owner = playlist_info['owner']['display_name']\n",
    "    \n",
    "    # Get all the tracks in the playlist\n",
    "    playlist_tracks = get_all_playlist_tracks(playlist_id)\n",
    "    track_ids = [track['track']['id'] for track in playlist_tracks if track['track'] is not None]\n",
    "    \n",
    "    if not track_ids:\n",
    "        return None\n",
    "    \n",
    "    # Get the track info in batches of 50\n",
    "    track_info = []\n",
    "    for i in range(0, len(track_ids), 50):\n",
    "        batch_tracks = track_ids[i:i+50]\n",
    "        tracks = sp.tracks(batch_tracks)['tracks']\n",
    "        track_info.extend(tracks)\n",
    "\n",
    "    if track_info is not None:\n",
    "        track_names = [track['name'] for track in track_info]\n",
    "        track_popularities = [track['popularity'] for track in track_info]\n",
    "        track_release_dates = [track['album']['release_date'] for track in track_info]\n",
    "        artist_ids = [track['artists'][0]['id'] for track in track_info]\n",
    "        \n",
    "        artist_info = []\n",
    "        for i in range(0, len(artist_ids), 50):\n",
    "            batch_artists = artist_ids[i:i+50]\n",
    "            artists = sp.artists(batch_artists)['artists']\n",
    "            artist_info.extend(artists)\n",
    "        \n",
    "        artist_names = [artist['name'] for artist in artist_info]\n",
    "        artist_popularities = [artist['popularity'] for artist in artist_info]\n",
    "\n",
    "        # Combine everything into a DataFrame\n",
    "        playlist_df = pd.DataFrame({\n",
    "            'playlist_name': playlist_name,\n",
    "            'playlist_followers': playlist_followers,\n",
    "            'playlist_owner': playlist_owner,\n",
    "            'track_name': track_names,\n",
    "            'track__popularity': track_popularities,\n",
    "            'track_release_date': track_release_dates,\n",
    "            'artist_name': artist_names,\n",
    "            'artist_popularity': artist_popularities\n",
    "        })\n",
    "    else:\n",
    "        return None\n",
    "\n",
    "    # Get the audio features\n",
    "    audio_features = get_all_audio_features(track_ids)\n",
    "    if audio_features is None:\n",
    "        return None\n",
    "    \n",
    "    # Add the audio features to the DataFrame\n",
    "    try:\n",
    "        audio_features_df = pd.DataFrame(audio_features)\n",
    "        playlist_df = pd.concat([playlist_df, audio_features_df], axis=1)\n",
    "    except:\n",
    "        return None\n",
    "    \n",
    "    return playlist_df\n",
    "\n",
    "# Define a function to loop over all the playlists and combine the results\n",
    "def get_all_playlist_track_info(playlist_ids):\n",
    "    playlist_dfs = []\n",
    "    for playlist_id in playlist_ids:\n",
    "        print(f\"Processing playlist: {playlist_id}\")\n",
    "        playlist_df = get_playlist_track_info(playlist_id)\n",
    "        if playlist_df is not None:\n",
    "            playlist_dfs.append(playlist_df)\n",
    "    all_playlist_df = pd.concat(playlist_dfs, ignore_index=True)\n",
    "    return all_playlist_df\n"
   ]
  },
  {
   "attachments": {},
   "cell_type": "markdown",
   "metadata": {},
   "source": [
    "### Scrape the data for each category"
   ]
  },
  {
   "cell_type": "code",
   "execution_count": null,
   "metadata": {},
   "outputs": [],
   "source": [
    "# Tops\n",
    "category_id = \"0JQ5DAudkNjCgYMM0TZXDw\"\n",
    "\n",
    "filtered_df = df[df['category_id'] == category_id]\n",
    "playlist_ids = filtered_df['playlist_id'].tolist()\n",
    "\n",
    "df_tops = get_all_playlist_track_info(playlist_ids)\n",
    "df_tops.to_excel(\"df_tops.xlsx\", index = False)\n"
   ]
  },
  {
   "cell_type": "code",
   "execution_count": null,
   "metadata": {},
   "outputs": [],
   "source": [
    "# Afro\n",
    "category_id = \"0JQ5DAqbMKFNQ0fGp4byGU\"\n",
    "\n",
    "filtered_df = df[df['category_id'] == category_id]\n",
    "playlist_ids = filtered_df['playlist_id'].tolist()\n",
    "\n",
    "df_pop = get_all_playlist_track_info(playlist_ids)\n",
    "df_pop.to_excel(\"df_afro.xlsx\", index = False)\n"
   ]
  },
  {
   "cell_type": "code",
   "execution_count": null,
   "metadata": {},
   "outputs": [],
   "source": [
    "# A la Maison\n",
    "category_id = \"0JQ5DAqbMKFx0uLQR2okcc\"\n",
    "\n",
    "filtered_df = df[df['category_id'] == category_id]\n",
    "playlist_ids = filtered_df['playlist_id'].tolist()\n",
    "\n",
    "df_maison = get_all_playlist_track_info(playlist_ids)\n",
    "df_maison.to_excel(\"df_maison.xlsx\", index = False)\n"
   ]
  },
  {
   "cell_type": "code",
   "execution_count": null,
   "metadata": {},
   "outputs": [],
   "source": [
    "# Alternative\n",
    "category_id = \"0JQ5DAqbMKFFtlLYUHv8bT\"\n",
    "\n",
    "filtered_df = df[df['category_id'] == category_id]\n",
    "playlist_ids = filtered_df['playlist_id'].tolist()\n",
    "\n",
    "df_alternative = get_all_playlist_track_info(playlist_ids)\n",
    "df_alternative.to_excel(\"df_alternative.xlsx\", index = False)\n"
   ]
  },
  {
   "cell_type": "code",
   "execution_count": null,
   "metadata": {},
   "outputs": [],
   "source": [
    "# Ambiance\n",
    "category_id = \"0JQ5DAqbMKFzHmL4tf05da\"\n",
    "\n",
    "filtered_df = df[df['category_id'] == category_id]\n",
    "playlist_ids = filtered_df['playlist_id'].tolist()\n",
    "\n",
    "df_ambiance = get_all_playlist_track_info(playlist_ids)\n",
    "df_ambiance.to_excel(\"df_ambiance.xlsx\", index = False)\n"
   ]
  },
  {
   "cell_type": "code",
   "execution_count": null,
   "metadata": {},
   "outputs": [],
   "source": [
    "# Ambient\n",
    "category_id = \"0JQ5DAqbMKFLjmiZRss79w\"\n",
    "\n",
    "filtered_df = df[df['category_id'] == category_id]\n",
    "playlist_ids = filtered_df['playlist_id'].tolist()\n",
    "\n",
    "df_ambient = get_all_playlist_track_info(playlist_ids)\n",
    "df_ambient.to_excel(\"df_ambient.xlsx\", index = False)\n"
   ]
  },
  {
   "cell_type": "code",
   "execution_count": null,
   "metadata": {},
   "outputs": [],
   "source": [
    "# Amour\n",
    "category_id = \"0JQ5DAqbMKFAUsdyVjCQuL\"\n",
    "\n",
    "filtered_df = df[df['category_id'] == category_id]\n",
    "playlist_ids = filtered_df['playlist_id'].tolist()\n",
    "\n",
    "df_amour = get_all_playlist_track_info(playlist_ids)\n",
    "df_amour.to_excel(\"df_amour.xlsx\", index = False)\n"
   ]
  },
  {
   "cell_type": "code",
   "execution_count": null,
   "metadata": {},
   "outputs": [],
   "source": [
    "# Anime\n",
    "category_id = \"0JQ5DAqbMKFziKOShCi009\"\n",
    "\n",
    "filtered_df = df[df['category_id'] == category_id]\n",
    "playlist_ids = filtered_df['playlist_id'].tolist()\n",
    "\n",
    "df_anime = get_all_playlist_track_info(playlist_ids)\n",
    "df_anime.to_excel(\"df_anime.xlsx\", index = False)\n"
   ]
  },
  {
   "cell_type": "code",
   "execution_count": null,
   "metadata": {},
   "outputs": [],
   "source": [
    "# Arabe\n",
    "category_id = \"0JQ5DAqbMKFQ1UFISXj59F\"\n",
    "\n",
    "filtered_df = df[df['category_id'] == category_id]\n",
    "playlist_ids = filtered_df['playlist_id'].tolist()\n",
    "\n",
    "df_arabe = get_all_playlist_track_info(playlist_ids)\n",
    "df_arabe.to_excel(\"df_arabe.xlsx\", index = False)\n"
   ]
  },
  {
   "cell_type": "code",
   "execution_count": null,
   "metadata": {},
   "outputs": [],
   "source": [
    "# Bien etre\n",
    "category_id = \"0JQ5DAqbMKFLb2EqgLtpjC\"\n",
    "\n",
    "filtered_df = df[df['category_id'] == category_id]\n",
    "playlist_ids = filtered_df['playlist_id'].tolist()\n",
    "\n",
    "df_bienetre = get_all_playlist_track_info(playlist_ids)\n",
    "df_bienetre.to_excel(\"df_bienetre.xlsx\", index = False)\n"
   ]
  },
  {
   "cell_type": "code",
   "execution_count": null,
   "metadata": {},
   "outputs": [],
   "source": [
    "# Blues\n",
    "category_id = \"0JQ5DAqbMKFQiK2EHwyjcU\"\n",
    "\n",
    "filtered_df = df[df['category_id'] == category_id]\n",
    "playlist_ids = filtered_df['playlist_id'].tolist()\n",
    "\n",
    "df_blues = get_all_playlist_track_info(playlist_ids)\n",
    "df_blues.to_excel(\"df_blues.xlsx\", index = False)\n"
   ]
  },
  {
   "cell_type": "code",
   "execution_count": null,
   "metadata": {},
   "outputs": [],
   "source": [
    "# Caraibes\n",
    "category_id = \"0JQ5DAqbMKFObNLOHydSW8\"\n",
    "\n",
    "filtered_df = df[df['category_id'] == category_id]\n",
    "playlist_ids = filtered_df['playlist_id'].tolist()\n",
    "\n",
    "df_caraibes = get_all_playlist_track_info(playlist_ids)\n",
    "df_caraibes.to_excel(\"df_caraibes.xlsx\", index = False)\n"
   ]
  },
  {
   "cell_type": "code",
   "execution_count": null,
   "metadata": {},
   "outputs": [],
   "source": [
    "# Classique\n",
    "category_id = \"0JQ5DAqbMKFPrEiAOxgac3\"\n",
    "\n",
    "filtered_df = df[df['category_id'] == category_id]\n",
    "playlist_ids = filtered_df['playlist_id'].tolist()\n",
    "\n",
    "df_classique = get_all_playlist_track_info(playlist_ids)\n",
    "df_classique.to_excel(\"df_classique.xlsx\", index = False)\n"
   ]
  },
  {
   "cell_type": "code",
   "execution_count": null,
   "metadata": {},
   "outputs": [],
   "source": [
    "# Country\n",
    "category_id = \"0JQ5DAqbMKFKLfwjuJMoNC\"\n",
    "\n",
    "filtered_df = df[df['category_id'] == category_id]\n",
    "playlist_ids = filtered_df['playlist_id'].tolist()\n",
    "\n",
    "df_country = get_all_playlist_track_info(playlist_ids)\n",
    "df_country.to_excel(\"df_country.xlsx\", index = False)\n"
   ]
  },
  {
   "cell_type": "code",
   "execution_count": null,
   "metadata": {},
   "outputs": [],
   "source": [
    "# Cuisine\n",
    "category_id = \"0JQ5DAqbMKFRY5ok2pxXJ0\"\n",
    "\n",
    "filtered_df = df[df['category_id'] == category_id]\n",
    "playlist_ids = filtered_df['playlist_id'].tolist()\n",
    "\n",
    "df_cuisine = get_all_playlist_track_info(playlist_ids)\n",
    "df_cuisine.to_excel(\"df_cuisine.xlsx\", index = False)\n"
   ]
  },
  {
   "cell_type": "code",
   "execution_count": null,
   "metadata": {},
   "outputs": [],
   "source": [
    "# Dance\n",
    "category_id = \"0JQ5DAqbMKFHOzuVTgTizF\"\n",
    "\n",
    "filtered_df = df[df['category_id'] == category_id]\n",
    "playlist_ids = filtered_df['playlist_id'].tolist()\n",
    "\n",
    "df_dance = get_all_playlist_track_info(playlist_ids)\n",
    "df_dance.to_excel(\"df_dance.xlsx\", index = False)\n"
   ]
  },
  {
   "cell_type": "code",
   "execution_count": null,
   "metadata": {},
   "outputs": [],
   "source": [
    "# Dancehall\n",
    "category_id = \"0JQ5DAqbMKFP9UNkavIGrM\"\n",
    "\n",
    "filtered_df = df[df['category_id'] == category_id]\n",
    "playlist_ids = filtered_df['playlist_id'].tolist()\n",
    "\n",
    "df_dancehall = get_all_playlist_track_info(playlist_ids)\n",
    "df_dancehall.to_excel(\"df_dancehall.xlsx\", index = False)\n"
   ]
  },
  {
   "cell_type": "code",
   "execution_count": null,
   "metadata": {},
   "outputs": [],
   "source": [
    "# Decennies\n",
    "category_id = \"0JQ5DAqbMKFIVNxQgRNSg0\"\n",
    "\n",
    "filtered_df = df[df['category_id'] == category_id]\n",
    "playlist_ids = filtered_df['playlist_id'].tolist()\n",
    "\n",
    "df_decennies = get_all_playlist_track_info(playlist_ids)\n",
    "df_decennies.to_excel(\"df_decennies.xlsx\", index = False)\n"
   ]
  },
  {
   "cell_type": "code",
   "execution_count": null,
   "metadata": {},
   "outputs": [],
   "source": [
    "# Detente\n",
    "category_id = \"0JQ5DAqbMKFFzDl7qN9Apr\"\n",
    "\n",
    "filtered_df = df[df['category_id'] == category_id]\n",
    "playlist_ids = filtered_df['playlist_id'].tolist()\n",
    "\n",
    "df_detente = get_all_playlist_track_info(playlist_ids)\n",
    "df_detente.to_excel(\"df_detente.xlsx\", index = False)\n"
   ]
  },
  {
   "cell_type": "code",
   "execution_count": null,
   "metadata": {},
   "outputs": [],
   "source": [
    "# Dormir\n",
    "category_id = \"0JQ5DAqbMKFCuoRTxhYWow\"\n",
    "\n",
    "filtered_df = df[df['category_id'] == category_id]\n",
    "playlist_ids = filtered_df['playlist_id'].tolist()\n",
    "\n",
    "df_dormir = get_all_playlist_track_info(playlist_ids)\n",
    "df_dormir.to_excel(\"df_dormir.xlsx\", index = False)\n"
   ]
  },
  {
   "cell_type": "code",
   "execution_count": null,
   "metadata": {},
   "outputs": [],
   "source": [
    "# Enfants\n",
    "category_id = \"0JQ5DAqbMKFFoimhOqWzLB\"\n",
    "\n",
    "filtered_df = df[df['category_id'] == category_id]\n",
    "playlist_ids = filtered_df['playlist_id'].tolist()\n",
    "\n",
    "df_enfants = get_all_playlist_track_info(playlist_ids)\n",
    "df_enfants.to_excel(\"df_enfants.xlsx\", index = False)\n"
   ]
  },
  {
   "cell_type": "code",
   "execution_count": null,
   "metadata": {},
   "outputs": [],
   "source": [
    "# En voiture\n",
    "category_id = \"0JQ5DAqbMKFIRybaNTYXXy\" \n",
    "\n",
    "filtered_df = df[df['category_id'] == category_id]\n",
    "playlist_ids = filtered_df['playlist_id'].tolist()\n",
    "\n",
    "df_voiture = get_all_playlist_track_info(playlist_ids)\n",
    "df_voiture.to_excel(\"df_voiture.xlsx\", index = False)\n"
   ]
  },
  {
   "cell_type": "code",
   "execution_count": null,
   "metadata": {},
   "outputs": [],
   "source": [
    "# Equal\n",
    "category_id = \"0JQ5DAqbMKFPw634sFwguI\"\n",
    "\n",
    "filtered_df = df[df['category_id'] == category_id]\n",
    "playlist_ids = filtered_df['playlist_id'].tolist()\n",
    "\n",
    "df_equal = get_all_playlist_track_info(playlist_ids)\n",
    "df_equal.to_excel(\"df_equal.xlsx\", index = False)\n"
   ]
  },
  {
   "cell_type": "code",
   "execution_count": null,
   "metadata": {},
   "outputs": [],
   "source": [
    "# Etudiants\n",
    "category_id = \"0JQ5DAqbMKFJw7QLnM27p6\"\n",
    "\n",
    "filtered_df = df[df['category_id'] == category_id]\n",
    "playlist_ids = filtered_df['playlist_id'].tolist()\n",
    "\n",
    "df_etudiants = get_all_playlist_track_info(playlist_ids)\n",
    "df_etudiants.to_excel(\"df_etudiants.xlsx\", index = False)\n"
   ]
  },
  {
   "cell_type": "code",
   "execution_count": null,
   "metadata": {},
   "outputs": [],
   "source": [
    "# Focus\n",
    "category_id = \"0JQ5DAqbMKFCbimwdOYlsl\"\n",
    "\n",
    "filtered_df = df[df['category_id'] == category_id]\n",
    "playlist_ids = filtered_df['playlist_id'].tolist()\n",
    "\n",
    "df_focus = get_all_playlist_track_info(playlist_ids)\n",
    "df_focus.to_excel(\"df_focus.xlsx\", index = False)\n"
   ]
  },
  {
   "cell_type": "code",
   "execution_count": null,
   "metadata": {},
   "outputs": [],
   "source": [
    "# Folk\n",
    "category_id = \"0JQ5DAqbMKFy78wprEpAjl\"\n",
    "\n",
    "filtered_df = df[df['category_id'] == category_id]\n",
    "playlist_ids = filtered_df['playlist_id'].tolist()\n",
    "\n",
    "df_folk = get_all_playlist_track_info(playlist_ids)\n",
    "df_folk.to_excel(\"df_folk.xlsx\", index = False)\n"
   ]
  },
  {
   "cell_type": "code",
   "execution_count": null,
   "metadata": {},
   "outputs": [],
   "source": [
    "# Frequency\n",
    "category_id = \"0JQ5DAqbMKFF9bY76LXmfI\"\n",
    "\n",
    "filtered_df = df[df['category_id'] == category_id]\n",
    "playlist_ids = filtered_df['playlist_id'].tolist()\n",
    "\n",
    "df_frequency = get_all_playlist_track_info(playlist_ids)\n",
    "df_frequency.to_excel(\"df_frequency.xlsx\", index = False)\n"
   ]
  },
  {
   "cell_type": "code",
   "execution_count": null,
   "metadata": {},
   "outputs": [],
   "source": [
    "# Fresh Finds\n",
    "category_id = \"0JQ5DAqbMKFImHYGo3eTSg\"\n",
    "\n",
    "filtered_df = df[df['category_id'] == category_id]\n",
    "playlist_ids = filtered_df['playlist_id'].tolist()\n",
    "\n",
    "df_freshfinds = get_all_playlist_track_info(playlist_ids)\n",
    "df_freshfinds.to_excel(\"df_freshfinds.xlsx\", index = False)\n"
   ]
  },
  {
   "cell_type": "code",
   "execution_count": null,
   "metadata": {},
   "outputs": [],
   "source": [
    "# Funk\n",
    "category_id = \"0JQ5DAqbMKFFsW9N8maB6z\"\n",
    "\n",
    "filtered_df = df[df['category_id'] == category_id]\n",
    "playlist_ids = filtered_df['playlist_id'].tolist()\n",
    "\n",
    "df_funk = get_all_playlist_track_info(playlist_ids)\n",
    "df_funk.to_excel(\"df_funk.xlsx\", index = False)\n"
   ]
  },
  {
   "cell_type": "code",
   "execution_count": null,
   "metadata": {},
   "outputs": [],
   "source": [
    "# Gaming\n",
    "category_id = \"0JQ5DAqbMKFCfObibaOZbv\"\n",
    "\n",
    "filtered_df = df[df['category_id'] == category_id]\n",
    "playlist_ids = filtered_df['playlist_id'].tolist()\n",
    "\n",
    "df_gaming = get_all_playlist_track_info(playlist_ids)\n",
    "df_gaming.to_excel(\"df_gaming.xlsx\", index = False)\n"
   ]
  },
  {
   "cell_type": "code",
   "execution_count": null,
   "metadata": {},
   "outputs": [],
   "source": [
    "# Glow\n",
    "category_id = \"0JQ5DAqbMKFGnsSfvg90Wo\"\n",
    "\n",
    "filtered_df = df[df['category_id'] == category_id]\n",
    "playlist_ids = filtered_df['playlist_id'].tolist()\n",
    "\n",
    "df_glow = get_all_playlist_track_info(playlist_ids)\n",
    "df_glow.to_excel(\"df_glow.xlsx\", index = False)\n"
   ]
  },
  {
   "cell_type": "code",
   "execution_count": null,
   "metadata": {},
   "outputs": [],
   "source": [
    "# Hip-Hop\n",
    "category_id = \"0JQ5DAqbMKFQ00XGBls6ym\"\n",
    "\n",
    "filtered_df = df[df['category_id'] == category_id]\n",
    "playlist_ids = filtered_df['playlist_id'].tolist()\n",
    "\n",
    "df_hiphop = get_all_playlist_track_info(playlist_ids)\n",
    "df_hiphop.to_excel(\"df_hiphop.xlsx\", index = False)\n"
   ]
  },
  {
   "cell_type": "code",
   "execution_count": null,
   "metadata": {},
   "outputs": [],
   "source": [
    "# Indie\n",
    "category_id = \"0JQ5DAqbMKFCWjUTdzaG0e\"\n",
    "\n",
    "filtered_df = df[df['category_id'] == category_id]\n",
    "playlist_ids = filtered_df['playlist_id'].tolist()\n",
    "\n",
    "df_indie = get_all_playlist_track_info(playlist_ids)\n",
    "df_indie.to_excel(\"df_indie.xlsx\", index = False)\n"
   ]
  },
  {
   "cell_type": "code",
   "execution_count": null,
   "metadata": {},
   "outputs": [],
   "source": [
    "# Influenceurs\n",
    "category_id = \"0JQ5DAqbMKFRKBHIxJ5hMm\"\n",
    "\n",
    "filtered_df = df[df['category_id'] == category_id]\n",
    "playlist_ids = filtered_df['playlist_id'].tolist()\n",
    "\n",
    "df_influenceurs = get_all_playlist_track_info(playlist_ids)\n",
    "df_influenceurs.to_excel(\"df_influenceurs.xlsx\", index = False)\n"
   ]
  },
  {
   "cell_type": "code",
   "execution_count": null,
   "metadata": {},
   "outputs": [],
   "source": [
    "# Jazz\n",
    "category_id = \"0JQ5DAqbMKFAJ5xb0fwo9m\"\n",
    "\n",
    "filtered_df = df[df['category_id'] == category_id]\n",
    "playlist_ids = filtered_df['playlist_id'].tolist()\n",
    "\n",
    "df_jazz = get_all_playlist_track_info(playlist_ids)\n",
    "df_jazz.to_excel(\"df_jazz.xlsx\", index = False)\n"
   ]
  },
  {
   "cell_type": "code",
   "execution_count": null,
   "metadata": {},
   "outputs": [],
   "source": [
    "# K-pop\n",
    "category_id = \"0JQ5DAqbMKFGvOw3O4nLAf\"\n",
    "\n",
    "filtered_df = df[df['category_id'] == category_id]\n",
    "playlist_ids = filtered_df['playlist_id'].tolist()\n",
    "\n",
    "df_kpop = get_all_playlist_track_info(playlist_ids)\n",
    "df_kpop.to_excel(\"df_kpop.xlsx\", index = False)\n"
   ]
  },
  {
   "cell_type": "code",
   "execution_count": null,
   "metadata": {},
   "outputs": [],
   "source": [
    "# Latino\n",
    "category_id = \"0JQ5DAqbMKFxXaXKP7zcDp\"\n",
    "\n",
    "filtered_df = df[df['category_id'] == category_id]\n",
    "playlist_ids = filtered_df['playlist_id'].tolist()\n",
    "\n",
    "df_latino = get_all_playlist_track_info(playlist_ids)\n",
    "df_latino.to_excel(\"df_latino.xlsx\", index = False)\n"
   ]
  },
  {
   "cell_type": "code",
   "execution_count": null,
   "metadata": {},
   "outputs": [],
   "source": [
    "# Metal\n",
    "category_id = \"0JQ5DAqbMKFDkd668ypn6O\"\n",
    "\n",
    "filtered_df = df[df['category_id'] == category_id]\n",
    "playlist_ids = filtered_df['playlist_id'].tolist()\n",
    "\n",
    "df_metal = get_all_playlist_track_info(playlist_ids)\n",
    "df_metal.to_excel(\"df_metal.xlsx\", index = False)\n"
   ]
  },
  {
   "cell_type": "code",
   "execution_count": null,
   "metadata": {},
   "outputs": [],
   "source": [
    "# Music instrumentale\n",
    "category_id = \"0JQ5DAqbMKFRieVZLLoo9m\" \n",
    "\n",
    "filtered_df = df[df['category_id'] == category_id]\n",
    "playlist_ids = filtered_df['playlist_id'].tolist()\n",
    "\n",
    "df_instrumental = get_all_playlist_track_info(playlist_ids)\n",
    "df_instrumental.to_excel(\"df_instrumental.xlsx\", index = False)\n"
   ]
  },
  {
   "cell_type": "code",
   "execution_count": null,
   "metadata": {},
   "outputs": [],
   "source": [
    "# Nature et bruits\n",
    "category_id = \"0JQ5DAqbMKFI3pNLtYMD9S\"\n",
    "\n",
    "filtered_df = df[df['category_id'] == category_id]\n",
    "playlist_ids = filtered_df['playlist_id'].tolist()\n",
    "\n",
    "df_nature = get_all_playlist_track_info(playlist_ids)\n",
    "df_nature.to_excel(\"df_nature.xlsx\", index = False)\n"
   ]
  },
  {
   "cell_type": "code",
   "execution_count": null,
   "metadata": {},
   "outputs": [],
   "source": [
    "# Netflix\n",
    "category_id = \"0JQ5DAqbMKFEOEBCABAxo9\"\n",
    "\n",
    "filtered_df = df[df['category_id'] == category_id]\n",
    "playlist_ids = filtered_df['playlist_id'].tolist()\n",
    "\n",
    "df_netflix = get_all_playlist_track_info(playlist_ids)\n",
    "df_netflix.to_excel(\"df_netflix.xlsx\", index = False)\n"
   ]
  },
  {
   "cell_type": "code",
   "execution_count": null,
   "metadata": {},
   "outputs": [],
   "source": [
    "# Pop\n",
    "category_id = \"0JQ5DAqbMKFEC4WFtoNRpw\"\n",
    "\n",
    "filtered_df = df[df['category_id'] == category_id]\n",
    "playlist_ids = filtered_df['playlist_id'].tolist()\n",
    "\n",
    "df_pop = get_all_playlist_track_info(playlist_ids)\n",
    "df_pop.to_excel(\"df_pop.xlsx\", index = False)\n"
   ]
  },
  {
   "cell_type": "code",
   "execution_count": null,
   "metadata": {},
   "outputs": [],
   "source": [
    "# Punk\n",
    "category_id = \"0JQ5DAqbMKFAjfauKLOZiv\"\n",
    "\n",
    "filtered_df = df[df['category_id'] == category_id]\n",
    "playlist_ids = filtered_df['playlist_id'].tolist()\n",
    "\n",
    "df_punk = get_all_playlist_track_info(playlist_ids)\n",
    "df_punk.to_excel(\"df_punk.xlsx\", index = False)\n"
   ]
  },
  {
   "cell_type": "code",
   "execution_count": 5,
   "metadata": {},
   "outputs": [
    {
     "name": "stdout",
     "output_type": "stream",
     "text": [
      "Processing playlist: 37i9dQZF1DWTU63finroJM\n",
      "Processing playlist: 37i9dQZF1DWY0DyDKedRYY\n",
      "Processing playlist: 37i9dQZF1DWYc8Z858eGwP\n",
      "Processing playlist: 37i9dQZF1DX5WmphwNfZfk\n",
      "Processing playlist: 37i9dQZF1DWV7gN1qBoBYg\n",
      "Processing playlist: 37i9dQZF1DX9IALXsyt8zk\n",
      "Processing playlist: 37i9dQZF1DWVp4cWdnm5ws\n",
      "Processing playlist: 37i9dQZF1DWTVE8ZCcLQ5Q\n",
      "Processing playlist: 37i9dQZF1DX0dUsjwqfaGM\n",
      "Processing playlist: 37i9dQZF1DX2P3E6UOxZyt\n",
      "Processing playlist: 37i9dQZF1DX4OR8pnFkwhR\n"
     ]
    }
   ],
   "source": [
    "# Radar\n",
    "category_id = \"0JQ5DAqbMKFOOxftoKZxod\"\n",
    "\n",
    "filtered_df = df[df['category_id'] == category_id]\n",
    "playlist_ids = filtered_df['playlist_id'].tolist()\n",
    "\n",
    "df_radar = get_all_playlist_track_info(playlist_ids)\n",
    "df_radar.to_excel(\"df_radar.xlsx\", index = False)\n"
   ]
  },
  {
   "cell_type": "code",
   "execution_count": 6,
   "metadata": {},
   "outputs": [
    {
     "name": "stdout",
     "output_type": "stream",
     "text": [
      "Processing playlist: 37i9dQZF1DX2oc5aN4UDfD\n",
      "Processing playlist: 37i9dQZF1DXa8n42306eJB\n",
      "Processing playlist: 37i9dQZF1DXbwoaqxaoAVr\n",
      "Processing playlist: 37i9dQZF1DX3fXJqxGjuEP\n",
      "Processing playlist: 37i9dQZF1DX8cLSL1n19DR\n"
     ]
    }
   ],
   "source": [
    "# Reggae\n",
    "category_id = \"0JQ5DAqbMKFJKoGyUMo2hE\"\n",
    "\n",
    "filtered_df = df[df['category_id'] == category_id]\n",
    "playlist_ids = filtered_df['playlist_id'].tolist()\n",
    "\n",
    "df_reggae = get_all_playlist_track_info(playlist_ids)\n",
    "df_reggae.to_excel(\"df_reggae.xlsx\", index = False)\n"
   ]
  },
  {
   "cell_type": "code",
   "execution_count": 7,
   "metadata": {},
   "outputs": [
    {
     "name": "stdout",
     "output_type": "stream",
     "text": [
      "Processing playlist: 37i9dQZF1DX2LoIIQLAhdb\n",
      "Processing playlist: 37i9dQZF1DX9UuQbl12Nmb\n",
      "Processing playlist: 37i9dQZF1DXch2nNxu927l\n",
      "Processing playlist: 37i9dQZF1DWYmmr74INQlb\n",
      "Processing playlist: 37i9dQZF1DWXnexX7CktaI\n",
      "Processing playlist: 37i9dQZF1DWXbttAJcbphz\n",
      "Processing playlist: 37i9dQZF1DX2PG4mbkilf3\n",
      "Processing playlist: 37i9dQZF1DX942d1NzGgzk\n",
      "Processing playlist: 37i9dQZF1DX2MJVTOdWtbm\n",
      "Processing playlist: 37i9dQZF1DWUbo613Z2iWO\n",
      "Processing playlist: 37i9dQZF1DX2V97dgq1s0W\n",
      "Processing playlist: 37i9dQZF1DWY90iCJMKual\n"
     ]
    }
   ],
   "source": [
    "# RnB\n",
    "category_id = \"0JQ5DAqbMKFEZPnFQSFB1T\"\n",
    "\n",
    "filtered_df = df[df['category_id'] == category_id]\n",
    "playlist_ids = filtered_df['playlist_id'].tolist()\n",
    "\n",
    "df_rnb = get_all_playlist_track_info(playlist_ids)\n",
    "df_rnb.to_excel(\"df_rnb.xlsx\", index = False)\n"
   ]
  },
  {
   "cell_type": "code",
   "execution_count": null,
   "metadata": {},
   "outputs": [
    {
     "name": "stdout",
     "output_type": "stream",
     "text": [
      "Processing playlist: 37i9dQZF1DWWSuZL7uNdVA\n",
      "Processing playlist: 37i9dQZF1DWTBN71pVn2Ej\n",
      "Processing playlist: 37i9dQZF1DWZryfp6NSvtz\n",
      "Processing playlist: 37i9dQZF1DWXTHBOfJ8aI7\n",
      "Processing playlist: 37i9dQZF1DX8HxJlVUR3HN\n",
      "Processing playlist: 37i9dQZF1DXcUF9GRO45to\n",
      "Processing playlist: 37i9dQZF1DX2xKCIjknUoQ\n",
      "Processing playlist: 37i9dQZF1DXbJR1DWfHjWw\n",
      "Processing playlist: 37i9dQZF1DX99DRG9N39X3\n",
      "Processing playlist: 37i9dQZF1DX9xdWyDn7XX8\n",
      "Processing playlist: 37i9dQZF1DX89XXHpIgTCJ\n",
      "Processing playlist: 37i9dQZF1DX35DWKgAk2B5\n",
      "Processing playlist: 37i9dQZF1DX6L1CUnSfVed\n",
      "Processing playlist: 37i9dQZF1DX1rVvRgjX59F\n",
      "Processing playlist: 37i9dQZF1DX3oM43CtKnRV\n",
      "Processing playlist: 37i9dQZF1DX11ghcIxjcjE\n",
      "Processing playlist: 37i9dQZF1DWVqJMsgEN0F4\n",
      "Processing playlist: 37i9dQZF1DWT2jS7NwYPVI\n",
      "Processing playlist: 37i9dQZF1DWWJOmJ7nRx0C\n",
      "Processing playlist: 37i9dQZF1DX78toxP7mOaJ\n",
      "Processing playlist: 37i9dQZF1DX2UXfvEIZvDK\n",
      "Processing playlist: 37i9dQZF1DX8FwnYE6PRvL\n",
      "Processing playlist: 37i9dQZF1DWSVO64ma1pNY\n",
      "Processing playlist: 37i9dQZF1DXdF699XuZIvg\n",
      "Processing playlist: 37i9dQZF1DWZVAVMhIe3pV\n",
      "Processing playlist: 37i9dQZF1DX0rCrO4CFRfM\n",
      "Processing playlist: 37i9dQZF1DX9G93rIVMmzM\n"
     ]
    }
   ],
   "source": [
    "# Rock\n",
    "category_id = \"0JQ5DAqbMKFDXXwE9BDJAr\"\n",
    "\n",
    "filtered_df = df[df['category_id'] == category_id]\n",
    "playlist_ids = filtered_df['playlist_id'].tolist()\n",
    "\n",
    "df_rock = get_all_playlist_track_info(playlist_ids)\n",
    "df_rock.to_excel(\"df_rock.xlsx\", index = False)\n"
   ]
  },
  {
   "cell_type": "code",
   "execution_count": 9,
   "metadata": {},
   "outputs": [
    {
     "name": "stdout",
     "output_type": "stream",
     "text": [
      "Processing playlist: 37i9dQZF1DWUwJ0RFwrgQP\n",
      "Processing playlist: 37i9dQZF1DWZEbxox96IUk\n",
      "Processing playlist: 37i9dQZF1DXbIqU3eEXwop\n",
      "Processing playlist: 37i9dQZF1DWWylYLMvjuRG\n",
      "Processing playlist: 37i9dQZF1DXdo6A3mWpdWx\n",
      "Processing playlist: 37i9dQZF1DX1Hya1sRqqxI\n",
      "Processing playlist: 37i9dQZF1DX3AdAEX3vkB1\n",
      "Processing playlist: 37i9dQZF1DX9pP7cC2liKw\n",
      "Processing playlist: 37i9dQZF1DX2pprEpa9URZ\n",
      "Processing playlist: 37i9dQZF1DXcrDJ7TeNU58\n",
      "Processing playlist: 37i9dQZF1DX2KwEtNSejGe\n",
      "Processing playlist: 37i9dQZF1DX0pH2SQMRXnC\n",
      "Processing playlist: 37i9dQZF1DX1ZtBovtTdHT\n",
      "Processing playlist: 37i9dQZF1DX8a1tdzq5tbM\n",
      "Processing playlist: 37i9dQZF1DWXti3N4Wp5xy\n",
      "Processing playlist: 37i9dQZF1DWZQaaqNMbbXa\n",
      "Processing playlist: 37i9dQZF1DX0Uv9tZ47pWo\n",
      "Processing playlist: 37i9dQZF1DWVxqA801UP5W\n",
      "Processing playlist: 37i9dQZF1DXcKW8VlJappa\n",
      "Processing playlist: 37i9dQZF1DWY4xHQp97fN6\n",
      "Processing playlist: 37i9dQZF1DX62HvDmsP7Md\n",
      "Processing playlist: 37i9dQZF1DWTAZ0XePuYqW\n",
      "Processing playlist: 37i9dQZF1DXbkfWVLd8wE3\n",
      "Processing playlist: 37i9dQZF1DX7F6T2n2fegs\n",
      "Processing playlist: 37i9dQZF1DX30w0JtSIv4j\n",
      "Processing playlist: 37i9dQZF1DX8ky12eWIvcW\n",
      "Processing playlist: 37i9dQZF1DX1MUPbVKMgJE\n",
      "Processing playlist: 37i9dQZF1DWVcbzTgVpNRm\n",
      "Processing playlist: 37i9dQZF1DWXRqgorJj26U\n",
      "Processing playlist: 37i9dQZF1DWV67mFOgnpbl\n",
      "Processing playlist: 37i9dQZF1DXauOWFg72pbl\n",
      "Processing playlist: 37i9dQZF1DX68H8ZujdnN7\n",
      "Processing playlist: 37i9dQZF1DXaR2304fzenh\n",
      "Processing playlist: 37i9dQZF1DX9vJ2U3sN7xj\n",
      "Processing playlist: 37i9dQZF1DX7SeoIaFyTmA\n",
      "Processing playlist: 37i9dQZF1DXbdrcAZnP3Cy\n",
      "Processing playlist: 37i9dQZF1DX4qKWGR9z0LI\n",
      "Processing playlist: 37i9dQZF1DWYOkVTse9lln\n",
      "Processing playlist: 37i9dQZF1DX1UHxedJfnRM\n",
      "Processing playlist: 37i9dQZF1DX0ERdy9Swdy5\n",
      "Processing playlist: 37i9dQZF1DX49mfoIGumhI\n",
      "Processing playlist: 37i9dQZF1DX2zJGRjWhK7Q\n",
      "Processing playlist: 37i9dQZF1DWZtHtrp0izBF\n",
      "Processing playlist: 37i9dQZF1DWSgTTUXeVFiG\n",
      "Processing playlist: 37i9dQZF1DWVSSKiqqNKSC\n"
     ]
    }
   ],
   "source": [
    "# Soirée\n",
    "category_id = \"0JQ5DAqbMKFA6SOHvT3gck\"\n",
    "\n",
    "filtered_df = df[df['category_id'] == category_id]\n",
    "playlist_ids = filtered_df['playlist_id'].tolist()\n",
    "\n",
    "df_soiree = get_all_playlist_track_info(playlist_ids)\n",
    "df_soiree.to_excel(\"df_soiree.xlsx\", index = False)\n"
   ]
  },
  {
   "cell_type": "code",
   "execution_count": 10,
   "metadata": {},
   "outputs": [
    {
     "name": "stdout",
     "output_type": "stream",
     "text": [
      "Processing playlist: 37i9dQZF1DX9XIFQuFvzM4\n",
      "Processing playlist: 37i9dQZF1DWULEW2RfoSCi\n",
      "Processing playlist: 37i9dQZF1DXbcgQ8d7s0A0\n",
      "Processing playlist: 37i9dQZF1DWTx0xog3gN3q\n",
      "Processing playlist: 37i9dQZF1DXchlyaSeZp0q\n",
      "Processing playlist: 37i9dQZF1DX3ohNxI5tB79\n",
      "Processing playlist: 37i9dQZF1DWYmZJhCzQOPD\n",
      "Processing playlist: 37i9dQZF1DX0H8hDpv38Ju\n",
      "Processing playlist: 37i9dQZF1DX8Md3JnnrexB\n",
      "Processing playlist: 37i9dQZF1DX8MbMfAHb8U0\n"
     ]
    }
   ],
   "source": [
    "# Soul\n",
    "category_id = \"0JQ5DAqbMKFIpEuaCnimBj\"\n",
    "\n",
    "filtered_df = df[df['category_id'] == category_id]\n",
    "playlist_ids = filtered_df['playlist_id'].tolist()\n",
    "\n",
    "df_soul = get_all_playlist_track_info(playlist_ids)\n",
    "df_soul.to_excel(\"df_soul.xlsx\", index = False)\n"
   ]
  },
  {
   "cell_type": "code",
   "execution_count": 11,
   "metadata": {},
   "outputs": [
    {
     "name": "stdout",
     "output_type": "stream",
     "text": [
      "Processing playlist: 37i9dQZF1DX4osfY3zybD2\n",
      "Processing playlist: 37i9dQZF1DX76t638V6CA8\n",
      "Processing playlist: 37i9dQZF1DX76Wlfdnj7AP\n",
      "Processing playlist: 37i9dQZF1DWVhQ5d3I6DeF\n",
      "Processing playlist: 37i9dQZF1DXdxcBWuJkbcy\n",
      "Processing playlist: 37i9dQZF1DXadOVCgGhS7j\n",
      "Processing playlist: 37i9dQZF1DWUxdwkOJZYCJ\n",
      "Processing playlist: 37i9dQZF1DX0hWmn8d5pRe\n",
      "Processing playlist: 37i9dQZF1DWZUTt0fNaCPB\n",
      "Processing playlist: 37i9dQZF1DWWPcvnOpPG3x\n",
      "Processing playlist: 37i9dQZF1DWZq91oLsHZvy\n",
      "Processing playlist: 37i9dQZF1DX9oh43oAzkyx\n",
      "Processing playlist: 37i9dQZF1DX0HRj9P7NxeE\n",
      "Processing playlist: 37i9dQZF1DX5n5gZBZb0AT\n",
      "Processing playlist: 37i9dQZF1DWTl4y3vgJOXW\n",
      "Processing playlist: 37i9dQZF1DWSRbZUjHUFIA\n"
     ]
    }
   ],
   "source": [
    "# Sport\n",
    "category_id = \"0JQ5DAqbMKFAXlCG6QvYQ4\"\n",
    "\n",
    "filtered_df = df[df['category_id'] == category_id]\n",
    "playlist_ids = filtered_df['playlist_id'].tolist()\n",
    "\n",
    "df_sport = get_all_playlist_track_info(playlist_ids)\n",
    "df_sport.to_excel(\"df_sport.xlsx\", index = False)\n"
   ]
  },
  {
   "cell_type": "code",
   "execution_count": 12,
   "metadata": {},
   "outputs": [
    {
     "name": "stdout",
     "output_type": "stream",
     "text": [
      "Processing playlist: 37i9dQZF1DWZqyWCBK6QTt\n",
      "Processing playlist: 37i9dQZF1DWTUm9HjVUKnL\n",
      "Processing playlist: 37i9dQZF1DWVP71DYelp29\n",
      "Processing playlist: 37i9dQZF1DXdam5VrqMf3y\n",
      "Processing playlist: 37i9dQZF1DXdFhiq9L31be\n",
      "Processing playlist: 37i9dQZF1DWXMetQrUYhar\n",
      "Processing playlist: 37i9dQZF1DXdXh4ecan7Hh\n",
      "Processing playlist: 37i9dQZF1DXcaEXdyjLdxm\n"
     ]
    }
   ],
   "source": [
    "# Spotify singles\n",
    "category_id = \"0JQ5DAqbMKFDBgllo2cUIN\"\n",
    "\n",
    "filtered_df = df[df['category_id'] == category_id]\n",
    "playlist_ids = filtered_df['playlist_id'].tolist()\n",
    "\n",
    "df_spotsingles = get_all_playlist_track_info(playlist_ids)\n",
    "df_spotsingles.to_excel(\"df_spotsingles.xlsx\", index = False)\n"
   ]
  },
  {
   "cell_type": "code",
   "execution_count": 13,
   "metadata": {},
   "outputs": [
    {
     "name": "stdout",
     "output_type": "stream",
     "text": [
      "Processing playlist: 37i9dQZF1DWWUZ614R8EUb\n"
     ]
    }
   ],
   "source": [
    "# Tendances\n",
    "category_id = \"0JQ5DAqbMKFQIL0AXnG5AK\"\n",
    "\n",
    "filtered_df = df[df['category_id'] == category_id]\n",
    "playlist_ids = filtered_df['playlist_id'].tolist()\n",
    "\n",
    "df_tendances = get_all_playlist_track_info(playlist_ids)\n",
    "df_tendances.to_excel(\"df_tendances.xlsx\", index = False)\n"
   ]
  },
  {
   "cell_type": "code",
   "execution_count": 14,
   "metadata": {},
   "outputs": [
    {
     "name": "stdout",
     "output_type": "stream",
     "text": [
      "Processing playlist: 37i9dQZF1DXbLzW15wHm9R\n",
      "Processing playlist: 37i9dQZF1DXb69UWhjrXsW\n",
      "Processing playlist: 37i9dQZF1DX6dCTsdzLHOw\n",
      "Processing playlist: 37i9dQZF1DX6K3W8KBiALe\n",
      "Processing playlist: 37i9dQZF1DX4Jyx1uIhxnP\n",
      "Processing playlist: 37i9dQZF1DXar0WmW5YgAc\n",
      "Processing playlist: 37i9dQZF1DX0ZzMQgXnSUD\n",
      "Processing playlist: 37i9dQZF1DXd4bJEFQJTXh\n"
     ]
    }
   ],
   "source": [
    "# TV et cinéma\n",
    "category_id = \"0JQ5DAqbMKFOzQeOmemkuw\"\n",
    "\n",
    "filtered_df = df[df['category_id'] == category_id]\n",
    "playlist_ids = filtered_df['playlist_id'].tolist()\n",
    "\n",
    "df_tvcine = get_all_playlist_track_info(playlist_ids)\n",
    "df_tvcine.to_excel(\"df_tvcine.xlsx\", index = False)\n"
   ]
  },
  {
   "cell_type": "code",
   "execution_count": 15,
   "metadata": {},
   "outputs": [
    {
     "name": "stdout",
     "output_type": "stream",
     "text": [
      "Processing playlist: 37i9dQZF1DWTIykNHRogOx\n",
      "Processing playlist: 37i9dQZF1DX9h4FeDa1xsw\n",
      "Processing playlist: 37i9dQZF1DWZafi8zKNyuo\n",
      "Processing playlist: 37i9dQZF1DX2vfncMeBctk\n",
      "Processing playlist: 37i9dQZF1DWSZsRTzm4O6a\n",
      "Processing playlist: 37i9dQZF1DWTypZHlgEy1G\n",
      "Processing playlist: 37i9dQZF1DX8OVycSP3AXz\n",
      "Processing playlist: 37i9dQZF1DX2clypTgBmEw\n"
     ]
    }
   ],
   "source": [
    "# Variété\n",
    "category_id = \"0JQ5DAqbMKFBweu2euf3Sj\"\n",
    "\n",
    "filtered_df = df[df['category_id'] == category_id]\n",
    "playlist_ids = filtered_df['playlist_id'].tolist()\n",
    "\n",
    "df_variete = get_all_playlist_track_info(playlist_ids)\n",
    "df_variete.to_excel(\"df_variete.xlsx\", index = False)\n"
   ]
  },
  {
   "cell_type": "code",
   "execution_count": 16,
   "metadata": {},
   "outputs": [
    {
     "name": "stdout",
     "output_type": "stream",
     "text": [
      "Processing playlist: 37i9dQZF1DX1I7noGgAP1O\n",
      "Processing playlist: 37i9dQZF1DXaYIs1DV1CwP\n",
      "Processing playlist: 37i9dQZF1DX9ZaBESVF0Yv\n",
      "Processing playlist: 37i9dQZF1DWXjv2J1ebzlh\n",
      "Processing playlist: 37i9dQZF1DWUoqEG4WY6ce\n",
      "Processing playlist: 37i9dQZF1DWYRp9Xqj0c83\n",
      "Processing playlist: 37i9dQZF1DWYhUoxbsQ1Ul\n"
     ]
    }
   ],
   "source": [
    "# Voyage\n",
    "category_id = \"0JQ5DAqbMKFAQy4HL4XU2D\"\n",
    "\n",
    "filtered_df = df[df['category_id'] == category_id]\n",
    "playlist_ids = filtered_df['playlist_id'].tolist()\n",
    "\n",
    "df_voyage = get_all_playlist_track_info(playlist_ids)\n",
    "df_voyage.to_excel(\"df_voyage.xlsx\", index = False)\n"
   ]
  }
 ],
 "metadata": {
  "kernelspec": {
   "display_name": "base",
   "language": "python",
   "name": "python3"
  },
  "language_info": {
   "codemirror_mode": {
    "name": "ipython",
    "version": 3
   },
   "file_extension": ".py",
   "mimetype": "text/x-python",
   "name": "python",
   "nbconvert_exporter": "python",
   "pygments_lexer": "ipython3",
   "version": "3.9.12"
  },
  "orig_nbformat": 4
 },
 "nbformat": 4,
 "nbformat_minor": 2
}
