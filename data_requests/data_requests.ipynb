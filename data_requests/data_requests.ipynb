{
 "cells": [
  {
   "cell_type": "markdown",
   "metadata": {},
   "source": [
    "# Data Requests "
   ]
  },
  {
   "cell_type": "markdown",
   "metadata": {},
   "source": [
    "## Setup"
   ]
  },
  {
   "cell_type": "code",
   "execution_count": 1,
   "metadata": {},
   "outputs": [],
   "source": [
    "# Import modules\n",
    "import time\n",
    "\n",
    "import pandas as pd\n",
    "\n",
    "import spotipy\n",
    "from spotipy.oauth2 import SpotifyClientCredentials\n",
    "\n",
    "from selenium import webdriver\n",
    "from selenium.webdriver.common.by import By\n",
    "from selenium.webdriver.common.action_chains import ActionChains\n",
    "from selenium.webdriver.common.keys import Keys\n"
   ]
  },
  {
   "cell_type": "code",
   "execution_count": 2,
   "metadata": {},
   "outputs": [],
   "source": [
    "# API connexion\n",
    "client_id = '992a6d7f0d7940ce9649bb3948030cf6'\n",
    "client_secret = '6d1274ee0cab438e9df7ff493a3c64f6'\n",
    "\n",
    "client_credentials_manager = SpotifyClientCredentials(client_id, client_secret)\n",
    "sp = spotipy.Spotify(client_credentials_manager=client_credentials_manager)\n"
   ]
  },
  {
   "attachments": {},
   "cell_type": "markdown",
   "metadata": {},
   "source": [
    "## Get playlists infos "
   ]
  },
  {
   "cell_type": "code",
   "execution_count": null,
   "metadata": {},
   "outputs": [],
   "source": [
    "# API scrapping\n",
    "# Set category IDs\n",
    "category_ids = [\n",
    "    '0JQ5DAqbMKFNQ0fGp4byGU', '0JQ5DAqbMKFx0uLQR2okcc', '0JQ5DAqbMKFFtlLYUHv8bT', '0JQ5DAqbMKFzHmL4tf05da', '0JQ5DAqbMKFLjmiZRss79w',\n",
    "    '0JQ5DAqbMKFAUsdyVjCQuL', '0JQ5DAqbMKFziKOShCi009', '0JQ5DAqbMKFQ1UFISXj59F', '0JQ5DAqbMKFSCjnQr8QZ3O', '0JQ5DAqbMKFLb2EqgLtpjC', \n",
    "    '0JQ5DAqbMKFQiK2EHwyjcU', '0JQ5DAqbMKFObNLOHydSW8', '0JQ5DAqbMKFPrEiAOxgac3', '0JQ5DAqbMKFKLfwjuJMoNC', '0JQ5DAqbMKFRY5ok2pxXJ0', \n",
    "    '0JQ5DAqbMKFHOzuVTgTizF', '0JQ5DAqbMKFP9UNkavIGrM', '0JQ5DAqbMKFIVNxQgRNSg0', '0JQ5DAqbMKFFzDl7qN9Apr', '0JQ5DAqbMKFCuoRTxhYWow', \n",
    "    '0JQ5DAqbMKFFoimhOqWzLB', '0JQ5DAqbMKFIRybaNTYXXy', '0JQ5DAqbMKFPw634sFwguI', '0JQ5DAqbMKFJw7QLnM27p6', '0JQ5DAqbMKFCbimwdOYlsl', \n",
    "    '0JQ5DAqbMKFy78wprEpAjl', '0JQ5DAqbMKFF9bY76LXmfI', '0JQ5DAqbMKFImHYGo3eTSg', '0JQ5DAqbMKFFsW9N8maB6z', '0JQ5DAqbMKFCfObibaOZbv', \n",
    "    '0JQ5DAqbMKFGnsSfvg90Wo', '0JQ5DAqbMKFQ00XGBls6ym', '0JQ5DAqbMKFCWjUTdzaG0e', '0JQ5DAqbMKFRKBHIxJ5hMm', '0JQ5DAqbMKFAJ5xb0fwo9m', \n",
    "    '0JQ5DAqbMKFGvOw3O4nLAf', '0JQ5DAqbMKFxXaXKP7zcDp', '0JQ5DAqbMKFDkd668ypn6O', '0JQ5DAqbMKFRieVZLLoo9m', '0JQ5DAqbMKFI3pNLtYMD9S', \n",
    "    '0JQ5DAqbMKFEOEBCABAxo9', '0JQ5DAqbMKFEC4WFtoNRpw', '0JQ5DAqbMKFAjfauKLOZiv', '0JQ5DAqbMKFOOxftoKZxod', '0JQ5DAqbMKFJKoGyUMo2hE', \n",
    "    '0JQ5DAqbMKFEZPnFQSFB1T', '0JQ5DAqbMKFDXXwE9BDJAr', '0JQ5DAqbMKFA6SOHvT3gck', '0JQ5DAqbMKFIpEuaCnimBj', '0JQ5DAqbMKFAXlCG6QvYQ4', \n",
    "    '0JQ5DAqbMKFDBgllo2cUIN', '0JQ5DAqbMKFQIL0AXnG5AK', '0JQ5DAqbMKFOzQeOmemkuw', '0JQ5DAqbMKFBweu2euf3Sj', '0JQ5DAqbMKFAQy4HL4XU2D'\n",
    "]\n",
    "\n",
    "# Store missing categories\n",
    "missing_categories = []\n",
    "\n",
    "# Loop over all categories and get playlists\n",
    "playlists = []\n",
    "for category_id in category_ids:\n",
    "    try:\n",
    "        # Get first 50 playlists in category\n",
    "        response = sp.category_playlists(category_id, limit=50)\n",
    "        category_playlists = response[\"playlists\"][\"items\"]\n",
    "        \n",
    "        # Check if there are more playlists in category\n",
    "        while response[\"playlists\"][\"next\"]:\n",
    "            response = sp.next(response[\"playlists\"])\n",
    "            category_playlists += response[\"playlists\"][\"items\"]\n",
    "        \n",
    "        # Append category playlists to list\n",
    "        for playlist in category_playlists:\n",
    "            playlist_id = playlist[\"id\"]\n",
    "            playlist_name = playlist[\"name\"]\n",
    "            playlist_owner = playlist[\"owner\"][\"display_name\"]\n",
    "            playlists.append({\n",
    "                \"category_id\": category_id, \n",
    "                \"playlist_id\": playlist_id, \n",
    "                \"playlist_name\": playlist_name,\n",
    "                \"playlist_owner\": playlist_owner\n",
    "            })\n",
    "    except: \n",
    "        missing_categories.append(category_id)\n",
    "        print(f\"Category with ID {category_id} doesn't exist.\")\n",
    "\n",
    "# Create dataframe from playlists\n",
    "df_playlists = pd.DataFrame(playlists, columns=[\"category_id\", \"playlist_id\", \"playlist_name\", \"playlist_owner\"])\n",
    "\n",
    "print(df_playlists)\n"
   ]
  },
  {
   "cell_type": "code",
   "execution_count": null,
   "metadata": {},
   "outputs": [],
   "source": [
    "# HTML scraping for Charts playlists\n",
    "# URLs to scrape\n",
    "urls = [\n",
    "    'https://open.spotify.com/genre/section0JQ5DAzQHECxDlYNI6xD1h',\n",
    "    'https://open.spotify.com/genre/section0JQ5DAzQHECxDlYNI6xD1i',\n",
    "    'https://open.spotify.com/genre/section0JQ5DAzQHECxDlYNI6xD1j'\n",
    "]\n",
    "\n",
    "# Set up the web driver\n",
    "driver = webdriver.Safari(executable_path='/usr/bin/safaridriver')\n",
    "\n",
    "top_playlists = []\n",
    "\n",
    "for url in urls:\n",
    "    driver.get(url)\n",
    "    time.sleep(5)  # Wait for playlists to load\n",
    "\n",
    "    # Find playlist elements by class name\n",
    "    playlists = driver.find_elements(By.CLASS_NAME, 'Box__BoxComponent-sc-y4nds-0')\n",
    "    last_playlist = playlists[-1]\n",
    "\n",
    "    # Scroll to load all playlists\n",
    "    while True:\n",
    "        driver.execute_script(\"arguments[0].scrollIntoView();\", last_playlist)\n",
    "        time.sleep(2)\n",
    "        new_playlists = driver.find_elements(By.CLASS_NAME, 'Box__BoxComponent-sc-y4nds-0')\n",
    "        if new_playlists[-1] != last_playlist:\n",
    "            last_playlist = new_playlists[-1]\n",
    "            playlists = new_playlists\n",
    "        else:\n",
    "            break\n",
    "\n",
    "    # Extract playlist information\n",
    "    for playlist in playlists:\n",
    "        # Get aria-labelledby attribute\n",
    "        aria_label = playlist.get_attribute('aria-labelledby')\n",
    "        \n",
    "        # Extract playlist ID from aria-labelledby\n",
    "        if aria_label and \"spotify:playlist:\" in aria_label:\n",
    "            playlist_id = aria_label.split(\"spotify:playlist:\")[1].split()[0]\n",
    "            top_playlists.append({\n",
    "                \"category_id\": '0JQ5DAudkNjCgYMM0TZXDw', \n",
    "                \"playlist_id\": playlist_id, \n",
    "                \"playlist_owner\": 'Spotify'\n",
    "            })\n",
    "\n",
    "# Quit the driver\n",
    "driver.quit()\n",
    "\n",
    "# Convert data to DataFrame and print\n",
    "df_top_playlists = pd.DataFrame(top_playlists, columns=[\"category_id\", \"playlist_id\", \"playlist_owner\"])\n",
    "print(df_top_playlists)\n"
   ]
  },
  {
   "cell_type": "code",
   "execution_count": 11,
   "metadata": {},
   "outputs": [],
   "source": [
    "# Parse playlists info into excel\n",
    "# Combine the manual and API playlists into one DataFrame\n",
    "df_combined = pd.concat([df_playlists, df_top_playlists], ignore_index=True)\n",
    "df_combined.to_excel(\"playlists_info.xlsx\", index=False)\n",
    "\n",
    "# Drop duplicates based on the \"playlist_id\" column, keeping the first occurrence\n",
    "df_cleaned = df_combined.drop_duplicates(subset='playlist_id', keep='first')\n",
    "df_cleaned.to_excel(\"playlists_info_clean.xlsx\", index=False)\n"
   ]
  },
  {
   "attachments": {},
   "cell_type": "markdown",
   "metadata": {},
   "source": [
    "## Get tracks info"
   ]
  },
  {
   "cell_type": "markdown",
   "metadata": {},
   "source": [
    "### Setup"
   ]
  },
  {
   "cell_type": "code",
   "execution_count": 3,
   "metadata": {},
   "outputs": [],
   "source": [
    "# Load data\n",
    "df = pd.read_excel('playlists_info_clean.xlsx')\n",
    "\n",
    "# Remove playlists with \"This is\" and \"Written By\" in the name\n",
    "df = df[~df['playlist_name'].str.contains('This Is', na=False)]\n",
    "df = df[~df['playlist_name'].str.contains('Written By', na=False)]\n"
   ]
  },
  {
   "cell_type": "code",
   "execution_count": 4,
   "metadata": {},
   "outputs": [],
   "source": [
    "# Define scraping functions\n",
    "# Define a function to get all the tracks in a playlist, handling the API limit\n",
    "def get_all_playlist_tracks(playlist_id):\n",
    "    results = sp.playlist_tracks(playlist_id)\n",
    "    tracks = results['items']\n",
    "    while results['next']:\n",
    "        results = sp.next(results)\n",
    "        tracks.extend(results['items'])\n",
    "    return tracks\n",
    "\n",
    "# Define a function to get all the audio features for a set of tracks, handling the API limit\n",
    "def get_all_audio_features(track_ids):\n",
    "    audio_features = []\n",
    "    for i in range(0, len(track_ids), 100):\n",
    "        batch = track_ids[i:i+100]\n",
    "        try:\n",
    "            features = sp.audio_features(batch)\n",
    "        except:\n",
    "            continue\n",
    "        audio_features.extend(features)\n",
    "    return audio_features\n",
    "\n",
    "def get_playlist_track_info(playlist_id):\n",
    "    # Get the playlist info\n",
    "    playlist_info = sp.playlist(playlist_id)\n",
    "    if not playlist_info:\n",
    "        return None\n",
    "    \n",
    "    playlist_name = playlist_info['name']\n",
    "    playlist_followers = playlist_info['followers']['total']\n",
    "    playlist_owner = playlist_info['owner']['display_name']\n",
    "    \n",
    "    # Get all the tracks in the playlist\n",
    "    playlist_tracks = get_all_playlist_tracks(playlist_id)\n",
    "    track_ids = [track['track']['id'] for track in playlist_tracks if track['track'] is not None]\n",
    "    \n",
    "    if not track_ids:\n",
    "        return None\n",
    "    \n",
    "    # Get the track info in batches of 50\n",
    "    track_info = []\n",
    "    for i in range(0, len(track_ids), 50):\n",
    "        batch_tracks = track_ids[i:i+50]\n",
    "        tracks = sp.tracks(batch_tracks)['tracks']\n",
    "        track_info.extend(tracks)\n",
    "\n",
    "    if track_info is not None:\n",
    "        track_names = [track['name'] for track in track_info]\n",
    "        track_popularities = [track['popularity'] for track in track_info]\n",
    "        track_release_dates = [track['album']['release_date'] for track in track_info]\n",
    "        artist_ids = [track['artists'][0]['id'] for track in track_info]\n",
    "        \n",
    "        artist_info = []\n",
    "        for i in range(0, len(artist_ids), 50):\n",
    "            batch_artists = artist_ids[i:i+50]\n",
    "            artists = sp.artists(batch_artists)['artists']\n",
    "            artist_info.extend(artists)\n",
    "        \n",
    "        artist_names = [artist['name'] for artist in artist_info]\n",
    "        artist_popularities = [artist['popularity'] for artist in artist_info]\n",
    "\n",
    "        # Combine everything into a DataFrame\n",
    "        playlist_df = pd.DataFrame({\n",
    "            'playlist_name': playlist_name,\n",
    "            'playlist_followers': playlist_followers,\n",
    "            'playlist_owner': playlist_owner,\n",
    "            'track_name': track_names,\n",
    "            'track__popularity': track_popularities,\n",
    "            'track_release_date': track_release_dates,\n",
    "            'artist_name': artist_names,\n",
    "            'artist_popularity': artist_popularities\n",
    "        })\n",
    "    else:\n",
    "        return None\n",
    "\n",
    "    # Get the audio features\n",
    "    audio_features = get_all_audio_features(track_ids)\n",
    "    if audio_features is None:\n",
    "        return None\n",
    "    \n",
    "    # Add the audio features to the DataFrame\n",
    "    try:\n",
    "        audio_features_df = pd.DataFrame(audio_features)\n",
    "        playlist_df = pd.concat([playlist_df, audio_features_df], axis=1)\n",
    "    except:\n",
    "        return None\n",
    "    \n",
    "    return playlist_df\n",
    "\n",
    "# Define a function to loop over all the playlists and combine the results\n",
    "def get_all_playlist_track_info(playlist_ids):\n",
    "    playlist_dfs = []\n",
    "    for playlist_id in playlist_ids:\n",
    "        print(f\"Processing playlist: {playlist_id}\")\n",
    "        playlist_df = get_playlist_track_info(playlist_id)\n",
    "        if playlist_df is not None:\n",
    "            playlist_dfs.append(playlist_df)\n",
    "    all_playlist_df = pd.concat(playlist_dfs, ignore_index=True)\n",
    "    return all_playlist_df\n"
   ]
  },
  {
   "attachments": {},
   "cell_type": "markdown",
   "metadata": {},
   "source": [
    "### Scrape the data for each category"
   ]
  },
  {
   "cell_type": "code",
   "execution_count": null,
   "metadata": {},
   "outputs": [],
   "source": [
    "# Tops\n",
    "category_id = \"0JQ5DAudkNjCgYMM0TZXDw\"\n",
    "\n",
    "filtered_df = df[df['category_id'] == category_id]\n",
    "playlist_ids = filtered_df['playlist_id'].tolist()\n",
    "\n",
    "df_tops = get_all_playlist_track_info(playlist_ids)\n",
    "df_tops.to_excel(\"df_tops.xlsx\", index = False)\n"
   ]
  },
  {
   "cell_type": "code",
   "execution_count": null,
   "metadata": {},
   "outputs": [],
   "source": [
    "# Afro\n",
    "category_id = \"0JQ5DAqbMKFNQ0fGp4byGU\"\n",
    "\n",
    "filtered_df = df[df['category_id'] == category_id]\n",
    "playlist_ids = filtered_df['playlist_id'].tolist()\n",
    "\n",
    "df_pop = get_all_playlist_track_info(playlist_ids)\n",
    "df_pop.to_excel(\"df_afro.xlsx\", index = False)\n"
   ]
  },
  {
   "cell_type": "code",
   "execution_count": null,
   "metadata": {},
   "outputs": [],
   "source": [
    "# A la Maison\n",
    "category_id = \"0JQ5DAqbMKFx0uLQR2okcc\"\n",
    "\n",
    "filtered_df = df[df['category_id'] == category_id]\n",
    "playlist_ids = filtered_df['playlist_id'].tolist()\n",
    "\n",
    "df_maison = get_all_playlist_track_info(playlist_ids)\n",
    "df_maison.to_excel(\"df_maison.xlsx\", index = False)\n"
   ]
  },
  {
   "cell_type": "code",
   "execution_count": null,
   "metadata": {},
   "outputs": [],
   "source": [
    "# Alternative\n",
    "category_id = \"0JQ5DAqbMKFFtlLYUHv8bT\"\n",
    "\n",
    "filtered_df = df[df['category_id'] == category_id]\n",
    "playlist_ids = filtered_df['playlist_id'].tolist()\n",
    "\n",
    "df_alternative = get_all_playlist_track_info(playlist_ids)\n",
    "df_alternative.to_excel(\"df_alternative.xlsx\", index = False)\n"
   ]
  },
  {
   "cell_type": "code",
   "execution_count": null,
   "metadata": {},
   "outputs": [],
   "source": [
    "# Ambiance\n",
    "category_id = \"0JQ5DAqbMKFzHmL4tf05da\"\n",
    "\n",
    "filtered_df = df[df['category_id'] == category_id]\n",
    "playlist_ids = filtered_df['playlist_id'].tolist()\n",
    "\n",
    "df_ambiance = get_all_playlist_track_info(playlist_ids)\n",
    "df_ambiance.to_excel(\"df_ambiance.xlsx\", index = False)\n"
   ]
  },
  {
   "cell_type": "code",
   "execution_count": null,
   "metadata": {},
   "outputs": [],
   "source": [
    "# Ambient\n",
    "category_id = \"0JQ5DAqbMKFLjmiZRss79w\"\n",
    "\n",
    "filtered_df = df[df['category_id'] == category_id]\n",
    "playlist_ids = filtered_df['playlist_id'].tolist()\n",
    "\n",
    "df_ambient = get_all_playlist_track_info(playlist_ids)\n",
    "df_ambient.to_excel(\"df_ambient.xlsx\", index = False)\n"
   ]
  },
  {
   "cell_type": "code",
   "execution_count": null,
   "metadata": {},
   "outputs": [],
   "source": [
    "# Amour\n",
    "category_id = \"0JQ5DAqbMKFAUsdyVjCQuL\"\n",
    "\n",
    "filtered_df = df[df['category_id'] == category_id]\n",
    "playlist_ids = filtered_df['playlist_id'].tolist()\n",
    "\n",
    "df_amour = get_all_playlist_track_info(playlist_ids)\n",
    "df_amour.to_excel(\"df_amour.xlsx\", index = False)\n"
   ]
  },
  {
   "cell_type": "code",
   "execution_count": null,
   "metadata": {},
   "outputs": [],
   "source": [
    "# Anime\n",
    "category_id = \"0JQ5DAqbMKFziKOShCi009\"\n",
    "\n",
    "filtered_df = df[df['category_id'] == category_id]\n",
    "playlist_ids = filtered_df['playlist_id'].tolist()\n",
    "\n",
    "df_anime = get_all_playlist_track_info(playlist_ids)\n",
    "df_anime.to_excel(\"df_anime.xlsx\", index = False)\n"
   ]
  },
  {
   "cell_type": "code",
   "execution_count": null,
   "metadata": {},
   "outputs": [],
   "source": [
    "# Arabe\n",
    "category_id = \"0JQ5DAqbMKFQ1UFISXj59F\"\n",
    "\n",
    "filtered_df = df[df['category_id'] == category_id]\n",
    "playlist_ids = filtered_df['playlist_id'].tolist()\n",
    "\n",
    "df_arabe = get_all_playlist_track_info(playlist_ids)\n",
    "df_arabe.to_excel(\"df_arabe.xlsx\", index = False)\n"
   ]
  },
  {
   "cell_type": "code",
   "execution_count": null,
   "metadata": {},
   "outputs": [],
   "source": [
    "# Bien etre\n",
    "category_id = \"0JQ5DAqbMKFLb2EqgLtpjC\"\n",
    "\n",
    "filtered_df = df[df['category_id'] == category_id]\n",
    "playlist_ids = filtered_df['playlist_id'].tolist()\n",
    "\n",
    "df_bienetre = get_all_playlist_track_info(playlist_ids)\n",
    "df_bienetre.to_excel(\"df_bienetre.xlsx\", index = False)\n"
   ]
  },
  {
   "cell_type": "code",
   "execution_count": null,
   "metadata": {},
   "outputs": [],
   "source": [
    "# Blues\n",
    "category_id = \"0JQ5DAqbMKFQiK2EHwyjcU\"\n",
    "\n",
    "filtered_df = df[df['category_id'] == category_id]\n",
    "playlist_ids = filtered_df['playlist_id'].tolist()\n",
    "\n",
    "df_blues = get_all_playlist_track_info(playlist_ids)\n",
    "df_blues.to_excel(\"df_blues.xlsx\", index = False)\n"
   ]
  },
  {
   "cell_type": "code",
   "execution_count": null,
   "metadata": {},
   "outputs": [],
   "source": [
    "# Caraibes\n",
    "category_id = \"0JQ5DAqbMKFObNLOHydSW8\"\n",
    "\n",
    "filtered_df = df[df['category_id'] == category_id]\n",
    "playlist_ids = filtered_df['playlist_id'].tolist()\n",
    "\n",
    "df_caraibes = get_all_playlist_track_info(playlist_ids)\n",
    "df_caraibes.to_excel(\"df_caraibes.xlsx\", index = False)\n"
   ]
  },
  {
   "cell_type": "code",
   "execution_count": null,
   "metadata": {},
   "outputs": [],
   "source": [
    "# Classique\n",
    "category_id = \"0JQ5DAqbMKFPrEiAOxgac3\"\n",
    "\n",
    "filtered_df = df[df['category_id'] == category_id]\n",
    "playlist_ids = filtered_df['playlist_id'].tolist()\n",
    "\n",
    "df_classique = get_all_playlist_track_info(playlist_ids)\n",
    "df_classique.to_excel(\"df_classique.xlsx\", index = False)\n"
   ]
  },
  {
   "cell_type": "code",
   "execution_count": null,
   "metadata": {},
   "outputs": [],
   "source": [
    "# Country\n",
    "category_id = \"0JQ5DAqbMKFKLfwjuJMoNC\"\n",
    "\n",
    "filtered_df = df[df['category_id'] == category_id]\n",
    "playlist_ids = filtered_df['playlist_id'].tolist()\n",
    "\n",
    "df_country = get_all_playlist_track_info(playlist_ids)\n",
    "df_country.to_excel(\"df_country.xlsx\", index = False)\n"
   ]
  },
  {
   "cell_type": "code",
   "execution_count": null,
   "metadata": {},
   "outputs": [],
   "source": [
    "# Cuisine\n",
    "category_id = \"0JQ5DAqbMKFRY5ok2pxXJ0\"\n",
    "\n",
    "filtered_df = df[df['category_id'] == category_id]\n",
    "playlist_ids = filtered_df['playlist_id'].tolist()\n",
    "\n",
    "df_cuisine = get_all_playlist_track_info(playlist_ids)\n",
    "df_cuisine.to_excel(\"df_cuisine.xlsx\", index = False)\n"
   ]
  },
  {
   "cell_type": "code",
   "execution_count": null,
   "metadata": {},
   "outputs": [],
   "source": [
    "# Dance\n",
    "category_id = \"0JQ5DAqbMKFHOzuVTgTizF\"\n",
    "\n",
    "filtered_df = df[df['category_id'] == category_id]\n",
    "playlist_ids = filtered_df['playlist_id'].tolist()\n",
    "\n",
    "df_dance = get_all_playlist_track_info(playlist_ids)\n",
    "df_dance.to_excel(\"df_dance.xlsx\", index = False)\n"
   ]
  },
  {
   "cell_type": "code",
   "execution_count": null,
   "metadata": {},
   "outputs": [],
   "source": [
    "# Dancehall\n",
    "category_id = \"0JQ5DAqbMKFP9UNkavIGrM\"\n",
    "\n",
    "filtered_df = df[df['category_id'] == category_id]\n",
    "playlist_ids = filtered_df['playlist_id'].tolist()\n",
    "\n",
    "df_dancehall = get_all_playlist_track_info(playlist_ids)\n",
    "df_dancehall.to_excel(\"df_dancehall.xlsx\", index = False)\n"
   ]
  },
  {
   "cell_type": "code",
   "execution_count": null,
   "metadata": {},
   "outputs": [],
   "source": [
    "# Decennies\n",
    "category_id = \"0JQ5DAqbMKFIVNxQgRNSg0\"\n",
    "\n",
    "filtered_df = df[df['category_id'] == category_id]\n",
    "playlist_ids = filtered_df['playlist_id'].tolist()\n",
    "\n",
    "df_decennies = get_all_playlist_track_info(playlist_ids)\n",
    "df_decennies.to_excel(\"df_decennies.xlsx\", index = False)\n"
   ]
  },
  {
   "cell_type": "code",
   "execution_count": null,
   "metadata": {},
   "outputs": [],
   "source": [
    "# Detente\n",
    "category_id = \"0JQ5DAqbMKFFzDl7qN9Apr\"\n",
    "\n",
    "filtered_df = df[df['category_id'] == category_id]\n",
    "playlist_ids = filtered_df['playlist_id'].tolist()\n",
    "\n",
    "df_detente = get_all_playlist_track_info(playlist_ids)\n",
    "df_detente.to_excel(\"df_detente.xlsx\", index = False)\n"
   ]
  },
  {
   "cell_type": "code",
   "execution_count": null,
   "metadata": {},
   "outputs": [],
   "source": [
    "# Dormir\n",
    "category_id = \"0JQ5DAqbMKFCuoRTxhYWow\"\n",
    "\n",
    "filtered_df = df[df['category_id'] == category_id]\n",
    "playlist_ids = filtered_df['playlist_id'].tolist()\n",
    "\n",
    "df_dormir = get_all_playlist_track_info(playlist_ids)\n",
    "df_dormir.to_excel(\"df_dormir.xlsx\", index = False)\n"
   ]
  },
  {
   "cell_type": "code",
   "execution_count": null,
   "metadata": {},
   "outputs": [],
   "source": [
    "# Enfants\n",
    "category_id = \"0JQ5DAqbMKFFoimhOqWzLB\"\n",
    "\n",
    "filtered_df = df[df['category_id'] == category_id]\n",
    "playlist_ids = filtered_df['playlist_id'].tolist()\n",
    "\n",
    "df_enfants = get_all_playlist_track_info(playlist_ids)\n",
    "df_enfants.to_excel(\"df_enfants.xlsx\", index = False)\n"
   ]
  },
  {
   "cell_type": "code",
   "execution_count": null,
   "metadata": {},
   "outputs": [],
   "source": [
    "# En voiture\n",
    "category_id = \"0JQ5DAqbMKFIRybaNTYXXy\" \n",
    "\n",
    "filtered_df = df[df['category_id'] == category_id]\n",
    "playlist_ids = filtered_df['playlist_id'].tolist()\n",
    "\n",
    "df_voiture = get_all_playlist_track_info(playlist_ids)\n",
    "df_voiture.to_excel(\"df_voiture.xlsx\", index = False)\n"
   ]
  },
  {
   "cell_type": "code",
   "execution_count": null,
   "metadata": {},
   "outputs": [],
   "source": [
    "# Equal\n",
    "category_id = \"0JQ5DAqbMKFPw634sFwguI\"\n",
    "\n",
    "filtered_df = df[df['category_id'] == category_id]\n",
    "playlist_ids = filtered_df['playlist_id'].tolist()\n",
    "\n",
    "df_equal = get_all_playlist_track_info(playlist_ids)\n",
    "df_equal.to_excel(\"df_equal.xlsx\", index = False)\n"
   ]
  },
  {
   "cell_type": "code",
   "execution_count": null,
   "metadata": {},
   "outputs": [],
   "source": [
    "# Etudiants\n",
    "category_id = \"0JQ5DAqbMKFJw7QLnM27p6\"\n",
    "\n",
    "filtered_df = df[df['category_id'] == category_id]\n",
    "playlist_ids = filtered_df['playlist_id'].tolist()\n",
    "\n",
    "df_etudiants = get_all_playlist_track_info(playlist_ids)\n",
    "df_etudiants.to_excel(\"df_etudiants.xlsx\", index = False)\n"
   ]
  },
  {
   "cell_type": "code",
   "execution_count": null,
   "metadata": {},
   "outputs": [],
   "source": [
    "# Focus\n",
    "category_id = \"0JQ5DAqbMKFCbimwdOYlsl\"\n",
    "\n",
    "filtered_df = df[df['category_id'] == category_id]\n",
    "playlist_ids = filtered_df['playlist_id'].tolist()\n",
    "\n",
    "df_focus = get_all_playlist_track_info(playlist_ids)\n",
    "df_focus.to_excel(\"df_focus.xlsx\", index = False)\n"
   ]
  },
  {
   "cell_type": "code",
   "execution_count": null,
   "metadata": {},
   "outputs": [],
   "source": [
    "# Folk\n",
    "category_id = \"0JQ5DAqbMKFy78wprEpAjl\"\n",
    "\n",
    "filtered_df = df[df['category_id'] == category_id]\n",
    "playlist_ids = filtered_df['playlist_id'].tolist()\n",
    "\n",
    "df_folk = get_all_playlist_track_info(playlist_ids)\n",
    "df_folk.to_excel(\"df_folk.xlsx\", index = False)\n"
   ]
  },
  {
   "cell_type": "code",
   "execution_count": null,
   "metadata": {},
   "outputs": [],
   "source": [
    "# Frequency\n",
    "category_id = \"0JQ5DAqbMKFF9bY76LXmfI\"\n",
    "\n",
    "filtered_df = df[df['category_id'] == category_id]\n",
    "playlist_ids = filtered_df['playlist_id'].tolist()\n",
    "\n",
    "df_frequency = get_all_playlist_track_info(playlist_ids)\n",
    "df_frequency.to_excel(\"df_frequency.xlsx\", index = False)\n"
   ]
  },
  {
   "cell_type": "code",
   "execution_count": null,
   "metadata": {},
   "outputs": [],
   "source": [
    "# Fresh Finds\n",
    "category_id = \"0JQ5DAqbMKFImHYGo3eTSg\"\n",
    "\n",
    "filtered_df = df[df['category_id'] == category_id]\n",
    "playlist_ids = filtered_df['playlist_id'].tolist()\n",
    "\n",
    "df_freshfinds = get_all_playlist_track_info(playlist_ids)\n",
    "df_freshfinds.to_excel(\"df_freshfinds.xlsx\", index = False)\n"
   ]
  },
  {
   "cell_type": "code",
   "execution_count": null,
   "metadata": {},
   "outputs": [],
   "source": [
    "# Funk\n",
    "category_id = \"0JQ5DAqbMKFFsW9N8maB6z\"\n",
    "\n",
    "filtered_df = df[df['category_id'] == category_id]\n",
    "playlist_ids = filtered_df['playlist_id'].tolist()\n",
    "\n",
    "df_funk = get_all_playlist_track_info(playlist_ids)\n",
    "df_funk.to_excel(\"df_funk.xlsx\", index = False)\n"
   ]
  },
  {
   "cell_type": "code",
   "execution_count": null,
   "metadata": {},
   "outputs": [],
   "source": [
    "# Gaming\n",
    "category_id = \"0JQ5DAqbMKFCfObibaOZbv\"\n",
    "\n",
    "filtered_df = df[df['category_id'] == category_id]\n",
    "playlist_ids = filtered_df['playlist_id'].tolist()\n",
    "\n",
    "df_gaming = get_all_playlist_track_info(playlist_ids)\n",
    "df_gaming.to_excel(\"df_gaming.xlsx\", index = False)\n"
   ]
  },
  {
   "cell_type": "code",
   "execution_count": null,
   "metadata": {},
   "outputs": [],
   "source": [
    "# Glow\n",
    "category_id = \"0JQ5DAqbMKFGnsSfvg90Wo\"\n",
    "\n",
    "filtered_df = df[df['category_id'] == category_id]\n",
    "playlist_ids = filtered_df['playlist_id'].tolist()\n",
    "\n",
    "df_glow = get_all_playlist_track_info(playlist_ids)\n",
    "df_glow.to_excel(\"df_glow.xlsx\", index = False)\n"
   ]
  },
  {
   "cell_type": "code",
   "execution_count": null,
   "metadata": {},
   "outputs": [],
   "source": [
    "# Hip-Hop\n",
    "category_id = \"0JQ5DAqbMKFQ00XGBls6ym\"\n",
    "\n",
    "filtered_df = df[df['category_id'] == category_id]\n",
    "playlist_ids = filtered_df['playlist_id'].tolist()\n",
    "\n",
    "df_hiphop = get_all_playlist_track_info(playlist_ids)\n",
    "df_hiphop.to_excel(\"df_hiphop.xlsx\", index = False)\n"
   ]
  },
  {
   "cell_type": "code",
   "execution_count": null,
   "metadata": {},
   "outputs": [],
   "source": [
    "# Indie\n",
    "category_id = \"0JQ5DAqbMKFCWjUTdzaG0e\"\n",
    "\n",
    "filtered_df = df[df['category_id'] == category_id]\n",
    "playlist_ids = filtered_df['playlist_id'].tolist()\n",
    "\n",
    "df_indie = get_all_playlist_track_info(playlist_ids)\n",
    "df_indie.to_excel(\"df_indie.xlsx\", index = False)\n"
   ]
  },
  {
   "cell_type": "code",
   "execution_count": 5,
   "metadata": {},
   "outputs": [
    {
     "name": "stdout",
     "output_type": "stream",
     "text": [
      "Processing playlist: 61gSThGNWinqYWaazK7lwR\n"
     ]
    },
    {
     "ename": "KeyboardInterrupt",
     "evalue": "",
     "output_type": "error",
     "traceback": [
      "\u001b[0;31m---------------------------------------------------------------------------\u001b[0m",
      "\u001b[0;31mKeyboardInterrupt\u001b[0m                         Traceback (most recent call last)",
      "Input \u001b[0;32mIn [5]\u001b[0m, in \u001b[0;36m<cell line: 7>\u001b[0;34m()\u001b[0m\n\u001b[1;32m      4\u001b[0m filtered_df \u001b[38;5;241m=\u001b[39m df[df[\u001b[38;5;124m'\u001b[39m\u001b[38;5;124mcategory_id\u001b[39m\u001b[38;5;124m'\u001b[39m] \u001b[38;5;241m==\u001b[39m category_id]\n\u001b[1;32m      5\u001b[0m playlist_ids \u001b[38;5;241m=\u001b[39m filtered_df[\u001b[38;5;124m'\u001b[39m\u001b[38;5;124mplaylist_id\u001b[39m\u001b[38;5;124m'\u001b[39m]\u001b[38;5;241m.\u001b[39mtolist()\n\u001b[0;32m----> 7\u001b[0m df_influenceurs \u001b[38;5;241m=\u001b[39m \u001b[43mget_all_playlist_track_info\u001b[49m\u001b[43m(\u001b[49m\u001b[43mplaylist_ids\u001b[49m\u001b[43m)\u001b[49m\n\u001b[1;32m      8\u001b[0m df_influenceurs\u001b[38;5;241m.\u001b[39mto_excel(\u001b[38;5;124m\"\u001b[39m\u001b[38;5;124mdf_influenceurs.xlsx\u001b[39m\u001b[38;5;124m\"\u001b[39m, index \u001b[38;5;241m=\u001b[39m \u001b[38;5;28;01mFalse\u001b[39;00m)\n",
      "Input \u001b[0;32mIn [4]\u001b[0m, in \u001b[0;36mget_all_playlist_track_info\u001b[0;34m(playlist_ids)\u001b[0m\n\u001b[1;32m     93\u001b[0m \u001b[38;5;28;01mfor\u001b[39;00m playlist_id \u001b[38;5;129;01min\u001b[39;00m playlist_ids:\n\u001b[1;32m     94\u001b[0m     \u001b[38;5;28mprint\u001b[39m(\u001b[38;5;124mf\u001b[39m\u001b[38;5;124m\"\u001b[39m\u001b[38;5;124mProcessing playlist: \u001b[39m\u001b[38;5;132;01m{\u001b[39;00mplaylist_id\u001b[38;5;132;01m}\u001b[39;00m\u001b[38;5;124m\"\u001b[39m)\n\u001b[0;32m---> 95\u001b[0m     playlist_df \u001b[38;5;241m=\u001b[39m \u001b[43mget_playlist_track_info\u001b[49m\u001b[43m(\u001b[49m\u001b[43mplaylist_id\u001b[49m\u001b[43m)\u001b[49m\n\u001b[1;32m     96\u001b[0m     \u001b[38;5;28;01mif\u001b[39;00m playlist_df \u001b[38;5;129;01mis\u001b[39;00m \u001b[38;5;129;01mnot\u001b[39;00m \u001b[38;5;28;01mNone\u001b[39;00m:\n\u001b[1;32m     97\u001b[0m         playlist_dfs\u001b[38;5;241m.\u001b[39mappend(playlist_df)\n",
      "Input \u001b[0;32mIn [4]\u001b[0m, in \u001b[0;36mget_playlist_track_info\u001b[0;34m(playlist_id)\u001b[0m\n\u001b[1;32m     42\u001b[0m \u001b[38;5;28;01mfor\u001b[39;00m i \u001b[38;5;129;01min\u001b[39;00m \u001b[38;5;28mrange\u001b[39m(\u001b[38;5;241m0\u001b[39m, \u001b[38;5;28mlen\u001b[39m(track_ids), \u001b[38;5;241m50\u001b[39m):\n\u001b[1;32m     43\u001b[0m     batch_tracks \u001b[38;5;241m=\u001b[39m track_ids[i:i\u001b[38;5;241m+\u001b[39m\u001b[38;5;241m50\u001b[39m]\n\u001b[0;32m---> 44\u001b[0m     tracks \u001b[38;5;241m=\u001b[39m \u001b[43msp\u001b[49m\u001b[38;5;241;43m.\u001b[39;49m\u001b[43mtracks\u001b[49m\u001b[43m(\u001b[49m\u001b[43mbatch_tracks\u001b[49m\u001b[43m)\u001b[49m[\u001b[38;5;124m'\u001b[39m\u001b[38;5;124mtracks\u001b[39m\u001b[38;5;124m'\u001b[39m]\n\u001b[1;32m     45\u001b[0m     track_info\u001b[38;5;241m.\u001b[39mextend(tracks)\n\u001b[1;32m     47\u001b[0m \u001b[38;5;28;01mif\u001b[39;00m track_info \u001b[38;5;129;01mis\u001b[39;00m \u001b[38;5;129;01mnot\u001b[39;00m \u001b[38;5;28;01mNone\u001b[39;00m:\n",
      "File \u001b[0;32m~/opt/anaconda3/lib/python3.9/site-packages/spotipy/client.py:382\u001b[0m, in \u001b[0;36mSpotify.tracks\u001b[0;34m(self, tracks, market)\u001b[0m\n\u001b[1;32m    374\u001b[0m \u001b[38;5;124;03m\"\"\" returns a list of tracks given a list of track IDs, URIs, or URLs\u001b[39;00m\n\u001b[1;32m    375\u001b[0m \n\u001b[1;32m    376\u001b[0m \u001b[38;5;124;03m    Parameters:\u001b[39;00m\n\u001b[1;32m    377\u001b[0m \u001b[38;5;124;03m        - tracks - a list of spotify URIs, URLs or IDs. Maximum: 50 IDs.\u001b[39;00m\n\u001b[1;32m    378\u001b[0m \u001b[38;5;124;03m        - market - an ISO 3166-1 alpha-2 country code.\u001b[39;00m\n\u001b[1;32m    379\u001b[0m \u001b[38;5;124;03m\"\"\"\u001b[39;00m\n\u001b[1;32m    381\u001b[0m tlist \u001b[38;5;241m=\u001b[39m [\u001b[38;5;28mself\u001b[39m\u001b[38;5;241m.\u001b[39m_get_id(\u001b[38;5;124m\"\u001b[39m\u001b[38;5;124mtrack\u001b[39m\u001b[38;5;124m\"\u001b[39m, t) \u001b[38;5;28;01mfor\u001b[39;00m t \u001b[38;5;129;01min\u001b[39;00m tracks]\n\u001b[0;32m--> 382\u001b[0m \u001b[38;5;28;01mreturn\u001b[39;00m \u001b[38;5;28;43mself\u001b[39;49m\u001b[38;5;241;43m.\u001b[39;49m\u001b[43m_get\u001b[49m\u001b[43m(\u001b[49m\u001b[38;5;124;43m\"\u001b[39;49m\u001b[38;5;124;43mtracks/?ids=\u001b[39;49m\u001b[38;5;124;43m\"\u001b[39;49m\u001b[43m \u001b[49m\u001b[38;5;241;43m+\u001b[39;49m\u001b[43m \u001b[49m\u001b[38;5;124;43m\"\u001b[39;49m\u001b[38;5;124;43m,\u001b[39;49m\u001b[38;5;124;43m\"\u001b[39;49m\u001b[38;5;241;43m.\u001b[39;49m\u001b[43mjoin\u001b[49m\u001b[43m(\u001b[49m\u001b[43mtlist\u001b[49m\u001b[43m)\u001b[49m\u001b[43m,\u001b[49m\u001b[43m \u001b[49m\u001b[43mmarket\u001b[49m\u001b[38;5;241;43m=\u001b[39;49m\u001b[43mmarket\u001b[49m\u001b[43m)\u001b[49m\n",
      "File \u001b[0;32m~/opt/anaconda3/lib/python3.9/site-packages/spotipy/client.py:323\u001b[0m, in \u001b[0;36mSpotify._get\u001b[0;34m(self, url, args, payload, **kwargs)\u001b[0m\n\u001b[1;32m    320\u001b[0m \u001b[38;5;28;01mif\u001b[39;00m args:\n\u001b[1;32m    321\u001b[0m     kwargs\u001b[38;5;241m.\u001b[39mupdate(args)\n\u001b[0;32m--> 323\u001b[0m \u001b[38;5;28;01mreturn\u001b[39;00m \u001b[38;5;28;43mself\u001b[39;49m\u001b[38;5;241;43m.\u001b[39;49m\u001b[43m_internal_call\u001b[49m\u001b[43m(\u001b[49m\u001b[38;5;124;43m\"\u001b[39;49m\u001b[38;5;124;43mGET\u001b[39;49m\u001b[38;5;124;43m\"\u001b[39;49m\u001b[43m,\u001b[49m\u001b[43m \u001b[49m\u001b[43murl\u001b[49m\u001b[43m,\u001b[49m\u001b[43m \u001b[49m\u001b[43mpayload\u001b[49m\u001b[43m,\u001b[49m\u001b[43m \u001b[49m\u001b[43mkwargs\u001b[49m\u001b[43m)\u001b[49m\n",
      "File \u001b[0;32m~/opt/anaconda3/lib/python3.9/site-packages/spotipy/client.py:266\u001b[0m, in \u001b[0;36mSpotify._internal_call\u001b[0;34m(self, method, url, payload, params)\u001b[0m\n\u001b[1;32m    262\u001b[0m logger\u001b[38;5;241m.\u001b[39mdebug(\u001b[38;5;124m'\u001b[39m\u001b[38;5;124mSending \u001b[39m\u001b[38;5;132;01m%s\u001b[39;00m\u001b[38;5;124m to \u001b[39m\u001b[38;5;132;01m%s\u001b[39;00m\u001b[38;5;124m with Params: \u001b[39m\u001b[38;5;132;01m%s\u001b[39;00m\u001b[38;5;124m Headers: \u001b[39m\u001b[38;5;132;01m%s\u001b[39;00m\u001b[38;5;124m and Body: \u001b[39m\u001b[38;5;132;01m%r\u001b[39;00m\u001b[38;5;124m \u001b[39m\u001b[38;5;124m'\u001b[39m,\n\u001b[1;32m    263\u001b[0m              method, url, args\u001b[38;5;241m.\u001b[39mget(\u001b[38;5;124m\"\u001b[39m\u001b[38;5;124mparams\u001b[39m\u001b[38;5;124m\"\u001b[39m), headers, args\u001b[38;5;241m.\u001b[39mget(\u001b[38;5;124m'\u001b[39m\u001b[38;5;124mdata\u001b[39m\u001b[38;5;124m'\u001b[39m))\n\u001b[1;32m    265\u001b[0m \u001b[38;5;28;01mtry\u001b[39;00m:\n\u001b[0;32m--> 266\u001b[0m     response \u001b[38;5;241m=\u001b[39m \u001b[38;5;28;43mself\u001b[39;49m\u001b[38;5;241;43m.\u001b[39;49m\u001b[43m_session\u001b[49m\u001b[38;5;241;43m.\u001b[39;49m\u001b[43mrequest\u001b[49m\u001b[43m(\u001b[49m\n\u001b[1;32m    267\u001b[0m \u001b[43m        \u001b[49m\u001b[43mmethod\u001b[49m\u001b[43m,\u001b[49m\u001b[43m \u001b[49m\u001b[43murl\u001b[49m\u001b[43m,\u001b[49m\u001b[43m \u001b[49m\u001b[43mheaders\u001b[49m\u001b[38;5;241;43m=\u001b[39;49m\u001b[43mheaders\u001b[49m\u001b[43m,\u001b[49m\u001b[43m \u001b[49m\u001b[43mproxies\u001b[49m\u001b[38;5;241;43m=\u001b[39;49m\u001b[38;5;28;43mself\u001b[39;49m\u001b[38;5;241;43m.\u001b[39;49m\u001b[43mproxies\u001b[49m\u001b[43m,\u001b[49m\n\u001b[1;32m    268\u001b[0m \u001b[43m        \u001b[49m\u001b[43mtimeout\u001b[49m\u001b[38;5;241;43m=\u001b[39;49m\u001b[38;5;28;43mself\u001b[39;49m\u001b[38;5;241;43m.\u001b[39;49m\u001b[43mrequests_timeout\u001b[49m\u001b[43m,\u001b[49m\u001b[43m \u001b[49m\u001b[38;5;241;43m*\u001b[39;49m\u001b[38;5;241;43m*\u001b[39;49m\u001b[43margs\u001b[49m\n\u001b[1;32m    269\u001b[0m \u001b[43m    \u001b[49m\u001b[43m)\u001b[49m\n\u001b[1;32m    271\u001b[0m     response\u001b[38;5;241m.\u001b[39mraise_for_status()\n\u001b[1;32m    272\u001b[0m     results \u001b[38;5;241m=\u001b[39m response\u001b[38;5;241m.\u001b[39mjson()\n",
      "File \u001b[0;32m~/opt/anaconda3/lib/python3.9/site-packages/requests/sessions.py:529\u001b[0m, in \u001b[0;36mSession.request\u001b[0;34m(self, method, url, params, data, headers, cookies, files, auth, timeout, allow_redirects, proxies, hooks, stream, verify, cert, json)\u001b[0m\n\u001b[1;32m    524\u001b[0m send_kwargs \u001b[38;5;241m=\u001b[39m {\n\u001b[1;32m    525\u001b[0m     \u001b[38;5;124m'\u001b[39m\u001b[38;5;124mtimeout\u001b[39m\u001b[38;5;124m'\u001b[39m: timeout,\n\u001b[1;32m    526\u001b[0m     \u001b[38;5;124m'\u001b[39m\u001b[38;5;124mallow_redirects\u001b[39m\u001b[38;5;124m'\u001b[39m: allow_redirects,\n\u001b[1;32m    527\u001b[0m }\n\u001b[1;32m    528\u001b[0m send_kwargs\u001b[38;5;241m.\u001b[39mupdate(settings)\n\u001b[0;32m--> 529\u001b[0m resp \u001b[38;5;241m=\u001b[39m \u001b[38;5;28;43mself\u001b[39;49m\u001b[38;5;241;43m.\u001b[39;49m\u001b[43msend\u001b[49m\u001b[43m(\u001b[49m\u001b[43mprep\u001b[49m\u001b[43m,\u001b[49m\u001b[43m \u001b[49m\u001b[38;5;241;43m*\u001b[39;49m\u001b[38;5;241;43m*\u001b[39;49m\u001b[43msend_kwargs\u001b[49m\u001b[43m)\u001b[49m\n\u001b[1;32m    531\u001b[0m \u001b[38;5;28;01mreturn\u001b[39;00m resp\n",
      "File \u001b[0;32m~/opt/anaconda3/lib/python3.9/site-packages/requests/sessions.py:645\u001b[0m, in \u001b[0;36mSession.send\u001b[0;34m(self, request, **kwargs)\u001b[0m\n\u001b[1;32m    642\u001b[0m start \u001b[38;5;241m=\u001b[39m preferred_clock()\n\u001b[1;32m    644\u001b[0m \u001b[38;5;66;03m# Send the request\u001b[39;00m\n\u001b[0;32m--> 645\u001b[0m r \u001b[38;5;241m=\u001b[39m \u001b[43madapter\u001b[49m\u001b[38;5;241;43m.\u001b[39;49m\u001b[43msend\u001b[49m\u001b[43m(\u001b[49m\u001b[43mrequest\u001b[49m\u001b[43m,\u001b[49m\u001b[43m \u001b[49m\u001b[38;5;241;43m*\u001b[39;49m\u001b[38;5;241;43m*\u001b[39;49m\u001b[43mkwargs\u001b[49m\u001b[43m)\u001b[49m\n\u001b[1;32m    647\u001b[0m \u001b[38;5;66;03m# Total elapsed time of the request (approximately)\u001b[39;00m\n\u001b[1;32m    648\u001b[0m elapsed \u001b[38;5;241m=\u001b[39m preferred_clock() \u001b[38;5;241m-\u001b[39m start\n",
      "File \u001b[0;32m~/opt/anaconda3/lib/python3.9/site-packages/requests/adapters.py:440\u001b[0m, in \u001b[0;36mHTTPAdapter.send\u001b[0;34m(self, request, stream, timeout, verify, cert, proxies)\u001b[0m\n\u001b[1;32m    438\u001b[0m \u001b[38;5;28;01mtry\u001b[39;00m:\n\u001b[1;32m    439\u001b[0m     \u001b[38;5;28;01mif\u001b[39;00m \u001b[38;5;129;01mnot\u001b[39;00m chunked:\n\u001b[0;32m--> 440\u001b[0m         resp \u001b[38;5;241m=\u001b[39m \u001b[43mconn\u001b[49m\u001b[38;5;241;43m.\u001b[39;49m\u001b[43murlopen\u001b[49m\u001b[43m(\u001b[49m\n\u001b[1;32m    441\u001b[0m \u001b[43m            \u001b[49m\u001b[43mmethod\u001b[49m\u001b[38;5;241;43m=\u001b[39;49m\u001b[43mrequest\u001b[49m\u001b[38;5;241;43m.\u001b[39;49m\u001b[43mmethod\u001b[49m\u001b[43m,\u001b[49m\n\u001b[1;32m    442\u001b[0m \u001b[43m            \u001b[49m\u001b[43murl\u001b[49m\u001b[38;5;241;43m=\u001b[39;49m\u001b[43murl\u001b[49m\u001b[43m,\u001b[49m\n\u001b[1;32m    443\u001b[0m \u001b[43m            \u001b[49m\u001b[43mbody\u001b[49m\u001b[38;5;241;43m=\u001b[39;49m\u001b[43mrequest\u001b[49m\u001b[38;5;241;43m.\u001b[39;49m\u001b[43mbody\u001b[49m\u001b[43m,\u001b[49m\n\u001b[1;32m    444\u001b[0m \u001b[43m            \u001b[49m\u001b[43mheaders\u001b[49m\u001b[38;5;241;43m=\u001b[39;49m\u001b[43mrequest\u001b[49m\u001b[38;5;241;43m.\u001b[39;49m\u001b[43mheaders\u001b[49m\u001b[43m,\u001b[49m\n\u001b[1;32m    445\u001b[0m \u001b[43m            \u001b[49m\u001b[43mredirect\u001b[49m\u001b[38;5;241;43m=\u001b[39;49m\u001b[38;5;28;43;01mFalse\u001b[39;49;00m\u001b[43m,\u001b[49m\n\u001b[1;32m    446\u001b[0m \u001b[43m            \u001b[49m\u001b[43massert_same_host\u001b[49m\u001b[38;5;241;43m=\u001b[39;49m\u001b[38;5;28;43;01mFalse\u001b[39;49;00m\u001b[43m,\u001b[49m\n\u001b[1;32m    447\u001b[0m \u001b[43m            \u001b[49m\u001b[43mpreload_content\u001b[49m\u001b[38;5;241;43m=\u001b[39;49m\u001b[38;5;28;43;01mFalse\u001b[39;49;00m\u001b[43m,\u001b[49m\n\u001b[1;32m    448\u001b[0m \u001b[43m            \u001b[49m\u001b[43mdecode_content\u001b[49m\u001b[38;5;241;43m=\u001b[39;49m\u001b[38;5;28;43;01mFalse\u001b[39;49;00m\u001b[43m,\u001b[49m\n\u001b[1;32m    449\u001b[0m \u001b[43m            \u001b[49m\u001b[43mretries\u001b[49m\u001b[38;5;241;43m=\u001b[39;49m\u001b[38;5;28;43mself\u001b[39;49m\u001b[38;5;241;43m.\u001b[39;49m\u001b[43mmax_retries\u001b[49m\u001b[43m,\u001b[49m\n\u001b[1;32m    450\u001b[0m \u001b[43m            \u001b[49m\u001b[43mtimeout\u001b[49m\u001b[38;5;241;43m=\u001b[39;49m\u001b[43mtimeout\u001b[49m\n\u001b[1;32m    451\u001b[0m \u001b[43m        \u001b[49m\u001b[43m)\u001b[49m\n\u001b[1;32m    453\u001b[0m     \u001b[38;5;66;03m# Send the request.\u001b[39;00m\n\u001b[1;32m    454\u001b[0m     \u001b[38;5;28;01melse\u001b[39;00m:\n\u001b[1;32m    455\u001b[0m         \u001b[38;5;28;01mif\u001b[39;00m \u001b[38;5;28mhasattr\u001b[39m(conn, \u001b[38;5;124m'\u001b[39m\u001b[38;5;124mproxy_pool\u001b[39m\u001b[38;5;124m'\u001b[39m):\n",
      "File \u001b[0;32m~/opt/anaconda3/lib/python3.9/site-packages/urllib3/connectionpool.py:874\u001b[0m, in \u001b[0;36mHTTPConnectionPool.urlopen\u001b[0;34m(self, method, url, body, headers, retries, redirect, assert_same_host, timeout, pool_timeout, release_conn, chunked, body_pos, **response_kw)\u001b[0m\n\u001b[1;32m    871\u001b[0m     \u001b[38;5;28;01mreturn\u001b[39;00m response\n\u001b[1;32m    873\u001b[0m response\u001b[38;5;241m.\u001b[39mdrain_conn()\n\u001b[0;32m--> 874\u001b[0m \u001b[43mretries\u001b[49m\u001b[38;5;241;43m.\u001b[39;49m\u001b[43msleep\u001b[49m\u001b[43m(\u001b[49m\u001b[43mresponse\u001b[49m\u001b[43m)\u001b[49m\n\u001b[1;32m    875\u001b[0m log\u001b[38;5;241m.\u001b[39mdebug(\u001b[38;5;124m\"\u001b[39m\u001b[38;5;124mRetry: \u001b[39m\u001b[38;5;132;01m%s\u001b[39;00m\u001b[38;5;124m\"\u001b[39m, url)\n\u001b[1;32m    876\u001b[0m \u001b[38;5;28;01mreturn\u001b[39;00m \u001b[38;5;28mself\u001b[39m\u001b[38;5;241m.\u001b[39murlopen(\n\u001b[1;32m    877\u001b[0m     method,\n\u001b[1;32m    878\u001b[0m     url,\n\u001b[0;32m   (...)\u001b[0m\n\u001b[1;32m    889\u001b[0m     \u001b[38;5;241m*\u001b[39m\u001b[38;5;241m*\u001b[39mresponse_kw\n\u001b[1;32m    890\u001b[0m )\n",
      "File \u001b[0;32m~/opt/anaconda3/lib/python3.9/site-packages/urllib3/util/retry.py:428\u001b[0m, in \u001b[0;36mRetry.sleep\u001b[0;34m(self, response)\u001b[0m\n\u001b[1;32m    419\u001b[0m \u001b[38;5;124;03m\"\"\"Sleep between retry attempts.\u001b[39;00m\n\u001b[1;32m    420\u001b[0m \n\u001b[1;32m    421\u001b[0m \u001b[38;5;124;03mThis method will respect a server's ``Retry-After`` response header\u001b[39;00m\n\u001b[0;32m   (...)\u001b[0m\n\u001b[1;32m    424\u001b[0m \u001b[38;5;124;03mthis method will return immediately.\u001b[39;00m\n\u001b[1;32m    425\u001b[0m \u001b[38;5;124;03m\"\"\"\u001b[39;00m\n\u001b[1;32m    427\u001b[0m \u001b[38;5;28;01mif\u001b[39;00m \u001b[38;5;28mself\u001b[39m\u001b[38;5;241m.\u001b[39mrespect_retry_after_header \u001b[38;5;129;01mand\u001b[39;00m response:\n\u001b[0;32m--> 428\u001b[0m     slept \u001b[38;5;241m=\u001b[39m \u001b[38;5;28;43mself\u001b[39;49m\u001b[38;5;241;43m.\u001b[39;49m\u001b[43msleep_for_retry\u001b[49m\u001b[43m(\u001b[49m\u001b[43mresponse\u001b[49m\u001b[43m)\u001b[49m\n\u001b[1;32m    429\u001b[0m     \u001b[38;5;28;01mif\u001b[39;00m slept:\n\u001b[1;32m    430\u001b[0m         \u001b[38;5;28;01mreturn\u001b[39;00m\n",
      "File \u001b[0;32m~/opt/anaconda3/lib/python3.9/site-packages/urllib3/util/retry.py:407\u001b[0m, in \u001b[0;36mRetry.sleep_for_retry\u001b[0;34m(self, response)\u001b[0m\n\u001b[1;32m    405\u001b[0m retry_after \u001b[38;5;241m=\u001b[39m \u001b[38;5;28mself\u001b[39m\u001b[38;5;241m.\u001b[39mget_retry_after(response)\n\u001b[1;32m    406\u001b[0m \u001b[38;5;28;01mif\u001b[39;00m retry_after:\n\u001b[0;32m--> 407\u001b[0m     \u001b[43mtime\u001b[49m\u001b[38;5;241;43m.\u001b[39;49m\u001b[43msleep\u001b[49m\u001b[43m(\u001b[49m\u001b[43mretry_after\u001b[49m\u001b[43m)\u001b[49m\n\u001b[1;32m    408\u001b[0m     \u001b[38;5;28;01mreturn\u001b[39;00m \u001b[38;5;28;01mTrue\u001b[39;00m\n\u001b[1;32m    410\u001b[0m \u001b[38;5;28;01mreturn\u001b[39;00m \u001b[38;5;28;01mFalse\u001b[39;00m\n",
      "\u001b[0;31mKeyboardInterrupt\u001b[0m: "
     ]
    }
   ],
   "source": [
    "# Influenceurs\n",
    "category_id = \"0JQ5DAqbMKFRKBHIxJ5hMm\"\n",
    "\n",
    "filtered_df = df[df['category_id'] == category_id]\n",
    "playlist_ids = filtered_df['playlist_id'].tolist()\n",
    "\n",
    "df_influenceurs = get_all_playlist_track_info(playlist_ids)\n",
    "df_influenceurs.to_excel(\"df_influenceurs.xlsx\", index = False)\n"
   ]
  },
  {
   "cell_type": "code",
   "execution_count": null,
   "metadata": {},
   "outputs": [],
   "source": [
    "# Jazz\n",
    "category_id = \"0JQ5DAqbMKFAJ5xb0fwo9m\"\n",
    "\n",
    "filtered_df = df[df['category_id'] == category_id]\n",
    "playlist_ids = filtered_df['playlist_id'].tolist()\n",
    "\n",
    "df_jazz = get_all_playlist_track_info(playlist_ids)\n",
    "df_jazz.to_excel(\"df_jazz.xlsx\", index = False)\n"
   ]
  },
  {
   "cell_type": "code",
   "execution_count": null,
   "metadata": {},
   "outputs": [],
   "source": [
    "category_id = \"0JQ5DAqbMKFLjmiZRss79w\" # Ambient\n",
    "\n",
    "filtered_df = df[df['category_id'] == category_id]\n",
    "playlist_ids = filtered_df['playlist_id'].tolist()\n",
    "\n",
    "df_ambient = get_all_playlist_track_info(playlist_ids)\n",
    "\n",
    "df_ambient.to_excel(\"df_ambient.xlsx\", index = False)\n"
   ]
  },
  {
   "cell_type": "code",
   "execution_count": null,
   "metadata": {},
   "outputs": [],
   "source": [
    "category_id = \"0JQ5DAqbMKFKLfwjuJMoNC\" # Country\n",
    "\n",
    "filtered_df = df[df['category_id'] == category_id]\n",
    "playlist_ids = filtered_df['playlist_id'].tolist()\n",
    "\n",
    "df_country = get_all_playlist_track_info(playlist_ids)\n",
    "\n",
    "df_country.to_excel(\"df_country.xlsx\", index = False)\n"
   ]
  },
  {
   "cell_type": "code",
   "execution_count": null,
   "metadata": {},
   "outputs": [],
   "source": [
    "category_id = \"0JQ5DAqbMKFQiK2EHwyjcU\" # Blues\n",
    "\n",
    "filtered_df = df[df['category_id'] == category_id]\n",
    "playlist_ids = filtered_df['playlist_id'].tolist()\n",
    "\n",
    "df_blues = get_all_playlist_track_info(playlist_ids)\n",
    "\n",
    "df_blues.to_excel(\"df_blues.xlsx\", index = False)\n"
   ]
  },
  {
   "cell_type": "code",
   "execution_count": null,
   "metadata": {},
   "outputs": [],
   "source": [
    "category_id = \"0JQ5DAqbMKFQ1UFISXj59F\" # Arabe\n",
    "\n",
    "filtered_df = df[df['category_id'] == category_id]\n",
    "playlist_ids = filtered_df['playlist_id'].tolist()\n",
    "\n",
    "df_arabe = get_all_playlist_track_info(playlist_ids)\n",
    "\n",
    "df_arabe.to_excel(\"df_arabe.xlsx\", index = False)\n"
   ]
  },
  {
   "cell_type": "code",
   "execution_count": null,
   "metadata": {},
   "outputs": [],
   "source": [
    "category_id = \"0JQ5DAqbMKFAQy4HL4XU2D\" # Voyage\n",
    "\n",
    "filtered_df = df[df['category_id'] == category_id]\n",
    "playlist_ids = filtered_df['playlist_id'].tolist()\n",
    "\n",
    "df_voyage = get_all_playlist_track_info(playlist_ids)\n",
    "\n",
    "df_voyage.to_excel(\"df_voyage.xlsx\", index = False)\n"
   ]
  },
  {
   "cell_type": "code",
   "execution_count": null,
   "metadata": {},
   "outputs": [],
   "source": [
    "category_id = \"0JQ5DAqbMKFF9bY76LXmfI\" # Frequency\n",
    "\n",
    "filtered_df = df[df['category_id'] == category_id]\n",
    "playlist_ids = filtered_df['playlist_id'].tolist()\n",
    "\n",
    "df_frequency = get_all_playlist_track_info(playlist_ids)\n",
    "\n",
    "df_frequency.to_excel(\"df_frequency.xlsx\", index = False)\n"
   ]
  }
 ],
 "metadata": {
  "kernelspec": {
   "display_name": "base",
   "language": "python",
   "name": "python3"
  },
  "language_info": {
   "codemirror_mode": {
    "name": "ipython",
    "version": 3
   },
   "file_extension": ".py",
   "mimetype": "text/x-python",
   "name": "python",
   "nbconvert_exporter": "python",
   "pygments_lexer": "ipython3",
   "version": "3.9.12"
  },
  "orig_nbformat": 4
 },
 "nbformat": 4,
 "nbformat_minor": 2
}
