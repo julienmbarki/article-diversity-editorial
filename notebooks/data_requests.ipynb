{
 "cells": [
  {
   "attachments": {},
   "cell_type": "markdown",
   "metadata": {},
   "source": [
    "Import Modules"
   ]
  },
  {
   "cell_type": "code",
   "execution_count": null,
   "metadata": {},
   "outputs": [],
   "source": [
    "import json\n",
    "import requests\n",
    "import time\n",
    "\n",
    "import pandas as pd\n",
    "\n",
    "import spotipy\n",
    "from spotipy.oauth2 import SpotifyClientCredentials\n",
    "\n",
    "from selenium import webdriver\n",
    "from selenium.webdriver.common.by import By\n",
    "from selenium.webdriver.common.action_chains import ActionChains\n",
    "from selenium.webdriver.common.keys import Keys\n"
   ]
  },
  {
   "attachments": {},
   "cell_type": "markdown",
   "metadata": {},
   "source": [
    "Connexion API"
   ]
  },
  {
   "cell_type": "code",
   "execution_count": null,
   "metadata": {},
   "outputs": [],
   "source": [
    "client_id = ''\n",
    "client_secret = ''\n",
    "\n",
    "client_credentials_manager = SpotifyClientCredentials(client_id, client_secret)\n",
    "sp = spotipy.Spotify(client_credentials_manager=client_credentials_manager)\n"
   ]
  },
  {
   "attachments": {},
   "cell_type": "markdown",
   "metadata": {},
   "source": [
    "Scrap playlists IDs"
   ]
  },
  {
   "attachments": {},
   "cell_type": "markdown",
   "metadata": {},
   "source": [
    "API function"
   ]
  },
  {
   "cell_type": "code",
   "execution_count": null,
   "metadata": {},
   "outputs": [],
   "source": [
    "# Set category IDs\n",
    "category_ids = ['0JQ5DAqbMKFQ00XGBls6ym', '0JQ5DAqbMKFEC4WFtoNRpw', '0JQ5DAqbMKFBweu2euf3Sj', '0JQ5DAqbMKFLVaM30PMBm4', '0JQ5DAudkNjCgYMM0TZXDr',\n",
    "                '0JQ5DAqbMKFxXaXKP7zcDp', '0JQ5DAqbMKFzHmL4tf05da', '0JQ5DAqbMKFHOzuVTgTizF', '0JQ5DAqbMKFDXXwE9BDJAr', '0JQ5DAqbMKFCWjUTdzaG0e',\n",
    "                '0JQ5DAqbMKFAXlCG6QvYQ4', '0JQ5DAqbMKFEZPnFQSFB1T', '0JQ5DAqbMKFNQ0fGp4byGU', '0JQ5DAqbMKFGvOw3O4nLAf', '0JQ5DAqbMKFFzDl7qN9Apr',\n",
    "                '0JQ5DAqbMKFCuoRTxhYWow', '0JQ5DAqbMKFA6SOHvT3gck', '0JQ5DAqbMKFP9UNkavIGrM', '0JQ5DAqbMKFJKoGyUMo2hE', '0JQ5DAqbMKFx0uLQR2okcc',\n",
    "                '0JQ5DAqbMKFIVNxQgRNSg0', '0JQ5DAqbMKFFtlLYUHv8bT', '0JQ5DAqbMKFAUsdyVjCQuL', '0JQ5DAqbMKFDkd668ypn6O', '0JQ5DAqbMKFAJ5xb0fwo9m',\n",
    "                '0JQ5DAqbMKFQIL0AXnG5AK', '0JQ5DAqbMKFPw634sFwguI', '0JQ5DAqbMKFOOxftoKZxod', '0JQ5DAqbMKFPrEiAOxgac3', '0JQ5DAqbMKFy78wprEpAjl',\n",
    "                '0JQ5DAqbMKFCbimwdOYlsl', '0JQ5DAqbMKFIpEuaCnimBj', '0JQ5DAqbMKFEOEBCABAxo9', '0JQ5DAqbMKFFoimhOqWzLB', '0JQ5DAqbMKFJw7QLnM27p6',\n",
    "                '0JQ5DAqbMKFCfObibaOZbv', '0JQ5DAqbMKFLb2EqgLtpjC', '0JQ5DAqbMKFAjfauKLOZiv', '0JQ5DAqbMKFLjmiZRss79w', '0JQ5DAqbMKFKLfwjuJMoNC',\n",
    "                '0JQ5DAqbMKFQiK2EHwyjcU', '0JQ5DAqbMKFQ1UFISXj59F', '0JQ5DAqbMKFAQy4HL4XU2D', '0JQ5DAqbMKFObNLOHydSW8', '0JQ5DAqbMKFSCjnQr8QZ3O',\n",
    "                '0JQ5DAqbMKFI3pNLtYMD9S', '0JQ5DAqbMKFFsW9N8maB6z', '0JQ5DAqbMKFF9bY76LXmfI', '0JQ5DAqbMKFRKBHIxJ5hMm', '0JQ5DAqbMKFGnsSfvg90Wo',\n",
    "                '0JQ5DAqbMKFLYQVFHcXMae', '0JQ5DAqbMKFDBgllo2cUIN', '0JQ5DAqbMKFOzQeOmemkuw', '0JQ5DAqbMKFziKOShCi009', '0JQ5DAqbMKFRieVZLLoo9m',\n",
    "                '0JQ5DAqbMKFRY5ok2pxXJ0', '0JQ5DAqbMKFImHYGo3eTSg']\n",
    "\n",
    "# Store missing categories\n",
    "missing_categories = []\n",
    "\n",
    "# Loop over all categories and get playlists\n",
    "playlists = []\n",
    "for category_id in category_ids:\n",
    "    try:\n",
    "        # Get first 50 playlists in category\n",
    "        response = sp.category_playlists(category_id, limit=50)\n",
    "        category_playlists = response[\"playlists\"][\"items\"]\n",
    "        \n",
    "        # Check if there are more playlists in category\n",
    "        while response[\"playlists\"][\"next\"]:\n",
    "            response = sp.next(response[\"playlists\"])\n",
    "            category_playlists += response[\"playlists\"][\"items\"]\n",
    "        \n",
    "        # Append category playlists to list\n",
    "        for playlist in category_playlists:\n",
    "            playlist_id = playlist[\"id\"]\n",
    "            playlist_name = playlist[\"name\"]\n",
    "            playlists.append({\"category_id\": category_id, \"playlist_id\": playlist_id, \"playlist_name\": playlist_name})\n",
    "    except: \n",
    "        missing_categories.append(category_id)\n",
    "        print(f\"Category with ID {category_id} doesn't exist.\")\n",
    "\n",
    "# Create dataframe from playlists\n",
    "df_playlists = pd.DataFrame(playlists, columns=[\"category_id\", \"playlist_id\", \"playlist_name\"])\n",
    "\n",
    "print(df_playlists)\n"
   ]
  },
  {
   "attachments": {},
   "cell_type": "markdown",
   "metadata": {},
   "source": [
    "HTML scrapping for missing categories"
   ]
  },
  {
   "cell_type": "code",
   "execution_count": null,
   "metadata": {},
   "outputs": [],
   "source": [
    "urls = [\n",
    "    'https://open.spotify.com/genre/section0JQ5DAzQHECxDlYNI6xD1h',\n",
    "    'https://open.spotify.com/genre/section0JQ5DAzQHECxDlYNI6xD1i',\n",
    "    'https://open.spotify.com/genre/section0JQ5DAzQHECxDlYNI6xD1j'\n",
    "]\n",
    "\n",
    "# Set up the web driver\n",
    "driver = webdriver.Safari(executable_path='/usr/bin/safaridriver')\n",
    "\n",
    "top_playlists = []\n",
    "\n",
    "for url in urls:\n",
    "    driver.get(url)\n",
    "\n",
    "    # Wait for the playlists to load\n",
    "    time.sleep(5)  # Wait for initial playlists to load\n",
    "\n",
    "    playlists = driver.find_elements(By.CLASS_NAME, 'Nqa6Cw3RkDMV8QnYreTr')\n",
    "    last_playlist = playlists[-1]\n",
    "\n",
    "    while True:\n",
    "        # Scroll down to the last playlist\n",
    "        driver.execute_script(\"arguments[0].scrollIntoView();\", last_playlist)\n",
    "        time.sleep(2)\n",
    "        # Check if there are new playlists\n",
    "        new_playlists = driver.find_elements(By.CLASS_NAME, 'Nqa6Cw3RkDMV8QnYreTr')\n",
    "        if new_playlists[-1] != last_playlist:\n",
    "            last_playlist = new_playlists[-1]\n",
    "            playlists = new_playlists\n",
    "        else:\n",
    "            break\n",
    "\n",
    "    # Extract playlist information\n",
    "    for playlist in playlists:\n",
    "        href = playlist.get_attribute('href')\n",
    "        playlist_id = href.split('/')[-1]\n",
    "        playlist_name = playlist.text\n",
    "        top_playlists.append({\"category_id\": '0JQ5DAudkNjCgYMM0TZXDr', \"playlist_id\": playlist_id, \"playlist_name\": playlist_name})\n",
    "\n",
    "# Quit the driver\n",
    "driver.quit()\n",
    "\n",
    "df_top_playlists = pd.DataFrame(top_playlists, columns=[\"category_id\", \"playlist_id\", \"playlist_name\"])\n",
    "\n",
    "print(df_top_playlists)\n"
   ]
  },
  {
   "attachments": {},
   "cell_type": "markdown",
   "metadata": {},
   "source": [
    "Parse playlists info into excel"
   ]
  },
  {
   "cell_type": "code",
   "execution_count": null,
   "metadata": {},
   "outputs": [],
   "source": [
    "# Combine the manual and API playlists into one DataFrame\n",
    "df_combined = pd.concat([df_playlists, df_top_playlists], ignore_index=True)\n",
    "\n",
    "# Export the combined DataFrame to an Excel file\n",
    "df_combined.to_excel(\"playlists_info.xlsx\", index=False)\n",
    "\n",
    "# Drop duplicates based on the \"playlist_id\" column, keeping the first occurrence\n",
    "df_cleaned = df_combined.drop_duplicates(subset='playlist_id', keep='first')\n",
    "\n",
    "# Export the cleaned DataFrame to an Excel file\n",
    "df_cleaned.to_excel(\"playlists_info_clean.xlsx\", index=False)\n"
   ]
  },
  {
   "attachments": {},
   "cell_type": "markdown",
   "metadata": {},
   "source": [
    "Request data and create dataset"
   ]
  },
  {
   "cell_type": "code",
   "execution_count": null,
   "metadata": {},
   "outputs": [],
   "source": [
    "df = pd.read_excel('playlists_info_clean.xlsx')\n"
   ]
  },
  {
   "attachments": {},
   "cell_type": "markdown",
   "metadata": {},
   "source": [
    "Define scrapping functions"
   ]
  },
  {
   "cell_type": "code",
   "execution_count": null,
   "metadata": {},
   "outputs": [],
   "source": [
    "# Define a function to get all the tracks in a playlist, handling the API limit\n",
    "def get_all_playlist_tracks(playlist_id):\n",
    "    results = sp.playlist_tracks(playlist_id)\n",
    "    tracks = results['items']\n",
    "    while results['next']:\n",
    "        results = sp.next(results)\n",
    "        tracks.extend(results['items'])\n",
    "    return tracks\n",
    "\n",
    "# Define a function to get all the audio features for a set of tracks, handling the API limit\n",
    "def get_all_audio_features(track_ids):\n",
    "    audio_features = []\n",
    "    for i in range(0, len(track_ids), 100):\n",
    "        batch = track_ids[i:i+100]\n",
    "        try:\n",
    "            features = sp.audio_features(batch)\n",
    "        except:\n",
    "            continue\n",
    "        audio_features.extend(features)\n",
    "    return audio_features\n",
    "\n",
    "def get_playlist_track_info(playlist_id):\n",
    "    # Get the playlist info\n",
    "    playlist_info = sp.playlist(playlist_id)\n",
    "    if not playlist_info:\n",
    "        return None\n",
    "    playlist_name = playlist_info['name']\n",
    "    playlist_followers = playlist_info['followers']['total']\n",
    "    \n",
    "    # Get all the tracks in the playlist\n",
    "    playlist_tracks = get_all_playlist_tracks(playlist_id)\n",
    "    track_ids = [track['track']['id'] for track in playlist_tracks if track['track'] is not None]\n",
    "    \n",
    "    if not track_ids:\n",
    "        return None\n",
    "    \n",
    "    # Get the track info in batches of 50\n",
    "    track_info = []\n",
    "    album_ids = []  # Store the album IDs for later retrieval\n",
    "    for i in range(0, len(track_ids), 50):\n",
    "        batch_tracks = track_ids[i:i+50]\n",
    "        tracks = sp.tracks(batch_tracks)['tracks']\n",
    "        track_info.extend(tracks)\n",
    "        album_ids.extend([track['album']['id'] for track in tracks])\n",
    "    \n",
    "    track_names = [track['name'] for track in track_info]\n",
    "    track_popularities = [track['popularity'] for track in track_info]\n",
    "\n",
    "    artist_ids = [track['artists'][0]['id'] for track in track_info]\n",
    "    artist_info = []\n",
    "    for i in range(0, len(artist_ids), 50):\n",
    "        batch_artists = artist_ids[i:i+50]\n",
    "        artists = sp.artists(batch_artists)['artists']\n",
    "        artist_info.extend(artists)\n",
    "    \n",
    "    artist_names = [artist['name'] for artist in artist_info]\n",
    "    artist_popularities = [artist['popularity'] for artist in artist_info]\n",
    "    \n",
    "    # Get the audio features\n",
    "    audio_features = get_all_audio_features(track_ids)\n",
    "    if audio_features is None:\n",
    "        return None\n",
    "\n",
    "    # Get the album info\n",
    "    album_info = []\n",
    "    for i in range(0, len(album_ids), 20):\n",
    "        batch_albums = album_ids[i:i+20]\n",
    "        albums = sp.albums(batch_albums)['albums']\n",
    "        album_info.extend(albums)\n",
    "    \n",
    "    labels = [album['label'] for album in album_info]\n",
    "    if labels is None:\n",
    "        return None\n",
    "\n",
    "    # Combine everything into a DataFrame\n",
    "    playlist_df = pd.DataFrame({\n",
    "        'playlist_name': playlist_name,\n",
    "        'playlist_followers': playlist_followers,\n",
    "        'track_name': track_names,\n",
    "        'popularity_track': track_popularities,\n",
    "        'artist_name': artist_names,\n",
    "        'popularity_artist': artist_popularities,\n",
    "        'label': labels  # Add the label column\n",
    "    })\n",
    "    \n",
    "    # Add the audio features to the DataFrame\n",
    "    try:\n",
    "        audio_features_df = pd.DataFrame(audio_features)\n",
    "        playlist_df = pd.concat([playlist_df, audio_features_df], axis=1)\n",
    "    except:\n",
    "        return None\n",
    "    \n",
    "    return playlist_df\n",
    "\n",
    "# Define a function to loop over all the playlists and combine the results\n",
    "def get_all_playlist_track_info(playlist_ids):\n",
    "    playlist_dfs = []\n",
    "    for playlist_id in playlist_ids:\n",
    "        playlist_df = get_playlist_track_info(playlist_id)\n",
    "        if playlist_df is not None:\n",
    "            playlist_dfs.append(playlist_df)\n",
    "    all_playlist_df = pd.concat(playlist_dfs, ignore_index=True)\n",
    "    return all_playlist_df\n"
   ]
  },
  {
   "attachments": {},
   "cell_type": "markdown",
   "metadata": {},
   "source": [
    "Scrap the data for each category and parse into excel"
   ]
  },
  {
   "cell_type": "code",
   "execution_count": null,
   "metadata": {},
   "outputs": [],
   "source": [
    "category_id = \"0JQ5DAqbMKFQ00XGBls6ym\" # Rap\n",
    "\n",
    "filtered_df = df[df['category_id'] == category_id]\n",
    "playlist_ids = filtered_df['playlist_id'].tolist()\n",
    "\n",
    "df_rap = get_all_playlist_track_info(playlist_ids)\n",
    "\n",
    "df_rap.to_excel(\"df_rap.xlsx\", index = False)\n"
   ]
  },
  {
   "cell_type": "code",
   "execution_count": null,
   "metadata": {},
   "outputs": [],
   "source": [
    "category_id = \"0JQ5DAqbMKFEC4WFtoNRpw\" # Pop\n",
    "\n",
    "filtered_df = df[df['category_id'] == category_id]\n",
    "playlist_ids = filtered_df['playlist_id'].tolist()\n",
    "\n",
    "df_pop = get_all_playlist_track_info(playlist_ids)\n",
    "\n",
    "df_pop.to_excel(\"df_pop.xlsx\", index = False)\n"
   ]
  },
  {
   "cell_type": "code",
   "execution_count": null,
   "metadata": {},
   "outputs": [],
   "source": [
    "category_id = \"0JQ5DAqbMKFBweu2euf3Sj\" # Variété\n",
    "\n",
    "filtered_df = df[df['category_id'] == category_id]\n",
    "playlist_ids = filtered_df['playlist_id'].tolist()\n",
    "\n",
    "df_variete = get_all_playlist_track_info(playlist_ids)\n",
    "\n",
    "df_variete.to_excel(\"df_variete.xlsx\", index = False)\n"
   ]
  },
  {
   "cell_type": "code",
   "execution_count": null,
   "metadata": {},
   "outputs": [],
   "source": [
    "category_id = \"0JQ5DAqbMKFLVaM30PMBm4\" # Eté\n",
    "\n",
    "filtered_df = df[df['category_id'] == category_id]\n",
    "playlist_ids = filtered_df['playlist_id'].tolist()\n",
    "\n",
    "df_ete = get_all_playlist_track_info(playlist_ids)\n",
    "\n",
    "df_ete.to_excel(\"df_ete.xlsx\", index = False)\n"
   ]
  },
  {
   "cell_type": "code",
   "execution_count": null,
   "metadata": {},
   "outputs": [],
   "source": [
    "category_id = \"0JQ5DAqbMKFxXaXKP7zcDp\" # Latino\n",
    "\n",
    "filtered_df = df[df['category_id'] == category_id]\n",
    "playlist_ids = filtered_df['playlist_id'].tolist()\n",
    "\n",
    "df_latino = get_all_playlist_track_info(playlist_ids)\n",
    "\n",
    "df_latino.to_excel(\"df_latino.xlsx\", index = False)\n"
   ]
  },
  {
   "cell_type": "code",
   "execution_count": null,
   "metadata": {},
   "outputs": [],
   "source": [
    "category_id = \"0JQ5DAqbMKFzHmL4tf05da\" # Ambiance\n",
    "\n",
    "filtered_df = df[df['category_id'] == category_id]\n",
    "playlist_ids = filtered_df['playlist_id'].tolist()\n",
    "\n",
    "df_ambiance = get_all_playlist_track_info(playlist_ids)\n",
    "\n",
    "df_ambiance.to_excel(\"df_ambiance.xlsx\", index = False)\n"
   ]
  },
  {
   "cell_type": "code",
   "execution_count": null,
   "metadata": {},
   "outputs": [],
   "source": [
    "category_id = \"0JQ5DAqbMKFHOzuVTgTizF\" # Electro\n",
    "\n",
    "filtered_df = df[df['category_id'] == category_id]\n",
    "playlist_ids = filtered_df['playlist_id'].tolist()\n",
    "\n",
    "df_electro = get_all_playlist_track_info(playlist_ids)\n",
    "\n",
    "df_electro.to_excel(\"df_electro.xlsx\", index = False)\n"
   ]
  },
  {
   "cell_type": "code",
   "execution_count": null,
   "metadata": {},
   "outputs": [],
   "source": [
    "category_id = \"0JQ5DAqbMKFDXXwE9BDJAr\" # Rock\n",
    "\n",
    "filtered_df = df[df['category_id'] == category_id]\n",
    "playlist_ids = filtered_df['playlist_id'].tolist()\n",
    "\n",
    "df_rock = get_all_playlist_track_info(playlist_ids)\n",
    "\n",
    "df_rock.to_excel(\"df_rock.xlsx\", index = False)\n"
   ]
  },
  {
   "cell_type": "code",
   "execution_count": null,
   "metadata": {},
   "outputs": [],
   "source": [
    "category_id = \"0JQ5DAqbMKFCWjUTdzaG0e\" # Indie\n",
    "\n",
    "filtered_df = df[df['category_id'] == category_id]\n",
    "playlist_ids = filtered_df['playlist_id'].tolist()\n",
    "\n",
    "df_indie = get_all_playlist_track_info(playlist_ids)\n",
    "\n",
    "df_indie.to_excel(\"df_indie.xlsx\", index = False)\n"
   ]
  },
  {
   "cell_type": "code",
   "execution_count": null,
   "metadata": {},
   "outputs": [],
   "source": [
    "category_id = \"0JQ5DAqbMKFAXlCG6QvYQ4\" # Sport\n",
    "\n",
    "filtered_df = df[df['category_id'] == category_id]\n",
    "playlist_ids = filtered_df['playlist_id'].tolist()\n",
    "\n",
    "df_sport = get_all_playlist_track_info(playlist_ids)\n",
    "\n",
    "df_sport.to_excel(\"df_sport.xlsx\", index = False)\n"
   ]
  },
  {
   "cell_type": "code",
   "execution_count": null,
   "metadata": {},
   "outputs": [],
   "source": [
    "category_id = \"0JQ5DAqbMKFEZPnFQSFB1T\" # RnB\n",
    "\n",
    "filtered_df = df[df['category_id'] == category_id]\n",
    "playlist_ids = filtered_df['playlist_id'].tolist()\n",
    "\n",
    "df_rnb = get_all_playlist_track_info(playlist_ids)\n",
    "\n",
    "df_rnb.to_excel(\"df_rnb.xlsx\", index = False)\n"
   ]
  },
  {
   "cell_type": "code",
   "execution_count": null,
   "metadata": {},
   "outputs": [],
   "source": [
    "category_id = \"0JQ5DAqbMKFNQ0fGp4byGU\" # Afro\n",
    "\n",
    "filtered_df = df[df['category_id'] == category_id]\n",
    "playlist_ids = filtered_df['playlist_id'].tolist()\n",
    "\n",
    "df_afro = get_all_playlist_track_info(playlist_ids)\n",
    "\n",
    "df_afro.to_excel(\"df_afro.xlsx\", index = False)\n"
   ]
  },
  {
   "cell_type": "code",
   "execution_count": null,
   "metadata": {},
   "outputs": [],
   "source": [
    "category_id = \"0JQ5DAqbMKFGvOw3O4nLAf\" # K-pop\n",
    "\n",
    "filtered_df = df[df['category_id'] == category_id]\n",
    "playlist_ids = filtered_df['playlist_id'].tolist()\n",
    "\n",
    "df_kpop = get_all_playlist_track_info(playlist_ids)\n",
    "\n",
    "df_kpop.to_excel(\"df_kpop.xlsx\", index = False)\n"
   ]
  },
  {
   "cell_type": "code",
   "execution_count": null,
   "metadata": {},
   "outputs": [],
   "source": [
    "category_id = \"0JQ5DAqbMKFFzDl7qN9Apr\" # Détente\n",
    "\n",
    "filtered_df = df[df['category_id'] == category_id]\n",
    "playlist_ids = filtered_df['playlist_id'].tolist()\n",
    "\n",
    "df_detente = get_all_playlist_track_info(playlist_ids)\n",
    "\n",
    "df_detente.to_excel(\"df_detente.xlsx\", index = False)\n"
   ]
  },
  {
   "cell_type": "code",
   "execution_count": null,
   "metadata": {},
   "outputs": [],
   "source": [
    "category_id = \"0JQ5DAqbMKFCuoRTxhYWow\" # Dormir\n",
    "\n",
    "filtered_df = df[df['category_id'] == category_id]\n",
    "playlist_ids = filtered_df['playlist_id'].tolist()\n",
    "\n",
    "df_dormir = get_all_playlist_track_info(playlist_ids)\n",
    "\n",
    "df_dormir.to_excel(\"df_dormir.xlsx\", index = False)\n"
   ]
  },
  {
   "cell_type": "code",
   "execution_count": null,
   "metadata": {},
   "outputs": [],
   "source": [
    "category_id = \"0JQ5DAqbMKFA6SOHvT3gck\" # Soirée\n",
    "\n",
    "filtered_df = df[df['category_id'] == category_id]\n",
    "playlist_ids = filtered_df['playlist_id'].tolist()\n",
    "\n",
    "df_soiree = get_all_playlist_track_info(playlist_ids)\n",
    "\n",
    "df_soiree.to_excel(\"df_soiree.xlsx\", index = False)\n"
   ]
  },
  {
   "cell_type": "code",
   "execution_count": null,
   "metadata": {},
   "outputs": [],
   "source": [
    "category_id = \"0JQ5DAqbMKFP9UNkavIGrM\" # Zouk\n",
    "\n",
    "filtered_df = df[df['category_id'] == category_id]\n",
    "playlist_ids = filtered_df['playlist_id'].tolist()\n",
    "\n",
    "df_zouk = get_all_playlist_track_info(playlist_ids)\n",
    "\n",
    "df_zouk.to_excel(\"df_zouk.xlsx\", index = False)\n"
   ]
  },
  {
   "cell_type": "code",
   "execution_count": null,
   "metadata": {},
   "outputs": [],
   "source": [
    "category_id = \"0JQ5DAqbMKFJKoGyUMo2hE\" # Reggae\n",
    "\n",
    "filtered_df = df[df['category_id'] == category_id]\n",
    "playlist_ids = filtered_df['playlist_id'].tolist()\n",
    "\n",
    "df_reggae = get_all_playlist_track_info(playlist_ids)\n",
    "\n",
    "df_reggae.to_excel(\"df_reggae.xlsx\", index = False)\n"
   ]
  },
  {
   "cell_type": "code",
   "execution_count": null,
   "metadata": {},
   "outputs": [],
   "source": [
    "category_id = \"0JQ5DAqbMKFx0uLQR2okcc\" # A la maison\n",
    "\n",
    "filtered_df = df[df['category_id'] == category_id]\n",
    "playlist_ids = filtered_df['playlist_id'].tolist()\n",
    "\n",
    "df_maison = get_all_playlist_track_info(playlist_ids)\n",
    "\n",
    "df_maison.to_excel(\"df_maison.xlsx\", index = False)\n"
   ]
  },
  {
   "cell_type": "code",
   "execution_count": null,
   "metadata": {},
   "outputs": [],
   "source": [
    "category_id = \"0JQ5DAqbMKFIVNxQgRNSg0\" # Decennies\n",
    "\n",
    "filtered_df = df[df['category_id'] == category_id]\n",
    "playlist_ids = filtered_df['playlist_id'].tolist()\n",
    "\n",
    "df_decennies = get_all_playlist_track_info(playlist_ids)\n",
    "\n",
    "df_decennies.to_excel(\"df_decennies.xlsx\", index = False)\n"
   ]
  },
  {
   "cell_type": "code",
   "execution_count": null,
   "metadata": {},
   "outputs": [],
   "source": [
    "category_id = \"0JQ5DAqbMKFFtlLYUHv8bT\" # Alternatif\n",
    "\n",
    "filtered_df = df[df['category_id'] == category_id]\n",
    "playlist_ids = filtered_df['playlist_id'].tolist()\n",
    "\n",
    "df_alternatif = get_all_playlist_track_info(playlist_ids)\n",
    "\n",
    "df_alternatif.to_excel(\"df_alternatif.xlsx\", index = False)\n"
   ]
  },
  {
   "cell_type": "code",
   "execution_count": null,
   "metadata": {},
   "outputs": [],
   "source": [
    "category_id = \"0JQ5DAqbMKFAUsdyVjCQuL\" # Amour\n",
    "\n",
    "filtered_df = df[df['category_id'] == category_id]\n",
    "playlist_ids = filtered_df['playlist_id'].tolist()\n",
    "\n",
    "df_amour = get_all_playlist_track_info(playlist_ids)\n",
    "\n",
    "df_amour.to_excel(\"df_amour.xlsx\", index = False)\n"
   ]
  },
  {
   "cell_type": "code",
   "execution_count": null,
   "metadata": {},
   "outputs": [],
   "source": [
    "category_id = \"0JQ5DAqbMKFDkd668ypn6O\" # Metal\n",
    "\n",
    "filtered_df = df[df['category_id'] == category_id]\n",
    "playlist_ids = filtered_df['playlist_id'].tolist()\n",
    "\n",
    "df_metal = get_all_playlist_track_info(playlist_ids)\n",
    "\n",
    "df_metal.to_excel(\"df_metal.xlsx\", index = False)\n"
   ]
  },
  {
   "cell_type": "code",
   "execution_count": null,
   "metadata": {},
   "outputs": [],
   "source": [
    "category_id = \"0JQ5DAqbMKFAJ5xb0fwo9m\" # Jazz\n",
    "\n",
    "filtered_df = df[df['category_id'] == category_id]\n",
    "playlist_ids = filtered_df['playlist_id'].tolist()\n",
    "\n",
    "df_jazz = get_all_playlist_track_info(playlist_ids)\n",
    "\n",
    "df_jazz.to_excel(\"df_jazz.xlsx\", index = False)\n"
   ]
  },
  {
   "cell_type": "code",
   "execution_count": null,
   "metadata": {},
   "outputs": [],
   "source": [
    "category_id = \"0JQ5DAqbMKFQIL0AXnG5AK\" # Tendances\n",
    "\n",
    "filtered_df = df[df['category_id'] == category_id]\n",
    "playlist_ids = filtered_df['playlist_id'].tolist()\n",
    "\n",
    "df_tendances = get_all_playlist_track_info(playlist_ids)\n",
    "\n",
    "df_tendances.to_excel(\"df_tendances.xlsx\", index = False)\n"
   ]
  },
  {
   "cell_type": "code",
   "execution_count": null,
   "metadata": {},
   "outputs": [],
   "source": [
    "category_id = \"0JQ5DAqbMKFPw634sFwguI\" # Equal\n",
    "\n",
    "filtered_df = df[df['category_id'] == category_id]\n",
    "playlist_ids = filtered_df['playlist_id'].tolist()\n",
    "\n",
    "df_equal = get_all_playlist_track_info(playlist_ids)\n",
    "\n",
    "df_equal.to_excel(\"df_equal.xlsx\", index = False)\n"
   ]
  },
  {
   "cell_type": "code",
   "execution_count": null,
   "metadata": {},
   "outputs": [],
   "source": [
    "category_id = \"0JQ5DAqbMKFPrEiAOxgac3\" # Classique\n",
    "\n",
    "filtered_df = df[df['category_id'] == category_id]\n",
    "playlist_ids = filtered_df['playlist_id'].tolist()\n",
    "\n",
    "df_classique = get_all_playlist_track_info(playlist_ids)\n",
    "\n",
    "df_classique.to_excel(\"df_classique.xlsx\", index = False)\n"
   ]
  },
  {
   "cell_type": "code",
   "execution_count": null,
   "metadata": {},
   "outputs": [],
   "source": [
    "category_id = \"0JQ5DAqbMKFy78wprEpAjl\" # Folk\n",
    "\n",
    "filtered_df = df[df['category_id'] == category_id]\n",
    "playlist_ids = filtered_df['playlist_id'].tolist()\n",
    "\n",
    "df_folk = get_all_playlist_track_info(playlist_ids)\n",
    "\n",
    "df_folk.to_excel(\"df_folk.xlsx\", index = False)\n"
   ]
  },
  {
   "cell_type": "code",
   "execution_count": null,
   "metadata": {},
   "outputs": [],
   "source": [
    "category_id = \"0JQ5DAqbMKFCbimwdOYlsl\" # Focus\n",
    "\n",
    "filtered_df = df[df['category_id'] == category_id]\n",
    "playlist_ids = filtered_df['playlist_id'].tolist()\n",
    "\n",
    "df_focus = get_all_playlist_track_info(playlist_ids)\n",
    "\n",
    "df_focus.to_excel(\"df_focus.xlsx\", index = False)\n"
   ]
  },
  {
   "cell_type": "code",
   "execution_count": null,
   "metadata": {},
   "outputs": [],
   "source": [
    "category_id = \"0JQ5DAqbMKFIpEuaCnimBj\" # Soul\n",
    "\n",
    "filtered_df = df[df['category_id'] == category_id]\n",
    "playlist_ids = filtered_df['playlist_id'].tolist()\n",
    "\n",
    "df_soul = get_all_playlist_track_info(playlist_ids)\n",
    "\n",
    "df_soul.to_excel(\"df_soul.xlsx\", index = False)\n"
   ]
  },
  {
   "cell_type": "code",
   "execution_count": null,
   "metadata": {},
   "outputs": [],
   "source": [
    "category_id = \"0JQ5DAqbMKFEOEBCABAxo9\" # Netflix\n",
    "\n",
    "filtered_df = df[df['category_id'] == category_id]\n",
    "playlist_ids = filtered_df['playlist_id'].tolist()\n",
    "\n",
    "df_netflix = get_all_playlist_track_info(playlist_ids)\n",
    "\n",
    "df_netflix.to_excel(\"df_netflix.xlsx\", index = False)\n"
   ]
  },
  {
   "cell_type": "code",
   "execution_count": null,
   "metadata": {},
   "outputs": [],
   "source": [
    "category_id = \"0JQ5DAqbMKFFoimhOqWzLB\" # Enfants\n",
    "\n",
    "filtered_df = df[df['category_id'] == category_id]\n",
    "playlist_ids = filtered_df['playlist_id'].tolist()\n",
    "\n",
    "df_enfants = get_all_playlist_track_info(playlist_ids)\n",
    "\n",
    "df_enfants.to_excel(\"df_enfants.xlsx\", index = False)\n"
   ]
  },
  {
   "cell_type": "code",
   "execution_count": null,
   "metadata": {},
   "outputs": [],
   "source": [
    "category_id = \"0JQ5DAqbMKFJw7QLnM27p6\" # Etudiants\n",
    "\n",
    "filtered_df = df[df['category_id'] == category_id]\n",
    "playlist_ids = filtered_df['playlist_id'].tolist()\n",
    "\n",
    "df_etudiants = get_all_playlist_track_info(playlist_ids)\n",
    "\n",
    "df_etudiants.to_excel(\"df_etudiants.xlsx\", index = False)\n"
   ]
  },
  {
   "cell_type": "code",
   "execution_count": null,
   "metadata": {},
   "outputs": [],
   "source": [
    "category_id = \"0JQ5DAqbMKFLb2EqgLtpjC\" # Bien-être\n",
    "\n",
    "filtered_df = df[df['category_id'] == category_id]\n",
    "playlist_ids = filtered_df['playlist_id'].tolist()\n",
    "\n",
    "df_bienetre = get_all_playlist_track_info(playlist_ids)\n",
    "\n",
    "df_bienetre.to_excel(\"df_bienetre.xlsx\", index = False)\n"
   ]
  },
  {
   "cell_type": "code",
   "execution_count": null,
   "metadata": {},
   "outputs": [],
   "source": [
    "category_id = \"0JQ5DAqbMKFAjfauKLOZiv\" # Punk\n",
    "\n",
    "filtered_df = df[df['category_id'] == category_id]\n",
    "playlist_ids = filtered_df['playlist_id'].tolist()\n",
    "\n",
    "df_punk = get_all_playlist_track_info(playlist_ids)\n",
    "\n",
    "df_punk.to_excel(\"df_punk.xlsx\", index = False)\n"
   ]
  },
  {
   "cell_type": "code",
   "execution_count": null,
   "metadata": {},
   "outputs": [],
   "source": [
    "category_id = \"0JQ5DAqbMKFLjmiZRss79w\" # Ambient\n",
    "\n",
    "filtered_df = df[df['category_id'] == category_id]\n",
    "playlist_ids = filtered_df['playlist_id'].tolist()\n",
    "\n",
    "df_ambient = get_all_playlist_track_info(playlist_ids)\n",
    "\n",
    "df_ambient.to_excel(\"df_ambient.xlsx\", index = False)\n"
   ]
  },
  {
   "cell_type": "code",
   "execution_count": null,
   "metadata": {},
   "outputs": [],
   "source": [
    "category_id = \"0JQ5DAqbMKFKLfwjuJMoNC\" # Country\n",
    "\n",
    "filtered_df = df[df['category_id'] == category_id]\n",
    "playlist_ids = filtered_df['playlist_id'].tolist()\n",
    "\n",
    "df_country = get_all_playlist_track_info(playlist_ids)\n",
    "\n",
    "df_country.to_excel(\"df_country.xlsx\", index = False)\n"
   ]
  },
  {
   "cell_type": "code",
   "execution_count": null,
   "metadata": {},
   "outputs": [],
   "source": [
    "category_id = \"0JQ5DAqbMKFQiK2EHwyjcU\" # Blues\n",
    "\n",
    "filtered_df = df[df['category_id'] == category_id]\n",
    "playlist_ids = filtered_df['playlist_id'].tolist()\n",
    "\n",
    "df_blues = get_all_playlist_track_info(playlist_ids)\n",
    "\n",
    "df_blues.to_excel(\"df_blues.xlsx\", index = False)\n"
   ]
  },
  {
   "cell_type": "code",
   "execution_count": null,
   "metadata": {},
   "outputs": [],
   "source": [
    "category_id = \"0JQ5DAqbMKFQ1UFISXj59F\" # Arabe\n",
    "\n",
    "filtered_df = df[df['category_id'] == category_id]\n",
    "playlist_ids = filtered_df['playlist_id'].tolist()\n",
    "\n",
    "df_arabe = get_all_playlist_track_info(playlist_ids)\n",
    "\n",
    "df_arabe.to_excel(\"df_arabe.xlsx\", index = False)\n"
   ]
  },
  {
   "cell_type": "code",
   "execution_count": null,
   "metadata": {},
   "outputs": [],
   "source": [
    "category_id = \"0JQ5DAqbMKFAQy4HL4XU2D\" # Voyage\n",
    "\n",
    "filtered_df = df[df['category_id'] == category_id]\n",
    "playlist_ids = filtered_df['playlist_id'].tolist()\n",
    "\n",
    "df_voyage = get_all_playlist_track_info(playlist_ids)\n",
    "\n",
    "df_voyage.to_excel(\"df_voyage.xlsx\", index = False)\n"
   ]
  },
  {
   "cell_type": "code",
   "execution_count": null,
   "metadata": {},
   "outputs": [],
   "source": [
    "category_id = \"0JQ5DAqbMKFF9bY76LXmfI\" # Frequency\n",
    "\n",
    "filtered_df = df[df['category_id'] == category_id]\n",
    "playlist_ids = filtered_df['playlist_id'].tolist()\n",
    "\n",
    "df_frequency = get_all_playlist_track_info(playlist_ids)\n",
    "\n",
    "df_frequency.to_excel(\"df_frequency.xlsx\", index = False)\n"
   ]
  },
  {
   "cell_type": "code",
   "execution_count": null,
   "metadata": {},
   "outputs": [],
   "source": [
    "category_id = \"0JQ5DAudkNjCgYMM0TZXDr\" # Tops\n",
    "\n",
    "filtered_df = df[df['category_id'] == category_id]\n",
    "playlist_ids = filtered_df['playlist_id'].tolist()\n",
    "\n",
    "df_tops = get_all_playlist_track_info(playlist_ids)\n",
    "\n",
    "df_tops.to_excel(\"df_tops.xlsx\", index = False)\n"
   ]
  }
 ],
 "metadata": {
  "kernelspec": {
   "display_name": "env",
   "language": "python",
   "name": "python3"
  },
  "language_info": {
   "codemirror_mode": {
    "name": "ipython",
    "version": 3
   },
   "file_extension": ".py",
   "mimetype": "text/x-python",
   "name": "python",
   "nbconvert_exporter": "python",
   "pygments_lexer": "ipython3",
   "version": "3.9.12"
  },
  "orig_nbformat": 4,
  "vscode": {
   "interpreter": {
    "hash": "8dc244d0d924747bc8ff23ef54260fdee85e87ea5a265582c7cc7dc368a58a97"
   }
  }
 },
 "nbformat": 4,
 "nbformat_minor": 2
}
