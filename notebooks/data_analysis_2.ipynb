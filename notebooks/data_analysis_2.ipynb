{
 "cells": [
  {
   "attachments": {},
   "cell_type": "markdown",
   "metadata": {},
   "source": [
    "Install and load packages"
   ]
  },
  {
   "cell_type": "code",
   "execution_count": null,
   "metadata": {
    "vscode": {
     "languageId": "r"
    }
   },
   "outputs": [],
   "source": [
    "install.packages('readxl')\n",
    "install.packages('dplyr')\n",
    "install.packages('ggplot2')\n",
    "install.packages('stargazer')\n",
    "install.packages('purrr')\n",
    "install.packages('stringr')\n",
    "install.packages('lessR')\n",
    "install.packages('fixest')\n",
    "install.packages('ordinal')\n"
   ]
  },
  {
   "cell_type": "code",
   "execution_count": 2,
   "metadata": {
    "vscode": {
     "languageId": "r"
    }
   },
   "outputs": [
    {
     "name": "stderr",
     "output_type": "stream",
     "text": [
      "Warning message:\n",
      "\"le package 'dplyr' a 'et'e compil'e avec la version R 4.1.2\"\n",
      "\n",
      "Attachement du package : 'dplyr'\n",
      "\n",
      "\n",
      "Les objets suivants sont masqu'es depuis 'package:stats':\n",
      "\n",
      "    filter, lag\n",
      "\n",
      "\n",
      "Les objets suivants sont masqu'es depuis 'package:base':\n",
      "\n",
      "    intersect, setdiff, setequal, union\n",
      "\n",
      "\n",
      "Warning message:\n",
      "\"le package 'ggplot2' a 'et'e compil'e avec la version R 4.1.2\"\n",
      "Warning message:\n",
      "\"le package 'stargazer' a 'et'e compil'e avec la version R 4.1.2\"\n",
      "\n",
      "Please cite as: \n",
      "\n",
      "\n",
      " Hlavac, Marek (2022). stargazer: Well-Formatted Regression and Summary Statistics Tables.\n",
      "\n",
      " R package version 5.2.3. https://CRAN.R-project.org/package=stargazer \n",
      "\n",
      "\n",
      "Warning message:\n",
      "\"le package 'purrr' a 'et'e compil'e avec la version R 4.1.2\"\n",
      "Warning message:\n",
      "\"le package 'stringr' a 'et'e compil'e avec la version R 4.1.2\"\n",
      "-- \u001b[1mAttaching packages\u001b[22m --------------------------------------- tidyverse 1.3.1 --\n",
      "\n",
      "\u001b[32mv\u001b[39m \u001b[34mtibble \u001b[39m 3.2.1     \u001b[32mv\u001b[39m \u001b[34mreadr  \u001b[39m 2.0.2\n",
      "\u001b[32mv\u001b[39m \u001b[34mtidyr  \u001b[39m 1.2.1     \u001b[32mv\u001b[39m \u001b[34mforcats\u001b[39m 0.5.1\n",
      "\n",
      "Warning message:\n",
      "\"le package 'tibble' a 'et'e compil'e avec la version R 4.1.2\"\n",
      "Warning message:\n",
      "\"le package 'tidyr' a 'et'e compil'e avec la version R 4.1.2\"\n",
      "-- \u001b[1mConflicts\u001b[22m ------------------------------------------ tidyverse_conflicts() --\n",
      "\u001b[31mx\u001b[39m \u001b[34mdplyr\u001b[39m::\u001b[32mfilter()\u001b[39m masks \u001b[34mstats\u001b[39m::filter()\n",
      "\u001b[31mx\u001b[39m \u001b[34mdplyr\u001b[39m::\u001b[32mlag()\u001b[39m    masks \u001b[34mstats\u001b[39m::lag()\n",
      "\n",
      "\n",
      "lessR 4.2.9                         feedback: gerbing@pdx.edu \n",
      "--------------------------------------------------------------\n",
      "> d <- Read(\"\")   Read text, Excel, SPSS, SAS, or R data file\n",
      "  d is default data frame, data= in analysis routines optional\n",
      "\n",
      "Learn about reading, writing, and manipulating data, graphics,\n",
      "testing means and proportions, regression, factor analysis,\n",
      "customization, and descriptive statistics from pivot tables\n",
      "  Enter:  browseVignettes(\"lessR\")\n",
      "\n",
      "View changes in this and recent versions of lessR\n",
      "  Enter: news(package=\"lessR\")\n",
      "\n",
      "Interactive data analysis\n",
      "  Enter: interact()\n",
      "\n",
      "\n",
      "\n",
      "Attachement du package : 'lessR'\n",
      "\n",
      "\n",
      "Les objets suivants sont masqu'es depuis 'package:dplyr':\n",
      "\n",
      "    recode, rename\n",
      "\n",
      "\n"
     ]
    }
   ],
   "source": [
    "library(readxl)\n",
    "library(dplyr)\n",
    "library(ggplot2)\n",
    "library(stats)\n",
    "library(stargazer)\n",
    "library(purrr)\n",
    "library(stringr)\n",
    "library(tidyverse)\n",
    "library(lessR)\n",
    "library(fixest)\n"
   ]
  },
  {
   "attachments": {},
   "cell_type": "markdown",
   "metadata": {},
   "source": [
    "Load df"
   ]
  },
  {
   "cell_type": "code",
   "execution_count": null,
   "metadata": {
    "vscode": {
     "languageId": "r"
    }
   },
   "outputs": [],
   "source": [
    "# create a list of file names and corresponding is_editorial values\n",
    "file_names <- c(\"df_afro_final_2.xlsx\", \"df_alternatif_final_2.xlsx\", \"df_ambiance_final_2.xlsx\", \"df_ambient_final_2.xlsx\",\n",
    "                \"df_amour_final_2.xlsx\", \"df_arabe_final_2.xlsx\", \"df_bienetre_final_2.xlsx\", \"df_blues_final_2.xlsx\",\n",
    "                \"df_classique_final_2.xlsx\", \"df_country_final_2.xlsx\", \"df_decennies_final_2.xlsx\", \"df_detente_final_2.xlsx\"\n",
    "                )\n",
    "\n",
    "is_editorial_values <- c(1, 1, 1, 1, 1, 1, 1, 1, 1, 1, 1, 1\n",
    "                         )\n",
    "\n",
    "type_values <- c('genre', 'genre', 'mood', 'genre', 'mood', 'genre', 'mood', 'genre', 'genre', 'genre', 'trend', 'mood'\n",
    "                 )\n",
    "\n",
    "df_list <- list()\n",
    "for (i in seq_along(file_names)) {\n",
    "  file_name <- file_names[i]\n",
    "  is_editorial <- is_editorial_values[i]\n",
    "  type <- type_values[i]\n",
    "  df <- read_xlsx(file_name)\n",
    "  df$is_editorial <- is_editorial\n",
    "  df$type <- type\n",
    "  df_list[[i]] <- df\n",
    "}\n",
    "\n",
    "df <- Reduce(function(x, y) merge(x, y, all = TRUE), df_list)\n"
   ]
  },
  {
   "attachments": {},
   "cell_type": "markdown",
   "metadata": {},
   "source": [
    "Data management"
   ]
  },
  {
   "cell_type": "code",
   "execution_count": null,
   "metadata": {
    "vscode": {
     "languageId": "r"
    }
   },
   "outputs": [],
   "source": [
    "# Scale values from 0 to 1\n",
    "df$nb_clusters_norm <- rescale(nb_clusters, df, kind='0to1')\n",
    "df$hhi_norm <- rescale(hhi, df, kind='0to1')\n",
    "df$dist_norm <- rescale(mean_distance, df, kind='0to1')\n",
    "\n",
    "# Print scaled values\n",
    "df$nb_clusters_norm\n",
    "df$hhi_norm\n",
    "df$dist_norm\n"
   ]
  },
  {
   "cell_type": "code",
   "execution_count": null,
   "metadata": {
    "vscode": {
     "languageId": "r"
    }
   },
   "outputs": [],
   "source": [
    "# Scale covariates\n",
    "df$followers_res <- rescale(playlist_followers, df, kind='z')\n",
    "df$followers_norm <- rescale(followers_res, df, kind='0to1')\n",
    "df$followers_norm\n",
    "\n",
    "df$track_pop_norm <- rescale(track_pop, df, kind='0to1')\n",
    "df$track_pop_norm\n",
    "\n",
    "df$artist_pop_norm <- rescale(artist_pop, df, kind='0to1')\n",
    "df$artist_pop_norm\n",
    "\n",
    "df$nb_tracks_res <- rescale(nb_tracks, df, kind='z')\n",
    "df$nb_tracks_norm <- rescale(nb_tracks_res, df, kind='0to1')\n",
    "df$nb_tracks_norm\n",
    "\n",
    "df$nb_artists_norm <- rescale(nb_artists, df, kind='0to1')\n",
    "df$nb_artists_norm\n"
   ]
  },
  {
   "attachments": {},
   "cell_type": "markdown",
   "metadata": {},
   "source": [
    "Descriptive stats"
   ]
  },
  {
   "cell_type": "code",
   "execution_count": null,
   "metadata": {
    "vscode": {
     "languageId": "r"
    }
   },
   "outputs": [],
   "source": [
    "nrow(df)\n"
   ]
  },
  {
   "cell_type": "code",
   "execution_count": null,
   "metadata": {
    "vscode": {
     "languageId": "r"
    }
   },
   "outputs": [],
   "source": [
    "summary(df$nb_clusters_norm)\n",
    "summary(df$hhi_norm)\n",
    "summary(df$dist_norm)\n"
   ]
  },
  {
   "cell_type": "code",
   "execution_count": null,
   "metadata": {
    "vscode": {
     "languageId": "r"
    }
   },
   "outputs": [],
   "source": [
    "ggplot(df, aes(x = nb_clusters_norm)) + \n",
    "  geom_histogram(binwidth = 0.025, color = \"black\", fill = \"#a7a7f9\") +\n",
    "  xlim(0, 1) +\n",
    "  theme_bw() +\n",
    "  theme(panel.grid.major.y = element_line(linetype = \"dotted\"),\n",
    "        panel.grid.minor.y = element_blank(),\n",
    "        panel.grid.major.x = element_blank(),\n",
    "        panel.grid.minor.x = element_blank(),\n",
    "        aspect.ratio = 0.8) +\n",
    "  labs(x = 'Diversity Index', y = 'Frequency')\n"
   ]
  },
  {
   "cell_type": "code",
   "execution_count": null,
   "metadata": {
    "vscode": {
     "languageId": "r"
    }
   },
   "outputs": [],
   "source": [
    "ggplot(df, aes(x = hhi_norm)) + \n",
    "  geom_histogram(binwidth = 0.025, color = \"black\", fill = \"#a7a7f9\") +\n",
    "  xlim(0, 1) +\n",
    "  theme_bw() +\n",
    "  theme(panel.grid.major.y = element_line(linetype = \"dotted\"),\n",
    "        panel.grid.minor.y = element_blank(),\n",
    "        panel.grid.major.x = element_blank(),\n",
    "        panel.grid.minor.x = element_blank(),\n",
    "        aspect.ratio = 0.8) +\n",
    "  labs(x = 'Diversity Index', y = 'Frequency')"
   ]
  },
  {
   "cell_type": "code",
   "execution_count": null,
   "metadata": {
    "vscode": {
     "languageId": "r"
    }
   },
   "outputs": [],
   "source": [
    "ggplot(df, aes(x = dist_norm)) + \n",
    "  geom_histogram(binwidth = 0.025, color = \"black\", fill = \"#a7a7f9\") +\n",
    "  xlim(0, 1) +\n",
    "  theme_bw() +\n",
    "  theme(panel.grid.major.y = element_line(linetype = \"dotted\"),\n",
    "        panel.grid.minor.y = element_blank(),\n",
    "        panel.grid.major.x = element_blank(),\n",
    "        panel.grid.minor.x = element_blank(),\n",
    "        aspect.ratio = 0.8) +\n",
    "  labs(x = 'Diversity Index', y = 'Frequency')"
   ]
  },
  {
   "cell_type": "code",
   "execution_count": null,
   "metadata": {
    "vscode": {
     "languageId": "r"
    }
   },
   "outputs": [],
   "source": [
    "sapply(df[, c('nb_tracks', 'playlist_followers', 'track_pop', 'artist_pop')], function(x) c(summary(x), sd(x)))\n"
   ]
  },
  {
   "cell_type": "code",
   "execution_count": null,
   "metadata": {
    "vscode": {
     "languageId": "r"
    }
   },
   "outputs": [],
   "source": [
    "table(df$is_editorial)\n"
   ]
  },
  {
   "cell_type": "code",
   "execution_count": null,
   "metadata": {
    "vscode": {
     "languageId": "r"
    }
   },
   "outputs": [],
   "source": [
    "# Adjust options to display all columns of the data frame\n",
    "options(width = 10000)\n",
    "\n",
    "# Convert columns 15 and 16 to numeric\n",
    "df_3[, 15:16] <- lapply(df_3[, 15:16], as.numeric)\n",
    "\n",
    "# Create a new data frame to store scaled values\n",
    "scaled_df <- data.frame(df_3)\n",
    "\n",
    "# Rescale loudness, tempo, and duration to the range 0-1\n",
    "scaled_df$loudness <- scale(scaled_df$loudness, center = min(scaled_df$loudness), scale = max(scaled_df$loudness) - min(scaled_df$loudness))\n",
    "scaled_df$tempo <- scale(scaled_df$tempo, center = min(scaled_df$tempo), scale = max(scaled_df$tempo) - min(scaled_df$tempo))\n",
    "scaled_df$duration_ms <- scale(scaled_df$duration_ms, center = min(scaled_df$duration_ms), scale = max(scaled_df$duration_ms) - min(scaled_df$duration_ms))\n",
    "\n",
    "# Subset your scaled dataframe to select the tracks you want to compare\n",
    "selected_tracks <- scaled_df[scaled_df$track_name %in% c(\"I Feel It Coming\", \"November Rain\"), ]\n",
    "\n",
    "# Print the values for the selected tracks\n",
    "for (track_name in unique(selected_tracks$track_name)) {\n",
    "  track_data <- selected_tracks[selected_tracks$track_name == track_name, 7:16]\n",
    "  cat(\"Track:\", track_name, \"\\n\")\n",
    "  print(track_data)\n",
    "  cat(\"\\n\")\n",
    "}\n"
   ]
  },
  {
   "attachments": {},
   "cell_type": "markdown",
   "metadata": {},
   "source": [
    "OLS models"
   ]
  },
  {
   "attachments": {},
   "cell_type": "markdown",
   "metadata": {},
   "source": [
    "Simple OLS"
   ]
  },
  {
   "cell_type": "code",
   "execution_count": null,
   "metadata": {
    "vscode": {
     "languageId": "r"
    }
   },
   "outputs": [],
   "source": [
    "lm_1 <- lm(nb_clusters_norm ~ followers_norm + nb_tracks_norm + track_pop_norm + artist_pop_norm + type, data = df)\n",
    "summary(lm_1)\n",
    "\n",
    "lm_2 <- lm(hhi_norm ~ followers_norm + nb_tracks_norm + track_pop_norm + artist_pop_norm + type, data = df)\n",
    "summary(lm_2)\n",
    "\n",
    "lm_3 <- lm(dist_norm ~ followers_norm + nb_tracks_norm + track_pop_norm + artist_pop_norm + type, data = df)\n",
    "summary(lm_3)\n"
   ]
  },
  {
   "cell_type": "code",
   "execution_count": null,
   "metadata": {
    "vscode": {
     "languageId": "r"
    }
   },
   "outputs": [],
   "source": [
    "# Export regressions in LaTeX\n",
    "stargazer(lm_1, lm_2, lm_3)\n"
   ]
  },
  {
   "cell_type": "code",
   "execution_count": null,
   "metadata": {
    "vscode": {
     "languageId": "r"
    }
   },
   "outputs": [],
   "source": [
    "# Export regressions in LaTeX\n",
    "stargazer(lm_2)\n"
   ]
  },
  {
   "attachments": {},
   "cell_type": "markdown",
   "metadata": {},
   "source": [
    "Robustness checks"
   ]
  },
  {
   "cell_type": "code",
   "execution_count": 18,
   "metadata": {
    "vscode": {
     "languageId": "r"
    }
   },
   "outputs": [
    {
     "name": "stderr",
     "output_type": "stream",
     "text": [
      "\u001b[1m\u001b[22mNew names:\n",
      "\u001b[36m*\u001b[39m `` -> `...1`\n",
      "\u001b[1m\u001b[22mNew names:\n",
      "\u001b[36m*\u001b[39m `` -> `...1`\n",
      "\u001b[1m\u001b[22mNew names:\n",
      "\u001b[36m*\u001b[39m `` -> `...1`\n",
      "\u001b[1m\u001b[22mNew names:\n",
      "\u001b[36m*\u001b[39m `` -> `...1`\n",
      "\u001b[1m\u001b[22mNew names:\n",
      "\u001b[36m*\u001b[39m `` -> `...1`\n",
      "\u001b[1m\u001b[22mNew names:\n",
      "\u001b[36m*\u001b[39m `` -> `...1`\n",
      "\u001b[1m\u001b[22mNew names:\n",
      "\u001b[36m*\u001b[39m `` -> `...1`\n",
      "\u001b[1m\u001b[22mNew names:\n",
      "\u001b[36m*\u001b[39m `` -> `...1`\n",
      "\u001b[1m\u001b[22mNew names:\n",
      "\u001b[36m*\u001b[39m `` -> `...1`\n",
      "\u001b[1m\u001b[22mNew names:\n",
      "\u001b[36m*\u001b[39m `` -> `...1`\n",
      "\u001b[1m\u001b[22mNew names:\n",
      "\u001b[36m*\u001b[39m `` -> `...1`\n",
      "\u001b[1m\u001b[22mNew names:\n",
      "\u001b[36m*\u001b[39m `` -> `...1`\n",
      "\u001b[1m\u001b[22mNew names:\n",
      "\u001b[36m*\u001b[39m `` -> `...1`\n",
      "\u001b[1m\u001b[22mNew names:\n",
      "\u001b[36m*\u001b[39m `` -> `...1`\n"
     ]
    }
   ],
   "source": [
    "# create a list of file names and corresponding is_editorial values\n",
    "file_names <- c(\"robust_afro.xlsx\", \"robust_alternatif.xlsx\", \"robust_ambiance.xlsx\", \"robust_ambient.xlsx\", \"robust_amour.xlsx\",\n",
    "                \"robust_arabe.xlsx\", \"robust_bienetre.xlsx\", \"robust_blues.xlsx\", \"robust_classique.xlsx\", \"robust_country.xlsx\",\n",
    "                \"robust_decennies.xlsx\", \"robust_detente.xlsx\", \"robust_dormir.xlsx\", \"robust_electro.xlsx\")\n",
    "\n",
    "df_list <- list()\n",
    "for (i in seq_along(file_names)) {\n",
    "  file_name <- file_names[i]\n",
    "  df <- read_xlsx(file_name)\n",
    "  df_list[[i]] <- df\n",
    "}\n",
    "\n",
    "df <- Reduce(function(x, y) merge(x, y, all = TRUE), df_list)"
   ]
  },
  {
   "cell_type": "code",
   "execution_count": 19,
   "metadata": {
    "vscode": {
     "languageId": "r"
    }
   },
   "outputs": [
    {
     "data": {
      "text/plain": [
       "\n",
       "\tWelch Two Sample t-test\n",
       "\n",
       "data:  df$silhouette_score_5 and df$silhouette_score_4\n",
       "t = -6.516, df = 918, p-value = 0.0000000001189\n",
       "alternative hypothesis: true difference in means is not equal to 0\n",
       "95 percent confidence interval:\n",
       " -0.03292932 -0.01768493\n",
       "sample estimates:\n",
       "mean of x mean of y \n",
       "0.2627609 0.2880680 \n"
      ]
     },
     "metadata": {},
     "output_type": "display_data"
    },
    {
     "data": {
      "text/plain": [
       "\n",
       "\tWelch Two Sample t-test\n",
       "\n",
       "data:  df$silhouette_score_5_2 and df$silhouette_score_4_2\n",
       "t = -13.103, df = 915.29, p-value < 0.00000000000000022\n",
       "alternative hypothesis: true difference in means is not equal to 0\n",
       "95 percent confidence interval:\n",
       " -0.03897086 -0.02881754\n",
       "sample estimates:\n",
       "mean of x mean of y \n",
       "0.2392837 0.2731779 \n"
      ]
     },
     "metadata": {},
     "output_type": "display_data"
    }
   ],
   "source": [
    "t.test(df$silhouette_score_5, df$silhouette_score_4)\n",
    "\n",
    "t.test(df$silhouette_score_5_2, df$silhouette_score_4_2)\n"
   ]
  },
  {
   "cell_type": "code",
   "execution_count": null,
   "metadata": {
    "vscode": {
     "languageId": "r"
    }
   },
   "outputs": [],
   "source": [
    "# Perform OLS\n",
    "lm_3_1 <- lm(div_share_norm ~ followers_norm + nb_tracks_norm + track_pop_norm + artist_pop_norm + type, data = df)\n",
    "\n",
    "# Display regression\n",
    "summary(lm_3_1)\n",
    "\n",
    "lm_3_2 <- lm(div_dist_norm ~ followers_norm + nb_tracks_norm + track_pop_norm + artist_pop_norm + type, data = df)\n",
    "\n",
    "# Display regression\n",
    "summary(lm_3_2)\n"
   ]
  }
 ],
 "metadata": {
  "kernelspec": {
   "display_name": "R",
   "language": "R",
   "name": "ir"
  },
  "language_info": {
   "codemirror_mode": "r",
   "file_extension": ".r",
   "mimetype": "text/x-r-source",
   "name": "R",
   "pygments_lexer": "r",
   "version": "4.1.1"
  },
  "orig_nbformat": 4
 },
 "nbformat": 4,
 "nbformat_minor": 2
}
