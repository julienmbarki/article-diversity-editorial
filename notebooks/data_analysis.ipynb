{
 "cells": [
  {
   "attachments": {},
   "cell_type": "markdown",
   "metadata": {},
   "source": [
    "Install and load packages"
   ]
  },
  {
   "cell_type": "code",
   "execution_count": null,
   "metadata": {
    "vscode": {
     "languageId": "r"
    }
   },
   "outputs": [],
   "source": [
    "install.packages('readxl')\n",
    "install.packages('dplyr')\n",
    "install.packages('ggplot2')\n",
    "install.packages('stargazer')\n",
    "install.packages('purrr')\n",
    "install.packages('stringr')\n",
    "install.packages('lessR')\n",
    "install.packages('fixest')\n",
    "install.packages('ordinal')\n",
    "install.packages('effsize')\n"
   ]
  },
  {
   "cell_type": "code",
   "execution_count": null,
   "metadata": {
    "vscode": {
     "languageId": "r"
    }
   },
   "outputs": [],
   "source": [
    "library(readxl)\n",
    "library(dplyr)\n",
    "library(ggplot2)\n",
    "library(stats)\n",
    "library(stargazer)\n",
    "library(purrr)\n",
    "library(stringr)\n",
    "library(tidyverse)\n",
    "library(lessR)\n",
    "library(fixest)\n",
    "library(sandwich)\n",
    "library(lmtest)\n",
    "library(car)\n",
    "library(effsize)\n"
   ]
  },
  {
   "attachments": {},
   "cell_type": "markdown",
   "metadata": {},
   "source": [
    "Load df"
   ]
  },
  {
   "cell_type": "code",
   "execution_count": null,
   "metadata": {
    "vscode": {
     "languageId": "r"
    }
   },
   "outputs": [],
   "source": [
    "# create a list of file names and corresponding is_editorial values\n",
    "file_names <- c(\"df_rap_final.xlsx\", \"df_pop_final.xlsx\", \"df_variete_final.xlsx\", \"df_ete_final.xlsx\",\n",
    "                \"df_latino_final.xlsx\", \"df_ambiance_final.xlsx\", \"df_electro_final.xlsx\", \"df_rock_final.xlsx\",\n",
    "                \"df_indie_final.xlsx\", \"df_sport_final.xlsx\", \"df_rnb_final.xlsx\", \"df_afro_final.xlsx\",\n",
    "                \"df_kpop_final.xlsx\", \"df_detente_final.xlsx\", \"df_dormir_final.xlsx\", \"df_soiree_final.xlsx\",\n",
    "                \"df_zouk_final.xlsx\", \"df_reggae_final.xlsx\", \"df_maison_final.xlsx\", \"df_decennies_final.xlsx\",\n",
    "                \"df_alternatif_final.xlsx\", \"df_amour_final.xlsx\", \"df_metal_final.xlsx\", \"df_jazz_final.xlsx\",\n",
    "                \"df_tendances_final.xlsx\", \"df_equal_final.xlsx\", \"df_classique_final.xlsx\", \"df_folk_final.xlsx\",\n",
    "                \"df_focus_final.xlsx\", \"df_soul_final.xlsx\", \"df_netflix_final.xlsx\", \"df_enfants_final.xlsx\",\n",
    "                \"df_etudiants_final.xlsx\", \"df_bienetre_final.xlsx\", \"df_punk_final.xlsx\", \"df_ambient_final.xlsx\",\n",
    "                \"df_country_final.xlsx\", \"df_blues_final.xlsx\", \"df_arabe_final.xlsx\", \"df_voyage_final.xlsx\",\n",
    "                \"df_frequency_final.xlsx\"\n",
    "                )\n",
    "\n",
    "\n",
    "type_values <- c('genre', 'genre', 'genre', 'mood', 'genre', 'mood', 'genre', 'genre', 'genre', 'mood', 'genre',\n",
    "                 'genre', 'genre', 'mood', 'mood', 'mood', 'genre', 'genre', 'mood', 'trend', 'genre', 'mood',\n",
    "                 'genre', 'genre', 'trend', 'trend', 'genre', 'genre', 'mood', 'genre', 'trend', 'mood', 'mood',\n",
    "                 'mood', 'genre', 'genre', 'genre', 'genre', 'genre', 'mood', 'trend'\n",
    "                 )\n",
    "\n",
    "df_list <- list()\n",
    "for (i in seq_along(file_names)) {\n",
    "  file_name <- file_names[i]\n",
    "  type <- type_values[i]\n",
    "  df <- read_xlsx(file_name)\n",
    "  df$type <- type\n",
    "  df_list[[i]] <- df\n",
    "}\n",
    "\n",
    "df <- Reduce(function(x, y) merge(x, y, all = TRUE), df_list)\n"
   ]
  },
  {
   "attachments": {},
   "cell_type": "markdown",
   "metadata": {},
   "source": [
    "Data management"
   ]
  },
  {
   "cell_type": "markdown",
   "metadata": {},
   "source": [
    "Rao-Stirling"
   ]
  },
  {
   "cell_type": "code",
   "execution_count": null,
   "metadata": {
    "vscode": {
     "languageId": "r"
    }
   },
   "outputs": [],
   "source": [
    "# Extract numeric values\n",
    "df$diversity_clean <- as.numeric(gsub(\"[^[:digit:].-]\", \"\", df$stirling))\n",
    "df$diversity_clean_2 <- as.numeric(gsub(\"[^[:digit:].-]\", \"\", df$stirling_2))\n",
    "\n",
    "# Print numeric values\n",
    "df$diversity_clean\n",
    "df$diversity_clean_2\n",
    "\n",
    "# Scale values from 0 to 1\n",
    "df$diversity_norm <- rescale(diversity_clean, df, kind='z')\n",
    "df$diversity_norm_2 <- rescale(diversity_clean_2, df, kind='z')\n",
    "\n",
    "# Print scaled values\n",
    "df$diversity_norm\n",
    "df$diversity_norm_2\n"
   ]
  },
  {
   "cell_type": "markdown",
   "metadata": {},
   "source": [
    "HHI"
   ]
  },
  {
   "cell_type": "code",
   "execution_count": null,
   "metadata": {
    "vscode": {
     "languageId": "r"
    }
   },
   "outputs": [],
   "source": [
    "# Scale values from 0 to 1\n",
    "df$hhi_norm <- rescale(hhi, df, kind='z')\n",
    "df$hhi_norm_2 <- rescale(hhi_2, df, kind='z')\n",
    "\n",
    "# Print scaled values\n",
    "df$hhi_norm\n",
    "df$hhi_norm_2\n"
   ]
  },
  {
   "cell_type": "markdown",
   "metadata": {},
   "source": [
    "Dist"
   ]
  },
  {
   "cell_type": "code",
   "execution_count": null,
   "metadata": {
    "vscode": {
     "languageId": "r"
    }
   },
   "outputs": [],
   "source": [
    "# Scale values from 0 to 1\n",
    "df$dist <- rescale(mean_distance, df, kind='z')\n",
    "df$dist_2 <- rescale(mean_distance_2, df, kind='z')\n",
    "\n",
    "# Print scaled values\n",
    "df$dist\n",
    "df$dist_2\n"
   ]
  },
  {
   "cell_type": "markdown",
   "metadata": {},
   "source": [
    "Covariates"
   ]
  },
  {
   "cell_type": "code",
   "execution_count": null,
   "metadata": {
    "vscode": {
     "languageId": "r"
    }
   },
   "outputs": [],
   "source": [
    "# Scale covariates and log followers\n",
    "df$track_pop_norm <- rescale(as.numeric(track_pop), df, kind='0to1')\n",
    "df$track_pop_norm\n",
    "\n",
    "df$artist_pop_norm <- rescale(as.numeric(artist_pop), df, kind='0to1')\n",
    "df$artist_pop_norm\n",
    "\n",
    "df$nb_tracks_res <- rescale(as.numeric(nb_tracks), df, kind='z')\n",
    "df$nb_tracks_norm <- rescale(nb_tracks_res, df, kind='0to1')\n",
    "df$nb_tracks_norm\n",
    "\n",
    "df$nb_artists_norm <- rescale(as.numeric(nb_artists), df, kind='0to1')\n",
    "df$nb_artists_norm\n",
    "\n",
    "df$nb_clusters_norm <- rescale(as.numeric(nb_clusters), df, kind='0to1')\n",
    "df$nb_clusters_norm\n",
    "\n",
    "df$nb_clusters_2_norm <- rescale(as.numeric(nb_clusters_2), df, kind='0to1')\n",
    "df$nb_clusters_2_norm\n"
   ]
  },
  {
   "cell_type": "code",
   "execution_count": null,
   "metadata": {
    "vscode": {
     "languageId": "r"
    }
   },
   "outputs": [],
   "source": [
    "summary(df$playlist_followers)\n",
    "df$followers_class <- case_when(df$playlist_followers < 27701 ~ \"low\",\n",
    "                                df$playlist_followers >= 27701 & df$playlist_followers < 145454 ~ \"mid_low\",\n",
    "                                df$playlist_followers >= 145454 & df$playlist_followers < 492824 ~ \"mid_high\",\n",
    "                                df$playlist_followers >= 492824 ~ \"high\")\n",
    "table(df$followers_class)\n"
   ]
  },
  {
   "attachments": {},
   "cell_type": "markdown",
   "metadata": {},
   "source": [
    "Descriptive stats"
   ]
  },
  {
   "cell_type": "markdown",
   "metadata": {},
   "source": [
    "Summary stats"
   ]
  },
  {
   "cell_type": "code",
   "execution_count": null,
   "metadata": {
    "vscode": {
     "languageId": "r"
    }
   },
   "outputs": [],
   "source": [
    "nrow(df)\n",
    "sum(df$nb_tracks)\n"
   ]
  },
  {
   "cell_type": "code",
   "execution_count": null,
   "metadata": {
    "vscode": {
     "languageId": "r"
    }
   },
   "outputs": [],
   "source": [
    "summary(df$diversity_clean)\n",
    "summary(df$diversity_clean_2)\n"
   ]
  },
  {
   "cell_type": "code",
   "execution_count": null,
   "metadata": {
    "vscode": {
     "languageId": "r"
    }
   },
   "outputs": [],
   "source": [
    "summary(df$nb_clusters)\n",
    "summary(df$nb_clusters_2)\n",
    "summary(df$hhi)\n",
    "summary(df$hhi_2)\n",
    "summary(df$mean_distance)\n",
    "summary(df$mean_distance_2)\n"
   ]
  },
  {
   "cell_type": "code",
   "execution_count": null,
   "metadata": {
    "vscode": {
     "languageId": "r"
    }
   },
   "outputs": [],
   "source": [
    "table(df$is_editorial)\n"
   ]
  },
  {
   "cell_type": "code",
   "execution_count": null,
   "metadata": {
    "vscode": {
     "languageId": "r"
    }
   },
   "outputs": [],
   "source": [
    "tapply(df$nb_clusters, df$is_editorial, mean)\n",
    "tapply(df$nb_clusters_2, df$is_editorial, mean)\n",
    "tapply(df$hhi, df$is_editorial, mean)\n",
    "tapply(df$hhi_2, df$is_editorial, mean)\n",
    "tapply(df$mean_distance, df$is_editorial, mean)\n",
    "tapply(df$mean_distance_2, df$is_editorial, mean)\n",
    "tapply(df$diversity_clean, df$is_editorial, mean)\n",
    "tapply(df$diversity_clean_2, df$is_editorial, mean)\n"
   ]
  },
  {
   "cell_type": "code",
   "execution_count": null,
   "metadata": {
    "vscode": {
     "languageId": "r"
    }
   },
   "outputs": [],
   "source": [
    "table(df$type)\n"
   ]
  },
  {
   "cell_type": "code",
   "execution_count": null,
   "metadata": {
    "vscode": {
     "languageId": "r"
    }
   },
   "outputs": [],
   "source": [
    "tapply(df$nb_clusters, df$type, mean)\n",
    "tapply(df$nb_clusters_2, df$type, mean)\n",
    "tapply(df$hhi, df$type, mean)\n",
    "tapply(df$hhi_2, df$type, mean)\n",
    "tapply(df$mean_distance, df$type, mean)\n",
    "tapply(df$mean_distance_2, df$type, mean)\n",
    "tapply(df$diversity_clean, df$type, mean)\n",
    "tapply(df$diversity_clean_2, df$type, mean)\n"
   ]
  },
  {
   "cell_type": "code",
   "execution_count": null,
   "metadata": {
    "vscode": {
     "languageId": "r"
    }
   },
   "outputs": [],
   "source": [
    "sapply(df[, c('nb_tracks', 'playlist_followers', 'track_pop', 'artist_pop')], function(x) c(summary(x), sd(x)))\n"
   ]
  },
  {
   "cell_type": "markdown",
   "metadata": {},
   "source": [
    "Barplots"
   ]
  },
  {
   "cell_type": "code",
   "execution_count": null,
   "metadata": {
    "vscode": {
     "languageId": "r"
    }
   },
   "outputs": [],
   "source": [
    "ggplot(df, aes(x = diversity_clean)) + \n",
    "  geom_histogram(binwidth = 0.025, color = \"black\", fill = \"#a7a7f9\") +\n",
    "  xlim(0, 0.5) +\n",
    "  theme_bw() +\n",
    "  theme(panel.grid.major.y = element_line(linetype = \"dotted\"),\n",
    "        panel.grid.minor.y = element_blank(),\n",
    "        panel.grid.major.x = element_blank(),\n",
    "        panel.grid.minor.x = element_blank(),\n",
    "        aspect.ratio = 0.8) +\n",
    "  labs(x = 'k\\U03b1 Rao-Stirling', y = 'Frequency')\n"
   ]
  },
  {
   "cell_type": "code",
   "execution_count": null,
   "metadata": {
    "vscode": {
     "languageId": "r"
    }
   },
   "outputs": [],
   "source": [
    "ggplot(df, aes(x = diversity_clean_2)) + \n",
    "  geom_histogram(binwidth = 0.025, color = \"black\", fill = \"#a7a7f9\") +\n",
    "  xlim(0, 0.7) +\n",
    "  theme_bw() +\n",
    "  theme(panel.grid.major.y = element_line(linetype = \"dotted\"),\n",
    "        panel.grid.minor.y = element_blank(),\n",
    "        panel.grid.major.x = element_blank(),\n",
    "        panel.grid.minor.x = element_blank(),\n",
    "        aspect.ratio = 0.8) +\n",
    "  labs(x = 'k\\U03b2  Rao-Stirling', y = 'Frequency')\n"
   ]
  },
  {
   "cell_type": "markdown",
   "metadata": {},
   "source": [
    "Radar charts"
   ]
  },
  {
   "cell_type": "code",
   "execution_count": null,
   "metadata": {
    "vscode": {
     "languageId": "r"
    }
   },
   "outputs": [],
   "source": [
    "# Adjust options to display all columns of the data frame\n",
    "options(width = 10000)\n",
    "\n",
    "# Convert columns 15 and 16 to numeric\n",
    "df_3[, 15:16] <- lapply(df_3[, 15:16], as.numeric)\n",
    "\n",
    "# Create a new data frame to store scaled values\n",
    "scaled_df <- data.frame(df_3)\n",
    "\n",
    "# Rescale loudness, tempo, and duration to the range 0-1\n",
    "scaled_df$loudness <- scale(scaled_df$loudness, center = min(scaled_df$loudness), scale = max(scaled_df$loudness) - min(scaled_df$loudness))\n",
    "scaled_df$tempo <- scale(scaled_df$tempo, center = min(scaled_df$tempo), scale = max(scaled_df$tempo) - min(scaled_df$tempo))\n",
    "scaled_df$duration_ms <- scale(scaled_df$duration_ms, center = min(scaled_df$duration_ms), scale = max(scaled_df$duration_ms) - min(scaled_df$duration_ms))\n",
    "\n",
    "# Subset your scaled dataframe to select the tracks you want to compare\n",
    "selected_tracks <- scaled_df[scaled_df$track_name %in% c(\"I Feel It Coming\", \"November Rain\"), ]\n",
    "\n",
    "# Print the values for the selected tracks\n",
    "for (track_name in unique(selected_tracks$track_name)) {\n",
    "  track_data <- selected_tracks[selected_tracks$track_name == track_name, 7:16]\n",
    "  cat(\"Track:\", track_name, \"\\n\")\n",
    "  print(track_data)\n",
    "  cat(\"\\n\")\n",
    "}\n"
   ]
  },
  {
   "attachments": {},
   "cell_type": "markdown",
   "metadata": {},
   "source": [
    "OLS models"
   ]
  },
  {
   "attachments": {},
   "cell_type": "markdown",
   "metadata": {},
   "source": [
    "Robusts OLS"
   ]
  },
  {
   "cell_type": "code",
   "execution_count": null,
   "metadata": {
    "vscode": {
     "languageId": "r"
    }
   },
   "outputs": [],
   "source": [
    "# Fit your robust linear regression \n",
    "lm_1 <- lm(diversity_norm ~ followers_class + nb_tracks + track_pop + type, data = df)\n",
    "lm_1_1 <- lm(diversity_norm ~ type, data = df)\n",
    "\n",
    "lm1_robust_clustered <- coeftest(lm_1, vcov = vcovCL, type = \"HC1\", df = 2, cluster = ~type)\n",
    "lm1_1_robust_clustered <- coeftest(lm_1_1, vcov = vcovCL, type = \"HC1\", df = 2, cluster = ~type)\n",
    "print(lm1_robust_clustered)\n",
    "\n",
    "lm_2 <- lm(diversity_norm_2 ~ followers_class + nb_tracks + track_pop + type, data = df)\n",
    "lm_2_1 <- lm(diversity_norm_2 ~ type, data = df)\n",
    "\n",
    "lm2_robust_clustered <- coeftest(lm_2, vcov = vcovCL, type = \"HC1\", df = 2, cluster = ~type)\n",
    "lm2_1_robust_clustered <- coeftest(lm_2_1, vcov = vcovCL, type = \"HC1\", df = 2, cluster = ~type)\n",
    "print(lm2_robust_clustered)\n",
    "\n",
    "stargazer(lm1_1_robust_clustered, lm1_robust_clustered, lm2_1_robust_clustered, lm2_robust_clustered)\n"
   ]
  },
  {
   "cell_type": "markdown",
   "metadata": {},
   "source": [
    "Robust OLS Comparison "
   ]
  },
  {
   "cell_type": "code",
   "execution_count": null,
   "metadata": {
    "vscode": {
     "languageId": "r"
    }
   },
   "outputs": [],
   "source": [
    "# Perform OLS HHI*\n",
    "lm_3 <- lm(hhi_norm ~ followers_class + nb_tracks + track_pop + type, data = df)\n",
    "lm_3_1 <- lm(hhi_norm ~ type, data = df)\n",
    "\n",
    "lm3_robust_clustered <- coeftest(lm_3, vcov = vcovCL, type = \"HC1\", df = 2, cluster = ~type)\n",
    "lm3_1_robust_clustered <- coeftest(lm_3_1, vcov = vcovCL, type = \"HC1\", df = 2, cluster = ~type)\n",
    "print(lm3_robust_clustered)\n",
    "\n",
    "# Perform OLS HHI**\n",
    "lm_4 <- lm(hhi_norm_2 ~ followers_class + nb_tracks + track_pop + type, data = df)\n",
    "lm_4_1 <- lm(hhi_norm_2 ~ type, data = df)\n",
    "\n",
    "lm4_robust_clustered <- coeftest(lm_4, vcov = vcovCL, type = \"HC1\", df = 2, cluster = ~type)\n",
    "lm4_1_robust_clustered <- coeftest(lm_4_1, vcov = vcovCL, type = \"HC1\", df = 2, cluster = ~type)\n",
    "print(lm4_robust_clustered)\n",
    "\n",
    "stargazer(lm3_1_robust_clustered, lm3_robust_clustered, lm4_1_robust_clustered, lm4_robust_clustered)\n"
   ]
  },
  {
   "cell_type": "code",
   "execution_count": null,
   "metadata": {
    "vscode": {
     "languageId": "r"
    }
   },
   "outputs": [],
   "source": [
    "# Perform OLS Dist*\n",
    "lm_5 <- lm(dist ~ followers_class + nb_tracks + track_pop + type, data = df)\n",
    "lm_5_1 <- lm(dist ~ type, data = df)\n",
    "\n",
    "lm5_robust_clustered <- coeftest(lm_5, vcov = vcovCL, type = \"HC1\", df = 2, cluster = ~type)\n",
    "lm5_1_robust_clustered <- coeftest(lm_5_1, vcov = vcovCL, type = \"HC1\", df = 2, cluster = ~type)\n",
    "print(lm5_robust_clustered)\n",
    "\n",
    "# Perform OLS Dist**\n",
    "lm_6 <- lm(dist_2 ~ followers_class + nb_tracks + track_pop + type, data = df)\n",
    "lm_6_1 <- lm(dist_2 ~ type, data = df)\n",
    "\n",
    "lm6_robust_clustered <- coeftest(lm_6, vcov = vcovCL, type = \"HC1\", df = 2, cluster = ~type)\n",
    "lm6_1_robust_clustered <- coeftest(lm_6_1, vcov = vcovCL, type = \"HC1\", df = 2, cluster = ~type)\n",
    "print(lm6_robust_clustered)\n",
    "\n",
    "stargazer(lm5_1_robust_clustered, lm5_robust_clustered, lm6_1_robust_clustered, lm6_robust_clustered)\n"
   ]
  },
  {
   "cell_type": "code",
   "execution_count": null,
   "metadata": {
    "vscode": {
     "languageId": "r"
    }
   },
   "outputs": [],
   "source": [
    "stargazer(lm1_1_robust_clustered, lm1_robust_clustered, lm3_1_robust_clustered, lm3_robust_clustered, lm5_1_robust_clustered, lm5_robust_clustered)\n"
   ]
  },
  {
   "cell_type": "code",
   "execution_count": null,
   "metadata": {
    "vscode": {
     "languageId": "r"
    }
   },
   "outputs": [],
   "source": [
    "stargazer(lm_2_1, lm_2, lm_4_1, lm_4, lm_6_1, lm_6)"
   ]
  },
  {
   "cell_type": "code",
   "execution_count": null,
   "metadata": {
    "vscode": {
     "languageId": "r"
    }
   },
   "outputs": [],
   "source": [
    "stargazer(lm2_1_robust_clustered, lm2_robust_clustered, lm4_1_robust_clustered, lm4_robust_clustered, lm6_1_robust_clustered, lm6_robust_clustered)"
   ]
  },
  {
   "cell_type": "markdown",
   "metadata": {},
   "source": [
    "Robustness checks"
   ]
  },
  {
   "cell_type": "markdown",
   "metadata": {},
   "source": [
    "Control for clusters"
   ]
  },
  {
   "cell_type": "code",
   "execution_count": null,
   "metadata": {
    "vscode": {
     "languageId": "r"
    }
   },
   "outputs": [],
   "source": [
    "# Perform OLS\n",
    "lm_1_2 <- lm(diversity_norm ~ followers_class + nb_tracks + track_pop + type + as.numeric(nb_clusters), data = df)\n",
    "lm1_2_robust_clustered <- coeftest(lm_3, vcov = vcovCL, type = \"HC1\", df = 2, cluster = ~type)\n",
    "summary(lm_1_2)\n",
    "\n",
    "# Perform OLS\n",
    "lm_2_2 <- lm(diversity_norm_2 ~ followers_class + nb_tracks + track_pop + type + as.numeric(nb_clusters_2), data = df)\n",
    "lm2_2_robust_clustered <- coeftest(lm_4, vcov = vcovCL, type = \"HC1\", df = 2, cluster = ~type)\n",
    "summary(lm_2_2)\n",
    "\n",
    "stargazer(lm1_robust_clustered, lm1_2_robust_clustered, lm2_robust_clustered, lm2_2_robust_clustered)\n"
   ]
  },
  {
   "cell_type": "markdown",
   "metadata": {},
   "source": [
    "Multicolinearity"
   ]
  },
  {
   "cell_type": "code",
   "execution_count": null,
   "metadata": {
    "vscode": {
     "languageId": "r"
    }
   },
   "outputs": [],
   "source": [
    "vif(lm_1)\n",
    "vif(lm_2)\n"
   ]
  },
  {
   "cell_type": "markdown",
   "metadata": {},
   "source": [
    "Test on silhouette scores"
   ]
  },
  {
   "cell_type": "code",
   "execution_count": null,
   "metadata": {
    "vscode": {
     "languageId": "r"
    }
   },
   "outputs": [],
   "source": [
    "# create a list of file names and corresponding is_editorial values\n",
    "file_names <- c(\"robust_afro.xlsx\", \"robust_alternatif.xlsx\", \"robust_ambiance.xlsx\", \"robust_ambient.xlsx\",\n",
    "                \"robust_amour.xlsx\", \"robust_arabe.xlsx\", \"robust_bienetre.xlsx\", \"robust_blues.xlsx\",\n",
    "                \"robust_classique.xlsx\", \"robust_country.xlsx\", \"robust_decennies.xlsx\", \"robust_detente.xlsx\",\n",
    "                \"robust_dormir.xlsx\", \"robust_electro.xlsx\", \"robust_enfants.xlsx\", \"robust_equal.xlsx\",\n",
    "                \"robust_ete.xlsx\", \"robust_etudiants.xlsx\"\n",
    "                )\n",
    "\n",
    "df_list <- list()\n",
    "for (i in seq_along(file_names)) {\n",
    "  file_name <- file_names[i]\n",
    "  df <- read_xlsx(file_name)\n",
    "  df_list[[i]] <- df\n",
    "}\n",
    "\n",
    "df_robust <- Reduce(function(x, y) merge(x, y, all = TRUE), df_list)\n"
   ]
  },
  {
   "cell_type": "code",
   "execution_count": null,
   "metadata": {
    "vscode": {
     "languageId": "r"
    }
   },
   "outputs": [],
   "source": [
    "# Perform paired t-tests\n",
    "t_test_5_6 <- t.test(df_robust$silhouette_score_5, df_robust$silhouette_score_6, paired = TRUE)\n",
    "cohen_d_5_6 <- cohen.d(df_robust$silhouette_score_5, df_robust$silhouette_score_6, hedges.correction = TRUE)\n",
    "t_test_5_6\n",
    "cohen_d_5_6\n",
    "\n",
    "t_test_5_4 <- t.test(df_robust$silhouette_score_5, df_robust$silhouette_score_4, paired = TRUE)\n",
    "cohen_d_5_4 <- cohen.d(df_robust$silhouette_score_5, df_robust$silhouette_score_4, hedges.correction = TRUE)\n",
    "t_test_5_4\n",
    "cohen_d_5_4\n",
    "\n",
    "t_test_5_6_2 <- t.test(df_robust$silhouette_score_5_2, df_robust$silhouette_score_6_2, paired = TRUE)\n",
    "cohen_d_5_6_2 <- cohen.d(df_robust$silhouette_score_5_2, df_robust$silhouette_score_6_2, hedges.correction = TRUE)\n",
    "t_test_5_6_2\n",
    "cohen_d_5_6_2\n",
    "\n",
    "t_test_5_4_2 <- t.test(df_robust$silhouette_score_5_2, df_robust$silhouette_score_4_2, paired = TRUE)\n",
    "cohen_d_5_4_2 <- cohen.d(df_robust$silhouette_score_5_2, df_robust$silhouette_score_4_2, hedges.correction = TRUE)\n",
    "t_test_5_4_2\n",
    "cohen_d_5_4_2\n"
   ]
  }
 ],
 "metadata": {
  "kernelspec": {
   "display_name": "R",
   "language": "R",
   "name": "ir"
  },
  "language_info": {
   "codemirror_mode": "r",
   "file_extension": ".r",
   "mimetype": "text/x-r-source",
   "name": "R",
   "pygments_lexer": "r",
   "version": "4.1.1"
  },
  "orig_nbformat": 4
 },
 "nbformat": 4,
 "nbformat_minor": 2
}
