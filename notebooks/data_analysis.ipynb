{
 "cells": [
  {
   "attachments": {},
   "cell_type": "markdown",
   "metadata": {},
   "source": [
    "Install and load packages"
   ]
  },
  {
   "cell_type": "code",
   "execution_count": null,
   "metadata": {
    "vscode": {
     "languageId": "r"
    }
   },
   "outputs": [],
   "source": [
    "install.packages('readxl')\n",
    "install.packages('dplyr')\n",
    "install.packages('ggplot2')\n",
    "install.packages('stargazer')\n",
    "install.packages('purrr')\n",
    "install.packages('stringr')\n",
    "install.packages('lessR')\n",
    "install.packages('fixest')\n",
    "install.packages('ordinal')\n",
    "install.packages('effsize')\n"
   ]
  },
  {
   "cell_type": "code",
   "execution_count": 1,
   "metadata": {
    "vscode": {
     "languageId": "r"
    }
   },
   "outputs": [
    {
     "name": "stderr",
     "output_type": "stream",
     "text": [
      "Warning message:\n",
      "\"le package 'dplyr' a 'et'e compil'e avec la version R 4.1.2\"\n",
      "\n",
      "Attachement du package : 'dplyr'\n",
      "\n",
      "\n",
      "Les objets suivants sont masqu'es depuis 'package:stats':\n",
      "\n",
      "    filter, lag\n",
      "\n",
      "\n",
      "Les objets suivants sont masqu'es depuis 'package:base':\n",
      "\n",
      "    intersect, setdiff, setequal, union\n",
      "\n",
      "\n",
      "Warning message:\n",
      "\"le package 'ggplot2' a 'et'e compil'e avec la version R 4.1.2\"\n",
      "Warning message:\n",
      "\"le package 'stargazer' a 'et'e compil'e avec la version R 4.1.2\"\n",
      "\n",
      "Please cite as: \n",
      "\n",
      "\n",
      " Hlavac, Marek (2022). stargazer: Well-Formatted Regression and Summary Statistics Tables.\n",
      "\n",
      " R package version 5.2.3. https://CRAN.R-project.org/package=stargazer \n",
      "\n",
      "\n",
      "Warning message:\n",
      "\"le package 'purrr' a 'et'e compil'e avec la version R 4.1.2\"\n",
      "Warning message:\n",
      "\"le package 'stringr' a 'et'e compil'e avec la version R 4.1.2\"\n",
      "-- \u001b[1mAttaching packages\u001b[22m --------------------------------------- tidyverse 1.3.1 --\n",
      "\n",
      "\u001b[32mv\u001b[39m \u001b[34mtibble \u001b[39m 3.2.1     \u001b[32mv\u001b[39m \u001b[34mreadr  \u001b[39m 2.0.2\n",
      "\u001b[32mv\u001b[39m \u001b[34mtidyr  \u001b[39m 1.2.1     \u001b[32mv\u001b[39m \u001b[34mforcats\u001b[39m 0.5.1\n",
      "\n",
      "Warning message:\n",
      "\"le package 'tibble' a 'et'e compil'e avec la version R 4.1.2\"\n",
      "Warning message:\n",
      "\"le package 'tidyr' a 'et'e compil'e avec la version R 4.1.2\"\n",
      "-- \u001b[1mConflicts\u001b[22m ------------------------------------------ tidyverse_conflicts() --\n",
      "\u001b[31mx\u001b[39m \u001b[34mdplyr\u001b[39m::\u001b[32mfilter()\u001b[39m masks \u001b[34mstats\u001b[39m::filter()\n",
      "\u001b[31mx\u001b[39m \u001b[34mdplyr\u001b[39m::\u001b[32mlag()\u001b[39m    masks \u001b[34mstats\u001b[39m::lag()\n",
      "\n",
      "\n",
      "lessR 4.2.9                         feedback: gerbing@pdx.edu \n",
      "--------------------------------------------------------------\n",
      "> d <- Read(\"\")   Read text, Excel, SPSS, SAS, or R data file\n",
      "  d is default data frame, data= in analysis routines optional\n",
      "\n",
      "Learn about reading, writing, and manipulating data, graphics,\n",
      "testing means and proportions, regression, factor analysis,\n",
      "customization, and descriptive statistics from pivot tables\n",
      "  Enter:  browseVignettes(\"lessR\")\n",
      "\n",
      "View changes in this and recent versions of lessR\n",
      "  Enter: news(package=\"lessR\")\n",
      "\n",
      "Interactive data analysis\n",
      "  Enter: interact()\n",
      "\n",
      "\n",
      "\n",
      "Attachement du package : 'lessR'\n",
      "\n",
      "\n",
      "Les objets suivants sont masqu'es depuis 'package:dplyr':\n",
      "\n",
      "    recode, rename\n",
      "\n",
      "\n",
      "Le chargement a n'ecessit'e le package : zoo\n",
      "\n",
      "\n",
      "Attachement du package : 'zoo'\n",
      "\n",
      "\n",
      "Les objets suivants sont masqu'es depuis 'package:base':\n",
      "\n",
      "    as.Date, as.Date.numeric\n",
      "\n",
      "\n",
      "Le chargement a n'ecessit'e le package : carData\n",
      "\n",
      "\n",
      "Attachement du package : 'car'\n",
      "\n",
      "\n",
      "Les objets suivants sont masqu'es depuis 'package:lessR':\n",
      "\n",
      "    bc, recode, sp\n",
      "\n",
      "\n",
      "L'objet suivant est masqu'e depuis 'package:purrr':\n",
      "\n",
      "    some\n",
      "\n",
      "\n",
      "L'objet suivant est masqu'e depuis 'package:dplyr':\n",
      "\n",
      "    recode\n",
      "\n",
      "\n"
     ]
    }
   ],
   "source": [
    "library(readxl)\n",
    "library(dplyr)\n",
    "library(ggplot2)\n",
    "library(stats)\n",
    "library(stargazer)\n",
    "library(purrr)\n",
    "library(stringr)\n",
    "library(tidyverse)\n",
    "library(lessR)\n",
    "library(fixest)\n",
    "library(sandwich)\n",
    "library(lmtest)\n",
    "library(car)\n",
    "library(effsize)\n"
   ]
  },
  {
   "attachments": {},
   "cell_type": "markdown",
   "metadata": {},
   "source": [
    "Load df"
   ]
  },
  {
   "cell_type": "code",
   "execution_count": null,
   "metadata": {
    "vscode": {
     "languageId": "r"
    }
   },
   "outputs": [],
   "source": [
    "# create a list of file names and corresponding is_editorial values\n",
    "file_names <- c(\"df_rap_final.xlsx\", \"df_pop_final.xlsx\", \"df_variete_final.xlsx\", \"df_ete_final.xlsx\",\n",
    "                \"df_latino_final.xlsx\", \"df_ambiance_final.xlsx\", \"df_electro_final.xlsx\", \"df_rock_final.xlsx\",\n",
    "                \"df_indie_final.xlsx\", \"df_sport_final.xlsx\", \"df_rnb_final.xlsx\", \"df_afro_final.xlsx\",\n",
    "                \"df_kpop_final.xlsx\", \"df_detente_final.xlsx\", \"df_dormir_final.xlsx\", \"df_soiree_final.xlsx\",\n",
    "                \"df_zouk_final.xlsx\", \"df_reggae_final.xlsx\", \"df_maison_final.xlsx\", \"df_decennies_final.xlsx\",\n",
    "                \"df_alternatif_final.xlsx\", \"df_amour_final.xlsx\", \"df_metal_final.xlsx\", \"df_jazz_final.xlsx\",\n",
    "                \"df_tendances_final.xlsx\", \"df_equal_final.xlsx\", \"df_classique_final.xlsx\", \"df_folk_final.xlsx\",\n",
    "                \"df_focus_final.xlsx\", \"df_soul_final.xlsx\", \"df_netflix_final.xlsx\", \"df_enfants_final.xlsx\",\n",
    "                \"df_etudiants_final.xlsx\", \"df_bienetre_final.xlsx\", \"df_punk_final.xlsx\", \"df_ambient_final.xlsx\",\n",
    "                \"df_country_final.xlsx\", \"df_blues_final.xlsx\", \"df_arabe_final.xlsx\", \"df_voyage_final.xlsx\",\n",
    "                \"df_frequency_final.xlsx\", \"df_tops_final.xlsx\"\n",
    "                )\n",
    "\n",
    "is_editorial_values <- c(1, 1, 1, 1, 1, 1, 1, 1, 1, 1, 1, 1, 1, 1, 1, 1, 1, 1, 1, 1, 1, 1, 1, 1, 1, 1, 1, 1, 1,\n",
    "                         1, 1, 1, 1, 1, 1, 1, 1, 1, 1, 1, 1, 0\n",
    "                         )\n",
    "\n",
    "type_values <- c('genre', 'genre', 'genre', 'mood', 'genre', 'mood', 'genre', 'genre', 'genre', 'mood', 'genre',\n",
    "                 'genre', 'genre', 'mood', 'mood', 'mood', 'genre', 'genre', 'mood', 'trend', 'genre', 'mood',\n",
    "                 'genre', 'genre', 'trend', 'trend', 'genre', 'genre', 'mood', 'genre', 'trend', 'mood', 'mood',\n",
    "                 'mood', 'genre', 'genre', 'genre', 'genre', 'genre', 'mood', 'trend'\n",
    "                 )\n",
    "\n",
    "df_list <- list()\n",
    "for (i in seq_along(file_names)) {\n",
    "  file_name <- file_names[i]\n",
    "  is_editorial <- is_editorial_values[i]\n",
    "  type <- type_values[i]\n",
    "  df <- read_xlsx(file_name)\n",
    "  df$is_editorial <- is_editorial\n",
    "  df$type <- type\n",
    "  df_list[[i]] <- df\n",
    "}\n",
    "\n",
    "df <- Reduce(function(x, y) merge(x, y, all = TRUE), df_list)\n"
   ]
  },
  {
   "attachments": {},
   "cell_type": "markdown",
   "metadata": {},
   "source": [
    "Data management"
   ]
  },
  {
   "cell_type": "code",
   "execution_count": null,
   "metadata": {
    "vscode": {
     "languageId": "r"
    }
   },
   "outputs": [],
   "source": [
    "# Extract numeric values\n",
    "df$diversity_clean <- as.numeric(gsub(\"[^[:digit:].-]\", \"\", df$stirling))\n",
    "df$diversity_clean_2 <- as.numeric(gsub(\"[^[:digit:].-]\", \"\", df$stirling_2))\n",
    "\n",
    "# Print numeric values\n",
    "df$diversity_clean\n",
    "df$diversity_clean_2\n",
    "\n",
    "# Scale values from 0 to 1\n",
    "df$diversity_norm <- rescale(diversity_clean, df, kind='z')\n",
    "df$diversity_norm_2 <- rescale(diversity_clean_2, df, kind='z')\n",
    "\n",
    "# Print scaled values\n",
    "df$diversity_norm\n",
    "df$diversity_norm_2\n"
   ]
  },
  {
   "cell_type": "code",
   "execution_count": null,
   "metadata": {
    "vscode": {
     "languageId": "r"
    }
   },
   "outputs": [],
   "source": [
    "# Scale covariates and log followers\n",
    "df$log_followers <- ifelse(df$playlist_followers == 0, 0, log(df$playlist_followers))\n",
    "df$log_followers\n",
    "\n",
    "df$track_pop_norm <- rescale(as.numeric(track_pop), df, kind='0to1')\n",
    "df$track_pop_norm\n",
    "\n",
    "df$artist_pop_norm <- rescale(as.numeric(artist_pop), df, kind='0to1')\n",
    "df$artist_pop_norm\n",
    "\n",
    "df$nb_tracks_res <- rescale(as.numeric(nb_tracks), df, kind='z')\n",
    "df$nb_tracks_norm <- rescale(nb_tracks_res, df, kind='0to1')\n",
    "df$nb_tracks_norm\n",
    "\n",
    "df$nb_artists_norm <- rescale(as.numeric(nb_artists), df, kind='0to1')\n",
    "df$nb_artists_norm\n",
    "\n",
    "df$nb_clusters_norm <- rescale(as.numeric(nb_clusters), df, kind='0to1')\n",
    "df$nb_clusters_norm\n",
    "\n",
    "df$nb_clusters_2_norm <- rescale(as.numeric(nb_clusters_2), df, kind='0to1')\n",
    "df$nb_clusters_2_norm\n"
   ]
  },
  {
   "attachments": {},
   "cell_type": "markdown",
   "metadata": {},
   "source": [
    "Descriptive stats"
   ]
  },
  {
   "cell_type": "markdown",
   "metadata": {},
   "source": [
    "Summary stats"
   ]
  },
  {
   "cell_type": "code",
   "execution_count": null,
   "metadata": {
    "vscode": {
     "languageId": "r"
    }
   },
   "outputs": [],
   "source": [
    "nrow(df)\n",
    "sum(df$nb_tracks)\n"
   ]
  },
  {
   "cell_type": "code",
   "execution_count": null,
   "metadata": {
    "vscode": {
     "languageId": "r"
    }
   },
   "outputs": [],
   "source": [
    "summary(df$diversity_clean)\n",
    "summary(df$diversity_clean_2)\n"
   ]
  },
  {
   "cell_type": "code",
   "execution_count": null,
   "metadata": {
    "vscode": {
     "languageId": "r"
    }
   },
   "outputs": [],
   "source": [
    "summary(df$nb_clusters)\n",
    "summary(df$nb_clusters_2)\n",
    "summary(df$hhi)\n",
    "summary(df$hhi_2)\n",
    "summary(df$mean_distance)\n",
    "summary(df$mean_distance_2)\n"
   ]
  },
  {
   "cell_type": "code",
   "execution_count": null,
   "metadata": {
    "vscode": {
     "languageId": "r"
    }
   },
   "outputs": [],
   "source": [
    "table(df$is_editorial)\n"
   ]
  },
  {
   "cell_type": "code",
   "execution_count": null,
   "metadata": {
    "vscode": {
     "languageId": "r"
    }
   },
   "outputs": [],
   "source": [
    "tapply(df$nb_clusters, df$is_editorial, mean)\n",
    "tapply(df$nb_clusters_2, df$is_editorial, mean)\n",
    "tapply(df$hhi, df$is_editorial, mean)\n",
    "tapply(df$hhi_2, df$is_editorial, mean)\n",
    "tapply(df$mean_distance, df$is_editorial, mean)\n",
    "tapply(df$mean_distance_2, df$is_editorial, mean)\n",
    "tapply(df$diversity_clean, df$is_editorial, mean)\n",
    "tapply(df$diversity_clean_2, df$is_editorial, mean)\n"
   ]
  },
  {
   "cell_type": "code",
   "execution_count": null,
   "metadata": {
    "vscode": {
     "languageId": "r"
    }
   },
   "outputs": [],
   "source": [
    "table(df$type)\n"
   ]
  },
  {
   "cell_type": "code",
   "execution_count": null,
   "metadata": {
    "vscode": {
     "languageId": "r"
    }
   },
   "outputs": [],
   "source": [
    "tapply(df$nb_clusters, df$type, mean)\n",
    "tapply(df$nb_clusters_2, df$type, mean)\n",
    "tapply(df$hhi, df$type, mean)\n",
    "tapply(df$hhi_2, df$type, mean)\n",
    "tapply(df$mean_distance, df$type, mean)\n",
    "tapply(df$mean_distance_2, df$type, mean)\n",
    "tapply(df$diversity_clean, df$type, mean)\n",
    "tapply(df$diversity_clean_2, df$type, mean)\n"
   ]
  },
  {
   "cell_type": "code",
   "execution_count": null,
   "metadata": {
    "vscode": {
     "languageId": "r"
    }
   },
   "outputs": [],
   "source": [
    "sapply(df[, c('nb_tracks', 'playlist_followers', 'track_pop', 'artist_pop')], function(x) c(summary(x), sd(x)))\n"
   ]
  },
  {
   "cell_type": "markdown",
   "metadata": {},
   "source": [
    "Barplots"
   ]
  },
  {
   "cell_type": "code",
   "execution_count": null,
   "metadata": {
    "vscode": {
     "languageId": "r"
    }
   },
   "outputs": [],
   "source": [
    "ggplot(df, aes(x = diversity_clean)) + \n",
    "  geom_histogram(binwidth = 0.025, color = \"black\", fill = \"#a7a7f9\") +\n",
    "  xlim(0, 0.5) +\n",
    "  theme_bw() +\n",
    "  theme(panel.grid.major.y = element_line(linetype = \"dotted\"),\n",
    "        panel.grid.minor.y = element_blank(),\n",
    "        panel.grid.major.x = element_blank(),\n",
    "        panel.grid.minor.x = element_blank(),\n",
    "        aspect.ratio = 0.8) +\n",
    "  labs(x = 'k* Rao-Stirling', y = 'Frequency')\n"
   ]
  },
  {
   "cell_type": "code",
   "execution_count": null,
   "metadata": {
    "vscode": {
     "languageId": "r"
    }
   },
   "outputs": [],
   "source": [
    "ggplot(df, aes(x = diversity_clean_2)) + \n",
    "  geom_histogram(binwidth = 0.025, color = \"black\", fill = \"#a7a7f9\") +\n",
    "  xlim(0, 0.7) +\n",
    "  theme_bw() +\n",
    "  theme(panel.grid.major.y = element_line(linetype = \"dotted\"),\n",
    "        panel.grid.minor.y = element_blank(),\n",
    "        panel.grid.major.x = element_blank(),\n",
    "        panel.grid.minor.x = element_blank(),\n",
    "        aspect.ratio = 0.8) +\n",
    "  labs(x = 'k** Rao-Stirling', y = 'Frequency')\n"
   ]
  },
  {
   "cell_type": "markdown",
   "metadata": {},
   "source": [
    "Radar charts"
   ]
  },
  {
   "cell_type": "code",
   "execution_count": null,
   "metadata": {
    "vscode": {
     "languageId": "r"
    }
   },
   "outputs": [],
   "source": [
    "# Adjust options to display all columns of the data frame\n",
    "options(width = 10000)\n",
    "\n",
    "# Convert columns 15 and 16 to numeric\n",
    "df_3[, 15:16] <- lapply(df_3[, 15:16], as.numeric)\n",
    "\n",
    "# Create a new data frame to store scaled values\n",
    "scaled_df <- data.frame(df_3)\n",
    "\n",
    "# Rescale loudness, tempo, and duration to the range 0-1\n",
    "scaled_df$loudness <- scale(scaled_df$loudness, center = min(scaled_df$loudness), scale = max(scaled_df$loudness) - min(scaled_df$loudness))\n",
    "scaled_df$tempo <- scale(scaled_df$tempo, center = min(scaled_df$tempo), scale = max(scaled_df$tempo) - min(scaled_df$tempo))\n",
    "scaled_df$duration_ms <- scale(scaled_df$duration_ms, center = min(scaled_df$duration_ms), scale = max(scaled_df$duration_ms) - min(scaled_df$duration_ms))\n",
    "\n",
    "# Subset your scaled dataframe to select the tracks you want to compare\n",
    "selected_tracks <- scaled_df[scaled_df$track_name %in% c(\"I Feel It Coming\", \"November Rain\"), ]\n",
    "\n",
    "# Print the values for the selected tracks\n",
    "for (track_name in unique(selected_tracks$track_name)) {\n",
    "  track_data <- selected_tracks[selected_tracks$track_name == track_name, 7:16]\n",
    "  cat(\"Track:\", track_name, \"\\n\")\n",
    "  print(track_data)\n",
    "  cat(\"\\n\")\n",
    "}\n"
   ]
  },
  {
   "attachments": {},
   "cell_type": "markdown",
   "metadata": {},
   "source": [
    "OLS models"
   ]
  },
  {
   "attachments": {},
   "cell_type": "markdown",
   "metadata": {},
   "source": [
    "Simple OLS"
   ]
  },
  {
   "cell_type": "code",
   "execution_count": null,
   "metadata": {
    "vscode": {
     "languageId": "r"
    }
   },
   "outputs": [],
   "source": [
    "# Perform OLS k*\n",
    "lm_1 <- lm(diversity_norm ~ playlist_followers + nb_tracks + track_pop + type, data = df)\n",
    "summary(lm_1)\n",
    "\n",
    "# Perform OLS k**\n",
    "lm_2 <- lm(diversity_norm_2 ~ playlist_followers + nb_tracks + track_pop + type, data = df)\n",
    "summary(lm_2)\n"
   ]
  },
  {
   "cell_type": "code",
   "execution_count": null,
   "metadata": {
    "vscode": {
     "languageId": "r"
    }
   },
   "outputs": [],
   "source": [
    "# Perform OLS\n",
    "lm_3 <- lm(diversity_norm ~ playlist_followers + nb_tracks + track_pop + type + as.numeric(nb_clusters), data = df)\n",
    "summary(lm_3)\n",
    "\n",
    "# Perform OLS\n",
    "lm_4 <- lm(diversity_norm_2 ~ playlist_followers + nb_tracks + track_pop + type + as.numeric(nb_clusters_2), data = df)\n",
    "summary(lm_4)\n"
   ]
  },
  {
   "cell_type": "code",
   "execution_count": null,
   "metadata": {
    "vscode": {
     "languageId": "r"
    }
   },
   "outputs": [],
   "source": [
    "# Export regressions in LaTeX\n",
    "stargazer(lm_1, lm_3, lm_2, lm_4)\n"
   ]
  },
  {
   "attachments": {},
   "cell_type": "markdown",
   "metadata": {},
   "source": [
    "Robusts OLS"
   ]
  },
  {
   "cell_type": "code",
   "execution_count": null,
   "metadata": {
    "vscode": {
     "languageId": "r"
    }
   },
   "outputs": [],
   "source": [
    "# Fit your robust linear regression \n",
    "lm1_robust_clustered <- coeftest(lm_1, vcov = vcovCL, type = \"HC1\", df = 2, cluster = ~type)\n",
    "print(lm1_robust_clustered)\n",
    "\n",
    "lm2_robust_clustered <- coeftest(lm_2, vcov = vcovCL, type = \"HC1\", df = 2, cluster = ~type)\n",
    "print(lm2_robust_clustered)\n"
   ]
  },
  {
   "cell_type": "code",
   "execution_count": null,
   "metadata": {
    "vscode": {
     "languageId": "r"
    }
   },
   "outputs": [],
   "source": [
    "# Fit your robust linear regression \n",
    "lm3_robust_clustered <- coeftest(lm_3, vcov = vcovCL, type = \"HC1\", df = 2, cluster = ~type)\n",
    "lm4_robust_clustered <- coeftest(lm_4, vcov = vcovCL, type = \"HC1\", df = 2, cluster = ~type)\n",
    "\n",
    "stargazer(lm1_robust_clustered, lm3_robust_clustered, lm2_robust_clustered, lm4_robust_clustered)\n"
   ]
  },
  {
   "cell_type": "markdown",
   "metadata": {},
   "source": [
    "Robustness checks"
   ]
  },
  {
   "cell_type": "markdown",
   "metadata": {},
   "source": [
    "Testing residuals"
   ]
  },
  {
   "cell_type": "code",
   "execution_count": null,
   "metadata": {
    "vscode": {
     "languageId": "r"
    }
   },
   "outputs": [],
   "source": [
    "# Shapiro-Wilk test\n",
    "residuals_1 <- residuals(lm_1)\n",
    "shapiro.test(residuals_1)\n",
    "\n",
    "residuals_2 <- residuals(lm_2)\n",
    "shapiro.test(residuals_2)\n",
    "\n",
    "# Durbin-Watson test\n",
    "dwtest(lm_1)\n",
    "dwtest(lm_2)\n",
    "\n",
    "# Breusch-Pagan test\n",
    "bptest(lm_1)\n",
    "bptest(lm_2)\n"
   ]
  },
  {
   "cell_type": "markdown",
   "metadata": {},
   "source": [
    "Multicolinearity"
   ]
  },
  {
   "cell_type": "code",
   "execution_count": null,
   "metadata": {
    "vscode": {
     "languageId": "r"
    }
   },
   "outputs": [],
   "source": [
    "vif(lm_1)\n",
    "vif(lm_2)\n"
   ]
  },
  {
   "cell_type": "markdown",
   "metadata": {},
   "source": [
    "Test on silhouette scores"
   ]
  },
  {
   "cell_type": "code",
   "execution_count": 10,
   "metadata": {
    "vscode": {
     "languageId": "r"
    }
   },
   "outputs": [
    {
     "name": "stderr",
     "output_type": "stream",
     "text": [
      "\u001b[1m\u001b[22mNew names:\n",
      "\u001b[36m*\u001b[39m `` -> `...1`\n",
      "\u001b[1m\u001b[22mNew names:\n",
      "\u001b[36m*\u001b[39m `` -> `...1`\n",
      "\u001b[1m\u001b[22mNew names:\n",
      "\u001b[36m*\u001b[39m `` -> `...1`\n",
      "\u001b[1m\u001b[22mNew names:\n",
      "\u001b[36m*\u001b[39m `` -> `...1`\n",
      "\u001b[1m\u001b[22mNew names:\n",
      "\u001b[36m*\u001b[39m `` -> `...1`\n",
      "\u001b[1m\u001b[22mNew names:\n",
      "\u001b[36m*\u001b[39m `` -> `...1`\n",
      "\u001b[1m\u001b[22mNew names:\n",
      "\u001b[36m*\u001b[39m `` -> `...1`\n",
      "\u001b[1m\u001b[22mNew names:\n",
      "\u001b[36m*\u001b[39m `` -> `...1`\n",
      "\u001b[1m\u001b[22mNew names:\n",
      "\u001b[36m*\u001b[39m `` -> `...1`\n",
      "\u001b[1m\u001b[22mNew names:\n",
      "\u001b[36m*\u001b[39m `` -> `...1`\n",
      "\u001b[1m\u001b[22mNew names:\n",
      "\u001b[36m*\u001b[39m `` -> `...1`\n",
      "\u001b[1m\u001b[22mNew names:\n",
      "\u001b[36m*\u001b[39m `` -> `...1`\n",
      "\u001b[1m\u001b[22mNew names:\n",
      "\u001b[36m*\u001b[39m `` -> `...1`\n",
      "\u001b[1m\u001b[22mNew names:\n",
      "\u001b[36m*\u001b[39m `` -> `...1`\n"
     ]
    }
   ],
   "source": [
    "# create a list of file names and corresponding is_editorial values\n",
    "file_names <- c(\"robust_afro.xlsx\", \"robust_alternatif.xlsx\", \"robust_ambiance.xlsx\", \"robust_ambient.xlsx\",\n",
    "                \"robust_amour.xlsx\", \"robust_arabe.xlsx\", \"robust_bienetre.xlsx\", \"robust_blues.xlsx\",\n",
    "                \"robust_classique.xlsx\", \"robust_country.xlsx\", \"robust_decennies.xlsx\", \"robust_detente.xlsx\",\n",
    "                \"robust_dormir.xlsx\", \"robust_electro.xlsx\")\n",
    "\n",
    "df_list <- list()\n",
    "for (i in seq_along(file_names)) {\n",
    "  file_name <- file_names[i]\n",
    "  df <- read_xlsx(file_name)\n",
    "  df_list[[i]] <- df\n",
    "}\n",
    "\n",
    "df_robust <- Reduce(function(x, y) merge(x, y, all = TRUE), df_list)\n"
   ]
  },
  {
   "cell_type": "code",
   "execution_count": 11,
   "metadata": {
    "vscode": {
     "languageId": "r"
    }
   },
   "outputs": [
    {
     "data": {
      "text/plain": [
       "\n",
       "\tPaired t-test\n",
       "\n",
       "data:  df_robust$silhouette_score_5 and df_robust$silhouette_score_6\n",
       "t = 11.407, df = 458, p-value < 0.00000000000000022\n",
       "alternative hypothesis: true difference in means is not equal to 0\n",
       "95 percent confidence interval:\n",
       " 0.01566729 0.02218903\n",
       "sample estimates:\n",
       "mean of the differences \n",
       "             0.01892816 \n"
      ]
     },
     "metadata": {},
     "output_type": "display_data"
    },
    {
     "data": {
      "text/plain": [
       "\n",
       "Hedges's g\n",
       "\n",
       "g estimate: 0.3266684 (small)\n",
       "95 percent confidence interval:\n",
       "    lower     upper \n",
       "0.1963659 0.4569708 \n"
      ]
     },
     "metadata": {},
     "output_type": "display_data"
    },
    {
     "data": {
      "text/plain": [
       "\n",
       "\tPaired t-test\n",
       "\n",
       "data:  df_robust$silhouette_score_5 and df_robust$silhouette_score_4\n",
       "t = -13.566, df = 458, p-value < 0.00000000000000022\n",
       "alternative hypothesis: true difference in means is not equal to 0\n",
       "95 percent confidence interval:\n",
       " -0.03108691 -0.02322013\n",
       "sample estimates:\n",
       "mean of the differences \n",
       "            -0.02715352 \n"
      ]
     },
     "metadata": {},
     "output_type": "display_data"
    },
    {
     "data": {
      "text/plain": [
       "\n",
       "Hedges's g\n",
       "\n",
       "g estimate: -0.4544235 (small)\n",
       "95 percent confidence interval:\n",
       "     lower      upper \n",
       "-0.5855254 -0.3233215 \n"
      ]
     },
     "metadata": {},
     "output_type": "display_data"
    },
    {
     "data": {
      "text/plain": [
       "\n",
       "\tPaired t-test\n",
       "\n",
       "data:  df_robust$silhouette_score_5_2 and df_robust$silhouette_score_6_2\n",
       "t = 17.327, df = 458, p-value < 0.00000000000000022\n",
       "alternative hypothesis: true difference in means is not equal to 0\n",
       "95 percent confidence interval:\n",
       " 0.01726282 0.02167957\n",
       "sample estimates:\n",
       "mean of the differences \n",
       "             0.01947119 \n"
      ]
     },
     "metadata": {},
     "output_type": "display_data"
    },
    {
     "data": {
      "text/plain": [
       "\n",
       "Hedges's g\n",
       "\n",
       "g estimate: 0.5054044 (medium)\n",
       "95 percent confidence interval:\n",
       "    lower     upper \n",
       "0.3739122 0.6368966 \n"
      ]
     },
     "metadata": {},
     "output_type": "display_data"
    },
    {
     "data": {
      "text/plain": [
       "\n",
       "\tPaired t-test\n",
       "\n",
       "data:  df_robust$silhouette_score_5_2 and df_robust$silhouette_score_4_2\n",
       "t = -29.467, df = 458, p-value < 0.00000000000000022\n",
       "alternative hypothesis: true difference in means is not equal to 0\n",
       "95 percent confidence interval:\n",
       " -0.03570376 -0.03123933\n",
       "sample estimates:\n",
       "mean of the differences \n",
       "            -0.03347155 \n"
      ]
     },
     "metadata": {},
     "output_type": "display_data"
    },
    {
     "data": {
      "text/plain": [
       "\n",
       "Hedges's g\n",
       "\n",
       "g estimate: -0.876301 (large)\n",
       "95 percent confidence interval:\n",
       "     lower      upper \n",
       "-1.0118131 -0.7407889 \n"
      ]
     },
     "metadata": {},
     "output_type": "display_data"
    }
   ],
   "source": [
    "# Perform paired t-tests\n",
    "t_test_5_6 <- t.test(df_robust$silhouette_score_5, df_robust$silhouette_score_6, paired = TRUE)\n",
    "cohen_d_5_6 <- cohen.d(df_robust$silhouette_score_5, df_robust$silhouette_score_6, hedges.correction = TRUE)\n",
    "t_test_5_6\n",
    "cohen_d_5_6\n",
    "\n",
    "t_test_5_4 <- t.test(df_robust$silhouette_score_5, df_robust$silhouette_score_4, paired = TRUE)\n",
    "cohen_d_5_4 <- cohen.d(df_robust$silhouette_score_5, df_robust$silhouette_score_4, hedges.correction = TRUE)\n",
    "t_test_5_4\n",
    "cohen_d_5_4\n",
    "\n",
    "t_test_5_6_2 <- t.test(df_robust$silhouette_score_5_2, df_robust$silhouette_score_6_2, paired = TRUE)\n",
    "cohen_d_5_6_2 <- cohen.d(df_robust$silhouette_score_5_2, df_robust$silhouette_score_6_2, hedges.correction = TRUE)\n",
    "t_test_5_6_2\n",
    "cohen_d_5_6_2\n",
    "\n",
    "t_test_5_4_2 <- t.test(df_robust$silhouette_score_5_2, df_robust$silhouette_score_4_2, paired = TRUE)\n",
    "cohen_d_5_4_2 <- cohen.d(df_robust$silhouette_score_5_2, df_robust$silhouette_score_4_2, hedges.correction = TRUE)\n",
    "t_test_5_4_2\n",
    "cohen_d_5_4_2\n"
   ]
  }
 ],
 "metadata": {
  "kernelspec": {
   "display_name": "R",
   "language": "R",
   "name": "ir"
  },
  "language_info": {
   "codemirror_mode": "r",
   "file_extension": ".r",
   "mimetype": "text/x-r-source",
   "name": "R",
   "pygments_lexer": "r",
   "version": "4.1.1"
  },
  "orig_nbformat": 4
 },
 "nbformat": 4,
 "nbformat_minor": 2
}
