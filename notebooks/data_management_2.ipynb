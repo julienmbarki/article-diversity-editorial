{
 "cells": [
  {
   "cell_type": "markdown",
   "metadata": {},
   "source": [
    "Import modules"
   ]
  },
  {
   "cell_type": "code",
   "execution_count": 6,
   "metadata": {},
   "outputs": [],
   "source": [
    "import pandas as pd\n",
    "\n",
    "from sklearn.preprocessing import MinMaxScaler\n",
    "from sklearn.metrics import pairwise_distances\n"
   ]
  },
  {
   "cell_type": "markdown",
   "metadata": {},
   "source": [
    "Load the dataset and data management"
   ]
  },
  {
   "cell_type": "code",
   "execution_count": 163,
   "metadata": {},
   "outputs": [],
   "source": [
    "df = pd.read_excel('df_zouk.xlsx')\n",
    "\n",
    "# Group by playlist name\n",
    "groups = df.groupby('playlist_name')\n"
   ]
  },
  {
   "cell_type": "markdown",
   "metadata": {},
   "source": [
    "Euclidean distances"
   ]
  },
  {
   "cell_type": "code",
   "execution_count": 164,
   "metadata": {},
   "outputs": [],
   "source": [
    "scaler = MinMaxScaler()\n",
    "\n",
    "scaled_columns_dict = {}\n",
    "\n",
    "for group_name, group in groups:\n",
    "    # Subset data\n",
    "    subset = group.loc[:, \"danceability\":\"duration_ms\"]\n",
    "\n",
    "    # Scale the specified columns\n",
    "    scaled_columns = scaler.fit_transform(subset)\n",
    "\n",
    "    # Store the scaled columns in dict\n",
    "    scaled_columns_dict[group_name] = scaled_columns\n"
   ]
  },
  {
   "cell_type": "code",
   "execution_count": 165,
   "metadata": {},
   "outputs": [
    {
     "name": "stdout",
     "output_type": "stream",
     "text": [
      "         playlist_name  playlist_followers  track_pop  artist_pop  nb_tracks  \\\n",
      "0        Carnival 2023              203148  37.685714   38.571429         70   \n",
      "1   Dancehall Official             1013896  48.539326   49.067416         89   \n",
      "2      Dancehall Party              397519  56.130000   53.990000        100   \n",
      "3      Dancehall Queen              294345  55.293333   54.866667         75   \n",
      "4  Dancehall Throwback              521893  58.387500   56.100000         80   \n",
      "5       Zouk All Stars               44763  43.360000   35.460000         50   \n",
      "6         Zouk Station               42248  42.400000   36.900000         40   \n",
      "\n",
      "   mean_distance  \n",
      "0       0.842901  \n",
      "1       0.845908  \n",
      "2       0.881999  \n",
      "3       0.898493  \n",
      "4       0.911153  \n",
      "5       1.008812  \n",
      "6       1.008712  \n"
     ]
    },
    {
     "name": "stderr",
     "output_type": "stream",
     "text": [
      "/var/folders/41/xvr_rn1j51vd_js7xks_mznh0000gn/T/ipykernel_11688/1995285091.py:21: FutureWarning: The frame.append method is deprecated and will be removed from pandas in a future version. Use pandas.concat instead.\n",
      "  results_df = results_df.append({'playlist_name': group_name, 'playlist_followers': playlist_followers,\n",
      "/var/folders/41/xvr_rn1j51vd_js7xks_mznh0000gn/T/ipykernel_11688/1995285091.py:21: FutureWarning: The frame.append method is deprecated and will be removed from pandas in a future version. Use pandas.concat instead.\n",
      "  results_df = results_df.append({'playlist_name': group_name, 'playlist_followers': playlist_followers,\n",
      "/var/folders/41/xvr_rn1j51vd_js7xks_mznh0000gn/T/ipykernel_11688/1995285091.py:21: FutureWarning: The frame.append method is deprecated and will be removed from pandas in a future version. Use pandas.concat instead.\n",
      "  results_df = results_df.append({'playlist_name': group_name, 'playlist_followers': playlist_followers,\n",
      "/var/folders/41/xvr_rn1j51vd_js7xks_mznh0000gn/T/ipykernel_11688/1995285091.py:21: FutureWarning: The frame.append method is deprecated and will be removed from pandas in a future version. Use pandas.concat instead.\n",
      "  results_df = results_df.append({'playlist_name': group_name, 'playlist_followers': playlist_followers,\n",
      "/var/folders/41/xvr_rn1j51vd_js7xks_mznh0000gn/T/ipykernel_11688/1995285091.py:21: FutureWarning: The frame.append method is deprecated and will be removed from pandas in a future version. Use pandas.concat instead.\n",
      "  results_df = results_df.append({'playlist_name': group_name, 'playlist_followers': playlist_followers,\n",
      "/var/folders/41/xvr_rn1j51vd_js7xks_mznh0000gn/T/ipykernel_11688/1995285091.py:21: FutureWarning: The frame.append method is deprecated and will be removed from pandas in a future version. Use pandas.concat instead.\n",
      "  results_df = results_df.append({'playlist_name': group_name, 'playlist_followers': playlist_followers,\n",
      "/var/folders/41/xvr_rn1j51vd_js7xks_mznh0000gn/T/ipykernel_11688/1995285091.py:21: FutureWarning: The frame.append method is deprecated and will be removed from pandas in a future version. Use pandas.concat instead.\n",
      "  results_df = results_df.append({'playlist_name': group_name, 'playlist_followers': playlist_followers,\n"
     ]
    }
   ],
   "source": [
    "# Create an empty dictionary to store the distances\n",
    "results_df = pd.DataFrame()\n",
    "\n",
    "# Loop over each group\n",
    "for group_name, group in groups:\n",
    "    # Calculate the pairwise euclidean distances between the features of each pair of tracks\n",
    "    features = scaled_columns_dict[group_name]\n",
    "\n",
    "    pairwise_dist = pairwise_distances(features)\n",
    "\n",
    "    # Calculate mean distances\n",
    "    mean_distance = pairwise_dist.mean()\n",
    "    \n",
    "    # append the results to the new dataframe\n",
    "    playlist_followers = group['playlist_followers'].iloc[0]\n",
    "    track_popularity = group['popularity_track'].mean()\n",
    "    artist_popularity = group['popularity_artist'].mean()\n",
    "    nb_tracks = len(group)\n",
    "\n",
    "    # append the results to the new dataframe\n",
    "    results_df = results_df.append({'playlist_name': group_name, 'playlist_followers': playlist_followers,\n",
    "                                    'track_pop': track_popularity, 'artist_pop': artist_popularity,\n",
    "                                    'nb_tracks': nb_tracks, 'mean_distance': mean_distance\n",
    "                                    },\n",
    "                                   ignore_index=True)\n",
    "\n",
    "# Print the df\n",
    "print(results_df)\n"
   ]
  },
  {
   "cell_type": "markdown",
   "metadata": {},
   "source": [
    "Parse data into excel"
   ]
  },
  {
   "cell_type": "code",
   "execution_count": 166,
   "metadata": {},
   "outputs": [],
   "source": [
    "results_df.to_excel(\"df_zouk_final_2.xlsx\", index=False)\n"
   ]
  }
 ],
 "metadata": {
  "kernelspec": {
   "display_name": "base",
   "language": "python",
   "name": "python3"
  },
  "language_info": {
   "codemirror_mode": {
    "name": "ipython",
    "version": 3
   },
   "file_extension": ".py",
   "mimetype": "text/x-python",
   "name": "python",
   "nbconvert_exporter": "python",
   "pygments_lexer": "ipython3",
   "version": "3.9.12"
  }
 },
 "nbformat": 4,
 "nbformat_minor": 2
}
