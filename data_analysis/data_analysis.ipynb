{
 "cells": [
  {
   "cell_type": "markdown",
   "metadata": {},
   "source": [
    "# Data analysis"
   ]
  },
  {
   "attachments": {},
   "cell_type": "markdown",
   "metadata": {},
   "source": [
    "## Setup"
   ]
  },
  {
   "cell_type": "code",
   "execution_count": null,
   "metadata": {
    "vscode": {
     "languageId": "r"
    }
   },
   "outputs": [],
   "source": [
    "# Load packages\n",
    "library(readxl)\n",
    "library(dplyr)\n",
    "library(ggplot2)\n",
    "library(stats)\n",
    "library(stargazer)\n",
    "library(purrr)\n",
    "library(stringr)\n",
    "library(tidyverse)\n",
    "library(lubridate)\n",
    "library(lessR)\n",
    "library(fixest)\n",
    "library(sandwich)\n",
    "library(lmtest)\n",
    "library(car)\n",
    "library(effsize)\n"
   ]
  },
  {
   "cell_type": "code",
   "execution_count": null,
   "metadata": {
    "vscode": {
     "languageId": "r"
    }
   },
   "outputs": [],
   "source": [
    "# Import the data\n",
    "# Set the base directory path\n",
    "base_directory <- \"/Users/julienmbarki/Documents/Doctorat/Publications/Article 2/Data/Code/data_management/\" #nolint \n",
    "\n",
    "# Create a list of file names\n",
    "file_names <- c(\n",
    "    \"editorial_playlists_23-24_final.csv\",\n",
    "    \"editorial_playlists_22-23_final.csv\",\n",
    "    \"editorial_playlists_21-22_final.csv\",\n",
    "    \"major_playlists_23-24_final.csv\",\n",
    "    \"major_playlists_22-23_final.csv\",\n",
    "    \"major_playlists_21-22_final.csv\"\n",
    ")\n",
    "\n",
    "# Modify the data frame\n",
    "df_list <- list()\n",
    "\n",
    "for (i in seq_along(file_names)) {\n",
    "    file_name <- file_names[i]\n",
    "\n",
    "    full_path <- file.path(base_directory, file_name)\n",
    "    df <- read_csv(full_path)\n",
    "\n",
    "    # Append the data frame to the list\n",
    "    df_list[[i]] <- df\n",
    "}\n",
    "\n",
    "# Combine all data frames\n",
    "df <- Reduce(function(x, y) merge(x, y, all = TRUE), df_list)\n",
    "\n",
    "# Export to Excel\n",
    "write.csv(df, \"df_final.csv\")\n"
   ]
  },
  {
   "cell_type": "code",
   "execution_count": null,
   "metadata": {
    "vscode": {
     "languageId": "r"
    }
   },
   "outputs": [],
   "source": [
    "# Import the data\n",
    "# Set the base directory path\n",
    "base_directory <- \"/Users/julienmbarki/Documents/Doctorat/Publications/Article 2/Data/Code/data_management/\" #nolint \n",
    "\n",
    "# Create a list of file names\n",
    "file_names <- c(\n",
    "    \"charts_playlists_23-24_final.csv\",\n",
    "    \"charts_playlists_22-23_final.csv\",\n",
    "    \"charts_playlists_21-22_final.csv\"\n",
    ")\n",
    "\n",
    "# Modify the data frame\n",
    "df_list <- list()\n",
    "\n",
    "for (i in seq_along(file_names)) {\n",
    "    file_name <- file_names[i]\n",
    "\n",
    "    full_path <- file.path(base_directory, file_name)\n",
    "    df <- read_csv(full_path)\n",
    "\n",
    "    # Append the data frame to the list\n",
    "    df_list[[i]] <- df\n",
    "}\n",
    "\n",
    "# Combine all data frames\n",
    "df <- Reduce(function(x, y) merge(x, y, all = TRUE), df_list)\n",
    "\n",
    "# Export to Excel\n",
    "write.csv(df, \"charts_final.csv\")\n"
   ]
  },
  {
   "attachments": {},
   "cell_type": "markdown",
   "metadata": {},
   "source": [
    "## Data management"
   ]
  },
  {
   "cell_type": "code",
   "execution_count": 4,
   "metadata": {
    "vscode": {
     "languageId": "r"
    }
   },
   "outputs": [],
   "source": [
    "# Load data\n",
    "df <- read.csv(\"df_final_ter.csv\")\n",
    "df_charts <- read.csv(\"charts_final_bis.csv\")\n",
    "\n",
    "df_combined <- bind_rows(df, df_charts)\n"
   ]
  },
  {
   "cell_type": "markdown",
   "metadata": {},
   "source": [
    "### Main measure"
   ]
  },
  {
   "cell_type": "code",
   "execution_count": null,
   "metadata": {
    "vscode": {
     "languageId": "r"
    }
   },
   "outputs": [],
   "source": [
    "# Extract numeric values\n",
    "df$diversity_clean <- as.numeric(gsub(\"[^[:digit:].-]\", \"\", df$stirling_index))\n",
    "df$diversity_clean\n",
    "\n",
    "df$diversity_clean_2 <- as.numeric(\n",
    "    gsub(\"[^[:digit:].-]\", \"\", df$stirling_index_2)\n",
    ")\n",
    "df$diversity_clean_2\n",
    "\n",
    "# Scale values\n",
    "df$diversity_norm <- rescale(diversity_clean, df, kind = \"z\")\n",
    "df$diversity_norm\n",
    "\n",
    "df$diversity_norm_2 <- rescale(diversity_clean_2, df, kind = \"z\")\n",
    "df$diversity_norm_2\n",
    "\n",
    "# Log values\n",
    "df$diversity_log <- log(df$diversity_clean + 1)\n",
    "df$diversity_log\n",
    "\n",
    "df$diversity_log_2 <- log(df$diversity_clean_2 + 1)\n",
    "df$diversity_log_2\n"
   ]
  },
  {
   "cell_type": "markdown",
   "metadata": {},
   "source": [
    "### Secondary measures"
   ]
  },
  {
   "cell_type": "code",
   "execution_count": null,
   "metadata": {
    "vscode": {
     "languageId": "r"
    }
   },
   "outputs": [],
   "source": [
    "# HH-Index\n",
    "# Scale values\n",
    "df$hhi_norm <- rescale(hh_index, df, kind = \"z\")\n",
    "df$hhi_norm\n",
    "\n",
    "df$hhi_norm_2 <- rescale(hh_index_2, df, kind = \"z\")\n",
    "df$hhi_norm_2\n"
   ]
  },
  {
   "cell_type": "code",
   "execution_count": null,
   "metadata": {
    "vscode": {
     "languageId": "r"
    }
   },
   "outputs": [],
   "source": [
    "# Distances\n",
    "# Scale values\n",
    "df$dist_norm <- rescale(distances, df, kind = \"z\")\n",
    "df$dist_norm\n",
    "\n",
    "df$dist_norm_2 <- rescale(distances_2, df, kind = \"z\")\n",
    "df$dist_norm_2\n",
    "\n",
    "df$dist_norm_3 <- rescale(distances_3, df, kind = \"z\")\n",
    "df$dist_norm_3\n"
   ]
  },
  {
   "cell_type": "markdown",
   "metadata": {},
   "source": [
    "### Covariates"
   ]
  },
  {
   "cell_type": "code",
   "execution_count": null,
   "metadata": {
    "vscode": {
     "languageId": "r"
    }
   },
   "outputs": [],
   "source": [
    "# Relevel factors\n",
    "df$editorial_type <- relevel(as.factor(df$editorial_type), ref = \"genre\")\n",
    "table(df$editorial_type)\n",
    "\n",
    "df$curator <- relevel(as.factor(df$playlist_type), ref = \"Editorial\")\n",
    "table(df$curator)\n"
   ]
  },
  {
   "cell_type": "code",
   "execution_count": null,
   "metadata": {
    "vscode": {
     "languageId": "r"
    }
   },
   "outputs": [],
   "source": [
    "# Log Followers\n",
    "df$log_followers <- log(df$playlist_followers)\n",
    "df$log_followers\n",
    "\n",
    "# Followers class\n",
    "summary(df$playlist_followers)\n",
    "df$followers_class <- case_when(\n",
    "    df$playlist_followers <= 25341 ~ \"low\",\n",
    "    df$playlist_followers > 25341 &\n",
    "    df$playlist_followers <= 98114 ~ \"mid_low\",\n",
    "    df$playlist_followers > 98114 &\n",
    "    df$playlist_followers <= 260541 ~ \"mid_high\",\n",
    "    df$playlist_followers > 260541 ~ \"high\"\n",
    ")\n",
    "table(df$followers_class)\n"
   ]
  },
  {
   "cell_type": "code",
   "execution_count": null,
   "metadata": {
    "vscode": {
     "languageId": "r"
    }
   },
   "outputs": [],
   "source": [
    "# Playlist dates\n",
    "df <- df %>%\n",
    "    mutate(\n",
    "        collection_date = as.Date(collection_date),\n",
    "        mean_track_date = as.Date(mean_track_date)\n",
    "    ) %>%\n",
    "    mutate(\n",
    "        playlist_date = case_when(\n",
    "            mean_track_date > collection_date - dyears(1.5) ~ \"frontline\",\n",
    "            TRUE ~ \"backline\"\n",
    "        )\n",
    "    )\n",
    "\n",
    "df$playlist_date <- relevel(as.factor(df$playlist_date), ref = \"frontline\")\n",
    "table(df$playlist_date)\n"
   ]
  },
  {
   "attachments": {},
   "cell_type": "markdown",
   "metadata": {},
   "source": [
    "## Descriptive stats"
   ]
  },
  {
   "cell_type": "markdown",
   "metadata": {},
   "source": [
    "### Stats"
   ]
  },
  {
   "cell_type": "code",
   "execution_count": null,
   "metadata": {
    "vscode": {
     "languageId": "r"
    }
   },
   "outputs": [],
   "source": [
    "# Number of unique playlists and per playlist type\n",
    "length(unique(df$playlist_id))\n",
    "\n",
    "df %>%\n",
    "    group_by(editorial_type) %>%\n",
    "    summarize(n_distinct(playlist_id))\n",
    "\n",
    "# Number of tracks per playlist and by playlist type\n",
    "summary(df$nb_tracks)\n",
    "sd(df$nb_tracks)\n",
    "\n",
    "df %>%\n",
    "    group_by(playlist_type) %>%\n",
    "    summarise(\n",
    "        count = n(),\n",
    "        mean_tracks = mean(nb_tracks, na.rm = TRUE),\n",
    "        median_tracks = median(nb_tracks, na.rm = TRUE),\n",
    "        min_tracks = min(nb_tracks, na.rm = TRUE),\n",
    "        max_tracks = max(nb_tracks, na.rm = TRUE),\n",
    "        sd_tracks = sd(nb_tracks, na.rm = TRUE)\n",
    "    ) %>%\n",
    "    arrange(desc(mean_tracks))\n"
   ]
  },
  {
   "cell_type": "code",
   "execution_count": null,
   "metadata": {
    "vscode": {
     "languageId": "r"
    }
   },
   "outputs": [],
   "source": [
    "# Followers\n",
    "summary(df$playlist_followers)\n",
    "sd(df$playlist_followers)\n",
    "\n",
    "# Followers per playlist type\n",
    "df %>%\n",
    "    group_by(playlist_type) %>%\n",
    "    summarise(\n",
    "        count = n(),\n",
    "        mean_followers = mean(playlist_followers, na.rm = TRUE),\n",
    "        median_followers = median(playlist_followers, na.rm = TRUE),\n",
    "        min_followers = min(playlist_followers, na.rm = TRUE),\n",
    "        max_followers = max(playlist_followers, na.rm = TRUE),\n",
    "        sd_followers = sd(playlist_followers, na.rm = TRUE)\n",
    "    ) %>%\n",
    "    arrange(desc(mean_followers))\n"
   ]
  },
  {
   "cell_type": "code",
   "execution_count": null,
   "metadata": {
    "vscode": {
     "languageId": "r"
    }
   },
   "outputs": [],
   "source": [
    "# Number of clusters per playlist\n",
    "summary(df$nb_clusters)\n",
    "summary(df$nb_clusters_2)\n",
    "\n",
    "df %>%\n",
    "    group_by(editorial_type) %>%\n",
    "    summarise(\n",
    "        count = n(),\n",
    "        mean_clusters_1 = mean(nb_clusters, na.rm = TRUE),\n",
    "        mean_clusters_2 = mean(nb_clusters_2, na.rm = TRUE)\n",
    "    )\n"
   ]
  },
  {
   "cell_type": "code",
   "execution_count": null,
   "metadata": {
    "vscode": {
     "languageId": "r"
    }
   },
   "outputs": [],
   "source": [
    "# HH-Index\n",
    "summary(df$hh_index)\n",
    "summary(df$hh_index_2)\n",
    "\n",
    "df %>%\n",
    "    group_by(editorial_type) %>%\n",
    "    summarise(\n",
    "        count = n(),\n",
    "        mean_hhi_1 = mean(hh_index, na.rm = TRUE),\n",
    "        mean_hhi_2 = mean(hh_index_2, na.rm = TRUE)\n",
    "    )\n"
   ]
  },
  {
   "cell_type": "code",
   "execution_count": null,
   "metadata": {
    "vscode": {
     "languageId": "r"
    }
   },
   "outputs": [],
   "source": [
    "# Distances index\n",
    "summary(df$distances)\n",
    "summary(df$distances_2)\n",
    "\n",
    "df %>%\n",
    "    group_by(editorial_type) %>%\n",
    "    summarise(\n",
    "        count = n(),\n",
    "        mean_dist_1 = mean(distances, na.rm = TRUE),\n",
    "        mean_dist_2 = mean(distances_2, na.rm = TRUE)\n",
    "    )\n"
   ]
  },
  {
   "cell_type": "code",
   "execution_count": null,
   "metadata": {
    "vscode": {
     "languageId": "r"
    }
   },
   "outputs": [],
   "source": [
    "# Striling index\n",
    "summary(df$diversity_clean)\n",
    "summary(df$diversity_clean_2)\n",
    "\n",
    "df %>%\n",
    "    group_by(editorial_type) %>%\n",
    "    summarise(\n",
    "        count = n(),\n",
    "        mean_div_1 = mean(diversity_clean, na.rm = TRUE),\n",
    "        mean_div_2 = mean(diversity_clean_2, na.rm = TRUE)\n",
    "    )\n"
   ]
  },
  {
   "cell_type": "markdown",
   "metadata": {},
   "source": [
    "### Plots"
   ]
  },
  {
   "cell_type": "code",
   "execution_count": null,
   "metadata": {
    "vscode": {
     "languageId": "r"
    }
   },
   "outputs": [],
   "source": [
    "ggplot(\n",
    "  df,\n",
    "  aes(x = diversity_clean)\n",
    "  ) +\n",
    "  geom_histogram(\n",
    "    bins = 25,\n",
    "    fill = \"lightblue\",\n",
    "    color = \"black\"\n",
    "  ) +\n",
    "  labs(\n",
    "    x = expression(k*alpha*\" Rao-Stirling\"), #nolint\n",
    "    y = \"Frequency\"\n",
    "  ) +\n",
    "  theme_minimal() +\n",
    "  theme(\n",
    "    panel.grid.major.x = element_blank(),\n",
    "    panel.grid.minor.x = element_blank(),\n",
    "    panel.grid.major.y = element_line(color = \"gray80\"),\n",
    "    panel.grid.minor.y = element_blank(),\n",
    "    axis.line.x = element_line(linewidth = 1, color = \"black\"),\n",
    "    axis.line.y = element_line(linewidth = 1, color = \"black\")\n",
    "  )\n",
    "\n",
    "# Save the plot\n",
    "ggsave(\"div_plot_1.png\", width = 8, height = 8, dpi = 300)\n"
   ]
  },
  {
   "cell_type": "code",
   "execution_count": null,
   "metadata": {
    "vscode": {
     "languageId": "r"
    }
   },
   "outputs": [],
   "source": [
    "ggplot(\n",
    "  df,\n",
    "  aes(x = diversity_clean_2)\n",
    "  ) +\n",
    "  geom_histogram(\n",
    "    bins = 25,\n",
    "    fill = \"lightblue\",\n",
    "    color = \"black\"\n",
    "  ) +\n",
    "  labs(\n",
    "    x = expression(k*beta*\" Rao-Stirling\"), #nolint\n",
    "    y = \"Frequency\"\n",
    "  ) +\n",
    "  theme_minimal() +\n",
    "  theme(\n",
    "    panel.grid.major.x = element_blank(),\n",
    "    panel.grid.minor.x = element_blank(),\n",
    "    panel.grid.major.y = element_line(color = \"gray80\"),\n",
    "    panel.grid.minor.y = element_blank(),\n",
    "    axis.line.x = element_line(linewidth = 1, color = \"black\"),\n",
    "    axis.line.y = element_line(linewidth = 1, color = \"black\")\n",
    "  )\n",
    "\n",
    "# Save the plot\n",
    "ggsave(\"div_plot_2.png\", width = 8, height = 8, dpi = 300)\n"
   ]
  },
  {
   "cell_type": "code",
   "execution_count": null,
   "metadata": {
    "vscode": {
     "languageId": "r"
    }
   },
   "outputs": [],
   "source": [
    "# Compute mean Stirling Index per collection date\n",
    "df_mean <- df %>%\n",
    "  group_by(collection_date) %>%\n",
    "  summarize(mean_stirling = mean(diversity_clean, na.rm = TRUE))\n",
    "\n",
    "# Time series plot with trend line\n",
    "ggplot(df_mean, aes(x = collection_date, y = mean_stirling)) +\n",
    "  geom_line(color = \"blue\", linewidth = 0.5) +\n",
    "  geom_smooth(method = \"lm\", se = FALSE, color = \"red\", linewidth = 1) +\n",
    "  labs(\n",
    "    x = \"Collection Date\",\n",
    "    y = expression(k*alpha*\" Rao-Stirling\"), #nolint\n",
    "  ) +\n",
    "  theme_minimal() +\n",
    "  theme(\n",
    "    panel.background = element_blank(),\n",
    "    panel.grid.major.x = element_blank(),\n",
    "    panel.grid.minor.x = element_blank(),\n",
    "    panel.grid.major.y = element_line(color = \"gray80\"),\n",
    "    panel.grid.minor.y = element_blank(),\n",
    "    axis.title.y = element_text(vjust = +2, size = 12),\n",
    "    axis.title.x = element_text(vjust = 0.5, size = 12),\n",
    "    axis.line.x = element_line(linewidth = 1, color = \"black\"),\n",
    "    axis.line.y = element_line(linewidth = 1, color = \"black\"),\n",
    "    axis.text.y = element_text(\n",
    "      angle = 90,\n",
    "      color = \"black\",\n",
    "      size = 11,\n",
    "      face = 1,\n",
    "      hjust = 0.5\n",
    "    ),\n",
    "    aspect.ratio = 0.6,\n",
    "  )\n",
    "\n",
    "# Save the plot\n",
    "ggsave(\"div_time_plot_1.png\", width = 8, height = 5, dpi = 300)\n"
   ]
  },
  {
   "cell_type": "code",
   "execution_count": null,
   "metadata": {
    "vscode": {
     "languageId": "r"
    }
   },
   "outputs": [],
   "source": [
    "# Time series plot of stirling_index vs collection_date\n",
    "df_mean <- df %>%\n",
    "  group_by(collection_date) %>%\n",
    "  summarize(mean_stirling = mean(diversity_clean_2))\n",
    "\n",
    "ggplot(\n",
    "  df_mean,\n",
    "  aes(\n",
    "    x = collection_date,\n",
    "    y = mean_stirling\n",
    "  )\n",
    "  ) +\n",
    "  geom_line(color = \"blue\", linewidth = 0.5) +  # Original time series\n",
    "  geom_smooth(method = \"lm\", se = FALSE, color = \"red\", linewidth = 1) +\n",
    "  labs(\n",
    "    x = \"Collection Date\",\n",
    "    y = expression(k*beta*\" Rao-Stirling\"), #nolint\n",
    "  ) +\n",
    "  theme_minimal() +\n",
    "  theme(\n",
    "    panel.background = element_blank(),\n",
    "    panel.grid.major.x = element_blank(),\n",
    "    panel.grid.minor.x = element_blank(),\n",
    "    panel.grid.major.y = element_line(color = \"gray80\"),\n",
    "    panel.grid.minor.y = element_blank(),\n",
    "    axis.title.y = element_text(vjust = +2, size = 12),\n",
    "    axis.title.x = element_text(vjust = 0.5, size = 12),\n",
    "    axis.line.x = element_line(linewidth = 1, color = \"black\"),\n",
    "    axis.line.y = element_line(linewidth = 1, color = \"black\"),\n",
    "    axis.text.y = element_text(\n",
    "      angle = 90,\n",
    "      color = \"black\",\n",
    "      size = 11,\n",
    "      face = 1,\n",
    "      hjust = 0.5\n",
    "    ),\n",
    "    aspect.ratio = 0.6,\n",
    "  )\n",
    "\n",
    "ggsave(\n",
    "    \"div_time_plot_2.png\",\n",
    "    width = 8,\n",
    "    height = 5,\n",
    "    dpi = 300\n",
    ")\n"
   ]
  },
  {
   "cell_type": "markdown",
   "metadata": {},
   "source": [
    "#### Editorial type"
   ]
  },
  {
   "cell_type": "code",
   "execution_count": null,
   "metadata": {
    "vscode": {
     "languageId": "r"
    }
   },
   "outputs": [],
   "source": [
    "# Time series plot of stirling_index vs collection_date\n",
    "df_mean <- df %>%\n",
    "  group_by(collection_date, editorial_type) %>%\n",
    "  summarize(mean_stirling = mean(diversity_clean))\n",
    "\n",
    "ggplot(\n",
    "  df_mean,\n",
    "  aes(\n",
    "    x = collection_date,\n",
    "    y = mean_stirling,\n",
    "    color = editorial_type\n",
    "  )\n",
    "  ) +\n",
    "  geom_line(linewidth = 0.5) +\n",
    "  geom_smooth(method = \"lm\", se = FALSE, linewidth = 1) +\n",
    "  labs(\n",
    "    x = \"Collection Date\",\n",
    "    y = expression(k*alpha*\" Rao-Stirling\") #nolint\n",
    "  ) +\n",
    "  theme(\n",
    "    panel.background = element_blank(),\n",
    "    panel.grid.major.x = element_blank(),\n",
    "    panel.grid.major.y = element_line(color = \"gray80\"),\n",
    "    axis.title.y = element_text(vjust = +2, size = 12),\n",
    "    axis.title.x = element_text(vjust = 0.5, size = 12),\n",
    "    axis.line.x = element_line(linewidth = 1, color = \"black\"),\n",
    "    axis.line.y = element_line(linewidth = 1, color = \"black\"),\n",
    "    axis.text.y = element_text(\n",
    "      angle = 90,\n",
    "      color = \"black\",\n",
    "      size = 11,\n",
    "      face = 1,\n",
    "      hjust = 0.5\n",
    "    ),\n",
    "    aspect.ratio = 0.6,\n",
    "    legend.position = \"bottom\"\n",
    "  )\n",
    "\n",
    "ggsave(\n",
    "    \"div_1_time_plot.png\",\n",
    "    width = 8,\n",
    "    height = 5,\n",
    "    dpi = 300\n",
    ")\n"
   ]
  },
  {
   "cell_type": "code",
   "execution_count": null,
   "metadata": {
    "vscode": {
     "languageId": "r"
    }
   },
   "outputs": [],
   "source": [
    "# Time series plot of stirling_index_2 vs collection_date\n",
    "df_mean <- df %>%\n",
    "  group_by(collection_date, editorial_type) %>%\n",
    "  summarize(mean_stirling = mean(diversity_clean_2))\n",
    "\n",
    "ggplot(\n",
    "  df_mean,\n",
    "  aes(\n",
    "    x = collection_date,\n",
    "    y = mean_stirling,\n",
    "    color = editorial_type\n",
    "  )\n",
    "  ) +\n",
    "  geom_line(linewidth = 0.5) +\n",
    "  geom_smooth(method = \"lm\", se = FALSE, linewidth = 1) +\n",
    "  labs(\n",
    "    x = \"Collection Date\",\n",
    "    y = expression(k*beta*\" Rao-Stirling\") #nolint\n",
    "  ) +\n",
    "  theme(\n",
    "    panel.background = element_blank(),\n",
    "    panel.grid.major.x = element_blank(),\n",
    "    panel.grid.major.y = element_line(color = \"gray80\"),\n",
    "    axis.title.y = element_text(vjust = +2, size = 12),\n",
    "    axis.title.x = element_text(vjust = 0.5, size = 12),\n",
    "    axis.line.x = element_line(linewidth = 1, color = \"black\"),\n",
    "    axis.line.y = element_line(linewidth = 1, color = \"black\"),\n",
    "    axis.text.y = element_text(\n",
    "      angle = 90,\n",
    "      color = \"black\",\n",
    "      size = 11,\n",
    "      face = 1,\n",
    "      hjust = 0.5\n",
    "    ),\n",
    "    aspect.ratio = 0.6,\n",
    "    legend.position = \"bottom\"\n",
    "  )\n",
    "\n",
    "ggsave(\n",
    "    \"div_2_time_plot.png\",\n",
    "    width = 8,\n",
    "    height = 5,\n",
    "    dpi = 300\n",
    ")\n"
   ]
  },
  {
   "cell_type": "code",
   "execution_count": null,
   "metadata": {
    "vscode": {
     "languageId": "r"
    }
   },
   "outputs": [],
   "source": [
    "# Time series plot of distance_index vs collection_date\n",
    "df_mean <- df %>%\n",
    "  group_by(collection_date, editorial_type) %>%\n",
    "  summarize(mean_distances = mean(distances_3))\n",
    "\n",
    "ggplot(\n",
    "  df_mean,\n",
    "  aes(\n",
    "    x = collection_date,\n",
    "    y = mean_distances,\n",
    "    color = editorial_type\n",
    "  )\n",
    "  ) +\n",
    "  geom_line(linewidth = 0.5) +\n",
    "  geom_smooth(method = \"lm\", se = FALSE, linewidth = 1) +\n",
    "  labs(\n",
    "    x = \"Collection Date\",\n",
    "    y = \"Mean distance\"\n",
    "  ) +\n",
    "  theme(\n",
    "    panel.background = element_blank(),\n",
    "    panel.grid.major.x = element_blank(),\n",
    "    panel.grid.major.y = element_line(color = \"gray80\"),\n",
    "    axis.title.y = element_text(vjust = +2, size = 12),\n",
    "    axis.title.x = element_text(vjust = 0.5, size = 12),\n",
    "    axis.line.x = element_line(linewidth = 1, color = \"black\"),\n",
    "    axis.line.y = element_line(linewidth = 1, color = \"black\"),\n",
    "    axis.text.y = element_text(\n",
    "      angle = 90,\n",
    "      color = \"black\",\n",
    "      size = 11,\n",
    "      face = 1,\n",
    "      hjust = 0.5\n",
    "    ),\n",
    "    aspect.ratio = 0.6,\n",
    "    legend.position = \"bottom\"\n",
    "  )\n",
    "\n",
    "ggsave(\n",
    "    \"div_3_time_plot.png\",\n",
    "    width = 8,\n",
    "    height = 5,\n",
    "    dpi = 300\n",
    ")\n"
   ]
  },
  {
   "cell_type": "markdown",
   "metadata": {},
   "source": [
    "#### Curator"
   ]
  },
  {
   "cell_type": "code",
   "execution_count": null,
   "metadata": {
    "vscode": {
     "languageId": "r"
    }
   },
   "outputs": [],
   "source": [
    "# Time series plot of stirling_index vs collection_date\n",
    "df_mean <- df %>%\n",
    "  group_by(collection_date, playlist_type) %>%\n",
    "  summarize(mean_stirling = mean(diversity_clean))\n",
    "\n",
    "ggplot(\n",
    "  df_mean,\n",
    "  aes(\n",
    "    x = collection_date,\n",
    "    y = mean_stirling,\n",
    "    color = playlist_type\n",
    "  )\n",
    "  ) +\n",
    "  geom_line() +\n",
    "  #geom_point() +\n",
    "  labs(\n",
    "    x = \"Collection Date\",\n",
    "    y = expression(k*alpha*\" Rao-Stirling\") #nolint\n",
    "  ) +\n",
    "  theme(\n",
    "    panel.background = element_blank(),\n",
    "    panel.grid.major.x = element_blank(),\n",
    "    panel.grid.major.y = element_line(color = \"gray80\"),\n",
    "    axis.title.y = element_text(vjust = +2, size = 12),\n",
    "    axis.title.x = element_text(vjust = 0.5, size = 12),\n",
    "    axis.line.x = element_line(linewidth = 1, color = \"black\"),\n",
    "    axis.line.y = element_line(linewidth = 1, color = \"black\"),\n",
    "    axis.text.y = element_text(\n",
    "      angle = 90,\n",
    "      color = \"black\",\n",
    "      size = 11,\n",
    "      face = 1,\n",
    "      hjust = 0.5\n",
    "    ),\n",
    "    aspect.ratio = 0.6,\n",
    "    legend.position = \"bottom\"\n",
    "  )\n",
    "\n",
    "ggsave(\n",
    "    \"div_1_time_plot.png\",\n",
    "    width = 8,\n",
    "    height = 5,\n",
    "    dpi = 300\n",
    ")\n"
   ]
  },
  {
   "cell_type": "code",
   "execution_count": null,
   "metadata": {
    "vscode": {
     "languageId": "r"
    }
   },
   "outputs": [],
   "source": [
    "# Time series plot of stirling_index_2 vs collection_date\n",
    "df_mean <- df %>%\n",
    "  group_by(collection_date, playlist_type) %>%\n",
    "  summarize(mean_stirling = mean(diversity_clean_2))\n",
    "\n",
    "ggplot(\n",
    "  df_mean,\n",
    "  aes(\n",
    "    x = collection_date,\n",
    "    y = mean_stirling,\n",
    "    color = playlist_type\n",
    "  )\n",
    "  ) +\n",
    "  geom_line() +\n",
    "  #geom_point() +\n",
    "  labs(\n",
    "    x = \"Collection Date\",\n",
    "    y = expression(k*beta*\" Rao-Stirling\") #nolint\n",
    "  ) +\n",
    "  theme(\n",
    "    panel.background = element_blank(),\n",
    "    panel.grid.major.x = element_blank(),\n",
    "    panel.grid.major.y = element_line(color = \"gray80\"),\n",
    "    axis.title.y = element_text(vjust = +2, size = 12),\n",
    "    axis.title.x = element_text(vjust = 0.5, size = 12),\n",
    "    axis.line.x = element_line(linewidth = 1, color = \"black\"),\n",
    "    axis.line.y = element_line(linewidth = 1, color = \"black\"),\n",
    "    axis.text.y = element_text(\n",
    "      angle = 90,\n",
    "      color = \"black\",\n",
    "      size = 11,\n",
    "      face = 1,\n",
    "      hjust = 0.5\n",
    "    ),\n",
    "    aspect.ratio = 0.6,\n",
    "    legend.position = \"bottom\"\n",
    "  )\n",
    "\n",
    "ggsave(\n",
    "    \"div_2_time_plot.png\",\n",
    "    width = 8,\n",
    "    height = 5,\n",
    "    dpi = 300\n",
    ")\n"
   ]
  },
  {
   "cell_type": "code",
   "execution_count": null,
   "metadata": {
    "vscode": {
     "languageId": "r"
    }
   },
   "outputs": [],
   "source": [
    "# Time series plot of dist_index vs collection_date\n",
    "df_mean <- df %>%\n",
    "  group_by(collection_date, playlist_type) %>%\n",
    "  summarize(mean_distances = mean(distances_3))\n",
    "\n",
    "ggplot(\n",
    "  df_mean,\n",
    "  aes(\n",
    "    x = collection_date,\n",
    "    y = mean_distances,\n",
    "    color = playlist_type\n",
    "  )\n",
    "  ) +\n",
    "  geom_line() +\n",
    "  #geom_point() +\n",
    "  labs(\n",
    "    x = \"Collection Date\",\n",
    "    y = \"Mean distance\"\n",
    "  ) +\n",
    "  theme(\n",
    "    panel.background = element_blank(),\n",
    "    panel.grid.major.x = element_blank(),\n",
    "    panel.grid.major.y = element_line(color = \"gray80\"),\n",
    "    axis.title.y = element_text(vjust = +2, size = 12),\n",
    "    axis.title.x = element_text(vjust = 0.5, size = 12),\n",
    "    axis.line.x = element_line(linewidth = 1, color = \"black\"),\n",
    "    axis.line.y = element_line(linewidth = 1, color = \"black\"),\n",
    "    axis.text.y = element_text(\n",
    "      angle = 90,\n",
    "      color = \"black\",\n",
    "      size = 11,\n",
    "      face = 1,\n",
    "      hjust = 0.5\n",
    "    ),\n",
    "    aspect.ratio = 0.6,\n",
    "    legend.position = \"bottom\"\n",
    "  )\n",
    "\n",
    "ggsave(\n",
    "    \"div_3_time_plot.png\",\n",
    "    width = 8,\n",
    "    height = 5,\n",
    "    dpi = 300\n",
    ")\n"
   ]
  },
  {
   "attachments": {},
   "cell_type": "markdown",
   "metadata": {},
   "source": [
    "## Models"
   ]
  },
  {
   "cell_type": "markdown",
   "metadata": {},
   "source": [
    "### FE static"
   ]
  },
  {
   "cell_type": "code",
   "execution_count": null,
   "metadata": {
    "vscode": {
     "languageId": "r"
    }
   },
   "outputs": [],
   "source": [
    "# k alpha Rao-Stirling\n",
    "model_1 <- feols(\n",
    "    diversity_norm ~ editorial_type,\n",
    "    data = df,\n",
    "    cluster = c(\"editorial_type\")\n",
    ")\n",
    "summary(model_1)\n",
    "\n",
    "model_2 <- feols(\n",
    "    diversity_norm ~ editorial_type + nb_tracks + playlist_date +\n",
    "    followers_class |\n",
    "    collection_date,\n",
    "    data = df,\n",
    "    cluster = c(\"editorial_type\")\n",
    ")\n",
    "summary(model_2)\n"
   ]
  },
  {
   "cell_type": "code",
   "execution_count": null,
   "metadata": {
    "vscode": {
     "languageId": "r"
    }
   },
   "outputs": [],
   "source": [
    "# k beta Rao-Stirling\n",
    "model_1 <- feols(\n",
    "    diversity_norm_2 ~ editorial_type,\n",
    "    data = df,\n",
    "    cluster = c(\"editorial_type\")\n",
    ")\n",
    "summary(model_1)\n",
    "\n",
    "model_2 <- feols(\n",
    "    diversity_norm_2 ~ editorial_type + nb_tracks + playlist_date +\n",
    "    followers_class |\n",
    "    collection_date,\n",
    "    data = df,\n",
    "    cluster = c(\"editorial_type\")\n",
    ")\n",
    "summary(model_2)\n"
   ]
  },
  {
   "cell_type": "code",
   "execution_count": null,
   "metadata": {
    "vscode": {
     "languageId": "r"
    }
   },
   "outputs": [],
   "source": [
    "# Distance index\n",
    "model <- feols(\n",
    "    dist_norm_3 ~ editorial_type + nb_tracks + playlist_date +\n",
    "    followers_class |\n",
    "    collection_date,\n",
    "    data = df,\n",
    "    cluster = c(\"editorial_type\")\n",
    ")\n",
    "summary(model)\n"
   ]
  },
  {
   "cell_type": "markdown",
   "metadata": {},
   "source": [
    "### Time series"
   ]
  },
  {
   "cell_type": "code",
   "execution_count": null,
   "metadata": {
    "vscode": {
     "languageId": "r"
    }
   },
   "outputs": [],
   "source": [
    "# Create a time index\n",
    "df$time_index <- as.numeric(df$collection_date - min(df$collection_date))\n",
    "df$year_month <- format(as.Date(df$collection_date), \"%Y-%m\")\n",
    "df$month_index <- as.numeric(as.factor(df$year_month))\n"
   ]
  },
  {
   "cell_type": "code",
   "execution_count": null,
   "metadata": {
    "vscode": {
     "languageId": "r"
    }
   },
   "outputs": [],
   "source": [
    "# k alpha Rao-Stirling\n",
    "model_trend <- feols(\n",
    "  diversity_norm ~ month_index + nb_tracks + playlist_date +\n",
    "  followers_class * month_index,\n",
    "  data = df, cluster = c(\"playlist_id\", \"collection_date\")\n",
    "  )\n",
    "summary(model_trend)\n",
    "\n",
    "# k beta Rao-Stirling\n",
    "model_trend_2 <- feols(\n",
    "  diversity_norm_2 ~ month_index + nb_tracks + playlist_date +\n",
    "  followers_class * month_index,\n",
    "  data = df, cluster = c(\"playlist_id\", \"collection_date\")\n",
    "  )\n",
    "summary(model_trend_2)\n"
   ]
  },
  {
   "cell_type": "code",
   "execution_count": null,
   "metadata": {
    "vscode": {
     "languageId": "r"
    }
   },
   "outputs": [],
   "source": [
    "# Evolution of Diversity Over Time with Playlist Type Interaction\n",
    "\n",
    "# k alpha Rao-Stirling\n",
    "model_trend <- feols(\n",
    "  diversity_norm ~ month_index * editorial_type +\n",
    "  nb_tracks + playlist_date + followers_class * month_index,\n",
    "  data = df, cluster = c(\"playlist_id\", \"collection_date\")\n",
    "  )\n",
    "summary(model_trend)\n",
    "\n",
    "# k beta Rao-Stirling\n",
    "model_trend <- feols(\n",
    "  diversity_norm_2 ~ month_index * editorial_type +\n",
    "  nb_tracks + playlist_date + followers_class * month_index,\n",
    "  data = df, cluster = c(\"playlist_id\", \"collection_date\")\n",
    "  )\n",
    "summary(model_trend)\n"
   ]
  },
  {
   "cell_type": "code",
   "execution_count": null,
   "metadata": {
    "vscode": {
     "languageId": "r"
    }
   },
   "outputs": [],
   "source": [
    "model_trend <- feols(\n",
    "  dist_norm_3 ~ time_index + time_index:editorial_type +\n",
    "  nb_tracks + playlist_date + followers_class * time_index,\n",
    "  data = df, cluster = c(\"playlist_id\", \"collection_date\")\n",
    "  )\n",
    "summary(model_trend)\n"
   ]
  },
  {
   "cell_type": "code",
   "execution_count": null,
   "metadata": {
    "vscode": {
     "languageId": "r"
    }
   },
   "outputs": [],
   "source": [
    "# Quadratic model\n",
    "# Model: Evolution of Diversity Over Time with Playlist Type Interaction\n",
    "model_trend <- feols(\n",
    "  diversity_norm ~ month_index^2 +\n",
    "  nb_tracks + playlist_date + followers_class * month_index,\n",
    "  data = df, cluster = c(\"playlist_id\", \"collection_date\")\n",
    "  )\n",
    "summary(model_trend)\n"
   ]
  },
  {
   "cell_type": "markdown",
   "metadata": {},
   "source": [
    "### Secondary models"
   ]
  },
  {
   "cell_type": "markdown",
   "metadata": {},
   "source": [
    "#### Playlist curator"
   ]
  },
  {
   "cell_type": "code",
   "execution_count": 14,
   "metadata": {
    "vscode": {
     "languageId": "r"
    }
   },
   "outputs": [
    {
     "data": {
      "text/plain": [
       "   Min. 1st Qu.  Median    Mean 3rd Qu.    Max. \n",
       "    118   25463   98114  216607  267642 2300846 "
      ]
     },
     "metadata": {},
     "output_type": "display_data"
    },
    {
     "data": {
      "text/plain": [
       "\n",
       "    high      low mid_high  mid_low \n",
       "    4867     4867     4866     4867 "
      ]
     },
     "metadata": {},
     "output_type": "display_data"
    },
    {
     "data": {
      "text/plain": [
       "\n",
       "Major label      Charts   Editorial \n",
       "       9577         314        9576 "
      ]
     },
     "metadata": {},
     "output_type": "display_data"
    },
    {
     "data": {
      "text/plain": [
       "\n",
       "frontline  backline \n",
       "     6934     12533 "
      ]
     },
     "metadata": {},
     "output_type": "display_data"
    }
   ],
   "source": [
    "# Extract numeric values\n",
    "df_combined$diversity_clean <- as.numeric(\n",
    "    gsub(\"[^[:digit:].-]\", \"\", df_combined$stirling_index)\n",
    ")\n",
    "df_combined$diversity_clean_2 <- as.numeric(\n",
    "    gsub(\"[^[:digit:].-]\", \"\", df_combined$stirling_index_2)\n",
    ")\n",
    "\n",
    "# Scale values\n",
    "df_combined$diversity_norm <- rescale(diversity_clean, df_combined, kind = \"z\")\n",
    "df_combined$diversity_norm_2 <- rescale(\n",
    "    diversity_clean_2, df_combined, kind = \"z\"\n",
    ")\n",
    "\n",
    "# Log values\n",
    "df_combined$diversity_log <- log(df_combined$diversity_clean + 1)\n",
    "df_combined$diversity_log_2 <- log(df_combined$diversity_clean_2 + 1)\n",
    "\n",
    "# Log Followers\n",
    "df_combined$log_followers <- log(df_combined$playlist_followers)\n",
    "\n",
    "# Followers class\n",
    "summary(df_combined$playlist_followers)\n",
    "df_combined$followers_class <- case_when(\n",
    "    df_combined$playlist_followers <= 25463 ~ \"low\",\n",
    "    df_combined$playlist_followers > 25463 &\n",
    "    df_combined$playlist_followers <= 98114 ~ \"mid_low\",\n",
    "    df_combined$playlist_followers > 98114 &\n",
    "    df_combined$playlist_followers <= 267642 ~ \"mid_high\",\n",
    "    df_combined$playlist_followers > 267642 ~ \"high\"\n",
    ")\n",
    "table(df_combined$followers_class)\n",
    "\n",
    "# Playlist dates\n",
    "df_combined <- df_combined %>%\n",
    "    mutate(\n",
    "        collection_date = as.Date(collection_date),\n",
    "        mean_track_date = as.Date(mean_track_date)\n",
    "    ) %>%\n",
    "    mutate(\n",
    "        playlist_date = case_when(\n",
    "            mean_track_date > collection_date - dyears(1.5) ~ \"frontline\",\n",
    "            TRUE ~ \"backline\"\n",
    "        )\n",
    "    )\n",
    "\n",
    "# Relevel factors\n",
    "df_combined$curator <- relevel(\n",
    "    as.factor(df_combined$playlist_type), ref = \"Major label\"\n",
    ")\n",
    "table(df_combined$curator)\n",
    "\n",
    "df_combined$playlist_date <- relevel(\n",
    "    as.factor(df_combined$playlist_date), ref = \"frontline\"\n",
    ")\n",
    "table(df_combined$playlist_date)\n"
   ]
  },
  {
   "cell_type": "code",
   "execution_count": 16,
   "metadata": {
    "vscode": {
     "languageId": "r"
    }
   },
   "outputs": [
    {
     "data": {
      "text/plain": [
       "OLS estimation, Dep. Var.: diversity_norm\n",
       "Observations: 19,467 \n",
       "Fixed-effects: collection_date: 157\n",
       "Standard-errors: Clustered (curator) \n",
       "                         Estimate Std. Error    t value  Pr(>|t|)    \n",
       "curatorCharts            0.055879   0.062940   0.887804 0.4683139    \n",
       "curatorEditorial         0.284458   0.067068   4.241357 0.0513454 .  \n",
       "nb_tracks               -0.005921   0.000196 -30.227268 0.0010927 ** \n",
       "playlist_datebackline    0.033005   0.099715   0.330995 0.7721097    \n",
       "followers_classlow       0.523766   0.040780  12.843828 0.0060074 ** \n",
       "followers_classmid_high  0.263281   0.028403   9.269577 0.0114387 *  \n",
       "followers_classmid_low   0.684341   0.056623  12.086012 0.0067764 ** \n",
       "---\n",
       "Signif. codes:  0 '***' 0.001 '**' 0.01 '*' 0.05 '.' 0.1 ' ' 1\n",
       "RMSE: 0.956257     Adj. R2: 0.077822\n",
       "                 Within R2: 0.082281"
      ]
     },
     "metadata": {},
     "output_type": "display_data"
    },
    {
     "data": {
      "text/plain": [
       "OLS estimation, Dep. Var.: diversity_norm_2\n",
       "Observations: 19,467 \n",
       "Fixed-effects: collection_date: 157\n",
       "Standard-errors: Clustered (curator) \n",
       "                         Estimate Std. Error    t value  Pr(>|t|)    \n",
       "curatorCharts            0.172120   0.124036   1.387668 0.2996239    \n",
       "curatorEditorial         0.203967   0.129277   1.577751 0.2553550    \n",
       "nb_tracks               -0.012180   0.000452 -26.949724 0.0013740 ** \n",
       "playlist_datebackline   -0.061069   0.142461  -0.428670 0.7099179    \n",
       "followers_classlow       0.502642   0.071557   7.024343 0.0196709 *  \n",
       "followers_classmid_high  0.178477   0.016370  10.902525 0.0083082 ** \n",
       "followers_classmid_low   0.605874   0.085431   7.091970 0.0193083 *  \n",
       "---\n",
       "Signif. codes:  0 '***' 0.001 '**' 0.01 '*' 0.05 '.' 0.1 ' ' 1\n",
       "RMSE: 0.852179     Adj. R2: 0.267614\n",
       "                 Within R2: 0.272158"
      ]
     },
     "metadata": {},
     "output_type": "display_data"
    }
   ],
   "source": [
    "model_1 <- feols(\n",
    "    diversity_norm ~ curator + nb_tracks +\n",
    "    playlist_date + followers_class | collection_date,\n",
    "    data = df_combined, cluster = c(\"curator\")\n",
    ")\n",
    "summary(model_1)\n",
    "\n",
    "model_2 <- feols(\n",
    "    diversity_norm_2 ~ curator + nb_tracks +\n",
    "    playlist_date + followers_class | collection_date,\n",
    "    data = df_combined, cluster = c(\"curator\")\n",
    ")\n",
    "summary(model_2)\n"
   ]
  },
  {
   "cell_type": "code",
   "execution_count": 18,
   "metadata": {
    "vscode": {
     "languageId": "r"
    }
   },
   "outputs": [
    {
     "data": {
      "text/plain": [
       "OLS estimation, Dep. Var.: diversity_norm\n",
       "Observations: 19,467 \n",
       "Standard-errors: Clustered (playlist_id & collection_date) \n",
       "                                     Estimate Std. Error   t value   Pr(>|t|)\n",
       "(Intercept)                         -0.061989   0.399188 -0.155289 0.87684832\n",
       "month_index                         -0.000041   0.006868 -0.006020 0.99520642\n",
       "curatorCharts                        0.138280   0.294190  0.470037 0.63916115\n",
       "curatorEditorial                     0.162084   0.290141  0.558638 0.57742414\n",
       "nb_tracks                           -0.005876   0.002695 -2.180605 0.03111580\n",
       "playlist_datebackline                0.032948   0.100848  0.326710 0.74444223\n",
       "followers_classlow                   0.503439   0.254228  1.980267 0.04990565\n",
       "followers_classmid_high              0.377796   0.139904  2.700393 0.00790204\n",
       "followers_classmid_low               0.570963   0.147147  3.880221 0.00016911\n",
       "month_index:curatorCharts           -0.004201   0.006629 -0.633791 0.52739379\n",
       "month_index:curatorEditorial         0.006997   0.006555  1.067417 0.28787401\n",
       "month_index:followers_classlow       0.001357   0.008367  0.162181 0.87142966\n",
       "month_index:followers_classmid_high -0.005886   0.004313 -1.364819 0.17480138\n",
       "month_index:followers_classmid_low   0.006704   0.006505  1.030600 0.30475075\n",
       "                                       \n",
       "(Intercept)                            \n",
       "month_index                            \n",
       "curatorCharts                          \n",
       "curatorEditorial                       \n",
       "nb_tracks                           *  \n",
       "playlist_datebackline                  \n",
       "followers_classlow                  *  \n",
       "followers_classmid_high             ** \n",
       "followers_classmid_low              ***\n",
       "month_index:curatorCharts              \n",
       "month_index:curatorEditorial           \n",
       "month_index:followers_classlow         \n",
       "month_index:followers_classmid_high    \n",
       "month_index:followers_classmid_low     \n",
       "---\n",
       "Signif. codes:  0 '***' 0.001 '**' 0.01 '*' 0.05 '.' 0.1 ' ' 1\n",
       "RMSE: 0.957314   Adj. R2: 0.082909"
      ]
     },
     "metadata": {},
     "output_type": "display_data"
    },
    {
     "data": {
      "text/plain": [
       "OLS estimation, Dep. Var.: diversity_norm_2\n",
       "Observations: 19,467 \n",
       "Standard-errors: Clustered (playlist_id & collection_date) \n",
       "                                     Estimate Std. Error   t value    Pr(>|t|)\n",
       "(Intercept)                          0.556324   0.464892  1.196674 0.233735110\n",
       "month_index                          0.002229   0.008098  0.275210 0.783616631\n",
       "curatorCharts                        0.325156   0.336330  0.966778 0.335552268\n",
       "curatorEditorial                     0.125968   0.352617  0.357237 0.721526415\n",
       "nb_tracks                           -0.012160   0.002993 -4.062780 0.000085775\n",
       "playlist_datebackline               -0.058656   0.094651 -0.619705 0.536598088\n",
       "followers_classlow                   0.437118   0.310627  1.407213 0.161886099\n",
       "followers_classmid_high              0.346331   0.118829  2.914525 0.004233508\n",
       "followers_classmid_low               0.525614   0.203809  2.578954 0.011087425\n",
       "month_index:curatorCharts           -0.008261   0.006731 -1.227335 0.222040432\n",
       "month_index:curatorEditorial         0.004131   0.007948  0.519743 0.604176860\n",
       "month_index:followers_classlow       0.003608   0.009479  0.380628 0.704135773\n",
       "month_index:followers_classmid_high -0.008959   0.004512 -1.985729 0.049287583\n",
       "month_index:followers_classmid_low   0.004444   0.007274  0.610942 0.542365426\n",
       "                                       \n",
       "(Intercept)                            \n",
       "month_index                            \n",
       "curatorCharts                          \n",
       "curatorEditorial                       \n",
       "nb_tracks                           ***\n",
       "playlist_datebackline                  \n",
       "followers_classlow                     \n",
       "followers_classmid_high             ** \n",
       "followers_classmid_low              *  \n",
       "month_index:curatorCharts              \n",
       "month_index:curatorEditorial           \n",
       "month_index:followers_classlow         \n",
       "month_index:followers_classmid_high *  \n",
       "month_index:followers_classmid_low     \n",
       "---\n",
       "Signif. codes:  0 '***' 0.001 '**' 0.01 '*' 0.05 '.' 0.1 ' ' 1\n",
       "RMSE: 0.852269   Adj. R2: 0.273109"
      ]
     },
     "metadata": {},
     "output_type": "display_data"
    }
   ],
   "source": [
    "# Create a time index\n",
    "df_combined$time_index <- as.numeric(\n",
    "  df_combined$collection_date - min(df_combined$collection_date)\n",
    ")\n",
    "df_combined$year_month <- format(as.Date(df_combined$collection_date), \"%Y-%m\")\n",
    "df_combined$month_index <- as.numeric(as.factor(df_combined$year_month))\n",
    "\n",
    "# k alpha Rao-Stirling\n",
    "model_trend <- feols(\n",
    "  diversity_norm ~ month_index * curator +\n",
    "  nb_tracks + playlist_date + followers_class * month_index,\n",
    "  data = df_combined, cluster = c(\"playlist_id\", \"collection_date\")\n",
    "  )\n",
    "summary(model_trend)\n",
    "\n",
    "# k beta Rao-Stirling\n",
    "model_trend <- feols(\n",
    "  diversity_norm_2 ~ month_index * curator +\n",
    "  nb_tracks + playlist_date + followers_class * month_index,\n",
    "  data = df_combined, cluster = c(\"playlist_id\", \"collection_date\")\n",
    "  )\n",
    "summary(model_trend)\n"
   ]
  },
  {
   "cell_type": "markdown",
   "metadata": {},
   "source": [
    "#### Playlist followers"
   ]
  },
  {
   "cell_type": "code",
   "execution_count": null,
   "metadata": {
    "vscode": {
     "languageId": "r"
    }
   },
   "outputs": [],
   "source": [
    "# Whole sample\n",
    "model_trend <- feols(\n",
    "  log_followers ~ month_index * editorial_type,\n",
    "  data = df, cluster = c(\"playlist_id\", \"collection_date\")\n",
    "  )\n",
    "summary(model_trend)\n"
   ]
  },
  {
   "cell_type": "code",
   "execution_count": null,
   "metadata": {
    "vscode": {
     "languageId": "r"
    }
   },
   "outputs": [],
   "source": [
    "# Split the sample by curator\n",
    "df_major <- df %>%\n",
    "  filter(curator != \"Editorial\")\n",
    "df_spotify <- df %>%\n",
    "  filter(curator == \"Editorial\")\n",
    "\n",
    "model_trend_1 <- feols(\n",
    "  log_followers ~ month_index * editorial_type,\n",
    "  data = df_major, cluster = c(\"playlist_id\", \"collection_date\")\n",
    "  )\n",
    "summary(model_trend_1)\n",
    "\n",
    "model_trend_2 <- feols(\n",
    "  log_followers ~ month_index * editorial_type,\n",
    "  data = df_spotify, cluster = c(\"playlist_id\", \"collection_date\")\n",
    "  )\n",
    "summary(model_trend_2)\n"
   ]
  }
 ],
 "metadata": {
  "kernelspec": {
   "display_name": "R",
   "language": "R",
   "name": "ir"
  },
  "language_info": {
   "codemirror_mode": "r",
   "file_extension": ".r",
   "mimetype": "text/x-r-source",
   "name": "R",
   "pygments_lexer": "r",
   "version": "4.1.1"
  },
  "orig_nbformat": 4
 },
 "nbformat": 4,
 "nbformat_minor": 2
}
