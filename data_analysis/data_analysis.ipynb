{
 "cells": [
  {
   "cell_type": "markdown",
   "metadata": {},
   "source": [
    "# Data analysis"
   ]
  },
  {
   "attachments": {},
   "cell_type": "markdown",
   "metadata": {},
   "source": [
    "## Setup"
   ]
  },
  {
   "cell_type": "code",
   "execution_count": null,
   "metadata": {
    "vscode": {
     "languageId": "r"
    }
   },
   "outputs": [],
   "source": [
    "# Load packages\n",
    "library(readxl)\n",
    "library(dplyr)\n",
    "library(ggplot2)\n",
    "library(stats)\n",
    "library(stargazer)\n",
    "library(purrr)\n",
    "library(stringr)\n",
    "library(tidyverse)\n",
    "library(lubridate)\n",
    "library(lessR)\n",
    "library(fixest)\n",
    "library(sandwich)\n",
    "library(lmtest)\n",
    "library(car)\n",
    "library(effsize)\n"
   ]
  },
  {
   "cell_type": "code",
   "execution_count": null,
   "metadata": {
    "vscode": {
     "languageId": "r"
    }
   },
   "outputs": [],
   "source": [
    "# Import the data\n",
    "# Set the base directory path\n",
    "base_directory <- \"/Users/julienmbarki/Documents/Doctorat/Publications/Article 2/Data/Code/data_management/\" #nolint \n",
    "\n",
    "# Create a list of file names\n",
    "file_names <- c(\n",
    "    \"editorial_playlists_23-24_final.csv\",\n",
    "    \"editorial_playlists_22-23_final.csv\",\n",
    "    \"editorial_playlists_21-22_final.csv\",\n",
    "    \"major_playlists_23-24_final.csv\",\n",
    "    \"major_playlists_22-23_final.csv\",\n",
    "    \"major_playlists_21-22_final.csv\"\n",
    ")\n",
    "\n",
    "# Modify the data frame\n",
    "df_list <- list()\n",
    "\n",
    "for (i in seq_along(file_names)) {\n",
    "    file_name <- file_names[i]\n",
    "\n",
    "    full_path <- file.path(base_directory, file_name)\n",
    "    df <- read_csv(full_path)\n",
    "\n",
    "    # Append the data frame to the list\n",
    "    df_list[[i]] <- df\n",
    "}\n",
    "\n",
    "# Combine all data frames\n",
    "df <- Reduce(function(x, y) merge(x, y, all = TRUE), df_list)\n",
    "\n",
    "# Export to Excel\n",
    "write.csv(df, \"df_final.csv\")\n"
   ]
  },
  {
   "attachments": {},
   "cell_type": "markdown",
   "metadata": {},
   "source": [
    "## Data management"
   ]
  },
  {
   "cell_type": "code",
   "execution_count": null,
   "metadata": {
    "vscode": {
     "languageId": "r"
    }
   },
   "outputs": [],
   "source": [
    "# Load data\n",
    "df <- read.csv(\"df_final_ter.csv\")\n"
   ]
  },
  {
   "cell_type": "markdown",
   "metadata": {},
   "source": [
    "### Main measure"
   ]
  },
  {
   "cell_type": "code",
   "execution_count": null,
   "metadata": {
    "vscode": {
     "languageId": "r"
    }
   },
   "outputs": [],
   "source": [
    "# Extract numeric values\n",
    "df$diversity_clean <- as.numeric(gsub(\"[^[:digit:].-]\", \"\", df$stirling_index))\n",
    "df$diversity_clean\n",
    "\n",
    "df$diversity_clean_2 <- as.numeric(\n",
    "    gsub(\"[^[:digit:].-]\", \"\", df$stirling_index_2)\n",
    ")\n",
    "df$diversity_clean_2\n",
    "\n",
    "# Scale values\n",
    "df$diversity_norm <- rescale(diversity_clean, df, kind = \"z\")\n",
    "df$diversity_norm\n",
    "\n",
    "df$diversity_norm_2 <- rescale(diversity_clean_2, df, kind = \"z\")\n",
    "df$diversity_norm_2\n",
    "\n",
    "# Log values\n",
    "df$diversity_log <- log(df$diversity_clean + 1)\n",
    "df$diversity_log\n",
    "\n",
    "df$diversity_log_2 <- log(df$diversity_clean_2 + 1)\n",
    "df$diversity_log_2\n"
   ]
  },
  {
   "cell_type": "markdown",
   "metadata": {},
   "source": [
    "### Secondary measures"
   ]
  },
  {
   "cell_type": "code",
   "execution_count": null,
   "metadata": {
    "vscode": {
     "languageId": "r"
    }
   },
   "outputs": [],
   "source": [
    "# HH-Index\n",
    "# Scale values\n",
    "df$hhi_norm <- rescale(hh_index, df, kind = \"z\")\n",
    "df$hhi_norm\n",
    "\n",
    "df$hhi_norm_2 <- rescale(hh_index_2, df, kind = \"z\")\n",
    "df$hhi_norm_2\n"
   ]
  },
  {
   "cell_type": "code",
   "execution_count": null,
   "metadata": {
    "vscode": {
     "languageId": "r"
    }
   },
   "outputs": [],
   "source": [
    "# Distances\n",
    "# Scale values\n",
    "df$dist_norm <- rescale(distances, df, kind = \"z\")\n",
    "df$dist_norm\n",
    "\n",
    "df$dist_norm_2 <- rescale(distances_2, df, kind = \"z\")\n",
    "df$dist_norm_2\n",
    "\n",
    "df$dist_norm_3 <- rescale(distances_3, df, kind = \"z\")\n",
    "df$dist_norm_3\n"
   ]
  },
  {
   "cell_type": "markdown",
   "metadata": {},
   "source": [
    "### Covariates"
   ]
  },
  {
   "cell_type": "code",
   "execution_count": null,
   "metadata": {
    "vscode": {
     "languageId": "r"
    }
   },
   "outputs": [],
   "source": [
    "# Relevel factors\n",
    "df$editorial_type <- relevel(as.factor(df$editorial_type), ref = \"genre\")\n",
    "table(df$editorial_type)\n",
    "\n",
    "df$curator <- relevel(as.factor(df$playlist_type), ref = \"Editorial\")\n",
    "table(df$curator)\n"
   ]
  },
  {
   "cell_type": "code",
   "execution_count": null,
   "metadata": {
    "vscode": {
     "languageId": "r"
    }
   },
   "outputs": [],
   "source": [
    "# Log Followers\n",
    "df$log_followers <- log(df$playlist_followers)\n",
    "df$log_followers\n",
    "\n",
    "# Followers class\n",
    "summary(df$playlist_followers)\n",
    "df$followers_class <- case_when(\n",
    "    df$playlist_followers <= 25341 ~ \"low\",\n",
    "    df$playlist_followers > 25341 &\n",
    "    df$playlist_followers <= 98114 ~ \"mid_low\",\n",
    "    df$playlist_followers > 98114 &\n",
    "    df$playlist_followers <= 260541 ~ \"mid_high\",\n",
    "    df$playlist_followers > 260541 ~ \"high\"\n",
    ")\n",
    "table(df$followers_class)\n"
   ]
  },
  {
   "cell_type": "code",
   "execution_count": null,
   "metadata": {
    "vscode": {
     "languageId": "r"
    }
   },
   "outputs": [],
   "source": [
    "# Playlist dates\n",
    "df <- df %>%\n",
    "    mutate(\n",
    "        collection_date = as.Date(collection_date),\n",
    "        mean_track_date = as.Date(mean_track_date)\n",
    "    ) %>%\n",
    "    mutate(\n",
    "        playlist_date = case_when(\n",
    "            mean_track_date > collection_date - dyears(1.5) ~ \"frontline\",\n",
    "            TRUE ~ \"backline\"\n",
    "        )\n",
    "    )\n",
    "\n",
    "df$playlist_date <- relevel(as.factor(df$playlist_date), ref = \"frontline\")\n",
    "table(df$playlist_date)\n"
   ]
  },
  {
   "attachments": {},
   "cell_type": "markdown",
   "metadata": {},
   "source": [
    "## Descriptive stats"
   ]
  },
  {
   "cell_type": "markdown",
   "metadata": {},
   "source": [
    "### Stats"
   ]
  },
  {
   "cell_type": "code",
   "execution_count": null,
   "metadata": {
    "vscode": {
     "languageId": "r"
    }
   },
   "outputs": [],
   "source": [
    "# Number of unique playlists and per playlist type\n",
    "length(unique(df$playlist_id))\n",
    "\n",
    "df %>%\n",
    "    group_by(editorial_type) %>%\n",
    "    summarize(n_distinct(playlist_id))\n",
    "\n",
    "# Number of tracks per playlist and by playlist type\n",
    "summary(df$nb_tracks)\n",
    "sd(df$nb_tracks)\n",
    "\n",
    "df %>%\n",
    "    group_by(playlist_type) %>%\n",
    "    summarise(\n",
    "        count = n(),\n",
    "        mean_tracks = mean(nb_tracks, na.rm = TRUE),\n",
    "        median_tracks = median(nb_tracks, na.rm = TRUE),\n",
    "        min_tracks = min(nb_tracks, na.rm = TRUE),\n",
    "        max_tracks = max(nb_tracks, na.rm = TRUE),\n",
    "        sd_tracks = sd(nb_tracks, na.rm = TRUE)\n",
    "    ) %>%\n",
    "    arrange(desc(mean_tracks))\n"
   ]
  },
  {
   "cell_type": "code",
   "execution_count": null,
   "metadata": {
    "vscode": {
     "languageId": "r"
    }
   },
   "outputs": [],
   "source": [
    "# Followers\n",
    "summary(df$playlist_followers)\n",
    "sd(df$playlist_followers)\n",
    "\n",
    "# Followers per playlist type\n",
    "df %>%\n",
    "    group_by(playlist_type) %>%\n",
    "    summarise(\n",
    "        count = n(),\n",
    "        mean_followers = mean(playlist_followers, na.rm = TRUE),\n",
    "        median_followers = median(playlist_followers, na.rm = TRUE),\n",
    "        min_followers = min(playlist_followers, na.rm = TRUE),\n",
    "        max_followers = max(playlist_followers, na.rm = TRUE),\n",
    "        sd_followers = sd(playlist_followers, na.rm = TRUE)\n",
    "    ) %>%\n",
    "    arrange(desc(mean_followers))\n"
   ]
  },
  {
   "cell_type": "code",
   "execution_count": null,
   "metadata": {
    "vscode": {
     "languageId": "r"
    }
   },
   "outputs": [],
   "source": [
    "# Number of clusters per playlist\n",
    "summary(df$nb_clusters)\n",
    "summary(df$nb_clusters_2)\n",
    "\n",
    "df %>%\n",
    "    group_by(editorial_type) %>%\n",
    "    summarise(\n",
    "        count = n(),\n",
    "        mean_clusters_1 = mean(nb_clusters, na.rm = TRUE),\n",
    "        mean_clusters_2 = mean(nb_clusters_2, na.rm = TRUE)\n",
    "    )\n"
   ]
  },
  {
   "cell_type": "code",
   "execution_count": null,
   "metadata": {
    "vscode": {
     "languageId": "r"
    }
   },
   "outputs": [],
   "source": [
    "# HH-Index\n",
    "summary(df$hh_index)\n",
    "summary(df$hh_index_2)\n",
    "\n",
    "df %>%\n",
    "    group_by(editorial_type) %>%\n",
    "    summarise(\n",
    "        count = n(),\n",
    "        mean_hhi_1 = mean(hh_index, na.rm = TRUE),\n",
    "        mean_hhi_2 = mean(hh_index_2, na.rm = TRUE)\n",
    "    )\n"
   ]
  },
  {
   "cell_type": "code",
   "execution_count": null,
   "metadata": {
    "vscode": {
     "languageId": "r"
    }
   },
   "outputs": [],
   "source": [
    "# Distances index\n",
    "summary(df$distances)\n",
    "summary(df$distances_2)\n",
    "\n",
    "df %>%\n",
    "    group_by(editorial_type) %>%\n",
    "    summarise(\n",
    "        count = n(),\n",
    "        mean_dist_1 = mean(distances, na.rm = TRUE),\n",
    "        mean_dist_2 = mean(distances_2, na.rm = TRUE)\n",
    "    )\n"
   ]
  },
  {
   "cell_type": "code",
   "execution_count": null,
   "metadata": {
    "vscode": {
     "languageId": "r"
    }
   },
   "outputs": [],
   "source": [
    "# Striling index\n",
    "summary(df$diversity_clean)\n",
    "summary(df$diversity_clean_2)\n",
    "\n",
    "df %>%\n",
    "    group_by(editorial_type) %>%\n",
    "    summarise(\n",
    "        count = n(),\n",
    "        mean_div_1 = mean(diversity_clean, na.rm = TRUE),\n",
    "        mean_div_2 = mean(diversity_clean_2, na.rm = TRUE)\n",
    "    )\n"
   ]
  },
  {
   "cell_type": "markdown",
   "metadata": {},
   "source": [
    "### Plots"
   ]
  },
  {
   "cell_type": "code",
   "execution_count": null,
   "metadata": {
    "vscode": {
     "languageId": "r"
    }
   },
   "outputs": [],
   "source": [
    "ggplot(\n",
    "  df,\n",
    "  aes(x = diversity_clean)\n",
    "  ) +\n",
    "  geom_histogram(\n",
    "    bins = 25,\n",
    "    fill = \"lightblue\",\n",
    "    color = \"black\"\n",
    "  ) +\n",
    "  labs(\n",
    "    x = expression(k*alpha*\" Rao-Stirling\"), #nolint\n",
    "    y = \"Frequency\"\n",
    "  ) +\n",
    "  theme_minimal() +\n",
    "  theme(\n",
    "    panel.grid.major.x = element_blank(),\n",
    "    panel.grid.minor.x = element_blank(),\n",
    "    panel.grid.major.y = element_line(color = \"gray80\"),\n",
    "    panel.grid.minor.y = element_blank(),\n",
    "    axis.line.x = element_line(linewidth = 1, color = \"black\"),\n",
    "    axis.line.y = element_line(linewidth = 1, color = \"black\")\n",
    "  )\n",
    "\n",
    "# Save the plot\n",
    "ggsave(\"div_plot_1.png\", width = 8, height = 8, dpi = 300)\n"
   ]
  },
  {
   "cell_type": "code",
   "execution_count": null,
   "metadata": {
    "vscode": {
     "languageId": "r"
    }
   },
   "outputs": [],
   "source": [
    "ggplot(\n",
    "  df,\n",
    "  aes(x = diversity_clean_2)\n",
    "  ) +\n",
    "  geom_histogram(\n",
    "    bins = 25,\n",
    "    fill = \"lightblue\",\n",
    "    color = \"black\"\n",
    "  ) +\n",
    "  labs(\n",
    "    x = expression(k*alpha*\" Rao-Stirling\"), #nolint\n",
    "    y = \"Frequency\"\n",
    "  ) +\n",
    "  theme_minimal() +\n",
    "  theme(\n",
    "    panel.grid.major.x = element_blank(),\n",
    "    panel.grid.minor.x = element_blank(),\n",
    "    panel.grid.major.y = element_line(color = \"gray80\"),\n",
    "    panel.grid.minor.y = element_blank(),\n",
    "    axis.line.x = element_line(linewidth = 1, color = \"black\"),\n",
    "    axis.line.y = element_line(linewidth = 1, color = \"black\")\n",
    "  )\n",
    "\n",
    "# Save the plot\n",
    "ggsave(\"div_plot_2.png\", width = 8, height = 8, dpi = 300)\n"
   ]
  },
  {
   "cell_type": "code",
   "execution_count": null,
   "metadata": {
    "vscode": {
     "languageId": "r"
    }
   },
   "outputs": [],
   "source": [
    "# Compute mean Stirling Index per collection date\n",
    "df_mean <- df %>%\n",
    "  group_by(collection_date) %>%\n",
    "  summarize(mean_stirling = mean(diversity_clean, na.rm = TRUE))\n",
    "\n",
    "# Time series plot with trend line\n",
    "ggplot(df_mean, aes(x = collection_date, y = mean_stirling)) +\n",
    "  geom_line(color = \"blue\", linewidth = 0.5) +\n",
    "  geom_smooth(method = \"lm\", se = FALSE, color = \"red\", linewidth = 1) +\n",
    "  labs(\n",
    "    x = \"Collection Date\",\n",
    "    y = expression(k*alpha*\" Rao-Stirling\"), #nolint\n",
    "  ) +\n",
    "  theme_minimal() +\n",
    "  theme(\n",
    "    panel.background = element_blank(),\n",
    "    panel.grid.major.x = element_blank(),\n",
    "    panel.grid.minor.x = element_blank(),\n",
    "    panel.grid.major.y = element_line(color = \"gray80\"),\n",
    "    panel.grid.minor.y = element_blank(),\n",
    "    axis.title.y = element_text(vjust = +2, size = 12),\n",
    "    axis.title.x = element_text(vjust = 0.5, size = 12),\n",
    "    axis.line.x = element_line(linewidth = 1, color = \"black\"),\n",
    "    axis.line.y = element_line(linewidth = 1, color = \"black\"),\n",
    "    axis.text.y = element_text(\n",
    "      angle = 90,\n",
    "      color = \"black\",\n",
    "      size = 11,\n",
    "      face = 1,\n",
    "      hjust = 0.5\n",
    "    ),\n",
    "    aspect.ratio = 0.6,\n",
    "  )\n",
    "\n",
    "# Save the plot\n",
    "ggsave(\"div_time_plot_1.png\", width = 8, height = 5, dpi = 300)\n"
   ]
  },
  {
   "cell_type": "code",
   "execution_count": null,
   "metadata": {
    "vscode": {
     "languageId": "r"
    }
   },
   "outputs": [],
   "source": [
    "# Time series plot of stirling_index vs collection_date\n",
    "df_mean <- df %>%\n",
    "  group_by(collection_date) %>%\n",
    "  summarize(mean_stirling = mean(diversity_clean_2))\n",
    "\n",
    "ggplot(\n",
    "  df_mean,\n",
    "  aes(\n",
    "    x = collection_date,\n",
    "    y = mean_stirling\n",
    "  )\n",
    "  ) +\n",
    "  geom_line(color = \"blue\", linewidth = 0.5) +  # Original time series\n",
    "  geom_smooth(method = \"lm\", se = FALSE, color = \"red\", linewidth = 1) +\n",
    "  labs(\n",
    "    x = \"Collection Date\",\n",
    "    y = expression(k*beta*\" Rao-Stirling\"), #nolint\n",
    "  ) +\n",
    "  theme_minimal() +\n",
    "  theme(\n",
    "    panel.background = element_blank(),\n",
    "    panel.grid.major.x = element_blank(),\n",
    "    panel.grid.minor.x = element_blank(),\n",
    "    panel.grid.major.y = element_line(color = \"gray80\"),\n",
    "    panel.grid.minor.y = element_blank(),\n",
    "    axis.title.y = element_text(vjust = +2, size = 12),\n",
    "    axis.title.x = element_text(vjust = 0.5, size = 12),\n",
    "    axis.line.x = element_line(linewidth = 1, color = \"black\"),\n",
    "    axis.line.y = element_line(linewidth = 1, color = \"black\"),\n",
    "    axis.text.y = element_text(\n",
    "      angle = 90,\n",
    "      color = \"black\",\n",
    "      size = 11,\n",
    "      face = 1,\n",
    "      hjust = 0.5\n",
    "    ),\n",
    "    aspect.ratio = 0.6,\n",
    "  )\n",
    "\n",
    "ggsave(\n",
    "    \"div_time_plot_2.png\",\n",
    "    width = 8,\n",
    "    height = 5,\n",
    "    dpi = 300\n",
    ")\n"
   ]
  },
  {
   "cell_type": "markdown",
   "metadata": {},
   "source": [
    "#### Editorial type"
   ]
  },
  {
   "cell_type": "code",
   "execution_count": null,
   "metadata": {
    "vscode": {
     "languageId": "r"
    }
   },
   "outputs": [],
   "source": [
    "# Time series plot of stirling_index vs collection_date\n",
    "df_mean <- df %>%\n",
    "  group_by(collection_date, editorial_type) %>%\n",
    "  summarize(mean_stirling = mean(diversity_clean))\n",
    "\n",
    "ggplot(\n",
    "  df_mean,\n",
    "  aes(\n",
    "    x = collection_date,\n",
    "    y = mean_stirling,\n",
    "    color = editorial_type\n",
    "  )\n",
    "  ) +\n",
    "  geom_line(linewidth = 0.5) +\n",
    "  geom_smooth(method = \"lm\", se = FALSE, linewidth = 1) +\n",
    "  labs(\n",
    "    x = \"Collection Date\",\n",
    "    y = expression(k*alpha*\" Rao-Stirling\") #nolint\n",
    "  ) +\n",
    "  theme(\n",
    "    panel.background = element_blank(),\n",
    "    panel.grid.major.x = element_blank(),\n",
    "    panel.grid.major.y = element_line(color = \"gray80\"),\n",
    "    axis.title.y = element_text(vjust = +2, size = 12),\n",
    "    axis.title.x = element_text(vjust = 0.5, size = 12),\n",
    "    axis.line.x = element_line(linewidth = 1, color = \"black\"),\n",
    "    axis.line.y = element_line(linewidth = 1, color = \"black\"),\n",
    "    axis.text.y = element_text(\n",
    "      angle = 90,\n",
    "      color = \"black\",\n",
    "      size = 11,\n",
    "      face = 1,\n",
    "      hjust = 0.5\n",
    "    ),\n",
    "    aspect.ratio = 0.6,\n",
    "    legend.position = \"bottom\"\n",
    "  )\n",
    "\n",
    "ggsave(\n",
    "    \"div_1_time_plot.png\",\n",
    "    width = 8,\n",
    "    height = 5,\n",
    "    dpi = 300\n",
    ")\n"
   ]
  },
  {
   "cell_type": "code",
   "execution_count": null,
   "metadata": {
    "vscode": {
     "languageId": "r"
    }
   },
   "outputs": [],
   "source": [
    "# Time series plot of stirling_index_2 vs collection_date\n",
    "df_mean <- df %>%\n",
    "  group_by(collection_date, editorial_type) %>%\n",
    "  summarize(mean_stirling = mean(diversity_clean_2))\n",
    "\n",
    "ggplot(\n",
    "  df_mean,\n",
    "  aes(\n",
    "    x = collection_date,\n",
    "    y = mean_stirling,\n",
    "    color = editorial_type\n",
    "  )\n",
    "  ) +\n",
    "  geom_line(linewidth = 0.5) +\n",
    "  geom_smooth(method = \"lm\", se = FALSE, linewidth = 1) +\n",
    "  labs(\n",
    "    x = \"Collection Date\",\n",
    "    y = expression(k*beta*\" Rao-Stirling\") #nolint\n",
    "  ) +\n",
    "  theme(\n",
    "    panel.background = element_blank(),\n",
    "    panel.grid.major.x = element_blank(),\n",
    "    panel.grid.major.y = element_line(color = \"gray80\"),\n",
    "    axis.title.y = element_text(vjust = +2, size = 12),\n",
    "    axis.title.x = element_text(vjust = 0.5, size = 12),\n",
    "    axis.line.x = element_line(linewidth = 1, color = \"black\"),\n",
    "    axis.line.y = element_line(linewidth = 1, color = \"black\"),\n",
    "    axis.text.y = element_text(\n",
    "      angle = 90,\n",
    "      color = \"black\",\n",
    "      size = 11,\n",
    "      face = 1,\n",
    "      hjust = 0.5\n",
    "    ),\n",
    "    aspect.ratio = 0.6,\n",
    "    legend.position = \"bottom\"\n",
    "  )\n",
    "\n",
    "ggsave(\n",
    "    \"div_2_time_plot.png\",\n",
    "    width = 8,\n",
    "    height = 5,\n",
    "    dpi = 300\n",
    ")\n"
   ]
  },
  {
   "cell_type": "code",
   "execution_count": null,
   "metadata": {
    "vscode": {
     "languageId": "r"
    }
   },
   "outputs": [],
   "source": [
    "# Time series plot of distance_index vs collection_date\n",
    "df_mean <- df %>%\n",
    "  group_by(collection_date, editorial_type) %>%\n",
    "  summarize(mean_distances = mean(distances_3))\n",
    "\n",
    "ggplot(\n",
    "  df_mean,\n",
    "  aes(\n",
    "    x = collection_date,\n",
    "    y = mean_distances,\n",
    "    color = editorial_type\n",
    "  )\n",
    "  ) +\n",
    "  geom_line(linewidth = 0.5) +\n",
    "  geom_smooth(method = \"lm\", se = FALSE, linewidth = 1) +\n",
    "  labs(\n",
    "    x = \"Collection Date\",\n",
    "    y = \"Mean distance\"\n",
    "  ) +\n",
    "  theme(\n",
    "    panel.background = element_blank(),\n",
    "    panel.grid.major.x = element_blank(),\n",
    "    panel.grid.major.y = element_line(color = \"gray80\"),\n",
    "    axis.title.y = element_text(vjust = +2, size = 12),\n",
    "    axis.title.x = element_text(vjust = 0.5, size = 12),\n",
    "    axis.line.x = element_line(linewidth = 1, color = \"black\"),\n",
    "    axis.line.y = element_line(linewidth = 1, color = \"black\"),\n",
    "    axis.text.y = element_text(\n",
    "      angle = 90,\n",
    "      color = \"black\",\n",
    "      size = 11,\n",
    "      face = 1,\n",
    "      hjust = 0.5\n",
    "    ),\n",
    "    aspect.ratio = 0.6,\n",
    "    legend.position = \"bottom\"\n",
    "  )\n",
    "\n",
    "ggsave(\n",
    "    \"div_3_time_plot.png\",\n",
    "    width = 8,\n",
    "    height = 5,\n",
    "    dpi = 300\n",
    ")\n"
   ]
  },
  {
   "cell_type": "markdown",
   "metadata": {},
   "source": [
    "#### Curator"
   ]
  },
  {
   "cell_type": "code",
   "execution_count": null,
   "metadata": {
    "vscode": {
     "languageId": "r"
    }
   },
   "outputs": [],
   "source": [
    "# Time series plot of stirling_index vs collection_date\n",
    "df_mean <- df %>%\n",
    "  group_by(collection_date, playlist_type) %>%\n",
    "  summarize(mean_stirling = mean(diversity_clean))\n",
    "\n",
    "ggplot(\n",
    "  df_mean,\n",
    "  aes(\n",
    "    x = collection_date,\n",
    "    y = mean_stirling,\n",
    "    color = playlist_type\n",
    "  )\n",
    "  ) +\n",
    "  geom_line() +\n",
    "  #geom_point() +\n",
    "  labs(\n",
    "    x = \"Collection Date\",\n",
    "    y = expression(k*alpha*\" Rao-Stirling\") #nolint\n",
    "  ) +\n",
    "  theme(\n",
    "    panel.background = element_blank(),\n",
    "    panel.grid.major.x = element_blank(),\n",
    "    panel.grid.major.y = element_line(color = \"gray80\"),\n",
    "    axis.title.y = element_text(vjust = +2, size = 12),\n",
    "    axis.title.x = element_text(vjust = 0.5, size = 12),\n",
    "    axis.line.x = element_line(linewidth = 1, color = \"black\"),\n",
    "    axis.line.y = element_line(linewidth = 1, color = \"black\"),\n",
    "    axis.text.y = element_text(\n",
    "      angle = 90,\n",
    "      color = \"black\",\n",
    "      size = 11,\n",
    "      face = 1,\n",
    "      hjust = 0.5\n",
    "    ),\n",
    "    aspect.ratio = 0.6,\n",
    "    legend.position = \"bottom\"\n",
    "  )\n",
    "\n",
    "ggsave(\n",
    "    \"div_1_time_plot.png\",\n",
    "    width = 8,\n",
    "    height = 5,\n",
    "    dpi = 300\n",
    ")\n"
   ]
  },
  {
   "cell_type": "code",
   "execution_count": null,
   "metadata": {
    "vscode": {
     "languageId": "r"
    }
   },
   "outputs": [],
   "source": [
    "# Time series plot of stirling_index_2 vs collection_date\n",
    "df_mean <- df %>%\n",
    "  group_by(collection_date, playlist_type) %>%\n",
    "  summarize(mean_stirling = mean(diversity_clean_2))\n",
    "\n",
    "ggplot(\n",
    "  df_mean,\n",
    "  aes(\n",
    "    x = collection_date,\n",
    "    y = mean_stirling,\n",
    "    color = playlist_type\n",
    "  )\n",
    "  ) +\n",
    "  geom_line() +\n",
    "  #geom_point() +\n",
    "  labs(\n",
    "    x = \"Collection Date\",\n",
    "    y = expression(k*beta*\" Rao-Stirling\") #nolint\n",
    "  ) +\n",
    "  theme(\n",
    "    panel.background = element_blank(),\n",
    "    panel.grid.major.x = element_blank(),\n",
    "    panel.grid.major.y = element_line(color = \"gray80\"),\n",
    "    axis.title.y = element_text(vjust = +2, size = 12),\n",
    "    axis.title.x = element_text(vjust = 0.5, size = 12),\n",
    "    axis.line.x = element_line(linewidth = 1, color = \"black\"),\n",
    "    axis.line.y = element_line(linewidth = 1, color = \"black\"),\n",
    "    axis.text.y = element_text(\n",
    "      angle = 90,\n",
    "      color = \"black\",\n",
    "      size = 11,\n",
    "      face = 1,\n",
    "      hjust = 0.5\n",
    "    ),\n",
    "    aspect.ratio = 0.6,\n",
    "    legend.position = \"bottom\"\n",
    "  )\n",
    "\n",
    "ggsave(\n",
    "    \"div_2_time_plot.png\",\n",
    "    width = 8,\n",
    "    height = 5,\n",
    "    dpi = 300\n",
    ")\n"
   ]
  },
  {
   "cell_type": "code",
   "execution_count": null,
   "metadata": {
    "vscode": {
     "languageId": "r"
    }
   },
   "outputs": [],
   "source": [
    "# Time series plot of dist_index vs collection_date\n",
    "df_mean <- df %>%\n",
    "  group_by(collection_date, playlist_type) %>%\n",
    "  summarize(mean_distances = mean(distances_3))\n",
    "\n",
    "ggplot(\n",
    "  df_mean,\n",
    "  aes(\n",
    "    x = collection_date,\n",
    "    y = mean_distances,\n",
    "    color = playlist_type\n",
    "  )\n",
    "  ) +\n",
    "  geom_line() +\n",
    "  #geom_point() +\n",
    "  labs(\n",
    "    x = \"Collection Date\",\n",
    "    y = \"Mean distance\"\n",
    "  ) +\n",
    "  theme(\n",
    "    panel.background = element_blank(),\n",
    "    panel.grid.major.x = element_blank(),\n",
    "    panel.grid.major.y = element_line(color = \"gray80\"),\n",
    "    axis.title.y = element_text(vjust = +2, size = 12),\n",
    "    axis.title.x = element_text(vjust = 0.5, size = 12),\n",
    "    axis.line.x = element_line(linewidth = 1, color = \"black\"),\n",
    "    axis.line.y = element_line(linewidth = 1, color = \"black\"),\n",
    "    axis.text.y = element_text(\n",
    "      angle = 90,\n",
    "      color = \"black\",\n",
    "      size = 11,\n",
    "      face = 1,\n",
    "      hjust = 0.5\n",
    "    ),\n",
    "    aspect.ratio = 0.6,\n",
    "    legend.position = \"bottom\"\n",
    "  )\n",
    "\n",
    "ggsave(\n",
    "    \"div_3_time_plot.png\",\n",
    "    width = 8,\n",
    "    height = 5,\n",
    "    dpi = 300\n",
    ")\n"
   ]
  },
  {
   "attachments": {},
   "cell_type": "markdown",
   "metadata": {},
   "source": [
    "## Models"
   ]
  },
  {
   "cell_type": "markdown",
   "metadata": {},
   "source": [
    "### FE static"
   ]
  },
  {
   "cell_type": "code",
   "execution_count": null,
   "metadata": {
    "vscode": {
     "languageId": "r"
    }
   },
   "outputs": [],
   "source": [
    "# k alpha Rao-Stirling\n",
    "model_1 <- feols(\n",
    "    diversity_norm ~ editorial_type,\n",
    "    data = df,\n",
    "    cluster = c(\"editorial_type\")\n",
    ")\n",
    "summary(model_1)\n",
    "\n",
    "model_2 <- feols(\n",
    "    diversity_norm ~ editorial_type + nb_tracks + playlist_date +\n",
    "    followers_class |\n",
    "    collection_date,\n",
    "    data = df,\n",
    "    cluster = c(\"editorial_type\")\n",
    ")\n",
    "summary(model_2)\n"
   ]
  },
  {
   "cell_type": "code",
   "execution_count": null,
   "metadata": {
    "vscode": {
     "languageId": "r"
    }
   },
   "outputs": [],
   "source": [
    "# k beta Rao-Stirling\n",
    "model_1 <- feols(\n",
    "    diversity_norm_2 ~ editorial_type,\n",
    "    data = df,\n",
    "    cluster = c(\"editorial_type\")\n",
    ")\n",
    "summary(model_1)\n",
    "\n",
    "model_2 <- feols(\n",
    "    diversity_norm_2 ~ editorial_type + nb_tracks + playlist_date +\n",
    "    followers_class |\n",
    "    collection_date,\n",
    "    data = df,\n",
    "    cluster = c(\"editorial_type\")\n",
    ")\n",
    "summary(model_2)\n"
   ]
  },
  {
   "cell_type": "code",
   "execution_count": null,
   "metadata": {
    "vscode": {
     "languageId": "r"
    }
   },
   "outputs": [],
   "source": [
    "# Distance index\n",
    "model <- feols(\n",
    "    dist_norm_3 ~ editorial_type + nb_tracks + playlist_date +\n",
    "    followers_class |\n",
    "    collection_date,\n",
    "    data = df,\n",
    "    cluster = c(\"editorial_type\")\n",
    ")\n",
    "summary(model)\n"
   ]
  },
  {
   "cell_type": "markdown",
   "metadata": {},
   "source": [
    "### Time series"
   ]
  },
  {
   "cell_type": "code",
   "execution_count": null,
   "metadata": {
    "vscode": {
     "languageId": "r"
    }
   },
   "outputs": [],
   "source": [
    "# Create a time index\n",
    "df$time_index <- as.numeric(df$collection_date - min(df$collection_date))\n",
    "df$year_month <- format(as.Date(df$collection_date), \"%Y-%m\")\n",
    "df$month_index <- as.numeric(as.factor(df$year_month))\n",
    "\n",
    "# k alpha Rao-Stirling\n",
    "model_trend <- feols(\n",
    "  diversity_norm ~ month_index + nb_tracks + playlist_date +\n",
    "  followers_class * month_index,\n",
    "  data = df, cluster = c(\"playlist_id\", \"collection_date\")\n",
    "  )\n",
    "summary(model_trend)\n",
    "\n",
    "# k beta Rao-Stirling\n",
    "model_trend_2 <- feols(\n",
    "  diversity_norm_2 ~ month_index + nb_tracks + playlist_date +\n",
    "  followers_class * month_index,\n",
    "  data = df, cluster = c(\"playlist_id\", \"collection_date\")\n",
    "  )\n",
    "summary(model_trend_2)\n"
   ]
  },
  {
   "cell_type": "code",
   "execution_count": null,
   "metadata": {
    "vscode": {
     "languageId": "r"
    }
   },
   "outputs": [],
   "source": [
    "# Evolution of Diversity Over Time with Playlist Type Interaction\n",
    "\n",
    "# k alpha Rao-Stirling\n",
    "model_trend <- feols(\n",
    "  diversity_norm ~ month_index * editorial_type +\n",
    "  nb_tracks + playlist_date + followers_class * month_index,\n",
    "  data = df, cluster = c(\"playlist_id\", \"collection_date\")\n",
    "  )\n",
    "summary(model_trend)\n",
    "\n",
    "# k beta Rao-Stirling\n",
    "model_trend <- feols(\n",
    "  diversity_norm_2 ~ month_index * editorial_type +\n",
    "  nb_tracks + playlist_date + followers_class * month_index,\n",
    "  data = df, cluster = c(\"playlist_id\", \"collection_date\")\n",
    "  )\n",
    "summary(model_trend)\n"
   ]
  },
  {
   "cell_type": "code",
   "execution_count": null,
   "metadata": {
    "vscode": {
     "languageId": "r"
    }
   },
   "outputs": [],
   "source": [
    "model_trend <- feols(\n",
    "  dist_norm_3 ~ time_index + time_index:editorial_type +\n",
    "  nb_tracks + playlist_date + followers_class * time_index,\n",
    "  data = df, cluster = c(\"playlist_id\", \"collection_date\")\n",
    "  )\n",
    "summary(model_trend)\n"
   ]
  },
  {
   "cell_type": "code",
   "execution_count": 23,
   "metadata": {
    "vscode": {
     "languageId": "r"
    }
   },
   "outputs": [
    {
     "data": {
      "text/plain": [
       "OLS estimation, Dep. Var.: diversity_norm\n",
       "Observations: 19,153 \n",
       "Standard-errors: Clustered (playlist_id & collection_date) \n",
       "                                     Estimate Std. Error   t value  Pr(>|t|)\n",
       "(Intercept)                          0.163945   0.131520  1.246538 0.2149749\n",
       "I(month_index^2)                    -0.000038   0.000143 -0.268439 0.7888188\n",
       "nb_tracks                           -0.006718   0.002214 -3.034747 0.0029476\n",
       "playlist_datebackline                0.031457   0.103473  0.304014 0.7616391\n",
       "followers_classlow                   0.352938   0.167108  2.112043 0.0367392\n",
       "followers_classmid_high              0.332350   0.140835  2.359861 0.0198820\n",
       "followers_classmid_low               0.465896   0.206004  2.261587 0.0255084\n",
       "month_index                          0.007198   0.005979  1.203778 0.2310249\n",
       "followers_classlow:month_index      -0.003855   0.004336 -0.889117 0.3757046\n",
       "followers_classmid_high:month_index -0.006035   0.004222 -1.429539 0.1554263\n",
       "followers_classmid_low:month_index   0.000963   0.005010  0.192208 0.8479012\n",
       "                                       \n",
       "(Intercept)                            \n",
       "I(month_index^2)                       \n",
       "nb_tracks                           ** \n",
       "playlist_datebackline                  \n",
       "followers_classlow                  *  \n",
       "followers_classmid_high             *  \n",
       "followers_classmid_low              *  \n",
       "month_index                            \n",
       "followers_classlow:month_index         \n",
       "followers_classmid_high:month_index    \n",
       "followers_classmid_low:month_index     \n",
       "---\n",
       "Signif. codes:  0 '***' 0.001 '**' 0.01 '*' 0.05 '.' 0.1 ' ' 1\n",
       "RMSE: 0.960084   Adj. R2: 0.077713"
      ]
     },
     "metadata": {},
     "output_type": "display_data"
    }
   ],
   "source": [
    "# Quadratic model\n",
    "# Model: Evolution of Diversity Over Time with Playlist Type Interaction\n",
    "model_trend <- feols(\n",
    "  diversity_norm ~ month_index^2 +\n",
    "  nb_tracks + playlist_date + followers_class * month_index,\n",
    "  data = df, cluster = c(\"playlist_id\", \"collection_date\")\n",
    "  )\n",
    "summary(model_trend)\n"
   ]
  },
  {
   "cell_type": "markdown",
   "metadata": {},
   "source": [
    "### Secondary models"
   ]
  },
  {
   "cell_type": "markdown",
   "metadata": {},
   "source": [
    "#### Playlist curator"
   ]
  },
  {
   "cell_type": "code",
   "execution_count": null,
   "metadata": {
    "vscode": {
     "languageId": "r"
    }
   },
   "outputs": [],
   "source": [
    "model_1 <- feols(\n",
    "    diversity_norm ~ editorial_type * curator + nb_tracks +\n",
    "    playlist_date + followers_class | collection_date,\n",
    "    data = df, cluster = df$editorial_type:df$curator\n",
    ")\n",
    "summary(model_1)\n",
    "\n",
    "model_2 <- feols(\n",
    "    diversity_norm_2 ~ editorial_type * curator + nb_tracks +\n",
    "    playlist_date + followers_class | collection_date,\n",
    "    data = df, cluster = df$editorial_type:df$curator\n",
    ")\n",
    "summary(model_2)\n"
   ]
  },
  {
   "cell_type": "code",
   "execution_count": 26,
   "metadata": {
    "vscode": {
     "languageId": "r"
    }
   },
   "outputs": [
    {
     "data": {
      "text/plain": [
       "OLS estimation, Dep. Var.: diversity_norm\n",
       "Observations: 19,153 \n",
       "Standard-errors: Clustered (playlist_id & collection_date) \n",
       "                                     Estimate Std. Error   t value   Pr(>|t|)\n",
       "(Intercept)                          0.124227   0.147849  0.840232 0.40243531\n",
       "month_index                          0.005706   0.002393  2.384775 0.01864280\n",
       "curatorMajor label                  -0.165284   0.286284 -0.577344 0.56477972\n",
       "nb_tracks                           -0.005866   0.002687 -2.183158 0.03095445\n",
       "playlist_datebackline                0.035032   0.102343  0.342304 0.73271587\n",
       "followers_classlow                   0.479993   0.256365  1.872301 0.06357896\n",
       "followers_classmid_high              0.340642   0.144344  2.359930 0.01987850\n",
       "followers_classmid_low               0.548032   0.158488  3.457878 0.00075215\n",
       "month_index:curatorMajor label      -0.008112   0.006669 -1.216316 0.22623184\n",
       "month_index:followers_classlow       0.003798   0.008481  0.447768 0.65512123\n",
       "month_index:followers_classmid_high -0.003850   0.004147 -0.928237 0.35513239\n",
       "month_index:followers_classmid_low   0.009149   0.006862  1.333344 0.18492371\n",
       "                                       \n",
       "(Intercept)                            \n",
       "month_index                         *  \n",
       "curatorMajor label                     \n",
       "nb_tracks                           *  \n",
       "playlist_datebackline                  \n",
       "followers_classlow                  .  \n",
       "followers_classmid_high             *  \n",
       "followers_classmid_low              ***\n",
       "month_index:curatorMajor label         \n",
       "month_index:followers_classlow         \n",
       "month_index:followers_classmid_high    \n",
       "month_index:followers_classmid_low     \n",
       "---\n",
       "Signif. codes:  0 '***' 0.001 '**' 0.01 '*' 0.05 '.' 0.1 ' ' 1\n",
       "RMSE: 0.957032   Adj. R2: 0.083519"
      ]
     },
     "metadata": {},
     "output_type": "display_data"
    },
    {
     "data": {
      "text/plain": [
       "OLS estimation, Dep. Var.: diversity_norm_2\n",
       "Observations: 19,153 \n",
       "Standard-errors: Clustered (playlist_id & collection_date) \n",
       "                                     Estimate Std. Error   t value     Pr(>|t|)\n",
       "(Intercept)                          0.707129   0.152504  4.636791 0.0000090171\n",
       "month_index                          0.005674   0.002263  2.506681 0.0135137206\n",
       "curatorMajor label                  -0.121370   0.351029 -0.345756 0.7301263759\n",
       "nb_tracks                           -0.012134   0.002985 -4.065175 0.0000857447\n",
       "playlist_datebackline               -0.060873   0.096262 -0.632362 0.5283432668\n",
       "followers_classlow                   0.417495   0.314063  1.329334 0.1862388727\n",
       "followers_classmid_high              0.325308   0.120540  2.698750 0.0079555612\n",
       "followers_classmid_low               0.496062   0.216646  2.289736 0.0237692557\n",
       "month_index:curatorMajor label      -0.004523   0.008174 -0.553275 0.5810959506\n",
       "month_index:followers_classlow       0.004477   0.009747  0.459300 0.6468429845\n",
       "month_index:followers_classmid_high -0.008108   0.004527 -1.790931 0.0758045199\n",
       "month_index:followers_classmid_low   0.005871   0.007774  0.755187 0.4516041687\n",
       "                                       \n",
       "(Intercept)                         ***\n",
       "month_index                         *  \n",
       "curatorMajor label                     \n",
       "nb_tracks                           ***\n",
       "playlist_datebackline                  \n",
       "followers_classlow                     \n",
       "followers_classmid_high             ** \n",
       "followers_classmid_low              *  \n",
       "month_index:curatorMajor label         \n",
       "month_index:followers_classlow         \n",
       "month_index:followers_classmid_high .  \n",
       "month_index:followers_classmid_low     \n",
       "---\n",
       "Signif. codes:  0 '***' 0.001 '**' 0.01 '*' 0.05 '.' 0.1 ' ' 1\n",
       "RMSE: 0.853255   Adj. R2: 0.271492"
      ]
     },
     "metadata": {},
     "output_type": "display_data"
    }
   ],
   "source": [
    "# k alpha Rao-Stirling\n",
    "model_trend <- feols(\n",
    "  diversity_norm ~ month_index * curator +\n",
    "  nb_tracks + playlist_date + followers_class * month_index,\n",
    "  data = df, cluster = c(\"playlist_id\", \"collection_date\")\n",
    "  )\n",
    "summary(model_trend)\n",
    "\n",
    "# k beta Rao-Stirling\n",
    "model_trend <- feols(\n",
    "  diversity_norm_2 ~ month_index * curator +\n",
    "  nb_tracks + playlist_date + followers_class * month_index,\n",
    "  data = df, cluster = c(\"playlist_id\", \"collection_date\")\n",
    "  )\n",
    "summary(model_trend)\n"
   ]
  },
  {
   "cell_type": "markdown",
   "metadata": {},
   "source": [
    "#### Playlist dates"
   ]
  },
  {
   "cell_type": "code",
   "execution_count": null,
   "metadata": {
    "vscode": {
     "languageId": "r"
    }
   },
   "outputs": [],
   "source": [
    "# Playlist dates\n",
    "# OLS model playlist dates and diversity 1\n",
    "model <- lm(\n",
    "    diversity_norm ~\n",
    "    log_followers + nb_tracks +\n",
    "    avg_track_popularity + avg_artist_popularity + playlist_date,\n",
    "    data = playlist_level_data\n",
    ")\n",
    "\n",
    "# Robust standard errors using HC1\n",
    "model_robust <- coeftest(\n",
    "  model, vcov = vcovHC(model, type = \"HC1\")\n",
    ")\n",
    "stargazer(model, model_robust, type = \"text\")\n",
    "\n",
    "# OLS model playlist dates and diversity 2\n",
    "model_2 <- lm(\n",
    "    diversity_norm_2 ~\n",
    "    log_followers + nb_tracks +\n",
    "    avg_track_popularity + avg_artist_popularity + playlist_date,\n",
    "    data = playlist_level_data\n",
    ")\n",
    "\n",
    "# Robust standard errors using HC1\n",
    "model_robust_2 <- coeftest(\n",
    "  model_2, vcov = vcovHC(model, type = \"HC1\")\n",
    ")\n",
    "stargazer(model_2, model_robust_2, type = \"text\")\n",
    "\n",
    "# OLS model playlist dates and distances\n",
    "model_3 <- lm(\n",
    "    dist_norm_3 ~\n",
    "    log_followers + nb_tracks +\n",
    "    avg_track_popularity + avg_artist_popularity + playlist_date,\n",
    "    data = playlist_level_data\n",
    ")\n",
    "\n",
    "# Robust standard errors using HC1\n",
    "model_robust_3 <- coeftest(\n",
    "  model_3, vcov = vcovHC(model, type = \"HC1\")\n",
    ")\n",
    "stargazer(model_3, model_robust_3, type = \"text\")\n"
   ]
  }
 ],
 "metadata": {
  "kernelspec": {
   "display_name": "R",
   "language": "R",
   "name": "ir"
  },
  "language_info": {
   "codemirror_mode": "r",
   "file_extension": ".r",
   "mimetype": "text/x-r-source",
   "name": "R",
   "pygments_lexer": "r",
   "version": "4.1.1"
  },
  "orig_nbformat": 4
 },
 "nbformat": 4,
 "nbformat_minor": 2
}
