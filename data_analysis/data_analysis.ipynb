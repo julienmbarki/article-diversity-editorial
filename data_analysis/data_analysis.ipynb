{
 "cells": [
  {
   "cell_type": "markdown",
   "metadata": {},
   "source": [
    "# Data analysis"
   ]
  },
  {
   "attachments": {},
   "cell_type": "markdown",
   "metadata": {},
   "source": [
    "## Setup"
   ]
  },
  {
   "cell_type": "code",
   "execution_count": null,
   "metadata": {
    "vscode": {
     "languageId": "r"
    }
   },
   "outputs": [],
   "source": [
    "# Load packages\n",
    "library(readxl)\n",
    "library(dplyr)\n",
    "library(ggplot2)\n",
    "library(stats)\n",
    "library(stargazer)\n",
    "library(purrr)\n",
    "library(stringr)\n",
    "library(tidyverse)\n",
    "library(lessR)\n",
    "library(fixest)\n",
    "library(sandwich)\n",
    "library(lmtest)\n",
    "library(car)\n",
    "library(effsize)\n"
   ]
  },
  {
   "cell_type": "code",
   "execution_count": null,
   "metadata": {
    "vscode": {
     "languageId": "r"
    }
   },
   "outputs": [],
   "source": [
    "# Import the data\n",
    "# Set the base directory path\n",
    "base_directory <- \"/Users/julienmbarki/Documents/Doctorat/Publications/Article 2/Data/Code/data_management/\" #nolint \n",
    "\n",
    "# Create a list of file names\n",
    "file_names <- c(\n",
    "    \"df_afro_final.xlsx\", \"df_alternative_final.xlsx\", \"df_ambiance_final.xlsx\",\n",
    "    \"df_ambient_final.xlsx\", \"df_amour_final.xlsx\", \"df_arabe_final.xlsx\",\n",
    "    \"df_bienetre_final.xlsx\", \"df_blues_final.xlsx\", \"df_caraibes_final.xlsx\",\n",
    "    \"df_classique_final.xlsx\", \"df_country_final.xlsx\", \"df_cuisine_final.xlsx\",\n",
    "    \"df_dance_final.xlsx\", \"df_dancehall_final.xlsx\", \"df_decennies_final.xlsx\",\n",
    "    \"df_detente_final.xlsx\", \"df_dormir_final.xlsx\", \"df_enfants_final.xlsx\",\n",
    "    \"df_equal_final.xlsx\", \"df_etudiants_final.xlsx\", \"df_focus_final.xlsx\",\n",
    "    \"df_folk_final.xlsx\", \"df_frequency_final.xlsx\", \"df_freshfinds_final.xlsx\",\n",
    "    \"df_funk_final.xlsx\", \"df_gaming_final.xlsx\", \"df_glow_final.xlsx\",\n",
    "    \"df_hiphop_final.xlsx\", \"df_indie_final.xlsx\", \"df_influenceurs_final.xlsx\",\n",
    "    \"df_instrumental_final.xlsx\", \"df_jazz_final.xlsx\", \"df_kpop_final.xlsx\",\n",
    "    \"df_latino_final.xlsx\", \"df_maison_final.xlsx\", \"df_metal_final.xlsx\",\n",
    "    \"df_nature_final.xlsx\", \"df_netflix_final.xlsx\", \"df_pop_final.xlsx\",\n",
    "    \"df_punk_final.xlsx\", \"df_radar_final.xlsx\", \"df_reggae_final.xlsx\",\n",
    "    \"df_rnb_final.xlsx\", \"df_rock_final.xlsx\", \"df_soiree_final.xlsx\",\n",
    "    \"df_soul_final.xlsx\", \"df_sport_final.xlsx\", \"df_spotsingles_final.xlsx\",\n",
    "    \"df_tendances_final.xlsx\", \"df_tops_final.xlsx\", \"df_tvcine_final.xlsx\",\n",
    "    \"df_variete_final.xlsx\", \"df_voiture_final.xlsx\", \"df_voyage_final.xlsx\"\n",
    ")\n",
    "\n",
    "# Create a list of playlist types\n",
    "type_values <- c(\n",
    "    \"genre\", \"genre\", \"mood\", \"genre\", \"mood\", \"genre\", \"mood\", \"genre\",\n",
    "    \"genre\", \"genre\", \"genre\", \"mood\", \"genre\", \"genre\", \"mood\", \"mood\",\n",
    "    \"mood\", \"mood\", \"mood\", \"mood\", \"mood\", \"genre\", \"mood\", \"mood\",\n",
    "    \"genre\", \"mood\", \"mood\", \"genre\", \"genre\", \"mood\", \"genre\", \"genre\",\n",
    "    \"genre\", \"genre\", \"mood\", \"genre\", \"mood\", \"mood\", \"genre\", \"genre\",\n",
    "    \"mood\", \"genre\", \"genre\", \"genre\", \"mood\", \"genre\", \"mood\", \"mood\",\n",
    "    \"mood\", \"top\", \"mood\", \"genre\", \"mood\", \"mood\"\n",
    ")\n",
    "\n",
    "# Create a list of playlists curators\n",
    "curators <- c(\n",
    "    \"spotify\", \"spotify\", \"spotify\", \"spotify\", \"spotify\", \"spotify\", \"spotify\",\n",
    "    \"spotify\", \"spotify\", \"spotify\", \"spotify\", \"spotify\", \"spotify\", \"spotify\",\n",
    "    \"spotify\", \"spotify\", \"spotify\", \"spotify\", \"spotify\", \"spotify\", \"spotify\",\n",
    "    \"spotify\", \"spotify\", \"spotify\", \"spotify\", \"spotify\", \"spotify\", \"spotify\",\n",
    "    \"spotify\", \"external\", \"spotify\", \"spotify\", \"spotify\", \"spotify\",\n",
    "    \"spotify\", \"spotify\", \"spotify\", \"external\", \"spotify\", \"spotify\",\n",
    "    \"spotify\", \"spotify\", \"spotify\", \"spotify\", \"spotify\", \"spotify\", \"spotify\",\n",
    "    \"spotify\", \"spotify\", \"spotify\", \"external\", \"spotify\", \"spotify\",\n",
    "    \"spotify\"\n",
    ")\n",
    "\n",
    "# Modify the data frame\n",
    "df_list <- list()\n",
    "\n",
    "for (i in seq_along(file_names)) {\n",
    "    file_name <- file_names[i]\n",
    "    type <- type_values[i]\n",
    "    curator <- curators[i]\n",
    "\n",
    "    full_path <- file.path(base_directory, file_name)\n",
    "    df <- read_xlsx(full_path)\n",
    "\n",
    "    df$type <- type\n",
    "    df$curator <- curator\n",
    "\n",
    "    # Append the data frame to the list\n",
    "    df_list[[i]] <- df\n",
    "}\n",
    "\n",
    "# Combine all data frames\n",
    "df <- Reduce(function(x, y) merge(x, y, all = TRUE), df_list)\n",
    "\n",
    "# Export to Excel\n",
    "writexl::write_xlsx(df, \"df_final.xlsx\")\n"
   ]
  },
  {
   "attachments": {},
   "cell_type": "markdown",
   "metadata": {},
   "source": [
    "## Data management"
   ]
  },
  {
   "cell_type": "code",
   "execution_count": null,
   "metadata": {
    "vscode": {
     "languageId": "r"
    }
   },
   "outputs": [],
   "source": [
    "# Load data\n",
    "df <- read_xlsx(\"df_final.xlsx\")\n"
   ]
  },
  {
   "cell_type": "markdown",
   "metadata": {},
   "source": [
    "### Main measure"
   ]
  },
  {
   "cell_type": "code",
   "execution_count": null,
   "metadata": {
    "vscode": {
     "languageId": "r"
    }
   },
   "outputs": [],
   "source": [
    "# Extract numeric values\n",
    "df$diversity_clean <- as.numeric(gsub(\"[^[:digit:].-]\", \"\", df$stirling_index))\n",
    "df$diversity_clean\n",
    "\n",
    "df$diversity_clean_2 <- as.numeric(\n",
    "    gsub(\"[^[:digit:].-]\", \"\", df$stirling_index_2)\n",
    ")\n",
    "df$diversity_clean_2\n",
    "\n",
    "# Scale values from 0 to 1\n",
    "df$diversity_norm <- rescale(diversity_clean, df, kind = \"z\")\n",
    "df$diversity_norm\n",
    "\n",
    "df$diversity_norm_2 <- rescale(diversity_clean_2, df, kind = \"z\")\n",
    "df$diversity_norm_2\n"
   ]
  },
  {
   "cell_type": "markdown",
   "metadata": {},
   "source": [
    "### Secondary measures"
   ]
  },
  {
   "cell_type": "code",
   "execution_count": null,
   "metadata": {
    "vscode": {
     "languageId": "r"
    }
   },
   "outputs": [],
   "source": [
    "# HH-Index\n",
    "# Scale values from 0 to 1\n",
    "df$hhi_norm <- rescale(hh_index, df, kind = \"z\")\n",
    "df$hhi_norm\n",
    "\n",
    "df$hhi_norm_2 <- rescale(hh_index_2, df, kind = \"z\")\n",
    "df$hhi_norm_2\n"
   ]
  },
  {
   "cell_type": "code",
   "execution_count": null,
   "metadata": {
    "vscode": {
     "languageId": "r"
    }
   },
   "outputs": [],
   "source": [
    "# Distances\n",
    "# Scale values from 0 to 1\n",
    "df$dist_norm <- rescale(distances, df, kind = \"z\")\n",
    "df$dist_norm\n",
    "\n",
    "df$dist_norm_2 <- rescale(distances_2, df, kind = \"z\")\n",
    "df$dist_norm_2\n",
    "\n",
    "df$dist_norm_3 <- rescale(distances_3, df, kind = \"z\")\n",
    "df$dist_norm_3\n"
   ]
  },
  {
   "cell_type": "markdown",
   "metadata": {},
   "source": [
    "### Covariates"
   ]
  },
  {
   "cell_type": "code",
   "execution_count": null,
   "metadata": {
    "vscode": {
     "languageId": "r"
    }
   },
   "outputs": [],
   "source": [
    "# Relevel factors\n",
    "df$type <- relevel(as.factor(df$type), ref = \"genre\")\n",
    "table(df$type)\n",
    "\n",
    "df$curator <- relevel(as.factor(df$curator), ref = \"spotify\")\n",
    "table(df$curator)\n"
   ]
  },
  {
   "cell_type": "code",
   "execution_count": null,
   "metadata": {
    "vscode": {
     "languageId": "r"
    }
   },
   "outputs": [],
   "source": [
    "# Log Followers\n",
    "df$log_followers <- log(df$playlist_followers)\n",
    "df$log_followers\n",
    "\n",
    "# Followers class\n",
    "summary(df$playlist_followers)\n",
    "df$followers_class <- case_when(\n",
    "    df$playlist_followers <= 81624 ~ \"low\",\n",
    "    df$playlist_followers > 81624 &\n",
    "    df$playlist_followers <= 238625 ~ \"mid_low\",\n",
    "    df$playlist_followers > 238625 &\n",
    "    df$playlist_followers <= 755174 ~ \"mid_high\",\n",
    "    df$playlist_followers > 755174 ~ \"high\"\n",
    ")\n",
    "table(df$followers_class)\n"
   ]
  },
  {
   "attachments": {},
   "cell_type": "markdown",
   "metadata": {},
   "source": [
    "## Descriptive stats"
   ]
  },
  {
   "cell_type": "markdown",
   "metadata": {},
   "source": [
    "### Stats"
   ]
  },
  {
   "cell_type": "code",
   "execution_count": null,
   "metadata": {
    "vscode": {
     "languageId": "r"
    }
   },
   "outputs": [],
   "source": [
    "# Number of tracks per playlist\n",
    "df %>%\n",
    "  group_by(playlist_name) %>%\n",
    "  summarise(nb_tracks = n()) %>%\n",
    "  summary()\n"
   ]
  },
  {
   "cell_type": "code",
   "execution_count": null,
   "metadata": {
    "vscode": {
     "languageId": "r"
    }
   },
   "outputs": [],
   "source": [
    "# Number of clusters per playlist\n",
    "df %>%\n",
    "  group_by(playlist_name) %>%\n",
    "  summarise(nb_clusters = n_distinct(cluster)) %>%\n",
    "  summary()\n",
    "\n",
    "df %>%\n",
    "  group_by(playlist_name) %>%\n",
    "  summarise(nb_clusters_2 = n_distinct(cluster_2)) %>%\n",
    "  summary()\n"
   ]
  },
  {
   "cell_type": "code",
   "execution_count": null,
   "metadata": {
    "vscode": {
     "languageId": "r"
    }
   },
   "outputs": [],
   "source": [
    "# HH-Index\n",
    "playlist_hh_index <- df %>%\n",
    "  distinct(playlist_name, hh_index)\n",
    "summary(playlist_hh_index$hh_index)\n",
    "\n",
    "playlist_hh_index_2 <- df %>%\n",
    "  distinct(playlist_name, hh_index_2)\n",
    "summary(playlist_hh_index_2$hh_index_2)\n"
   ]
  },
  {
   "cell_type": "code",
   "execution_count": null,
   "metadata": {
    "vscode": {
     "languageId": "r"
    }
   },
   "outputs": [],
   "source": [
    "tapply(df$mean_distance, df$type, mean)\n"
   ]
  },
  {
   "cell_type": "markdown",
   "metadata": {},
   "source": [
    "### Plots"
   ]
  },
  {
   "cell_type": "code",
   "execution_count": null,
   "metadata": {
    "vscode": {
     "languageId": "r"
    }
   },
   "outputs": [],
   "source": [
    "# Extract unique diversity values per playlist\n",
    "playlist_diversity <- df %>%\n",
    "  distinct(playlist_name, diversity_clean)\n",
    "\n",
    "# Plot the histogram using one observation per playlist\n",
    "ggplot(\n",
    "  playlist_diversity,\n",
    "  aes(x = diversity_clean)\n",
    "  ) +\n",
    "  geom_histogram(\n",
    "    binwidth = 0.025,\n",
    "    color = \"black\",\n",
    "    fill = \"#a7a7f9\"\n",
    "    ) +\n",
    "  xlim(0, 1) +\n",
    "  theme_bw() +\n",
    "  theme(\n",
    "    panel.grid.major.y = element_line(linetype = \"dotted\"),\n",
    "    panel.grid.minor.y = element_blank(),\n",
    "    panel.grid.major.x = element_blank(),\n",
    "    panel.grid.minor.x = element_blank(),\n",
    "    aspect.ratio = 0.8\n",
    "  ) +\n",
    "  labs(\n",
    "    x = expression(k*alpha*\" Rao-Stirling\"), #nolint\n",
    "    y = \"Frequency\"\n",
    "  )\n"
   ]
  },
  {
   "cell_type": "code",
   "execution_count": null,
   "metadata": {
    "vscode": {
     "languageId": "r"
    }
   },
   "outputs": [],
   "source": [
    "# Extract unique diversity values per playlist\n",
    "playlist_diversity <- df %>%\n",
    "  distinct(playlist_name, diversity_clean_2)\n",
    "\n",
    "# Plot the histogram using one observation per playlist\n",
    "ggplot(\n",
    "  playlist_diversity,\n",
    "  aes(x = diversity_clean_2)\n",
    "  ) +\n",
    "  geom_histogram(\n",
    "    binwidth = 0.025,\n",
    "    color = \"black\",\n",
    "    fill = \"#a7a7f9\"\n",
    "    ) +\n",
    "  xlim(0, 1) +\n",
    "  theme_bw() +\n",
    "  theme(\n",
    "    panel.grid.major.y = element_line(linetype = \"dotted\"),\n",
    "    panel.grid.minor.y = element_blank(),\n",
    "    panel.grid.major.x = element_blank(),\n",
    "    panel.grid.minor.x = element_blank(),\n",
    "    aspect.ratio = 0.8\n",
    "  ) +\n",
    "  labs(\n",
    "    x = expression(k*beta*\" Rao-Stirling\"), #nolint\n",
    "    y = \"Frequency\"\n",
    "  )\n"
   ]
  },
  {
   "attachments": {},
   "cell_type": "markdown",
   "metadata": {},
   "source": [
    "## Models"
   ]
  },
  {
   "cell_type": "markdown",
   "metadata": {},
   "source": [
    "### OLS models"
   ]
  },
  {
   "cell_type": "code",
   "execution_count": null,
   "metadata": {
    "vscode": {
     "languageId": "r"
    }
   },
   "outputs": [],
   "source": [
    "# Collapse data to playlist level\n",
    "playlist_level_data <- df %>%\n",
    "  group_by(playlist_name) %>%\n",
    "  summarize(\n",
    "    # Averaging track-level variables\n",
    "    avg_track_popularity = mean(track__popularity, na.rm = TRUE),\n",
    "    avg_artist_popularity = mean(artist_popularity, na.rm = TRUE),\n",
    "\n",
    "    # Retaining playlist-level variables\n",
    "    diversity_norm = unique(diversity_norm),\n",
    "    diversity_norm_2 = unique(diversity_norm_2),\n",
    "    dist_norm_3 = unique(dist_norm_3),\n",
    "    log_followers = unique(log_followers),\n",
    "    type = unique(type),\n",
    "    curator = unique(curator),\n",
    "    nb_tracks = n(),\n",
    "    .groups = \"drop\"\n",
    "  )\n"
   ]
  },
  {
   "cell_type": "code",
   "execution_count": null,
   "metadata": {
    "vscode": {
     "languageId": "r"
    }
   },
   "outputs": [],
   "source": [
    "# Robust OLS model diversity 1\n",
    "model <- lm(\n",
    "    diversity_norm ~\n",
    "    log_followers + nb_tracks +\n",
    "    avg_track_popularity + avg_artist_popularity + type,\n",
    "    data = playlist_level_data\n",
    ")\n",
    "\n",
    "model_robust <- coeftest(\n",
    "    model, vcov = vcovCL,\n",
    "    type = \"HC1\",\n",
    "    df = 2,\n",
    "    cluster = ~type\n",
    ")\n",
    "stargazer(model, model_robust, type = \"text\")\n"
   ]
  },
  {
   "cell_type": "code",
   "execution_count": null,
   "metadata": {
    "vscode": {
     "languageId": "r"
    }
   },
   "outputs": [],
   "source": [
    "# Robust OLS model diversity 2\n",
    "model <- lm(\n",
    "    diversity_norm_2 ~\n",
    "    log_followers + nb_tracks +\n",
    "    avg_track_popularity + avg_artist_popularity + type,\n",
    "    data = playlist_level_data\n",
    ")\n",
    "\n",
    "model_robust <- coeftest(\n",
    "    model, vcov = vcovCL,\n",
    "    type = \"HC1\",\n",
    "    df = 2,\n",
    "    cluster = ~type\n",
    ")\n",
    "stargazer(model, model_robust, type = \"text\")\n"
   ]
  },
  {
   "cell_type": "code",
   "execution_count": null,
   "metadata": {
    "vscode": {
     "languageId": "r"
    }
   },
   "outputs": [],
   "source": [
    "# Robust OLS model distance\n",
    "model <- lm(\n",
    "    dist_norm_3 ~\n",
    "    log_followers + nb_tracks +\n",
    "    avg_track_popularity + avg_artist_popularity + type,\n",
    "    data = playlist_level_data\n",
    ")\n",
    "\n",
    "model_robust <- coeftest(\n",
    "    model, vcov = vcovCL,\n",
    "    type = \"HC1\",\n",
    "    df = 2,\n",
    "    cluster = ~type\n",
    ")\n",
    "stargazer(model, model_robust, type = \"text\")\n"
   ]
  },
  {
   "attachments": {},
   "cell_type": "markdown",
   "metadata": {},
   "source": [
    "### Fixed effect models"
   ]
  },
  {
   "cell_type": "code",
   "execution_count": null,
   "metadata": {
    "vscode": {
     "languageId": "r"
    }
   },
   "outputs": [],
   "source": [
    "# Fixed effects model playlist type and diversity 1\n",
    "df_subset <- df %>%\n",
    "  select(diversity_norm, type, log_followers, track_name, playlist_name)\n",
    "\n",
    "model <- feols(\n",
    "  diversity_norm ~ type + log_followers | track_name,\n",
    "  data = df_subset\n",
    ")\n",
    "\n",
    "# Display the summary of the model\n",
    "summary(model)\n"
   ]
  },
  {
   "cell_type": "code",
   "execution_count": null,
   "metadata": {
    "vscode": {
     "languageId": "r"
    }
   },
   "outputs": [],
   "source": [
    "# Fixed effects model playlist type and diversity 2\n",
    "df_subset <- df %>%\n",
    "  select(diversity_norm_2, type, log_followers, track_name, playlist_name)\n",
    "\n",
    "model <- feols(\n",
    "  diversity_norm_2 ~ type + log_followers | track_name,\n",
    "  data = df_subset\n",
    ")\n",
    "\n",
    "# Display the summary of the model\n",
    "summary(model)\n"
   ]
  },
  {
   "cell_type": "code",
   "execution_count": null,
   "metadata": {
    "vscode": {
     "languageId": "r"
    }
   },
   "outputs": [],
   "source": [
    "# Fixed effects model playlist type and distance\n",
    "df_subset <- df %>%\n",
    "  select(dist_norm_3, type, log_followers, track_name, playlist_name)\n",
    "\n",
    "model <- feols(\n",
    "  dist_norm_3 ~ type + log_followers | track_name,\n",
    "  data = df_subset\n",
    ")\n",
    "\n",
    "# Display the summary of the model\n",
    "summary(model)\n"
   ]
  },
  {
   "cell_type": "markdown",
   "metadata": {},
   "source": [
    "### Secondary models"
   ]
  },
  {
   "cell_type": "code",
   "execution_count": null,
   "metadata": {
    "vscode": {
     "languageId": "r"
    }
   },
   "outputs": [],
   "source": [
    "# OLS model playlist curator and diversity 1\n",
    "model <- lm(\n",
    "    diversity_norm ~\n",
    "    log_followers + nb_tracks +\n",
    "    avg_track_popularity + avg_artist_popularity + curator,\n",
    "    data = playlist_level_data\n",
    ")\n",
    "\n",
    "model_robust <- coeftest(\n",
    "    model, vcov = vcovCL,\n",
    "    type = \"HC1\",\n",
    "    df = 2,\n",
    "    cluster = ~curator\n",
    ")\n",
    "stargazer(model, model_robust, type = \"text\")\n"
   ]
  },
  {
   "cell_type": "code",
   "execution_count": null,
   "metadata": {
    "vscode": {
     "languageId": "r"
    }
   },
   "outputs": [],
   "source": [
    "# OLS model playlist curator and diversity 2\n",
    "model <- lm(\n",
    "    diversity_norm_2 ~\n",
    "    log_followers + nb_tracks +\n",
    "    avg_track_popularity + avg_artist_popularity + curator,\n",
    "    data = playlist_level_data\n",
    ")\n",
    "\n",
    "model_robust <- coeftest(\n",
    "    model, vcov = vcovCL,\n",
    "    type = \"HC1\",\n",
    "    df = 2,\n",
    "    cluster = ~curator\n",
    ")\n",
    "stargazer(model, model_robust, type = \"text\")\n"
   ]
  },
  {
   "cell_type": "code",
   "execution_count": null,
   "metadata": {
    "vscode": {
     "languageId": "r"
    }
   },
   "outputs": [],
   "source": [
    "# OLS model playlist curator and distance\n",
    "model <- lm(\n",
    "    dist_norm_3 ~\n",
    "    log_followers + nb_tracks +\n",
    "    avg_track_popularity + avg_artist_popularity + curator,\n",
    "    data = playlist_level_data\n",
    ")\n",
    "\n",
    "model_robust <- coeftest(\n",
    "    model, vcov = vcovCL,\n",
    "    type = \"HC1\",\n",
    "    df = 2,\n",
    "    cluster = ~curator\n",
    ")\n",
    "stargazer(model, model_robust, type = \"text\")\n"
   ]
  },
  {
   "cell_type": "code",
   "execution_count": null,
   "metadata": {
    "vscode": {
     "languageId": "r"
    }
   },
   "outputs": [],
   "source": [
    "# Fixed effects model playlist curator and diversity 1\n",
    "df_subset <- df %>%\n",
    "  select(\n",
    "    diversity_norm, curator, log_followers, track_name, playlist_name\n",
    "  )\n",
    "\n",
    "model <- feols(\n",
    "  diversity_norm ~ curator + log_followers | track_name,\n",
    "  data = df_subset\n",
    ")\n",
    "\n",
    "# Display the summary of the model\n",
    "summary(model)\n"
   ]
  },
  {
   "cell_type": "code",
   "execution_count": null,
   "metadata": {
    "vscode": {
     "languageId": "r"
    }
   },
   "outputs": [],
   "source": [
    "# Fixed effects model playlist curator and diversity 2\n",
    "df_subset <- df %>%\n",
    "  select(\n",
    "    diversity_norm_2, curator, log_followers, track_name, playlist_name\n",
    "  )\n",
    "\n",
    "model <- feols(\n",
    "  diversity_norm_2 ~ curator + log_followers | track_name,\n",
    "  data = df_subset\n",
    ")\n",
    "\n",
    "# Display the summary of the model\n",
    "summary(model)\n"
   ]
  }
 ],
 "metadata": {
  "kernelspec": {
   "display_name": "R",
   "language": "R",
   "name": "ir"
  },
  "language_info": {
   "codemirror_mode": "r",
   "file_extension": ".r",
   "mimetype": "text/x-r-source",
   "name": "R",
   "pygments_lexer": "r",
   "version": "4.1.1"
  },
  "orig_nbformat": 4
 },
 "nbformat": 4,
 "nbformat_minor": 2
}
