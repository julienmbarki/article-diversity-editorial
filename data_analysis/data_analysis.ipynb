{
 "cells": [
  {
   "cell_type": "markdown",
   "metadata": {},
   "source": [
    "# Data analysis"
   ]
  },
  {
   "attachments": {},
   "cell_type": "markdown",
   "metadata": {},
   "source": [
    "## Setup"
   ]
  },
  {
   "cell_type": "code",
   "execution_count": null,
   "metadata": {
    "vscode": {
     "languageId": "r"
    }
   },
   "outputs": [],
   "source": [
    "# Load packages\n",
    "library(readxl)\n",
    "library(dplyr)\n",
    "library(ggplot2)\n",
    "library(stats)\n",
    "library(stargazer)\n",
    "library(purrr)\n",
    "library(stringr)\n",
    "library(tidyverse)\n",
    "library(lessR)\n",
    "library(fixest)\n",
    "library(sandwich)\n",
    "library(lmtest)\n",
    "library(car)\n",
    "library(effsize)\n"
   ]
  },
  {
   "cell_type": "code",
   "execution_count": null,
   "metadata": {
    "vscode": {
     "languageId": "r"
    }
   },
   "outputs": [],
   "source": [
    "# create a list of file names and corresponding is_editorial values\n",
    "file_names <- c(\"df_rap_final_2.xlsx\", \"df_pop_final_2.xlsx\", \"df_variete_final_2.xlsx\", \"df_ete_final_2.xlsx\",\n",
    "                \"df_latino_final_2.xlsx\", \"df_ambiance_final_2.xlsx\", \"df_electro_final_2.xlsx\", \"df_rock_final_2.xlsx\",\n",
    "                \"df_indie_final_2.xlsx\", \"df_sport_final_2.xlsx\", \"df_rnb_final_2.xlsx\", \"df_afro_final_2.xlsx\",\n",
    "                \"df_kpop_final_2.xlsx\", \"df_detente_final_2.xlsx\", \"df_dormir_final_2.xlsx\", \"df_soiree_final_2.xlsx\",\n",
    "                \"df_zouk_final_2.xlsx\", \"df_reggae_final_2.xlsx\", \"df_maison_final_2.xlsx\", \"df_decennies_final_2.xlsx\",\n",
    "                \"df_alternatif_final_2.xlsx\", \"df_amour_final_2.xlsx\", \"df_metal_final_2.xlsx\", \"df_jazz_final_2.xlsx\",\n",
    "                \"df_tendances_final_2.xlsx\", \"df_equal_final_2.xlsx\", \"df_classique_final_2.xlsx\", \"df_folk_final_2.xlsx\",\n",
    "                \"df_focus_final_2.xlsx\", \"df_soul_final_2.xlsx\", \"df_netflix_final_2.xlsx\", \"df_enfants_final_2.xlsx\",\n",
    "                \"df_etudiants_final_2.xlsx\", \"df_bienetre_final_2.xlsx\", \"df_punk_final_2.xlsx\", \"df_ambient_final_2.xlsx\",\n",
    "                \"df_country_final_2.xlsx\", \"df_blues_final_2.xlsx\", \"df_arabe_final_2.xlsx\", \"df_voyage_final_2.xlsx\",\n",
    "                \"df_frequency_final_2.xlsx\"\n",
    "                )\n",
    "\n",
    "\n",
    "type_values <- c('genre', 'genre', 'genre', 'mood', 'genre', 'mood', 'genre', 'genre', 'genre', 'mood', 'genre',\n",
    "                 'genre', 'genre', 'mood', 'mood', 'mood', 'genre', 'genre', 'mood', 'trend', 'genre', 'mood',\n",
    "                 'genre', 'genre', 'trend', 'trend', 'genre', 'genre', 'mood', 'genre', 'trend', 'mood', 'mood',\n",
    "                 'mood', 'genre', 'genre', 'genre', 'genre', 'genre', 'mood', 'trend'\n",
    "                 )\n",
    "\n",
    "df_list <- list()\n",
    "for (i in seq_along(file_names)) {\n",
    "  file_name <- file_names[i]\n",
    "  type <- type_values[i]\n",
    "  df <- read_xlsx(file_name)\n",
    "  df$type <- type\n",
    "  df_list[[i]] <- df\n",
    "}\n",
    "\n",
    "df <- Reduce(function(x, y) merge(x, y, all = TRUE), df_list)\n"
   ]
  },
  {
   "cell_type": "code",
   "execution_count": null,
   "metadata": {
    "vscode": {
     "languageId": "r"
    }
   },
   "outputs": [],
   "source": [
    "writexl::write_xlsx(df, \"df_final_2.xlsx\")\n"
   ]
  },
  {
   "attachments": {},
   "cell_type": "markdown",
   "metadata": {},
   "source": [
    "Data management"
   ]
  },
  {
   "cell_type": "code",
   "execution_count": null,
   "metadata": {
    "vscode": {
     "languageId": "r"
    }
   },
   "outputs": [],
   "source": [
    "df <- read_xlsx(\"df_final_2.xlsx\")\n",
    "\n",
    "df$type <- relevel(as.factor(df$type), ref = \"genre\")\n"
   ]
  },
  {
   "cell_type": "markdown",
   "metadata": {},
   "source": [
    "Dist"
   ]
  },
  {
   "cell_type": "code",
   "execution_count": null,
   "metadata": {
    "vscode": {
     "languageId": "r"
    }
   },
   "outputs": [],
   "source": [
    "# Scale values from 0 to 1\n",
    "df$dist <- rescale(mean_distance, df, kind='z')\n",
    "\n",
    "# Print scaled values\n",
    "df$dist\n"
   ]
  },
  {
   "cell_type": "markdown",
   "metadata": {},
   "source": [
    "Covariates"
   ]
  },
  {
   "cell_type": "code",
   "execution_count": null,
   "metadata": {
    "vscode": {
     "languageId": "r"
    }
   },
   "outputs": [],
   "source": [
    "# Scale covariates and log followers\n",
    "df$track_pop_norm <- rescale(as.numeric(track_pop), df, kind='0to1')\n",
    "df$track_pop_norm\n",
    "\n",
    "df$artist_pop_norm <- rescale(as.numeric(artist_pop), df, kind='0to1')\n",
    "df$artist_pop_norm\n",
    "\n",
    "df$nb_tracks_res <- rescale(as.numeric(nb_tracks), df, kind='z')\n",
    "df$nb_tracks_norm <- rescale(nb_tracks_res, df, kind='0to1')\n",
    "df$nb_tracks_norm\n"
   ]
  },
  {
   "cell_type": "code",
   "execution_count": null,
   "metadata": {
    "vscode": {
     "languageId": "r"
    }
   },
   "outputs": [],
   "source": [
    "summary(df$playlist_followers)\n",
    "df$followers_class <- case_when(df$playlist_followers < 44010 ~ \"low\",\n",
    "                                df$playlist_followers >= 44010 & df$playlist_followers < 173911 ~ \"mid_low\",\n",
    "                                df$playlist_followers >= 173911 & df$playlist_followers < 561786 ~ \"mid_high\",\n",
    "                                df$playlist_followers >= 561786 ~ \"high\")\n",
    "table(df$followers_class)\n"
   ]
  },
  {
   "attachments": {},
   "cell_type": "markdown",
   "metadata": {},
   "source": [
    "Descriptive stats"
   ]
  },
  {
   "cell_type": "code",
   "execution_count": null,
   "metadata": {
    "vscode": {
     "languageId": "r"
    }
   },
   "outputs": [],
   "source": [
    "nrow(df)\n",
    "sum(df$nb_tracks)\n"
   ]
  },
  {
   "cell_type": "code",
   "execution_count": null,
   "metadata": {
    "vscode": {
     "languageId": "r"
    }
   },
   "outputs": [],
   "source": [
    "summary(df$mean_distance)\n"
   ]
  },
  {
   "cell_type": "code",
   "execution_count": null,
   "metadata": {
    "vscode": {
     "languageId": "r"
    }
   },
   "outputs": [],
   "source": [
    "table(df$type)\n"
   ]
  },
  {
   "cell_type": "code",
   "execution_count": null,
   "metadata": {
    "vscode": {
     "languageId": "r"
    }
   },
   "outputs": [],
   "source": [
    "tapply(df$mean_distance, df$type, mean)\n"
   ]
  },
  {
   "cell_type": "code",
   "execution_count": null,
   "metadata": {
    "vscode": {
     "languageId": "r"
    }
   },
   "outputs": [],
   "source": [
    "sapply(df[, c('nb_tracks', 'playlist_followers', 'track_pop', 'artist_pop')], function(x) c(summary(x), sd(x)))\n"
   ]
  },
  {
   "cell_type": "markdown",
   "metadata": {},
   "source": [
    "Barplots"
   ]
  },
  {
   "cell_type": "code",
   "execution_count": null,
   "metadata": {
    "vscode": {
     "languageId": "r"
    }
   },
   "outputs": [],
   "source": [
    "ggplot(df, aes(x = dist)) + \n",
    "  geom_histogram(binwidth = 0.025, color = \"black\", fill = \"#a7a7f9\") +\n",
    "  xlim(0.5, 1.4) +\n",
    "  theme_bw() +\n",
    "  theme(panel.grid.major.y = element_line(linetype = \"dotted\"),\n",
    "        panel.grid.minor.y = element_blank(),\n",
    "        panel.grid.major.x = element_blank(),\n",
    "        panel.grid.minor.x = element_blank(),\n",
    "        aspect.ratio = 0.8) +\n",
    "  labs(x = 'Mean distance', y = 'Frequency')\n"
   ]
  },
  {
   "attachments": {},
   "cell_type": "markdown",
   "metadata": {},
   "source": [
    "OLS models"
   ]
  },
  {
   "attachments": {},
   "cell_type": "markdown",
   "metadata": {},
   "source": [
    "Robusts OLS"
   ]
  },
  {
   "cell_type": "code",
   "execution_count": null,
   "metadata": {
    "vscode": {
     "languageId": "r"
    }
   },
   "outputs": [],
   "source": [
    "# Fit your robust linear regression \n",
    "lm_1 <- lm(dist ~ followers_class + nb_tracks + track_pop + type, data = df)\n",
    "lm_1_1 <- lm(dist ~ type, data = df)\n",
    "summary(lm_1)\n",
    "\n",
    "lm1_robust_clustered <- coeftest(lm_1, vcov = vcovCL, type = \"HC1\", df = 2, cluster = ~type)\n",
    "lm1_1_robust_clustered <- coeftest(lm_1_1, vcov = vcovCL, type = \"HC1\", df = 2, cluster = ~type)\n",
    "print(lm1_robust_clustered)\n"
   ]
  },
  {
   "cell_type": "code",
   "execution_count": null,
   "metadata": {
    "vscode": {
     "languageId": "r"
    }
   },
   "outputs": [],
   "source": [
    "stargazer(lm_1_1, lm_1)\n"
   ]
  },
  {
   "cell_type": "markdown",
   "metadata": {},
   "source": [
    "Control for clusters"
   ]
  },
  {
   "cell_type": "code",
   "execution_count": null,
   "metadata": {
    "vscode": {
     "languageId": "r"
    }
   },
   "outputs": [],
   "source": [
    "# Perform OLS\n",
    "lm_1_2 <- lm(diversity_norm ~ followers_class + nb_tracks + track_pop + type + as.numeric(nb_clusters), data = df)\n",
    "lm1_2_robust_clustered <- coeftest(lm_1_2, vcov = vcovCL, type = \"HC1\", df = 2, cluster = ~type)\n",
    "summary(lm_1_2)\n",
    "\n",
    "# Perform OLS\n",
    "lm_2_2 <- lm(diversity_norm_2 ~ followers_class + nb_tracks + track_pop + type + as.numeric(nb_clusters_2), data = df)\n",
    "lm2_2_robust_clustered <- coeftest(lm_2_2, vcov = vcovCL, type = \"HC1\", df = 2, cluster = ~type)\n",
    "summary(lm_2_2)\n",
    "\n",
    "stargazer(lm1_1_robust_clustered, lm1_robust_clustered, lm1_2_robust_clustered, lm2_1_robust_clustered, lm2_robust_clustered, lm2_2_robust_clustered)\n"
   ]
  },
  {
   "cell_type": "code",
   "execution_count": null,
   "metadata": {
    "vscode": {
     "languageId": "r"
    }
   },
   "outputs": [],
   "source": [
    "stargazer(lm_1_1, lm_1, lm_1_2, lm_2_1, lm_2, lm_2_2)\n"
   ]
  },
  {
   "cell_type": "markdown",
   "metadata": {},
   "source": [
    "Multicolinearity"
   ]
  },
  {
   "cell_type": "code",
   "execution_count": null,
   "metadata": {
    "vscode": {
     "languageId": "r"
    }
   },
   "outputs": [],
   "source": [
    "vif(lm_1)\n"
   ]
  },
  {
   "cell_type": "markdown",
   "metadata": {},
   "source": [
    "Test on silhouette scores"
   ]
  },
  {
   "cell_type": "code",
   "execution_count": null,
   "metadata": {
    "vscode": {
     "languageId": "r"
    }
   },
   "outputs": [],
   "source": [
    "# create a list of file names and corresponding is_editorial values\n",
    "file_names <- c(\"robust_afro.xlsx\", \"robust_alternatif.xlsx\", \"robust_ambiance.xlsx\", \"robust_ambient.xlsx\",\n",
    "                \"robust_amour.xlsx\", \"robust_arabe.xlsx\", \"robust_bienetre.xlsx\", \"robust_blues.xlsx\",\n",
    "                \"robust_classique.xlsx\", \"robust_country.xlsx\", \"robust_decennies.xlsx\", \"robust_detente.xlsx\",\n",
    "                \"robust_dormir.xlsx\", \"robust_electro.xlsx\", \"robust_enfants.xlsx\", \"robust_equal.xlsx\",\n",
    "                \"robust_ete.xlsx\", \"robust_etudiants.xlsx\"\n",
    "                )\n",
    "\n",
    "df_list <- list()\n",
    "for (i in seq_along(file_names)) {\n",
    "  file_name <- file_names[i]\n",
    "  df <- read_xlsx(file_name)\n",
    "  df_list[[i]] <- df\n",
    "}\n",
    "\n",
    "df_robust <- Reduce(function(x, y) merge(x, y, all = TRUE), df_list)\n"
   ]
  },
  {
   "cell_type": "code",
   "execution_count": null,
   "metadata": {
    "vscode": {
     "languageId": "r"
    }
   },
   "outputs": [],
   "source": [
    "# Perform paired t-tests\n",
    "t_test_5_6 <- t.test(df_robust$silhouette_score_5, df_robust$silhouette_score_6, paired = TRUE)\n",
    "cohen_d_5_6 <- cohen.d(df_robust$silhouette_score_5, df_robust$silhouette_score_6, hedges.correction = TRUE)\n",
    "t_test_5_6\n",
    "cohen_d_5_6\n",
    "\n",
    "t_test_5_4 <- t.test(df_robust$silhouette_score_5, df_robust$silhouette_score_4, paired = TRUE)\n",
    "cohen_d_5_4 <- cohen.d(df_robust$silhouette_score_5, df_robust$silhouette_score_4, hedges.correction = TRUE)\n",
    "t_test_5_4\n",
    "cohen_d_5_4\n",
    "\n",
    "t_test_5_6_2 <- t.test(df_robust$silhouette_score_5_2, df_robust$silhouette_score_6_2, paired = TRUE)\n",
    "cohen_d_5_6_2 <- cohen.d(df_robust$silhouette_score_5_2, df_robust$silhouette_score_6_2, hedges.correction = TRUE)\n",
    "t_test_5_6_2\n",
    "cohen_d_5_6_2\n",
    "\n",
    "t_test_5_4_2 <- t.test(df_robust$silhouette_score_5_2, df_robust$silhouette_score_4_2, paired = TRUE)\n",
    "cohen_d_5_4_2 <- cohen.d(df_robust$silhouette_score_5_2, df_robust$silhouette_score_4_2, hedges.correction = TRUE)\n",
    "t_test_5_4_2\n",
    "cohen_d_5_4_2\n"
   ]
  }
 ],
 "metadata": {
  "kernelspec": {
   "display_name": "R",
   "language": "R",
   "name": "ir"
  },
  "language_info": {
   "codemirror_mode": "r",
   "file_extension": ".r",
   "mimetype": "text/x-r-source",
   "name": "R",
   "pygments_lexer": "r",
   "version": "4.1.1"
  },
  "orig_nbformat": 4
 },
 "nbformat": 4,
 "nbformat_minor": 2
}
