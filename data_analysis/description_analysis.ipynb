{
 "cells": [
  {
   "cell_type": "markdown",
   "metadata": {},
   "source": [
    "# Description requests"
   ]
  },
  {
   "cell_type": "markdown",
   "metadata": {},
   "source": [
    "## Setup"
   ]
  },
  {
   "cell_type": "code",
   "execution_count": 1,
   "metadata": {},
   "outputs": [],
   "source": [
    "# Import modules\n",
    "import pandas as pd\n",
    "\n",
    "import spotipy\n",
    "from spotipy.oauth2 import SpotifyClientCredentials\n"
   ]
  },
  {
   "cell_type": "code",
   "execution_count": null,
   "metadata": {},
   "outputs": [],
   "source": [
    "# API connexion\n",
    "client_id = 'cec8979c027344f98b471a991aa415ad'\n",
    "client_secret = 'ad69bcba55b349f98c1344b006c708bd'\n",
    "\n",
    "client_credentials_manager = SpotifyClientCredentials(client_id, client_secret)\n",
    "sp = spotipy.Spotify(client_credentials_manager=client_credentials_manager)\n"
   ]
  },
  {
   "cell_type": "markdown",
   "metadata": {},
   "source": [
    "## Get playlists description"
   ]
  },
  {
   "cell_type": "code",
   "execution_count": null,
   "metadata": {},
   "outputs": [],
   "source": [
    "# Load data\n",
    "df = pd.read_csv('df_final.csv')\n",
    "\n",
    "# Get a list of the unique playlist names\n",
    "playlist_names = df['playlist_name'].unique()\n",
    "print(playlist_names)\n"
   ]
  },
  {
   "cell_type": "code",
   "execution_count": null,
   "metadata": {},
   "outputs": [],
   "source": [
    "# API scraping\n",
    "playlist_names = playlist_names.tolist()\n",
    "\n",
    "playlists = []\n",
    "\n",
    "for name in playlist_names:\n",
    "    print(f\"Processing playlist: {name}\")\n",
    "\n",
    "    playlist_id = \"N/A\"\n",
    "    playlist_description = \"N/A\"\n",
    "\n",
    "    try:\n",
    "        id_results = sp.search(q=name, type='playlist', limit=1)\n",
    "\n",
    "        # Check if any playlist is found\n",
    "        if id_results['playlists']['items']:\n",
    "            playlist_id = id_results['playlists']['items'][0]['id']\n",
    "            playlists_results = sp.playlist(playlist_id)\n",
    "            playlist_description = playlists_results.get('description', \"N/A\")\n",
    "    \n",
    "    except Exception as e:\n",
    "        print(f\"Error processing playlist {name}: {e}\")\n",
    "\n",
    "    # Append the playlist entry (even if API fails)\n",
    "    playlists.append({\n",
    "        \"playlist_id\": playlist_id, \n",
    "        \"playlist_name\": name,\n",
    "        \"playlist_description\": playlist_description\n",
    "    })\n",
    "\n",
    "# Create dataframe from playlists\n",
    "df_playlists = pd.DataFrame(playlists, columns=[\"playlist_id\", \"playlist_name\", \"playlist_description\"])\n",
    "df_playlists.to_excel(\"playlists_descriptions.xlsx\", index=False)\n",
    "\n",
    "print(df_playlists)\n"
   ]
  },
  {
   "cell_type": "markdown",
   "metadata": {},
   "source": [
    "## Merge back with og data"
   ]
  },
  {
   "cell_type": "code",
   "execution_count": 2,
   "metadata": {},
   "outputs": [
    {
     "name": "stdout",
     "output_type": "stream",
     "text": [
      "19153\n"
     ]
    }
   ],
   "source": [
    "# Load data\n",
    "df_desc = pd.read_excel('playlists_descriptions.xlsx')\n",
    "df  = pd.read_csv('df_final.csv')\n",
    "print(len(df))\n"
   ]
  },
  {
   "cell_type": "code",
   "execution_count": null,
   "metadata": {},
   "outputs": [],
   "source": [
    "# Drop the unnecessary columns\n",
    "df_desc_2 = df_desc.drop(columns=['playlist_id', 'playlist_description'])\n",
    "print(df_desc_2)\n"
   ]
  },
  {
   "cell_type": "code",
   "execution_count": null,
   "metadata": {},
   "outputs": [],
   "source": [
    "# Merge dataframes based on playlist name\n",
    "df_final = pd.merge(df, df_desc_2, on='playlist_name', how='left')\n",
    "df_final.to_csv('df_final_bis.csv', index=False)\n",
    "\n",
    "print(df_final)\n"
   ]
  },
  {
   "cell_type": "markdown",
   "metadata": {},
   "source": [
    "## Robustness checks "
   ]
  },
  {
   "cell_type": "code",
   "execution_count": 2,
   "metadata": {},
   "outputs": [
    {
     "name": "stdout",
     "output_type": "stream",
     "text": [
      "19153\n"
     ]
    }
   ],
   "source": [
    "df_desc = pd.read_excel('playlists_descriptions.xlsx')\n",
    "df  = pd.read_csv('df_final_ter.csv')\n",
    "print(len(df))\n"
   ]
  },
  {
   "cell_type": "code",
   "execution_count": 3,
   "metadata": {},
   "outputs": [
    {
     "data": {
      "application/vnd.microsoft.datawrangler.viewer.v0+json": {
       "columns": [
        {
         "name": "index",
         "rawType": "int64",
         "type": "integer"
        },
        {
         "name": "playlist_id",
         "rawType": "object",
         "type": "string"
        },
        {
         "name": "playlist_name",
         "rawType": "object",
         "type": "string"
        },
        {
         "name": "playlist_description",
         "rawType": "object",
         "type": "string"
        },
        {
         "name": "editorial_type",
         "rawType": "object",
         "type": "string"
        },
        {
         "name": "type_2",
         "rawType": "object",
         "type": "string"
        },
        {
         "name": "comments",
         "rawType": "object",
         "type": "string"
        },
        {
         "name": "editorial_type_2",
         "rawType": "object",
         "type": "string"
        }
       ],
       "conversionMethod": "pd.DataFrame",
       "ref": "9db2d447-175f-456c-873e-758442e30545",
       "rows": [
        [
         "0",
         null,
         "Rap Fr | Rap Francais 2024 | Hits Rap |  SDM, DJ SNAKE, HAMZA, SOOLKING, BOOBA, TIAKOLA,",
         "Le meilleur du RAP FR en 2024 🇫🇷 Toutes les semaines une mise à jour avec Booba, Gazo, SDM, Soolking, PLK, Koba Lad, Jungeli, Lesram, Zola, ZKR, S.Pri Noir, Serane, Kay The Prodigy, Houdi, Kerchak, Shay,",
         "genre",
         null,
         null,
         "genre"
        ],
        [
         "1",
         null,
         "Rap Belge 2024 | Kobo, Damso, Caballero & JeanJass, Romeo Elvis, Shay, Krisy, Green Montana, Hamza,",
         "Kobo, Damso, Green Montana, Caballero & JeanJass, Roméo Elvis, ISHA, Coely, Peet, Geeko, Frénétik, YG Pablo, L'or du Commun, Lous And The Yakuza, Swing, Primero, Krisy, Zwangere Guy, Damso, Bakari, Hamza .. Les \"tueurs\" du rap belge arrivent ! Photo : Kobo.",
         "genre",
         null,
         null,
         "genre"
        ],
        [
         "2",
         "0UxrowkNrNrtJg3ACKLfM1",
         "Musculation | MOTIVATION RAP 2024 Sport Rap | Summer Body, Training, Pompes, Work Out (Booba, Kaari",
         "Une playlist sombre avec tous les plus gros sons RAP FR &amp; DRILL pour motiver comme jamais à la salle de musculation, pour les pompes, les tractions, le cardio avec Booba, Sofiane, Damso, Kaaris, SDM , Lacrim, Niska, Koba Lad, Gradur, Kai Du M, Ziak, Zola, Koba LaD, Bolemvn, Kalash Criminel...  ",
         "mood",
         "genre",
         "mixed",
         "genre"
        ],
        [
         "3",
         "0pCbo5F57jdENT7yqGILst",
         "#NUITVIE",
         null,
         "mood",
         null,
         null,
         "mood"
        ],
        [
         "4",
         "1GCVFbpYypodLFGepkhsxN",
         "Cool Jazz (Celeste, Samara Joy, Melody Gardot, Nina Simone, Norah Jones, Louis Armstrong)",
         "Détendez-vous avec le meilleur du jazz relaxant. Avec Melody Gardot, Tony Bennett, Nina Simone, Diane Krall, Louis Armstrong, Jon Batiste, Gregory Porter, Norah Jones, Amy Winehouse... Photo : Samara Joy",
         "genre",
         "mood",
         "mixed",
         "mood"
        ],
        [
         "5",
         "131wVohjHrpv3U321ZzFzD",
         "Playlist Bonne humeur <U+0001F31E> | Hits feel good",
         "On garde le smile !",
         "mood",
         null,
         null,
         "mood"
        ],
        [
         "6",
         null,
         "Pop Urbaine | RnB Fr | Hits 2024 (Lynda, Imen ES, Theodora, Vacra, Tayc, Dadju, Aya Nakamura...)",
         "Soolking, Dadju, Eva Queen, Tayc, Yaro, Heuss L'enfoiré, Niska, Dixon, Bramsito, 4Keus, Aya Nakamura, Imen Es, Abou Debeing, Lynda, Franglish, Shay, Vegedream… Le meilleur de la pop urbaine est ici !",
         "genre",
         null,
         null,
         "genre"
        ],
        [
         "7",
         "59SsCKT7csVfwUWltADegd",
         "HITS 2024 (Playlist tubes du moment, hits radio)",
         "RADIO NRJ , PLAYLIST CHANSON CONNUES, MUSIQUE 2024, TUBES DU MOMENT, CHANSON TIKTOK, MUSIQUE QUI BOUGE, MUSIQUE AMBIANCE, MUSIQUE POPULAIRE, SOIRÉE 2025, SKYROCK, CHERIE FM, RFM, FUN RADIO, MOUV, POP FRANCAISE",
         "trend",
         "mood",
         "mixed",
         "mood"
        ],
        [
         "8",
         null,
         "'Et'e 2024 <U+2600><U+FE0F> Piscine, soleil & f^ete | Summer hits, beach, pool party",
         "Musique pour faire la fête avec tes potes les pieds dans l'eau ! Les gros hits du moment, mais aussi des grands classiques.",
         "mood",
         null,
         null,
         "mood"
        ],
        [
         "9",
         null,
         "RnB FRANCAIS 2024 <U+0001F1EB><U+0001F1F7> | RnB LOVE | RnB CHILL (Jungeli, Warren Saada, Vacra, Franglish, Dadju, Tayc",
         "Dadju, Luidji, Tayc, Némir, Aya Nakamlura, Imen ES, Angèle, Booba, Monsieur Nov, Vegedream,Eva Queen, Chilla, Franglish, Joé Dwèt Filé... le RnB ambiance love, rupture & douceur !",
         "genre",
         null,
         null,
         "genre"
        ],
        [
         "10",
         "1rUqrkSj6eDDSlLTb98qfy",
         "Sport Power, playlist sport, motivation sport, cardio, fitness, HIIT",
         "La playlist pour t'entrainer en toute situation !",
         "mood",
         null,
         null,
         "mood"
        ],
        [
         "11",
         "3bfa8jU5IjNh2g7fZDqLTM",
         "Hits 'electro 2024 | Les tubes 'electro du moment",
         " Hits du Moment Février 2025",
         "genre",
         "trend",
         "mixed",
         "trend"
        ],
        [
         "12",
         "1QxdL1fPW4X4eex4CrFryW",
         "Good Mood | Bonne humeur, happy hits, feel good",
         "La playlist pour garder le sourire !",
         "mood",
         null,
         null,
         "mood"
        ],
        [
         "13",
         "29wcS6GWqMPIpmpygGDGdc",
         "Disney les classiques (Disney Francais)",
         "La Reine des Neiges, Blanche Neige, Le Roi Lion, Mulan, Vaiana, Raiponce, Le Livre de la Jungle, Les Aristochats, Aladdin... La playlist des plus grands thèmes des films Disney en version française !",
         "trend",
         null,
         "external curator",
         "trend"
        ],
        [
         "14",
         null,
         "Genreless | New comers, les p'epites de demain",
         "Par ici pour découvrir la musique de demain, tous les genres confondus. Cover : Roxane",
         "trend",
         "mood",
         "mixed",
         "mood"
        ],
        [
         "15",
         null,
         "Happy Rock",
         null,
         "genre",
         "mood",
         "mixed",
         "mood"
        ],
        [
         "16",
         "2Ms88ohKG3bh4VtaQKNuPn",
         "Soir'ee hits | Faire la f^ete, playlist Nouvel An, R'eveillon 2025",
         "Les meilleurs titres pour danser toute la nuit et mettre tout le monde d'accord !",
         "mood",
         null,
         null,
         "mood"
        ],
        [
         "17",
         null,
         "LNST RAP PARTY!",
         null,
         "genre",
         "mood",
         "mixed",
         "mood"
        ],
        [
         "18",
         null,
         "Matin difficile <U+2615><U+FE0F> R'eveil en douceur, playlist chill pour se r'eveiller",
         "Réveil compliqué ce matin ? On vous accompagne pour démarrer la journée en pleine forme !",
         "mood",
         null,
         null,
         "mood"
        ],
        [
         "19",
         "6tu5BRo8Q6L8Sok9No2MpL",
         "Pop francaise 2024 | Hits francais, French pop",
         "Année après année, le meilleur des tubes français (pop, rock, variétés) des années 1980, 1990, 2000, 2010 et 2020. Best of Années 2020. French Hits. French Music. Chanson française.",
         "genre",
         "trend",
         "mixed",
         "trend"
        ],
        [
         "20",
         "3DsvPEm9qdCKJOV9tkpb21",
         "Le son des darons : les tubes incontournables, Nostalgie, Karaoke, Blind Test, les Classiques d'hier",
         "Les tubes incontournables ... à l'époque de tes darons : les Bee Gees, Abba, Johnny Hallyday, Nino Ferrer, Dalida, Elton John, Boney M, Daniel Balavoine... Sur la cover : ABBA",
         "mood",
         null,
         null,
         "mood"
        ],
        [
         "21",
         "3fCzqkU0pL5iL1pYzQZRmR",
         "At Work, playlist pour travailler, musique pour travailler, travailler en musique, se concentrer",
         "Au bureau ou en télétravail, au boulot ou en études, on reste motivé avec la playlist idéale pour réviser ou travailler ! On t'a concocté un mix de chill pop parfait pour se concentrer ! ",
         "mood",
         null,
         null,
         "mood"
        ],
        [
         "22",
         null,
         "Chill Session <U+2600><U+FE0F> Chill House, Electro Chill, Lounge, Relax, Apero Chill Mix Summer Electro, Soir'ee",
         "Tous les sons électro chill ! #Summer #Chill",
         "mood",
         "genre",
         "mixed",
         "genre"
        ],
        [
         "23",
         null,
         "Chill sur canap'e | Au calme, d'etente, rnb chill",
         "Besoin d'un moment de détente ? Écoutez et décompressez ! Avec Billie Eilish, Kali Uchis, Daniel Caesar, Olivia Dean, James Blake, Hope Tala, SZA, Still Woozy…",
         "mood",
         "genre",
         "mixed",
         "genre"
        ],
        [
         "24",
         "56K5jAQ1V7FXGL7wuAyoVw",
         "RAPUNCHLINE",
         "Les meilleurs sons du Rap Français ! ",
         "genre",
         null,
         null,
         "genre"
        ],
        [
         "25",
         "44ihVyLFN8auqKcncRZr82",
         "Beach Party 2024 | Playlist f^ete, electro latino",
         "Des amis, le soleil, la plage… et Beach Party, la playlist pour danser les pieds dans le sable !",
         "mood",
         "genre",
         "mixed",
         "genre"
        ],
        [
         "26",
         null,
         "Futurs Hits 2024 <U+0001F4A5> | Top hits, France Viral Hits, tubes, soir'ee, top hits",
         "Découvre les hits de demain avant tout le monde ! Sur la cover : The Weeknd",
         "trend",
         null,
         null,
         "trend"
        ],
        [
         "27",
         "4QaC6UYRVgTWyuxzFjlcrU",
         "Hip Hop Hits -  RAP FR & RAP US - Fete Nouvel An 2025",
         "Booba, Franglish, Drake, Travis Scott, SDM, Hamza, Kendrick Lamar, Future, Gims, Keblack, Ven1, Nekfeu, Ice Spice, Nicki Minaj, Rick Ross, Yeat... Le meilleur du hip hop FR &amp; US pour faire la fête ! ",
         "genre",
         "mood",
         "mixed",
         "mood"
        ],
        [
         "28",
         null,
         "Rap Bangers | Rap de Rue | Rap Francais 2024 | Rap Street | Drill Fr |Many Santana, JKSN, BOOBA,",
         "Envie de bouger sur du rap ? On a la playlist qu'il te faut ! Avec Niska - Le Monde Est Méchant, Booba, Damso, MHD, Jul, SCH, Gazo, Freeze Corleone, MIG, Dala, Amine Farsi, PLK, Soso Maness, Hamza, Heuss L'Enfoiré, Niska , Timal, Maes, Tiakola",
         "genre",
         null,
         null,
         "genre"
        ],
        [
         "29",
         "1TVCd0fTBqNSJDWL9Fzcy3",
         "Jazz At Work | Jazz au Bureau | Jazz pour travailler 2024 | Chill & Lounge",
         "LA SELECTION JAZZ POUR CHILLER EN TOUTES CIRCONSTANCES. Ambiance Jazzy Pop, Lounge, Crooners à la croisée du Jazz et de l’Easy-Listening. Chaque titre est sélectionné avec la plus grande attention et les enchainements sont étudiés pour le meilleur plaisir d'écoute possible.",
         "genre",
         "mood",
         "mixed",
         "mood"
        ],
        [
         "30",
         "3NeuttyndoLQip5z3UGuWK",
         "FG PLAYLIST",
         "Enjoy the best house,deep house ,tech house and afro house song🙂 New banger every week🫡🇫🇷",
         "genre",
         null,
         null,
         "genre"
        ],
        [
         "31",
         "7alrNpXxXxkNj4qaT4uAEQ",
         "50 nuances plus claires / Cinquante nuances plus claires / 50 shades",
         null,
         "trend",
         null,
         "external curator",
         "trend"
        ],
        [
         "32",
         null,
         "Ann'ees 2000 <U+0001F4BF>  |  Tubes des annees 2000",
         null,
         "mood",
         null,
         null,
         "mood"
        ],
        [
         "33",
         "4OZ02mQrmS1LU8bkG09vq7",
         "Rap US Hits 2024 <U+0001F525> <U+0001F410> | Rap US Bangers 2024 |Snoop Dogg, Dr Dre,  Eminem, Drake, Kendrick Lamar",
         null,
         "genre",
         "trend",
         "mixed",
         "trend"
        ],
        [
         "34",
         null,
         "Afro Drill | Afro Trap 2024 | Rap FR | Afrobeats | Drill Fr (Dertay, Didi B, Bolemvn, Niska, MHD,",
         "Les meilleurs sons afro-urbains du moment !",
         "genre",
         null,
         null,
         "genre"
        ],
        [
         "35",
         "3I2QnCAW8mMj4RFgv3MQkx",
         "Latino Hits 2024 | Latino Vibes | Top Latino (Karol G, J.Balvin, Kali Uchis, Feid, Bad Bunny)",
         "Qué caloooooor ! Les meilleurs titres latino pour danser : Reggaeton, salsa, bachata, samba, meringue, bossa, latino rap avec J Balvin, Luis Fonsi, Daddy Yankee, Ozuna, Bad Bunny, Karol G, Feid, Sean Paul, Maluma, Annita, Rosalia, Rauw Alejandro…",
         "genre",
         null,
         null,
         "genre"
        ],
        [
         "36",
         "6xwCH60hsGvo2tLk1j07Ud",
         "Cocooning | Playlist d'etente, chill `a la maison, relax and chill, relaxation, d'etente",
         "La playlist idéale pour les matinées sous la couette ou les soirées chill sur le canapé .",
         "mood",
         null,
         null,
         "mood"
        ],
        [
         "37",
         "2Q8HZTwFfKTuFud9uygo9D",
         "La Playlist de Welcome Jules",
         null,
         "mood",
         null,
         "external curator",
         "mood"
        ],
        [
         "38",
         "6EyNHMMJtumWbxWpWN5AJW",
         "RAP FRANCAIS NOUVEAUTES  2024 - RAP FR -  RADAR DES SORTIES (NAHIR, JEUNE LION, LYELE, LA FOUINE)",
         "La playlist nouveauté Rap FR 2025. Mis à jour chaque vendredi.",
         "genre",
         "trend",
         "mixed",
         "trend"
        ],
        [
         "39",
         "4T9BUoucZ9u6T2f3xdNIAb",
         "Fresh Vari'et'e",
         "Les meilleures nouveautés de la variété française. Photo : Mentissa",
         "genre",
         "trend",
         "mixed",
         "trend"
        ],
        [
         "40",
         null,
         "No Pain No Gain",
         "Boostez votre séance de sport avec cette sélection hip-hop.",
         "mood",
         "genre",
         "mixed",
         "genre"
        ],
        [
         "41",
         null,
         "R'eveil en douceur",
         "Le rayon de soleil musical de votre matinée 🦔",
         "mood",
         null,
         null,
         "mood"
        ],
        [
         "42",
         null,
         "Made in France",
         "The best French indie tracks right now. Cover : Miel de Montagne",
         "genre",
         null,
         null,
         "genre"
        ],
        [
         "43",
         null,
         "Classiques du Rap FR",
         "Tous les classiques du rap français dans une seule playlist !",
         "genre",
         null,
         null,
         "genre"
        ],
        [
         "44",
         "2UHkqQeMLBXxzFQ7QbNLWE",
         "Mill'esime",
         "Les plus grands crus de la chanson française moderne. Photo : Alain Bashung",
         "genre",
         null,
         null,
         "genre"
        ],
        [
         "45",
         "39FiYooGB571CQEjSkiVZR",
         "Nouveaut'es Electro",
         "Bob Sinclar au top des nouveautés electro !",
         "genre",
         "trend",
         "mixed",
         "trend"
        ],
        [
         "46",
         null,
         "Exception Francaise",
         "Les meilleures nouveautés de la chanson française. Photo : Ben Mazué",
         "genre",
         null,
         null,
         "genre"
        ],
        [
         "47",
         "7aUI6OUkeXotPRLPvN9IV6",
         "Standards de la Chanson Francaise",
         "Les standards &amp; les classiques de la chanson française. Hits &amp; tubes français. Chanteuses et chanteurs. Variété française, VF. Années 60. Années 70. Années 80. Années 90. Années 2000.",
         "genre",
         null,
         null,
         "genre"
        ],
        [
         "48",
         null,
         "Fresh Rap",
         "Les meilleures nouveautés du rap français. Photo : Tiakola x Tarik Azzouz",
         "genre",
         null,
         null,
         "genre"
        ],
        [
         "49",
         null,
         "M'enage en musique",
         "Faites passer la corvée du ménage en musique !",
         "mood",
         null,
         null,
         "mood"
        ]
       ],
       "shape": {
        "columns": 7,
        "rows": 122
       }
      },
      "text/html": [
       "<div>\n",
       "<style scoped>\n",
       "    .dataframe tbody tr th:only-of-type {\n",
       "        vertical-align: middle;\n",
       "    }\n",
       "\n",
       "    .dataframe tbody tr th {\n",
       "        vertical-align: top;\n",
       "    }\n",
       "\n",
       "    .dataframe thead th {\n",
       "        text-align: right;\n",
       "    }\n",
       "</style>\n",
       "<table border=\"1\" class=\"dataframe\">\n",
       "  <thead>\n",
       "    <tr style=\"text-align: right;\">\n",
       "      <th></th>\n",
       "      <th>playlist_id</th>\n",
       "      <th>playlist_name</th>\n",
       "      <th>playlist_description</th>\n",
       "      <th>editorial_type</th>\n",
       "      <th>type_2</th>\n",
       "      <th>comments</th>\n",
       "      <th>editorial_type_2</th>\n",
       "    </tr>\n",
       "  </thead>\n",
       "  <tbody>\n",
       "    <tr>\n",
       "      <th>0</th>\n",
       "      <td>NaN</td>\n",
       "      <td>Rap Fr | Rap Francais 2024 | Hits Rap |  SDM, ...</td>\n",
       "      <td>Le meilleur du RAP FR en 2024 🇫🇷 Toutes les se...</td>\n",
       "      <td>genre</td>\n",
       "      <td>NaN</td>\n",
       "      <td>NaN</td>\n",
       "      <td>genre</td>\n",
       "    </tr>\n",
       "    <tr>\n",
       "      <th>1</th>\n",
       "      <td>NaN</td>\n",
       "      <td>Rap Belge 2024 | Kobo, Damso, Caballero &amp; Jean...</td>\n",
       "      <td>Kobo, Damso, Green Montana, Caballero &amp; JeanJa...</td>\n",
       "      <td>genre</td>\n",
       "      <td>NaN</td>\n",
       "      <td>NaN</td>\n",
       "      <td>genre</td>\n",
       "    </tr>\n",
       "    <tr>\n",
       "      <th>2</th>\n",
       "      <td>0UxrowkNrNrtJg3ACKLfM1</td>\n",
       "      <td>Musculation | MOTIVATION RAP 2024 Sport Rap | ...</td>\n",
       "      <td>Une playlist sombre avec tous les plus gros so...</td>\n",
       "      <td>mood</td>\n",
       "      <td>genre</td>\n",
       "      <td>mixed</td>\n",
       "      <td>genre</td>\n",
       "    </tr>\n",
       "    <tr>\n",
       "      <th>3</th>\n",
       "      <td>0pCbo5F57jdENT7yqGILst</td>\n",
       "      <td>#NUITVIE</td>\n",
       "      <td>NaN</td>\n",
       "      <td>mood</td>\n",
       "      <td>NaN</td>\n",
       "      <td>NaN</td>\n",
       "      <td>mood</td>\n",
       "    </tr>\n",
       "    <tr>\n",
       "      <th>4</th>\n",
       "      <td>1GCVFbpYypodLFGepkhsxN</td>\n",
       "      <td>Cool Jazz (Celeste, Samara Joy, Melody Gardot,...</td>\n",
       "      <td>Détendez-vous avec le meilleur du jazz relaxan...</td>\n",
       "      <td>genre</td>\n",
       "      <td>mood</td>\n",
       "      <td>mixed</td>\n",
       "      <td>mood</td>\n",
       "    </tr>\n",
       "    <tr>\n",
       "      <th>...</th>\n",
       "      <td>...</td>\n",
       "      <td>...</td>\n",
       "      <td>...</td>\n",
       "      <td>...</td>\n",
       "      <td>...</td>\n",
       "      <td>...</td>\n",
       "      <td>...</td>\n",
       "    </tr>\n",
       "    <tr>\n",
       "      <th>117</th>\n",
       "      <td>NaN</td>\n",
       "      <td>Futurs Hits</td>\n",
       "      <td>Les hits de demain sont déjà ici. Photo : Elli...</td>\n",
       "      <td>trend</td>\n",
       "      <td>NaN</td>\n",
       "      <td>NaN</td>\n",
       "      <td>trend</td>\n",
       "    </tr>\n",
       "    <tr>\n",
       "      <th>118</th>\n",
       "      <td>NaN</td>\n",
       "      <td>Shisha Lounge</td>\n",
       "      <td>Take another hit.</td>\n",
       "      <td>mood</td>\n",
       "      <td>NaN</td>\n",
       "      <td>NaN</td>\n",
       "      <td>mood</td>\n",
       "    </tr>\n",
       "    <tr>\n",
       "      <th>119</th>\n",
       "      <td>6AqQHtEfvrK3DjPgdOeGjE</td>\n",
       "      <td>Hits de l''et'e 90 2000, tubes annees 90, 2000...</td>\n",
       "      <td>Tous les hits qui ont marqué les étés des anné...</td>\n",
       "      <td>mood</td>\n",
       "      <td>NaN</td>\n",
       "      <td>NaN</td>\n",
       "      <td>mood</td>\n",
       "    </tr>\n",
       "    <tr>\n",
       "      <th>120</th>\n",
       "      <td>NaN</td>\n",
       "      <td>Le Flow</td>\n",
       "      <td>Le rap français sans concession. Photo : NeS</td>\n",
       "      <td>genre</td>\n",
       "      <td>NaN</td>\n",
       "      <td>NaN</td>\n",
       "      <td>genre</td>\n",
       "    </tr>\n",
       "    <tr>\n",
       "      <th>121</th>\n",
       "      <td>NaN</td>\n",
       "      <td>Gym Tonic</td>\n",
       "      <td>Rythmez votre séance de sport au son des année...</td>\n",
       "      <td>mood</td>\n",
       "      <td>NaN</td>\n",
       "      <td>NaN</td>\n",
       "      <td>mood</td>\n",
       "    </tr>\n",
       "  </tbody>\n",
       "</table>\n",
       "<p>122 rows × 7 columns</p>\n",
       "</div>"
      ],
      "text/plain": [
       "                playlist_id  \\\n",
       "0                       NaN   \n",
       "1                       NaN   \n",
       "2    0UxrowkNrNrtJg3ACKLfM1   \n",
       "3    0pCbo5F57jdENT7yqGILst   \n",
       "4    1GCVFbpYypodLFGepkhsxN   \n",
       "..                      ...   \n",
       "117                     NaN   \n",
       "118                     NaN   \n",
       "119  6AqQHtEfvrK3DjPgdOeGjE   \n",
       "120                     NaN   \n",
       "121                     NaN   \n",
       "\n",
       "                                         playlist_name  \\\n",
       "0    Rap Fr | Rap Francais 2024 | Hits Rap |  SDM, ...   \n",
       "1    Rap Belge 2024 | Kobo, Damso, Caballero & Jean...   \n",
       "2    Musculation | MOTIVATION RAP 2024 Sport Rap | ...   \n",
       "3                                             #NUITVIE   \n",
       "4    Cool Jazz (Celeste, Samara Joy, Melody Gardot,...   \n",
       "..                                                 ...   \n",
       "117                                        Futurs Hits   \n",
       "118                                      Shisha Lounge   \n",
       "119  Hits de l''et'e 90 2000, tubes annees 90, 2000...   \n",
       "120                                            Le Flow   \n",
       "121                                          Gym Tonic   \n",
       "\n",
       "                                  playlist_description editorial_type type_2  \\\n",
       "0    Le meilleur du RAP FR en 2024 🇫🇷 Toutes les se...          genre    NaN   \n",
       "1    Kobo, Damso, Green Montana, Caballero & JeanJa...          genre    NaN   \n",
       "2    Une playlist sombre avec tous les plus gros so...           mood  genre   \n",
       "3                                                  NaN           mood    NaN   \n",
       "4    Détendez-vous avec le meilleur du jazz relaxan...          genre   mood   \n",
       "..                                                 ...            ...    ...   \n",
       "117  Les hits de demain sont déjà ici. Photo : Elli...          trend    NaN   \n",
       "118                                  Take another hit.           mood    NaN   \n",
       "119  Tous les hits qui ont marqué les étés des anné...           mood    NaN   \n",
       "120       Le rap français sans concession. Photo : NeS          genre    NaN   \n",
       "121  Rythmez votre séance de sport au son des année...           mood    NaN   \n",
       "\n",
       "    comments editorial_type_2  \n",
       "0        NaN            genre  \n",
       "1        NaN            genre  \n",
       "2      mixed            genre  \n",
       "3        NaN             mood  \n",
       "4      mixed             mood  \n",
       "..       ...              ...  \n",
       "117      NaN            trend  \n",
       "118      NaN             mood  \n",
       "119      NaN             mood  \n",
       "120      NaN            genre  \n",
       "121      NaN             mood  \n",
       "\n",
       "[122 rows x 7 columns]"
      ]
     },
     "metadata": {},
     "output_type": "display_data"
    }
   ],
   "source": [
    "# If the row has a type 2 value, replace editorial type by it, otherwize keep editorial type\n",
    "df_desc['editorial_type_2'] = df_desc.apply(lambda row: row['type_2'] if pd.notna(row['type_2']) else row['editorial_type'], axis=1)\n",
    "display(df_desc)\n"
   ]
  },
  {
   "cell_type": "code",
   "execution_count": 4,
   "metadata": {},
   "outputs": [
    {
     "name": "stdout",
     "output_type": "stream",
     "text": [
      "                                         playlist_name type_2 comments  \\\n",
      "0    Rap Fr | Rap Francais 2024 | Hits Rap |  SDM, ...    NaN      NaN   \n",
      "1    Rap Belge 2024 | Kobo, Damso, Caballero & Jean...    NaN      NaN   \n",
      "2    Musculation | MOTIVATION RAP 2024 Sport Rap | ...  genre    mixed   \n",
      "3                                             #NUITVIE    NaN      NaN   \n",
      "4    Cool Jazz (Celeste, Samara Joy, Melody Gardot,...   mood    mixed   \n",
      "..                                                 ...    ...      ...   \n",
      "117                                        Futurs Hits    NaN      NaN   \n",
      "118                                      Shisha Lounge    NaN      NaN   \n",
      "119  Hits de l''et'e 90 2000, tubes annees 90, 2000...    NaN      NaN   \n",
      "120                                            Le Flow    NaN      NaN   \n",
      "121                                          Gym Tonic    NaN      NaN   \n",
      "\n",
      "    editorial_type_2  \n",
      "0              genre  \n",
      "1              genre  \n",
      "2              genre  \n",
      "3               mood  \n",
      "4               mood  \n",
      "..               ...  \n",
      "117            trend  \n",
      "118             mood  \n",
      "119             mood  \n",
      "120            genre  \n",
      "121             mood  \n",
      "\n",
      "[122 rows x 4 columns]\n"
     ]
    }
   ],
   "source": [
    "# Drop the unnecessary columns\n",
    "df_desc_2 = df_desc.drop(columns=['playlist_id', 'playlist_description', 'editorial_type'])\n",
    "print(df_desc_2)\n"
   ]
  },
  {
   "cell_type": "code",
   "execution_count": 5,
   "metadata": {},
   "outputs": [
    {
     "name": "stdout",
     "output_type": "stream",
     "text": [
      "                                playlist_id  \\\n",
      "0      11e84480-ad44-deb2-8ac8-a0369fe50396   \n",
      "1      11e84480-ad44-deb2-8ac8-a0369fe50396   \n",
      "2      11e84480-ad44-deb2-8ac8-a0369fe50396   \n",
      "3      11e84480-ad44-deb2-8ac8-a0369fe50396   \n",
      "4      11e84480-ad44-deb2-8ac8-a0369fe50396   \n",
      "...                                     ...   \n",
      "19148  f5de1012-b6d6-11e8-8a3a-525400009efb   \n",
      "19149  f5de1012-b6d6-11e8-8a3a-525400009efb   \n",
      "19150  f5de1012-b6d6-11e8-8a3a-525400009efb   \n",
      "19151  f5de1012-b6d6-11e8-8a3a-525400009efb   \n",
      "19152  f5de1012-b6d6-11e8-8a3a-525400009efb   \n",
      "\n",
      "                                           playlist_name collection_date  \\\n",
      "0      Rap Fr | Rap Francais 2024 | Hits Rap |  SDM, ...      2021-10-01   \n",
      "1      Rap Fr | Rap Francais 2024 | Hits Rap |  SDM, ...      2021-10-08   \n",
      "2      Rap Fr | Rap Francais 2024 | Hits Rap |  SDM, ...      2021-10-15   \n",
      "3      Rap Fr | Rap Francais 2024 | Hits Rap |  SDM, ...      2021-10-22   \n",
      "4      Rap Fr | Rap Francais 2024 | Hits Rap |  SDM, ...      2021-10-29   \n",
      "...                                                  ...             ...   \n",
      "19148                                          Gym Tonic      2024-08-30   \n",
      "19149                                          Gym Tonic      2024-09-06   \n",
      "19150                                          Gym Tonic      2024-09-13   \n",
      "19151                                          Gym Tonic      2024-09-20   \n",
      "19152                                          Gym Tonic      2024-09-27   \n",
      "\n",
      "           mean_track_date playlist_type  nb_tracks  nb_clusters  \\\n",
      "0      2021-01-26 09:42:51   Major label         84            3   \n",
      "1      2021-01-29 07:20:28   Major label         85            2   \n",
      "2      2021-02-08 10:24:00   Major label         90            2   \n",
      "3      2021-02-19 22:59:22   Major label         95            2   \n",
      "4      2021-03-01 19:38:10   Major label         99            2   \n",
      "...                    ...           ...        ...          ...   \n",
      "19148  1987-03-30 03:34:28     Editorial         47            3   \n",
      "19149  1987-03-30 03:34:28     Editorial         47            3   \n",
      "19150  1987-03-30 03:34:28     Editorial         47            3   \n",
      "19151  1987-03-30 03:34:28     Editorial         47            3   \n",
      "19152  1987-03-30 03:34:28     Editorial         47            3   \n",
      "\n",
      "       nb_clusters_2     hh_index   hh_index_2  distances  distances_2  \\\n",
      "0                 10  3353.174603  1403.061224   0.398322     0.672074   \n",
      "1                 10  5056.055363  1222.145329   0.263768     0.648020   \n",
      "2                  9  5061.728395  1286.419753   0.260919     0.623667   \n",
      "3                 10  5000.554017  1197.783934   0.262501     0.640954   \n",
      "4                  7  5004.591368  1664.115907   0.260038     0.574739   \n",
      "...              ...          ...          ...        ...          ...   \n",
      "19148              7  4540.516071  2023.540063   0.474453     0.799974   \n",
      "19149              7  4540.516071  2023.540063   0.474453     0.799974   \n",
      "19150              7  4540.516071  2023.540063   0.474453     0.799974   \n",
      "19151              7  4540.516071  2023.540063   0.474453     0.799974   \n",
      "19152              7  4540.516071  2023.540063   0.474453     0.799974   \n",
      "\n",
      "       distances_3  stirling_index stirling_index_2 editorial_type  \\\n",
      "0         0.839007  [[0.19848049]]   [[0.29769668]]          genre   \n",
      "1         0.836092  [[0.13040538]]   [[0.29858228]]          genre   \n",
      "2         0.826567  [[0.12884873]]   [[0.28702486]]          genre   \n",
      "3         0.830211  [[0.13123587]]   [[0.29649178]]          genre   \n",
      "4         0.829210  [[0.12989972]]   [[0.27389869]]          genre   \n",
      "...            ...             ...              ...            ...   \n",
      "19148     0.887480  [[0.18947173]]   [[0.29370523]]           mood   \n",
      "19149     0.887480  [[0.18947173]]   [[0.29370523]]           mood   \n",
      "19150     0.887480  [[0.18947173]]   [[0.29370523]]           mood   \n",
      "19151     0.887480  [[0.18947173]]   [[0.29370523]]           mood   \n",
      "19152     0.887480  [[0.18947173]]   [[0.29370523]]           mood   \n",
      "\n",
      "       playlist_followers type_2 comments editorial_type_2  \n",
      "0                  211281    NaN      NaN            genre  \n",
      "1                  211249    NaN      NaN            genre  \n",
      "2                  211232    NaN      NaN            genre  \n",
      "3                  211375    NaN      NaN            genre  \n",
      "4                  212164    NaN      NaN            genre  \n",
      "...                   ...    ...      ...              ...  \n",
      "19148               99605    NaN      NaN             mood  \n",
      "19149               99672    NaN      NaN             mood  \n",
      "19150               99733    NaN      NaN             mood  \n",
      "19151               99772    NaN      NaN             mood  \n",
      "19152               99823    NaN      NaN             mood  \n",
      "\n",
      "[19153 rows x 20 columns]\n"
     ]
    }
   ],
   "source": [
    "# Merge dataframes based on playlist name\n",
    "df_final = pd.merge(df, df_desc_2, on='playlist_name', how='left')\n",
    "df_final.to_csv('df_final_quater.csv', index=False)\n",
    "\n",
    "print(df_final)\n"
   ]
  }
 ],
 "metadata": {
  "kernelspec": {
   "display_name": "base",
   "language": "python",
   "name": "python3"
  },
  "language_info": {
   "codemirror_mode": {
    "name": "ipython",
    "version": 3
   },
   "file_extension": ".py",
   "mimetype": "text/x-python",
   "name": "python",
   "nbconvert_exporter": "python",
   "pygments_lexer": "ipython3",
   "version": "3.9.12"
  }
 },
 "nbformat": 4,
 "nbformat_minor": 2
}
