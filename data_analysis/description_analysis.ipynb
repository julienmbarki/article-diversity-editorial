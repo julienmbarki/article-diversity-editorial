{
 "cells": [
  {
   "cell_type": "markdown",
   "metadata": {},
   "source": [
    "# Description requests"
   ]
  },
  {
   "cell_type": "markdown",
   "metadata": {},
   "source": [
    "## Setup"
   ]
  },
  {
   "cell_type": "code",
   "execution_count": 1,
   "metadata": {},
   "outputs": [],
   "source": [
    "# Import modules\n",
    "import pandas as pd\n",
    "\n",
    "import spotipy\n",
    "from spotipy.oauth2 import SpotifyClientCredentials\n"
   ]
  },
  {
   "cell_type": "code",
   "execution_count": 2,
   "metadata": {},
   "outputs": [],
   "source": [
    "# API connexion\n",
    "client_id = 'cec8979c027344f98b471a991aa415ad'\n",
    "client_secret = 'ad69bcba55b349f98c1344b006c708bd'\n",
    "\n",
    "client_credentials_manager = SpotifyClientCredentials(client_id, client_secret)\n",
    "sp = spotipy.Spotify(client_credentials_manager=client_credentials_manager)\n"
   ]
  },
  {
   "cell_type": "markdown",
   "metadata": {},
   "source": [
    "## Get playlists description"
   ]
  },
  {
   "cell_type": "code",
   "execution_count": null,
   "metadata": {},
   "outputs": [],
   "source": [
    "# Load data\n",
    "df = pd.read_csv('df_final.csv')\n",
    "\n",
    "# Get a list of the unique playlist names\n",
    "playlist_names = df['playlist_name'].unique()\n",
    "print(playlist_names)\n"
   ]
  },
  {
   "cell_type": "code",
   "execution_count": null,
   "metadata": {},
   "outputs": [],
   "source": [
    "# API scraping\n",
    "playlist_names = playlist_names.tolist()\n",
    "\n",
    "playlists = []\n",
    "\n",
    "for name in playlist_names:\n",
    "    print(f\"Processing playlist: {name}\")\n",
    "\n",
    "    playlist_id = \"N/A\"\n",
    "    playlist_description = \"N/A\"\n",
    "\n",
    "    try:\n",
    "        id_results = sp.search(q=name, type='playlist', limit=1)\n",
    "\n",
    "        # Check if any playlist is found\n",
    "        if id_results['playlists']['items']:\n",
    "            playlist_id = id_results['playlists']['items'][0]['id']\n",
    "            playlists_results = sp.playlist(playlist_id)\n",
    "            playlist_description = playlists_results.get('description', \"N/A\")\n",
    "    \n",
    "    except Exception as e:\n",
    "        print(f\"Error processing playlist {name}: {e}\")\n",
    "\n",
    "    # Append the playlist entry (even if API fails)\n",
    "    playlists.append({\n",
    "        \"playlist_id\": playlist_id, \n",
    "        \"playlist_name\": name,\n",
    "        \"playlist_description\": playlist_description\n",
    "    })\n",
    "\n",
    "# Create dataframe from playlists\n",
    "df_playlists = pd.DataFrame(playlists, columns=[\"playlist_id\", \"playlist_name\", \"playlist_description\"])\n",
    "df_playlists.to_excel(\"playlists_descriptions.xlsx\", index=False)\n",
    "\n",
    "print(df_playlists)\n"
   ]
  },
  {
   "cell_type": "markdown",
   "metadata": {},
   "source": [
    "## Merge back with og data"
   ]
  },
  {
   "cell_type": "code",
   "execution_count": 2,
   "metadata": {},
   "outputs": [
    {
     "name": "stdout",
     "output_type": "stream",
     "text": [
      "19153\n"
     ]
    }
   ],
   "source": [
    "# Load data\n",
    "df_desc = pd.read_excel('playlists_descriptions.xlsx')\n",
    "df  = pd.read_csv('df_final.csv')\n",
    "print(len(df))\n"
   ]
  },
  {
   "cell_type": "code",
   "execution_count": 3,
   "metadata": {},
   "outputs": [
    {
     "name": "stdout",
     "output_type": "stream",
     "text": [
      "                                         playlist_name editorial_type type_2  \\\n",
      "0    Rap Fr | Rap Francais 2024 | Hits Rap |  SDM, ...          genre    NaN   \n",
      "1    Rap Belge 2024 | Kobo, Damso, Caballero & Jean...          genre    NaN   \n",
      "2    Musculation | MOTIVATION RAP 2024 Sport Rap | ...           mood  genre   \n",
      "3                                             #NUITVIE           mood    NaN   \n",
      "4    Cool Jazz (Celeste, Samara Joy, Melody Gardot,...          genre   mood   \n",
      "..                                                 ...            ...    ...   \n",
      "117                                        Futurs Hits          trend    NaN   \n",
      "118                                      Shisha Lounge           mood    NaN   \n",
      "119  Hits de l''et'e 90 2000, tubes annees 90, 2000...           mood    NaN   \n",
      "120                                            Le Flow          genre    NaN   \n",
      "121                                          Gym Tonic           mood    NaN   \n",
      "\n",
      "    comments  \n",
      "0        NaN  \n",
      "1        NaN  \n",
      "2      mixed  \n",
      "3        NaN  \n",
      "4      mixed  \n",
      "..       ...  \n",
      "117      NaN  \n",
      "118      NaN  \n",
      "119      NaN  \n",
      "120      NaN  \n",
      "121      NaN  \n",
      "\n",
      "[122 rows x 4 columns]\n"
     ]
    }
   ],
   "source": [
    "# Drop the unnecessary columns\n",
    "df_desc_2 = df_desc.drop(columns=['playlist_id', 'playlist_description'])\n",
    "print(df_desc_2)\n"
   ]
  },
  {
   "cell_type": "code",
   "execution_count": 4,
   "metadata": {},
   "outputs": [
    {
     "name": "stdout",
     "output_type": "stream",
     "text": [
      "       Unnamed: 0                           playlist_id  \\\n",
      "0               1  11e84480-ad44-deb2-8ac8-a0369fe50396   \n",
      "1               2  11e84480-ad44-deb2-8ac8-a0369fe50396   \n",
      "2               3  11e84480-ad44-deb2-8ac8-a0369fe50396   \n",
      "3               4  11e84480-ad44-deb2-8ac8-a0369fe50396   \n",
      "4               5  11e84480-ad44-deb2-8ac8-a0369fe50396   \n",
      "...           ...                                   ...   \n",
      "19148       19149  f5de1012-b6d6-11e8-8a3a-525400009efb   \n",
      "19149       19150  f5de1012-b6d6-11e8-8a3a-525400009efb   \n",
      "19150       19151  f5de1012-b6d6-11e8-8a3a-525400009efb   \n",
      "19151       19152  f5de1012-b6d6-11e8-8a3a-525400009efb   \n",
      "19152       19153  f5de1012-b6d6-11e8-8a3a-525400009efb   \n",
      "\n",
      "                                           playlist_name collection_date  \\\n",
      "0      Rap Fr | Rap Francais 2024 | Hits Rap |  SDM, ...      2021-10-01   \n",
      "1      Rap Fr | Rap Francais 2024 | Hits Rap |  SDM, ...      2021-10-08   \n",
      "2      Rap Fr | Rap Francais 2024 | Hits Rap |  SDM, ...      2021-10-15   \n",
      "3      Rap Fr | Rap Francais 2024 | Hits Rap |  SDM, ...      2021-10-22   \n",
      "4      Rap Fr | Rap Francais 2024 | Hits Rap |  SDM, ...      2021-10-29   \n",
      "...                                                  ...             ...   \n",
      "19148                                          Gym Tonic      2024-08-30   \n",
      "19149                                          Gym Tonic      2024-09-06   \n",
      "19150                                          Gym Tonic      2024-09-13   \n",
      "19151                                          Gym Tonic      2024-09-20   \n",
      "19152                                          Gym Tonic      2024-09-27   \n",
      "\n",
      "           mean_track_date playlist_type  nb_tracks  nb_clusters  \\\n",
      "0      2021-01-26 09:42:51   Major label         84            3   \n",
      "1      2021-01-29 07:20:28   Major label         85            2   \n",
      "2      2021-02-08 10:24:00   Major label         90            2   \n",
      "3      2021-02-19 22:59:22   Major label         95            2   \n",
      "4      2021-03-01 19:38:10   Major label         99            2   \n",
      "...                    ...           ...        ...          ...   \n",
      "19148  1987-03-30 03:34:28     Editorial         47            3   \n",
      "19149  1987-03-30 03:34:28     Editorial         47            3   \n",
      "19150  1987-03-30 03:34:28     Editorial         47            3   \n",
      "19151  1987-03-30 03:34:28     Editorial         47            3   \n",
      "19152  1987-03-30 03:34:28     Editorial         47            3   \n",
      "\n",
      "       nb_clusters_2     hh_index   hh_index_2  distances  distances_2  \\\n",
      "0                 10  3353.174603  1403.061224   0.398322     0.672074   \n",
      "1                 10  5056.055363  1222.145329   0.263768     0.648020   \n",
      "2                  9  5061.728395  1286.419753   0.260919     0.623667   \n",
      "3                 10  5000.554017  1197.783934   0.262501     0.640954   \n",
      "4                  7  5004.591368  1664.115907   0.260038     0.574739   \n",
      "...              ...          ...          ...        ...          ...   \n",
      "19148              7  4540.516071  2023.540063   0.474453     0.799974   \n",
      "19149              7  4540.516071  2023.540063   0.474453     0.799974   \n",
      "19150              7  4540.516071  2023.540063   0.474453     0.799974   \n",
      "19151              7  4540.516071  2023.540063   0.474453     0.799974   \n",
      "19152              7  4540.516071  2023.540063   0.474453     0.799974   \n",
      "\n",
      "       distances_3  stirling_index stirling_index_2 editorial_type type_2  \\\n",
      "0         0.839007  [[0.19848049]]   [[0.29769668]]          genre    NaN   \n",
      "1         0.836092  [[0.13040538]]   [[0.29858228]]          genre    NaN   \n",
      "2         0.826567  [[0.12884873]]   [[0.28702486]]          genre    NaN   \n",
      "3         0.830211  [[0.13123587]]   [[0.29649178]]          genre    NaN   \n",
      "4         0.829210  [[0.12989972]]   [[0.27389869]]          genre    NaN   \n",
      "...            ...             ...              ...            ...    ...   \n",
      "19148     0.887480  [[0.18947173]]   [[0.29370523]]           mood    NaN   \n",
      "19149     0.887480  [[0.18947173]]   [[0.29370523]]           mood    NaN   \n",
      "19150     0.887480  [[0.18947173]]   [[0.29370523]]           mood    NaN   \n",
      "19151     0.887480  [[0.18947173]]   [[0.29370523]]           mood    NaN   \n",
      "19152     0.887480  [[0.18947173]]   [[0.29370523]]           mood    NaN   \n",
      "\n",
      "      comments  \n",
      "0          NaN  \n",
      "1          NaN  \n",
      "2          NaN  \n",
      "3          NaN  \n",
      "4          NaN  \n",
      "...        ...  \n",
      "19148      NaN  \n",
      "19149      NaN  \n",
      "19150      NaN  \n",
      "19151      NaN  \n",
      "19152      NaN  \n",
      "\n",
      "[19153 rows x 19 columns]\n"
     ]
    }
   ],
   "source": [
    "# Merge dataframes based on playlist name\n",
    "df_final = pd.merge(df, df_desc_2, on='playlist_name', how='left')\n",
    "df_final.to_csv('df_final_bis.csv', index=False)\n",
    "\n",
    "print(df_final)\n"
   ]
  }
 ],
 "metadata": {
  "kernelspec": {
   "display_name": "base",
   "language": "python",
   "name": "python3"
  },
  "language_info": {
   "codemirror_mode": {
    "name": "ipython",
    "version": 3
   },
   "file_extension": ".py",
   "mimetype": "text/x-python",
   "name": "python",
   "nbconvert_exporter": "python",
   "pygments_lexer": "ipython3",
   "version": "3.9.12"
  }
 },
 "nbformat": 4,
 "nbformat_minor": 2
}
