{
 "cells": [
  {
   "cell_type": "markdown",
   "metadata": {},
   "source": [
    "# Followers fix"
   ]
  },
  {
   "cell_type": "markdown",
   "metadata": {},
   "source": [
    "## Setup"
   ]
  },
  {
   "cell_type": "code",
   "execution_count": 1,
   "metadata": {},
   "outputs": [],
   "source": [
    "# Import modules\n",
    "import pandas as pd\n",
    "\n",
    "from collections import Counter\n",
    "from tqdm import tqdm\n"
   ]
  },
  {
   "cell_type": "code",
   "execution_count": null,
   "metadata": {},
   "outputs": [],
   "source": [
    "# Import the data\n",
    "followers_df = pd.read_csv('/Users/julienmbarki/Documents/Doctorat/Publications/Article 2/Data/Code/data_management/db_soundcharts/editorial_tracks_followers_23-24.csv')\n",
    "main_df = pd.read_csv('/Users/julienmbarki/Documents/Doctorat/Publications/Article 2/Data/Code/data_management/editorial_playlists_23-24_final.csv')\n",
    "display(followers_df)\n"
   ]
  },
  {
   "cell_type": "markdown",
   "metadata": {},
   "source": [
    "## Clean followers data"
   ]
  },
  {
   "cell_type": "code",
   "execution_count": null,
   "metadata": {},
   "outputs": [],
   "source": [
    "# Collapse to weekly level playlists data\n",
    "# Convert date column to datetime\n",
    "followers_df['playlist_followers_date'] = pd.to_datetime(followers_df['playlist_followers_date'])\n",
    "\n",
    "# Extract year and week number\n",
    "followers_df['year'] = followers_df['playlist_followers_date'].dt.isocalendar().year\n",
    "followers_df['week'] = followers_df['playlist_followers_date'].dt.isocalendar().week\n",
    "followers_df['weekday'] = followers_df['playlist_followers_date'].dt.weekday  # Monday=0, ..., Sunday=6\n",
    "\n",
    "# Sort data to ensure selection priority\n",
    "followers_df.sort_values(by=['playlist_id', 'year', 'week', 'weekday'], ascending=[True, True, True, True], inplace=True)\n",
    "\n",
    "# Keep only one entry per playlist_id per week, prioritizing Friday (4)\n",
    "df_weekly = followers_df.groupby(['playlist_id', 'year', 'week']).apply(lambda x: x[x['weekday'] == 4].iloc[:1] if (x['weekday'] == 4).any() else x.iloc[:1])\n",
    "\n",
    "# Reset index\n",
    "df_weekly = df_weekly.droplevel(0).reset_index(drop=True)\n",
    "\n",
    "# Display result\n",
    "display(df_weekly)\n"
   ]
  },
  {
   "cell_type": "code",
   "execution_count": null,
   "metadata": {},
   "outputs": [],
   "source": [
    "# Merge the data and append it to the correct week\n",
    "main_df['collection_date'] = pd.to_datetime(main_df['collection_date'])\n",
    "main_df['year'] = main_df['collection_date'].dt.isocalendar().year\n",
    "main_df['week'] = main_df['collection_date'].dt.isocalendar().week\n",
    "\n",
    "# Select only the columns you need from df_weekly (for example, 'followers')\n",
    "df_weekly_subset = df_weekly[['playlist_id', 'year', 'week', 'playlist_followers']]\n",
    "\n",
    "# Left merge on playlist_id, year, and week\n",
    "merged_df = pd.merge(main_df, df_weekly_subset, how='left', on=['playlist_id', 'year', 'week'])\n",
    "\n",
    "# Display result\n",
    "display(merged_df)\n"
   ]
  }
 ],
 "metadata": {
  "kernelspec": {
   "display_name": "base",
   "language": "python",
   "name": "python3"
  },
  "language_info": {
   "codemirror_mode": {
    "name": "ipython",
    "version": 3
   },
   "file_extension": ".py",
   "mimetype": "text/x-python",
   "name": "python",
   "nbconvert_exporter": "python",
   "pygments_lexer": "ipython3",
   "version": "3.9.12"
  }
 },
 "nbformat": 4,
 "nbformat_minor": 2
}
